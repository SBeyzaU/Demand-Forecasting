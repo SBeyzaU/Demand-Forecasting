{
 "cells": [
  {
   "cell_type": "markdown",
   "metadata": {},
   "source": [
    "# Import and EDA"
   ]
  },
  {
   "cell_type": "code",
   "execution_count": 1,
   "metadata": {},
   "outputs": [
    {
     "name": "stderr",
     "output_type": "stream",
     "text": [
      "C:\\Users\\beyza\\anaconda3\\envs\\learn-env\\lib\\site-packages\\numpy\\_distributor_init.py:30: UserWarning: loaded more than 1 DLL from .libs:\n",
      "C:\\Users\\beyza\\anaconda3\\envs\\learn-env\\lib\\site-packages\\numpy\\.libs\\libopenblas.4SP5SUA7CBGXUEOC35YP2ASOICYYEQZZ.gfortran-win_amd64.dll\n",
      "C:\\Users\\beyza\\anaconda3\\envs\\learn-env\\lib\\site-packages\\numpy\\.libs\\libopenblas64__v0.3.21-gcc_10_3_0.dll\n",
      "  warnings.warn(\"loaded more than 1 DLL from .libs:\"\n"
     ]
    }
   ],
   "source": [
    "#Dataframe\n",
    "import pandas as pd\n",
    "from datetime import datetime as dt\n",
    "import numpy as np\n",
    "import pytz\n",
    "\n",
    "#Visualizations\n",
    "import matplotlib.pyplot as plt\n",
    "import seaborn as sns\n",
    "\n",
    "\n",
    "#Modeling\n",
    "import statsmodels.api as sm\n",
    "from statsmodels.tsa.stattools import adfuller\n",
    "from statsmodels.graphics.tsaplots import plot_pacf\n",
    "from statsmodels.graphics.tsaplots import plot_acf\n",
    "from statsmodels.tsa.statespace.sarimax import SARIMAX\n",
    "from statsmodels.tsa.holtwinters import ExponentialSmoothing"
   ]
  },
  {
   "cell_type": "code",
   "execution_count": 2,
   "metadata": {},
   "outputs": [],
   "source": [
    "df=pd.read_csv('Data\\Supply_Chain_Shipment_Pricing_Data.csv')"
   ]
  },
  {
   "cell_type": "code",
   "execution_count": 3,
   "metadata": {
    "scrolled": true
   },
   "outputs": [
    {
     "data": {
      "text/html": [
       "<div>\n",
       "<style scoped>\n",
       "    .dataframe tbody tr th:only-of-type {\n",
       "        vertical-align: middle;\n",
       "    }\n",
       "\n",
       "    .dataframe tbody tr th {\n",
       "        vertical-align: top;\n",
       "    }\n",
       "\n",
       "    .dataframe thead th {\n",
       "        text-align: right;\n",
       "    }\n",
       "</style>\n",
       "<table border=\"1\" class=\"dataframe\">\n",
       "  <thead>\n",
       "    <tr style=\"text-align: right;\">\n",
       "      <th></th>\n",
       "      <th>id</th>\n",
       "      <th>project code</th>\n",
       "      <th>pq #</th>\n",
       "      <th>po / so #</th>\n",
       "      <th>asn/dn #</th>\n",
       "      <th>country</th>\n",
       "      <th>managed by</th>\n",
       "      <th>fulfill via</th>\n",
       "      <th>vendor inco term</th>\n",
       "      <th>shipment mode</th>\n",
       "      <th>...</th>\n",
       "      <th>unit of measure (per pack)</th>\n",
       "      <th>line item quantity</th>\n",
       "      <th>line item value</th>\n",
       "      <th>pack price</th>\n",
       "      <th>unit price</th>\n",
       "      <th>manufacturing site</th>\n",
       "      <th>first line designation</th>\n",
       "      <th>weight (kilograms)</th>\n",
       "      <th>freight cost (usd)</th>\n",
       "      <th>line item insurance (usd)</th>\n",
       "    </tr>\n",
       "  </thead>\n",
       "  <tbody>\n",
       "    <tr>\n",
       "      <th>0</th>\n",
       "      <td>1</td>\n",
       "      <td>100-CI-T01</td>\n",
       "      <td>Pre-PQ Process</td>\n",
       "      <td>SCMS-4</td>\n",
       "      <td>ASN-8</td>\n",
       "      <td>Côte d'Ivoire</td>\n",
       "      <td>PMO - US</td>\n",
       "      <td>Direct Drop</td>\n",
       "      <td>EXW</td>\n",
       "      <td>Air</td>\n",
       "      <td>...</td>\n",
       "      <td>30</td>\n",
       "      <td>19</td>\n",
       "      <td>551.0</td>\n",
       "      <td>29.00</td>\n",
       "      <td>0.97</td>\n",
       "      <td>Ranbaxy Fine Chemicals LTD</td>\n",
       "      <td>True</td>\n",
       "      <td>13</td>\n",
       "      <td>780.34</td>\n",
       "      <td>NaN</td>\n",
       "    </tr>\n",
       "    <tr>\n",
       "      <th>1</th>\n",
       "      <td>3</td>\n",
       "      <td>108-VN-T01</td>\n",
       "      <td>Pre-PQ Process</td>\n",
       "      <td>SCMS-13</td>\n",
       "      <td>ASN-85</td>\n",
       "      <td>Vietnam</td>\n",
       "      <td>PMO - US</td>\n",
       "      <td>Direct Drop</td>\n",
       "      <td>EXW</td>\n",
       "      <td>Air</td>\n",
       "      <td>...</td>\n",
       "      <td>240</td>\n",
       "      <td>1000</td>\n",
       "      <td>6200.0</td>\n",
       "      <td>6.20</td>\n",
       "      <td>0.03</td>\n",
       "      <td>Aurobindo Unit III, India</td>\n",
       "      <td>True</td>\n",
       "      <td>358</td>\n",
       "      <td>4521.5</td>\n",
       "      <td>NaN</td>\n",
       "    </tr>\n",
       "    <tr>\n",
       "      <th>2</th>\n",
       "      <td>4</td>\n",
       "      <td>100-CI-T01</td>\n",
       "      <td>Pre-PQ Process</td>\n",
       "      <td>SCMS-20</td>\n",
       "      <td>ASN-14</td>\n",
       "      <td>Côte d'Ivoire</td>\n",
       "      <td>PMO - US</td>\n",
       "      <td>Direct Drop</td>\n",
       "      <td>FCA</td>\n",
       "      <td>Air</td>\n",
       "      <td>...</td>\n",
       "      <td>100</td>\n",
       "      <td>500</td>\n",
       "      <td>40000.0</td>\n",
       "      <td>80.00</td>\n",
       "      <td>0.80</td>\n",
       "      <td>ABBVIE GmbH &amp; Co.KG Wiesbaden</td>\n",
       "      <td>True</td>\n",
       "      <td>171</td>\n",
       "      <td>1653.78</td>\n",
       "      <td>NaN</td>\n",
       "    </tr>\n",
       "    <tr>\n",
       "      <th>3</th>\n",
       "      <td>15</td>\n",
       "      <td>108-VN-T01</td>\n",
       "      <td>Pre-PQ Process</td>\n",
       "      <td>SCMS-78</td>\n",
       "      <td>ASN-50</td>\n",
       "      <td>Vietnam</td>\n",
       "      <td>PMO - US</td>\n",
       "      <td>Direct Drop</td>\n",
       "      <td>EXW</td>\n",
       "      <td>Air</td>\n",
       "      <td>...</td>\n",
       "      <td>60</td>\n",
       "      <td>31920</td>\n",
       "      <td>127360.8</td>\n",
       "      <td>3.99</td>\n",
       "      <td>0.07</td>\n",
       "      <td>Ranbaxy, Paonta Shahib, India</td>\n",
       "      <td>True</td>\n",
       "      <td>1855</td>\n",
       "      <td>16007.06</td>\n",
       "      <td>NaN</td>\n",
       "    </tr>\n",
       "    <tr>\n",
       "      <th>4</th>\n",
       "      <td>16</td>\n",
       "      <td>108-VN-T01</td>\n",
       "      <td>Pre-PQ Process</td>\n",
       "      <td>SCMS-81</td>\n",
       "      <td>ASN-55</td>\n",
       "      <td>Vietnam</td>\n",
       "      <td>PMO - US</td>\n",
       "      <td>Direct Drop</td>\n",
       "      <td>EXW</td>\n",
       "      <td>Air</td>\n",
       "      <td>...</td>\n",
       "      <td>60</td>\n",
       "      <td>38000</td>\n",
       "      <td>121600.0</td>\n",
       "      <td>3.20</td>\n",
       "      <td>0.05</td>\n",
       "      <td>Aurobindo Unit III, India</td>\n",
       "      <td>True</td>\n",
       "      <td>7590</td>\n",
       "      <td>45450.08</td>\n",
       "      <td>NaN</td>\n",
       "    </tr>\n",
       "  </tbody>\n",
       "</table>\n",
       "<p>5 rows × 33 columns</p>\n",
       "</div>"
      ],
      "text/plain": [
       "   id project code            pq # po / so # asn/dn #        country  \\\n",
       "0   1   100-CI-T01  Pre-PQ Process    SCMS-4    ASN-8  Côte d'Ivoire   \n",
       "1   3   108-VN-T01  Pre-PQ Process   SCMS-13   ASN-85        Vietnam   \n",
       "2   4   100-CI-T01  Pre-PQ Process   SCMS-20   ASN-14  Côte d'Ivoire   \n",
       "3  15   108-VN-T01  Pre-PQ Process   SCMS-78   ASN-50        Vietnam   \n",
       "4  16   108-VN-T01  Pre-PQ Process   SCMS-81   ASN-55        Vietnam   \n",
       "\n",
       "  managed by  fulfill via vendor inco term shipment mode  ...  \\\n",
       "0   PMO - US  Direct Drop              EXW           Air  ...   \n",
       "1   PMO - US  Direct Drop              EXW           Air  ...   \n",
       "2   PMO - US  Direct Drop              FCA           Air  ...   \n",
       "3   PMO - US  Direct Drop              EXW           Air  ...   \n",
       "4   PMO - US  Direct Drop              EXW           Air  ...   \n",
       "\n",
       "  unit of measure (per pack) line item quantity line item value pack price  \\\n",
       "0                         30                 19           551.0      29.00   \n",
       "1                        240               1000          6200.0       6.20   \n",
       "2                        100                500         40000.0      80.00   \n",
       "3                         60              31920        127360.8       3.99   \n",
       "4                         60              38000        121600.0       3.20   \n",
       "\n",
       "  unit price             manufacturing site first line designation  \\\n",
       "0       0.97     Ranbaxy Fine Chemicals LTD                   True   \n",
       "1       0.03      Aurobindo Unit III, India                   True   \n",
       "2       0.80  ABBVIE GmbH & Co.KG Wiesbaden                   True   \n",
       "3       0.07  Ranbaxy, Paonta Shahib, India                   True   \n",
       "4       0.05      Aurobindo Unit III, India                   True   \n",
       "\n",
       "  weight (kilograms) freight cost (usd) line item insurance (usd)  \n",
       "0                 13             780.34                       NaN  \n",
       "1                358             4521.5                       NaN  \n",
       "2                171            1653.78                       NaN  \n",
       "3               1855           16007.06                       NaN  \n",
       "4               7590           45450.08                       NaN  \n",
       "\n",
       "[5 rows x 33 columns]"
      ]
     },
     "execution_count": 3,
     "metadata": {},
     "output_type": "execute_result"
    }
   ],
   "source": [
    "df.head()"
   ]
  },
  {
   "cell_type": "code",
   "execution_count": 4,
   "metadata": {},
   "outputs": [
    {
     "name": "stdout",
     "output_type": "stream",
     "text": [
      "<class 'pandas.core.frame.DataFrame'>\n",
      "RangeIndex: 10324 entries, 0 to 10323\n",
      "Data columns (total 33 columns):\n",
      " #   Column                        Non-Null Count  Dtype  \n",
      "---  ------                        --------------  -----  \n",
      " 0   id                            10324 non-null  int64  \n",
      " 1   project code                  10324 non-null  object \n",
      " 2   pq #                          10324 non-null  object \n",
      " 3   po / so #                     10324 non-null  object \n",
      " 4   asn/dn #                      10324 non-null  object \n",
      " 5   country                       10324 non-null  object \n",
      " 6   managed by                    10324 non-null  object \n",
      " 7   fulfill via                   10324 non-null  object \n",
      " 8   vendor inco term              10324 non-null  object \n",
      " 9   shipment mode                 9964 non-null   object \n",
      " 10  pq first sent to client date  10324 non-null  object \n",
      " 11  po sent to vendor date        10324 non-null  object \n",
      " 12  scheduled delivery date       10324 non-null  object \n",
      " 13  delivered to client date      10324 non-null  object \n",
      " 14  delivery recorded date        10324 non-null  object \n",
      " 15  product group                 10324 non-null  object \n",
      " 16  sub classification            10324 non-null  object \n",
      " 17  vendor                        10324 non-null  object \n",
      " 18  item description              10324 non-null  object \n",
      " 19  molecule/test type            10324 non-null  object \n",
      " 20  brand                         10324 non-null  object \n",
      " 21  dosage                        8588 non-null   object \n",
      " 22  dosage form                   10324 non-null  object \n",
      " 23  unit of measure (per pack)    10324 non-null  int64  \n",
      " 24  line item quantity            10324 non-null  int64  \n",
      " 25  line item value               10324 non-null  float64\n",
      " 26  pack price                    10324 non-null  float64\n",
      " 27  unit price                    10324 non-null  float64\n",
      " 28  manufacturing site            10324 non-null  object \n",
      " 29  first line designation        10324 non-null  bool   \n",
      " 30  weight (kilograms)            10324 non-null  object \n",
      " 31  freight cost (usd)            10324 non-null  object \n",
      " 32  line item insurance (usd)     10037 non-null  float64\n",
      "dtypes: bool(1), float64(4), int64(3), object(25)\n",
      "memory usage: 2.5+ MB\n"
     ]
    }
   ],
   "source": [
    "df.info()"
   ]
  },
  {
   "cell_type": "code",
   "execution_count": 5,
   "metadata": {},
   "outputs": [
    {
     "data": {
      "text/plain": [
       "South Africa          1406\n",
       "Nigeria               1194\n",
       "Côte d'Ivoire         1083\n",
       "Uganda                 779\n",
       "Vietnam                688\n",
       "Zambia                 683\n",
       "Haiti                  655\n",
       "Mozambique             631\n",
       "Zimbabwe               538\n",
       "Tanzania               519\n",
       "Rwanda                 430\n",
       "Congo, DRC             333\n",
       "Guyana                 237\n",
       "Ethiopia               216\n",
       "South Sudan            164\n",
       "Kenya                  111\n",
       "Burundi                 98\n",
       "Namibia                 95\n",
       "Cameroon                75\n",
       "Botswana                70\n",
       "Ghana                   58\n",
       "Dominican Republic      52\n",
       "Sudan                   46\n",
       "Swaziland               35\n",
       "Mali                    17\n",
       "Pakistan                15\n",
       "Guatemala               15\n",
       "Malawi                  14\n",
       "Benin                   13\n",
       "Libya                    8\n",
       "Lebanon                  8\n",
       "Angola                   7\n",
       "Liberia                  6\n",
       "Sierra Leone             4\n",
       "Lesotho                  4\n",
       "Togo                     3\n",
       "Senegal                  3\n",
       "Afghanistan              3\n",
       "Kazakhstan               2\n",
       "Kyrgyzstan               2\n",
       "Burkina Faso             2\n",
       "Belize                   1\n",
       "Guinea                   1\n",
       "Name: country, dtype: int64"
      ]
     },
     "execution_count": 5,
     "metadata": {},
     "output_type": "execute_result"
    }
   ],
   "source": [
    "df['country'].value_counts()"
   ]
  },
  {
   "cell_type": "code",
   "execution_count": 6,
   "metadata": {},
   "outputs": [
    {
     "data": {
      "text/plain": [
       "Air            6113\n",
       "Truck          2830\n",
       "Air Charter     650\n",
       "Ocean           371\n",
       "Name: shipment mode, dtype: int64"
      ]
     },
     "execution_count": 6,
     "metadata": {},
     "output_type": "execute_result"
    }
   ],
   "source": [
    "df['shipment mode'].value_counts()"
   ]
  },
  {
   "cell_type": "markdown",
   "metadata": {},
   "source": [
    "# Data Cleaning"
   ]
  },
  {
   "cell_type": "markdown",
   "metadata": {},
   "source": [
    "### Dropping Columns"
   ]
  },
  {
   "cell_type": "code",
   "execution_count": 7,
   "metadata": {},
   "outputs": [],
   "source": [
    "df.drop(columns=[\n",
    "    'pq #',\n",
    "    'po / so #',\n",
    "    'asn/dn #', \n",
    "    'pq first sent to client date', \n",
    "    'po sent to vendor date', \n",
    "    'line item insurance (usd)', \n",
    "    'id',\n",
    "    'project code',\n",
    "    'managed by',\n",
    "    'fulfill via',\n",
    "    'vendor inco term',\n",
    "    'shipment mode',\n",
    "    'delivery recorded date',\n",
    "    'molecule/test type',\n",
    "    'brand',\n",
    "    'dosage',\n",
    "    'dosage form',\n",
    "    'unit of measure (per pack)',\n",
    "    'pack price',\n",
    "    'unit price',\n",
    "    'manufacturing site',\n",
    "    'first line designation',\n",
    "    'weight (kilograms)',\n",
    "    'freight cost (usd)'], inplace=True)"
   ]
  },
  {
   "cell_type": "markdown",
   "metadata": {},
   "source": [
    "## Dropping Rows"
   ]
  },
  {
   "cell_type": "markdown",
   "metadata": {},
   "source": [
    "Dropping countries with less than 100 instances"
   ]
  },
  {
   "cell_type": "code",
   "execution_count": 8,
   "metadata": {},
   "outputs": [],
   "source": [
    "df = df[df['country'].map(df['country'].value_counts()) >= 50]"
   ]
  },
  {
   "cell_type": "code",
   "execution_count": 9,
   "metadata": {},
   "outputs": [
    {
     "data": {
      "text/plain": [
       "South Africa          1406\n",
       "Nigeria               1194\n",
       "Côte d'Ivoire         1083\n",
       "Uganda                 779\n",
       "Vietnam                688\n",
       "Zambia                 683\n",
       "Haiti                  655\n",
       "Mozambique             631\n",
       "Zimbabwe               538\n",
       "Tanzania               519\n",
       "Rwanda                 430\n",
       "Congo, DRC             333\n",
       "Guyana                 237\n",
       "Ethiopia               216\n",
       "South Sudan            164\n",
       "Kenya                  111\n",
       "Burundi                 98\n",
       "Namibia                 95\n",
       "Cameroon                75\n",
       "Botswana                70\n",
       "Ghana                   58\n",
       "Dominican Republic      52\n",
       "Name: country, dtype: int64"
      ]
     },
     "execution_count": 9,
     "metadata": {},
     "output_type": "execute_result"
    }
   ],
   "source": [
    "df['country'].value_counts() #SANITY CHECK"
   ]
  },
  {
   "cell_type": "code",
   "execution_count": 10,
   "metadata": {},
   "outputs": [
    {
     "name": "stdout",
     "output_type": "stream",
     "text": [
      "<class 'pandas.core.frame.DataFrame'>\n",
      "Int64Index: 10115 entries, 0 to 10323\n",
      "Data columns (total 9 columns):\n",
      " #   Column                    Non-Null Count  Dtype  \n",
      "---  ------                    --------------  -----  \n",
      " 0   country                   10115 non-null  object \n",
      " 1   scheduled delivery date   10115 non-null  object \n",
      " 2   delivered to client date  10115 non-null  object \n",
      " 3   product group             10115 non-null  object \n",
      " 4   sub classification        10115 non-null  object \n",
      " 5   vendor                    10115 non-null  object \n",
      " 6   item description          10115 non-null  object \n",
      " 7   line item quantity        10115 non-null  int64  \n",
      " 8   line item value           10115 non-null  float64\n",
      "dtypes: float64(1), int64(1), object(7)\n",
      "memory usage: 790.2+ KB\n"
     ]
    }
   ],
   "source": [
    "df.info() #SANITY CHECK"
   ]
  },
  {
   "cell_type": "code",
   "execution_count": 11,
   "metadata": {},
   "outputs": [
    {
     "data": {
      "text/html": [
       "<div>\n",
       "<style scoped>\n",
       "    .dataframe tbody tr th:only-of-type {\n",
       "        vertical-align: middle;\n",
       "    }\n",
       "\n",
       "    .dataframe tbody tr th {\n",
       "        vertical-align: top;\n",
       "    }\n",
       "\n",
       "    .dataframe thead th {\n",
       "        text-align: right;\n",
       "    }\n",
       "</style>\n",
       "<table border=\"1\" class=\"dataframe\">\n",
       "  <thead>\n",
       "    <tr style=\"text-align: right;\">\n",
       "      <th></th>\n",
       "      <th>country</th>\n",
       "      <th>scheduled delivery date</th>\n",
       "      <th>delivered to client date</th>\n",
       "      <th>product group</th>\n",
       "      <th>sub classification</th>\n",
       "      <th>vendor</th>\n",
       "      <th>item description</th>\n",
       "      <th>line item quantity</th>\n",
       "      <th>line item value</th>\n",
       "    </tr>\n",
       "  </thead>\n",
       "  <tbody>\n",
       "    <tr>\n",
       "      <th>0</th>\n",
       "      <td>Côte d'Ivoire</td>\n",
       "      <td>2-Jun-06</td>\n",
       "      <td>2-Jun-06</td>\n",
       "      <td>HRDT</td>\n",
       "      <td>HIV test</td>\n",
       "      <td>RANBAXY Fine Chemicals LTD.</td>\n",
       "      <td>HIV, Reveal G3 Rapid HIV-1 Antibody Test, 30 T...</td>\n",
       "      <td>19</td>\n",
       "      <td>551.0</td>\n",
       "    </tr>\n",
       "    <tr>\n",
       "      <th>1</th>\n",
       "      <td>Vietnam</td>\n",
       "      <td>14-Nov-06</td>\n",
       "      <td>14-Nov-06</td>\n",
       "      <td>ARV</td>\n",
       "      <td>Pediatric</td>\n",
       "      <td>Aurobindo Pharma Limited</td>\n",
       "      <td>Nevirapine 10mg/ml, oral suspension, Bottle, 2...</td>\n",
       "      <td>1000</td>\n",
       "      <td>6200.0</td>\n",
       "    </tr>\n",
       "    <tr>\n",
       "      <th>2</th>\n",
       "      <td>Côte d'Ivoire</td>\n",
       "      <td>27-Aug-06</td>\n",
       "      <td>27-Aug-06</td>\n",
       "      <td>HRDT</td>\n",
       "      <td>HIV test</td>\n",
       "      <td>Abbott GmbH &amp; Co. KG</td>\n",
       "      <td>HIV 1/2, Determine Complete HIV Kit, 100 Tests</td>\n",
       "      <td>500</td>\n",
       "      <td>40000.0</td>\n",
       "    </tr>\n",
       "    <tr>\n",
       "      <th>3</th>\n",
       "      <td>Vietnam</td>\n",
       "      <td>1-Sep-06</td>\n",
       "      <td>1-Sep-06</td>\n",
       "      <td>ARV</td>\n",
       "      <td>Adult</td>\n",
       "      <td>SUN PHARMACEUTICAL INDUSTRIES LTD (RANBAXY LAB...</td>\n",
       "      <td>Lamivudine 150mg, tablets, 60 Tabs</td>\n",
       "      <td>31920</td>\n",
       "      <td>127360.8</td>\n",
       "    </tr>\n",
       "    <tr>\n",
       "      <th>4</th>\n",
       "      <td>Vietnam</td>\n",
       "      <td>11-Aug-06</td>\n",
       "      <td>11-Aug-06</td>\n",
       "      <td>ARV</td>\n",
       "      <td>Adult</td>\n",
       "      <td>Aurobindo Pharma Limited</td>\n",
       "      <td>Stavudine 30mg, capsules, 60 Caps</td>\n",
       "      <td>38000</td>\n",
       "      <td>121600.0</td>\n",
       "    </tr>\n",
       "  </tbody>\n",
       "</table>\n",
       "</div>"
      ],
      "text/plain": [
       "         country scheduled delivery date delivered to client date  \\\n",
       "0  Côte d'Ivoire                2-Jun-06                 2-Jun-06   \n",
       "1        Vietnam               14-Nov-06                14-Nov-06   \n",
       "2  Côte d'Ivoire               27-Aug-06                27-Aug-06   \n",
       "3        Vietnam                1-Sep-06                 1-Sep-06   \n",
       "4        Vietnam               11-Aug-06                11-Aug-06   \n",
       "\n",
       "  product group sub classification  \\\n",
       "0          HRDT           HIV test   \n",
       "1           ARV          Pediatric   \n",
       "2          HRDT           HIV test   \n",
       "3           ARV              Adult   \n",
       "4           ARV              Adult   \n",
       "\n",
       "                                              vendor  \\\n",
       "0                        RANBAXY Fine Chemicals LTD.   \n",
       "1                           Aurobindo Pharma Limited   \n",
       "2                               Abbott GmbH & Co. KG   \n",
       "3  SUN PHARMACEUTICAL INDUSTRIES LTD (RANBAXY LAB...   \n",
       "4                           Aurobindo Pharma Limited   \n",
       "\n",
       "                                    item description  line item quantity  \\\n",
       "0  HIV, Reveal G3 Rapid HIV-1 Antibody Test, 30 T...                  19   \n",
       "1  Nevirapine 10mg/ml, oral suspension, Bottle, 2...                1000   \n",
       "2     HIV 1/2, Determine Complete HIV Kit, 100 Tests                 500   \n",
       "3                 Lamivudine 150mg, tablets, 60 Tabs               31920   \n",
       "4                  Stavudine 30mg, capsules, 60 Caps               38000   \n",
       "\n",
       "   line item value  \n",
       "0            551.0  \n",
       "1           6200.0  \n",
       "2          40000.0  \n",
       "3         127360.8  \n",
       "4         121600.0  "
      ]
     },
     "execution_count": 11,
     "metadata": {},
     "output_type": "execute_result"
    }
   ],
   "source": [
    "df.head()"
   ]
  },
  {
   "cell_type": "code",
   "execution_count": 12,
   "metadata": {},
   "outputs": [
    {
     "data": {
      "text/plain": [
       "SCMS from RDC                                      5334\n",
       "S. BUYS WHOLESALER                                  715\n",
       "Orgenics, Ltd                                       691\n",
       "Aurobindo Pharma Limited                            665\n",
       "ABBVIE LOGISTICS (FORMERLY ABBOTT LOGISTICS BV)     345\n",
       "                                                   ... \n",
       "ABBOTT LABORATORIES (PUERTO RICO)                     1\n",
       "RAININ INSTRUMENT, LLC.                               1\n",
       "AUROBINDO PHARAM (SOUTH AFRICA)                       1\n",
       "ACOUNS NIGERIA LTD                                    1\n",
       "KAS MEDICS LIMITED                                    1\n",
       "Name: vendor, Length: 71, dtype: int64"
      ]
     },
     "execution_count": 12,
     "metadata": {},
     "output_type": "execute_result"
    }
   ],
   "source": [
    "df['vendor'].value_counts()"
   ]
  },
  {
   "cell_type": "code",
   "execution_count": 13,
   "metadata": {},
   "outputs": [],
   "source": [
    "#Dropping vendors with less than 50 instances\n",
    "df = df[df['vendor'].map(df['vendor'].value_counts()) >= 50]"
   ]
  },
  {
   "cell_type": "code",
   "execution_count": 14,
   "metadata": {
    "scrolled": false
   },
   "outputs": [
    {
     "data": {
      "text/html": [
       "<div>\n",
       "<style scoped>\n",
       "    .dataframe tbody tr th:only-of-type {\n",
       "        vertical-align: middle;\n",
       "    }\n",
       "\n",
       "    .dataframe tbody tr th {\n",
       "        vertical-align: top;\n",
       "    }\n",
       "\n",
       "    .dataframe thead th {\n",
       "        text-align: right;\n",
       "    }\n",
       "</style>\n",
       "<table border=\"1\" class=\"dataframe\">\n",
       "  <thead>\n",
       "    <tr style=\"text-align: right;\">\n",
       "      <th></th>\n",
       "      <th>country</th>\n",
       "      <th>scheduled delivery date</th>\n",
       "      <th>delivered to client date</th>\n",
       "      <th>product group</th>\n",
       "      <th>sub classification</th>\n",
       "      <th>vendor</th>\n",
       "      <th>item description</th>\n",
       "      <th>line item quantity</th>\n",
       "      <th>line item value</th>\n",
       "      <th>unscheduled_delivery</th>\n",
       "    </tr>\n",
       "  </thead>\n",
       "  <tbody>\n",
       "    <tr>\n",
       "      <th>25</th>\n",
       "      <td>Haiti</td>\n",
       "      <td>13-Aug-07</td>\n",
       "      <td>21-Aug-07</td>\n",
       "      <td>HRDT</td>\n",
       "      <td>HIV test</td>\n",
       "      <td>Orgenics, Ltd</td>\n",
       "      <td>HIV 1/2, Determine HIV Kit, without Lancets, 1...</td>\n",
       "      <td>750</td>\n",
       "      <td>53992.50</td>\n",
       "      <td>True</td>\n",
       "    </tr>\n",
       "    <tr>\n",
       "      <th>41</th>\n",
       "      <td>Guyana</td>\n",
       "      <td>9-Apr-08</td>\n",
       "      <td>1-Apr-08</td>\n",
       "      <td>HRDT</td>\n",
       "      <td>HIV test - Ancillary</td>\n",
       "      <td>Orgenics, Ltd</td>\n",
       "      <td>HIV, Lancet, Safety, for HIV Test kits, 100 Pcs</td>\n",
       "      <td>240</td>\n",
       "      <td>2.40</td>\n",
       "      <td>True</td>\n",
       "    </tr>\n",
       "    <tr>\n",
       "      <th>51</th>\n",
       "      <td>South Africa</td>\n",
       "      <td>25-Apr-08</td>\n",
       "      <td>7-Apr-08</td>\n",
       "      <td>ARV</td>\n",
       "      <td>Pediatric</td>\n",
       "      <td>S. BUYS WHOLESALER</td>\n",
       "      <td>Didanosine 25mg [Videx], chewable tablets, 60 ...</td>\n",
       "      <td>6</td>\n",
       "      <td>77.10</td>\n",
       "      <td>True</td>\n",
       "    </tr>\n",
       "    <tr>\n",
       "      <th>53</th>\n",
       "      <td>Nigeria</td>\n",
       "      <td>9-Jul-08</td>\n",
       "      <td>4-Jul-08</td>\n",
       "      <td>HRDT</td>\n",
       "      <td>HIV test - Ancillary</td>\n",
       "      <td>Orgenics, Ltd</td>\n",
       "      <td>HIV, Lancet, Safety, for HIV Test kits, 100 Pcs</td>\n",
       "      <td>5498</td>\n",
       "      <td>54.98</td>\n",
       "      <td>True</td>\n",
       "    </tr>\n",
       "    <tr>\n",
       "      <th>57</th>\n",
       "      <td>South Africa</td>\n",
       "      <td>20-Aug-08</td>\n",
       "      <td>8-May-08</td>\n",
       "      <td>ARV</td>\n",
       "      <td>Adult</td>\n",
       "      <td>S. BUYS WHOLESALER</td>\n",
       "      <td>Didanosine EC 250mg [Videx EC], delayed-releas...</td>\n",
       "      <td>100</td>\n",
       "      <td>1906.00</td>\n",
       "      <td>True</td>\n",
       "    </tr>\n",
       "    <tr>\n",
       "      <th>...</th>\n",
       "      <td>...</td>\n",
       "      <td>...</td>\n",
       "      <td>...</td>\n",
       "      <td>...</td>\n",
       "      <td>...</td>\n",
       "      <td>...</td>\n",
       "      <td>...</td>\n",
       "      <td>...</td>\n",
       "      <td>...</td>\n",
       "      <td>...</td>\n",
       "    </tr>\n",
       "    <tr>\n",
       "      <th>10319</th>\n",
       "      <td>Zimbabwe</td>\n",
       "      <td>31-Jul-15</td>\n",
       "      <td>15-Jul-15</td>\n",
       "      <td>ARV</td>\n",
       "      <td>Pediatric</td>\n",
       "      <td>SCMS from RDC</td>\n",
       "      <td>Lamivudine/Nevirapine/Zidovudine 30/50/60mg, d...</td>\n",
       "      <td>166571</td>\n",
       "      <td>599655.60</td>\n",
       "      <td>True</td>\n",
       "    </tr>\n",
       "    <tr>\n",
       "      <th>10320</th>\n",
       "      <td>Côte d'Ivoire</td>\n",
       "      <td>31-Jul-15</td>\n",
       "      <td>6-Aug-15</td>\n",
       "      <td>ARV</td>\n",
       "      <td>Adult</td>\n",
       "      <td>SCMS from RDC</td>\n",
       "      <td>Lamivudine/Zidovudine 150/300mg, tablets, 60 Tabs</td>\n",
       "      <td>21072</td>\n",
       "      <td>137389.44</td>\n",
       "      <td>True</td>\n",
       "    </tr>\n",
       "    <tr>\n",
       "      <th>10321</th>\n",
       "      <td>Zambia</td>\n",
       "      <td>31-Aug-15</td>\n",
       "      <td>25-Aug-15</td>\n",
       "      <td>ARV</td>\n",
       "      <td>Adult</td>\n",
       "      <td>SCMS from RDC</td>\n",
       "      <td>Efavirenz/Lamivudine/Tenofovir Disoproxil Fuma...</td>\n",
       "      <td>514526</td>\n",
       "      <td>5140114.74</td>\n",
       "      <td>True</td>\n",
       "    </tr>\n",
       "    <tr>\n",
       "      <th>10322</th>\n",
       "      <td>Zimbabwe</td>\n",
       "      <td>9-Sep-15</td>\n",
       "      <td>4-Aug-15</td>\n",
       "      <td>ARV</td>\n",
       "      <td>Adult</td>\n",
       "      <td>SCMS from RDC</td>\n",
       "      <td>Lamivudine/Zidovudine 150/300mg, tablets, 60 Tabs</td>\n",
       "      <td>17465</td>\n",
       "      <td>113871.80</td>\n",
       "      <td>True</td>\n",
       "    </tr>\n",
       "    <tr>\n",
       "      <th>10323</th>\n",
       "      <td>Zimbabwe</td>\n",
       "      <td>31-Aug-15</td>\n",
       "      <td>4-Aug-15</td>\n",
       "      <td>ARV</td>\n",
       "      <td>Pediatric</td>\n",
       "      <td>SCMS from RDC</td>\n",
       "      <td>Lamivudine/Zidovudine 30/60mg, dispersible tab...</td>\n",
       "      <td>36639</td>\n",
       "      <td>72911.61</td>\n",
       "      <td>True</td>\n",
       "    </tr>\n",
       "  </tbody>\n",
       "</table>\n",
       "<p>3922 rows × 10 columns</p>\n",
       "</div>"
      ],
      "text/plain": [
       "             country scheduled delivery date delivered to client date  \\\n",
       "25             Haiti               13-Aug-07                21-Aug-07   \n",
       "41            Guyana                9-Apr-08                 1-Apr-08   \n",
       "51      South Africa               25-Apr-08                 7-Apr-08   \n",
       "53           Nigeria                9-Jul-08                 4-Jul-08   \n",
       "57      South Africa               20-Aug-08                 8-May-08   \n",
       "...              ...                     ...                      ...   \n",
       "10319       Zimbabwe               31-Jul-15                15-Jul-15   \n",
       "10320  Côte d'Ivoire               31-Jul-15                 6-Aug-15   \n",
       "10321         Zambia               31-Aug-15                25-Aug-15   \n",
       "10322       Zimbabwe                9-Sep-15                 4-Aug-15   \n",
       "10323       Zimbabwe               31-Aug-15                 4-Aug-15   \n",
       "\n",
       "      product group    sub classification              vendor  \\\n",
       "25             HRDT              HIV test       Orgenics, Ltd   \n",
       "41             HRDT  HIV test - Ancillary       Orgenics, Ltd   \n",
       "51              ARV             Pediatric  S. BUYS WHOLESALER   \n",
       "53             HRDT  HIV test - Ancillary       Orgenics, Ltd   \n",
       "57              ARV                 Adult  S. BUYS WHOLESALER   \n",
       "...             ...                   ...                 ...   \n",
       "10319           ARV             Pediatric       SCMS from RDC   \n",
       "10320           ARV                 Adult       SCMS from RDC   \n",
       "10321           ARV                 Adult       SCMS from RDC   \n",
       "10322           ARV                 Adult       SCMS from RDC   \n",
       "10323           ARV             Pediatric       SCMS from RDC   \n",
       "\n",
       "                                        item description  line item quantity  \\\n",
       "25     HIV 1/2, Determine HIV Kit, without Lancets, 1...                 750   \n",
       "41       HIV, Lancet, Safety, for HIV Test kits, 100 Pcs                 240   \n",
       "51     Didanosine 25mg [Videx], chewable tablets, 60 ...                   6   \n",
       "53       HIV, Lancet, Safety, for HIV Test kits, 100 Pcs                5498   \n",
       "57     Didanosine EC 250mg [Videx EC], delayed-releas...                 100   \n",
       "...                                                  ...                 ...   \n",
       "10319  Lamivudine/Nevirapine/Zidovudine 30/50/60mg, d...              166571   \n",
       "10320  Lamivudine/Zidovudine 150/300mg, tablets, 60 Tabs               21072   \n",
       "10321  Efavirenz/Lamivudine/Tenofovir Disoproxil Fuma...              514526   \n",
       "10322  Lamivudine/Zidovudine 150/300mg, tablets, 60 Tabs               17465   \n",
       "10323  Lamivudine/Zidovudine 30/60mg, dispersible tab...               36639   \n",
       "\n",
       "       line item value  unscheduled_delivery  \n",
       "25            53992.50                  True  \n",
       "41                2.40                  True  \n",
       "51               77.10                  True  \n",
       "53               54.98                  True  \n",
       "57             1906.00                  True  \n",
       "...                ...                   ...  \n",
       "10319        599655.60                  True  \n",
       "10320        137389.44                  True  \n",
       "10321       5140114.74                  True  \n",
       "10322        113871.80                  True  \n",
       "10323         72911.61                  True  \n",
       "\n",
       "[3922 rows x 10 columns]"
      ]
     },
     "execution_count": 14,
     "metadata": {},
     "output_type": "execute_result"
    }
   ],
   "source": [
    "#Checking the rows where the two date columns don't match\n",
    "df['unscheduled_delivery'] = df.apply(lambda row: row['scheduled delivery date'] != row['delivered to client date'], axis=1)\n",
    "df[df['unscheduled_delivery'] == True]"
   ]
  },
  {
   "cell_type": "code",
   "execution_count": 15,
   "metadata": {},
   "outputs": [
    {
     "data": {
      "text/plain": [
       "SCMS from RDC                                                        3298\n",
       "S. BUYS WHOLESALER                                                    251\n",
       "Orgenics, Ltd                                                         161\n",
       "Aurobindo Pharma Limited                                              116\n",
       "CIPLA LIMITED                                                          29\n",
       "CHEMBIO DIAGNOSTIC SYSTEMS, INC.                                       13\n",
       "HETERO LABS LIMITED                                                    11\n",
       "Standard Diagnostics, Inc.                                             10\n",
       "SHANGHAI KEHUA BIOENGINEERING CO.,LTD.  (KHB)                          10\n",
       "MYLAN LABORATORIES LTD (FORMERLY MATRIX LABORATORIES)                   7\n",
       "ABBVIE LOGISTICS (FORMERLY ABBOTT LOGISTICS BV)                         6\n",
       "STRIDES ARCOLAB LIMITED                                                 5\n",
       "Trinity Biotech, Plc                                                    3\n",
       "MERCK SHARP & DOHME IDEA GMBH (FORMALLY MERCK SHARP & DOHME B.V.)       2\n",
       "Name: vendor, dtype: int64"
      ]
     },
     "execution_count": 15,
     "metadata": {},
     "output_type": "execute_result"
    }
   ],
   "source": [
    "#Flagging vendors with the most delayed deliveries \n",
    "df[df['unscheduled_delivery'] == True]['vendor'].value_counts()"
   ]
  },
  {
   "cell_type": "markdown",
   "metadata": {},
   "source": [
    "# TimeSeries"
   ]
  },
  {
   "cell_type": "code",
   "execution_count": 16,
   "metadata": {},
   "outputs": [],
   "source": [
    "df['delivered to client date'] = df['delivered to client date'].astype(str)"
   ]
  },
  {
   "cell_type": "code",
   "execution_count": 17,
   "metadata": {},
   "outputs": [],
   "source": [
    "df['delivered to client date'] = pd.to_datetime(df['delivered to client date'], infer_datetime_format=True)\n",
    "df.set_index('delivered to client date', inplace=True)"
   ]
  },
  {
   "cell_type": "code",
   "execution_count": 18,
   "metadata": {
    "scrolled": false
   },
   "outputs": [
    {
     "data": {
      "text/html": [
       "<div>\n",
       "<style scoped>\n",
       "    .dataframe tbody tr th:only-of-type {\n",
       "        vertical-align: middle;\n",
       "    }\n",
       "\n",
       "    .dataframe tbody tr th {\n",
       "        vertical-align: top;\n",
       "    }\n",
       "\n",
       "    .dataframe thead th {\n",
       "        text-align: right;\n",
       "    }\n",
       "</style>\n",
       "<table border=\"1\" class=\"dataframe\">\n",
       "  <thead>\n",
       "    <tr style=\"text-align: right;\">\n",
       "      <th></th>\n",
       "      <th>country</th>\n",
       "      <th>scheduled delivery date</th>\n",
       "      <th>product group</th>\n",
       "      <th>sub classification</th>\n",
       "      <th>vendor</th>\n",
       "      <th>item description</th>\n",
       "      <th>line item quantity</th>\n",
       "      <th>line item value</th>\n",
       "      <th>unscheduled_delivery</th>\n",
       "    </tr>\n",
       "    <tr>\n",
       "      <th>delivered to client date</th>\n",
       "      <th></th>\n",
       "      <th></th>\n",
       "      <th></th>\n",
       "      <th></th>\n",
       "      <th></th>\n",
       "      <th></th>\n",
       "      <th></th>\n",
       "      <th></th>\n",
       "      <th></th>\n",
       "    </tr>\n",
       "  </thead>\n",
       "  <tbody>\n",
       "    <tr>\n",
       "      <th>2006-11-14</th>\n",
       "      <td>Vietnam</td>\n",
       "      <td>14-Nov-06</td>\n",
       "      <td>ARV</td>\n",
       "      <td>Pediatric</td>\n",
       "      <td>Aurobindo Pharma Limited</td>\n",
       "      <td>Nevirapine 10mg/ml, oral suspension, Bottle, 2...</td>\n",
       "      <td>1000</td>\n",
       "      <td>6200.00</td>\n",
       "      <td>False</td>\n",
       "    </tr>\n",
       "    <tr>\n",
       "      <th>2006-08-11</th>\n",
       "      <td>Vietnam</td>\n",
       "      <td>11-Aug-06</td>\n",
       "      <td>ARV</td>\n",
       "      <td>Adult</td>\n",
       "      <td>Aurobindo Pharma Limited</td>\n",
       "      <td>Stavudine 30mg, capsules, 60 Caps</td>\n",
       "      <td>38000</td>\n",
       "      <td>121600.00</td>\n",
       "      <td>False</td>\n",
       "    </tr>\n",
       "    <tr>\n",
       "      <th>2006-09-28</th>\n",
       "      <td>Nigeria</td>\n",
       "      <td>28-Sep-06</td>\n",
       "      <td>ARV</td>\n",
       "      <td>Pediatric</td>\n",
       "      <td>Aurobindo Pharma Limited</td>\n",
       "      <td>Zidovudine 10mg/ml, oral solution, Bottle, 240 ml</td>\n",
       "      <td>416</td>\n",
       "      <td>2225.60</td>\n",
       "      <td>False</td>\n",
       "    </tr>\n",
       "    <tr>\n",
       "      <th>2007-01-08</th>\n",
       "      <td>Zambia</td>\n",
       "      <td>8-Jan-07</td>\n",
       "      <td>ARV</td>\n",
       "      <td>Pediatric</td>\n",
       "      <td>MERCK SHARP &amp; DOHME IDEA GMBH (FORMALLY MERCK ...</td>\n",
       "      <td>Efavirenz 200mg [Stocrin/Sustiva], capsule, 90...</td>\n",
       "      <td>135</td>\n",
       "      <td>4374.00</td>\n",
       "      <td>False</td>\n",
       "    </tr>\n",
       "    <tr>\n",
       "      <th>2006-11-24</th>\n",
       "      <td>Tanzania</td>\n",
       "      <td>24-Nov-06</td>\n",
       "      <td>ARV</td>\n",
       "      <td>Adult</td>\n",
       "      <td>Aurobindo Pharma Limited</td>\n",
       "      <td>Nevirapine 200mg, tablets, 60 Tabs</td>\n",
       "      <td>16667</td>\n",
       "      <td>60834.55</td>\n",
       "      <td>False</td>\n",
       "    </tr>\n",
       "  </tbody>\n",
       "</table>\n",
       "</div>"
      ],
      "text/plain": [
       "                           country scheduled delivery date product group  \\\n",
       "delivered to client date                                                   \n",
       "2006-11-14                 Vietnam               14-Nov-06           ARV   \n",
       "2006-08-11                 Vietnam               11-Aug-06           ARV   \n",
       "2006-09-28                 Nigeria               28-Sep-06           ARV   \n",
       "2007-01-08                  Zambia                8-Jan-07           ARV   \n",
       "2006-11-24                Tanzania               24-Nov-06           ARV   \n",
       "\n",
       "                         sub classification  \\\n",
       "delivered to client date                      \n",
       "2006-11-14                        Pediatric   \n",
       "2006-08-11                            Adult   \n",
       "2006-09-28                        Pediatric   \n",
       "2007-01-08                        Pediatric   \n",
       "2006-11-24                            Adult   \n",
       "\n",
       "                                                                     vendor  \\\n",
       "delivered to client date                                                      \n",
       "2006-11-14                                         Aurobindo Pharma Limited   \n",
       "2006-08-11                                         Aurobindo Pharma Limited   \n",
       "2006-09-28                                         Aurobindo Pharma Limited   \n",
       "2007-01-08                MERCK SHARP & DOHME IDEA GMBH (FORMALLY MERCK ...   \n",
       "2006-11-24                                         Aurobindo Pharma Limited   \n",
       "\n",
       "                                                           item description  \\\n",
       "delivered to client date                                                      \n",
       "2006-11-14                Nevirapine 10mg/ml, oral suspension, Bottle, 2...   \n",
       "2006-08-11                                Stavudine 30mg, capsules, 60 Caps   \n",
       "2006-09-28                Zidovudine 10mg/ml, oral solution, Bottle, 240 ml   \n",
       "2007-01-08                Efavirenz 200mg [Stocrin/Sustiva], capsule, 90...   \n",
       "2006-11-24                               Nevirapine 200mg, tablets, 60 Tabs   \n",
       "\n",
       "                          line item quantity  line item value  \\\n",
       "delivered to client date                                        \n",
       "2006-11-14                              1000          6200.00   \n",
       "2006-08-11                             38000        121600.00   \n",
       "2006-09-28                               416          2225.60   \n",
       "2007-01-08                               135          4374.00   \n",
       "2006-11-24                             16667         60834.55   \n",
       "\n",
       "                          unscheduled_delivery  \n",
       "delivered to client date                        \n",
       "2006-11-14                               False  \n",
       "2006-08-11                               False  \n",
       "2006-09-28                               False  \n",
       "2007-01-08                               False  \n",
       "2006-11-24                               False  "
      ]
     },
     "execution_count": 18,
     "metadata": {},
     "output_type": "execute_result"
    }
   ],
   "source": [
    "df.head()#SANITY CHECK"
   ]
  },
  {
   "cell_type": "code",
   "execution_count": 19,
   "metadata": {},
   "outputs": [
    {
     "data": {
      "text/plain": [
       "country                    0\n",
       "scheduled delivery date    0\n",
       "product group              0\n",
       "sub classification         0\n",
       "vendor                     0\n",
       "item description           0\n",
       "line item quantity         0\n",
       "line item value            0\n",
       "unscheduled_delivery       0\n",
       "dtype: int64"
      ]
     },
     "execution_count": 19,
     "metadata": {},
     "output_type": "execute_result"
    }
   ],
   "source": [
    "df.isnull().sum()"
   ]
  },
  {
   "cell_type": "markdown",
   "metadata": {},
   "source": [
    "### Picking a column to use with date"
   ]
  },
  {
   "cell_type": "code",
   "execution_count": 20,
   "metadata": {},
   "outputs": [
    {
     "data": {
      "text/plain": [
       "Adult                   6348\n",
       "Pediatric               1861\n",
       "HIV test                1318\n",
       "HIV test - Ancillary     129\n",
       "Malaria                    1\n",
       "Name: sub classification, dtype: int64"
      ]
     },
     "execution_count": 20,
     "metadata": {},
     "output_type": "execute_result"
    }
   ],
   "source": [
    "df['sub classification'].value_counts()"
   ]
  },
  {
   "cell_type": "code",
   "execution_count": 21,
   "metadata": {},
   "outputs": [
    {
     "data": {
      "text/plain": [
       "Efavirenz 600mg, tablets, 30 Tabs                                                  735\n",
       "Nevirapine 200mg, tablets, 60 Tabs                                                 609\n",
       "Lamivudine/Zidovudine 150/300mg, tablets, 60 Tabs                                  594\n",
       "Lamivudine/Nevirapine/Zidovudine 150/200/300mg, tablets, 60 Tabs                   573\n",
       "HIV 1/2, Determine Complete HIV Kit, 100 Tests                                     497\n",
       "                                                                                  ... \n",
       "Lopinavir/Ritonavir 200/50mg, [DON] tablets, 120 Tabs                                1\n",
       "Lamivudine/Zidovudine+Abacavir 150/300+300mg, tablets, co-blister, 60+60 Tabs        1\n",
       "Nevirapine 50mg, dispersible tablets, 60 Tabs                                        1\n",
       "Lamivudine/Nevirapine/Zidovudine 30/50/60mg, [DON] dispersible tablets, 60 Tabs      1\n",
       "Lamivudine 300mg, tablets, 30 Tabs                                                   1\n",
       "Name: item description, Length: 145, dtype: int64"
      ]
     },
     "execution_count": 21,
     "metadata": {},
     "output_type": "execute_result"
    }
   ],
   "source": [
    "df['item description'].value_counts()"
   ]
  },
  {
   "cell_type": "code",
   "execution_count": 22,
   "metadata": {},
   "outputs": [
    {
     "data": {
      "text/plain": [
       "ARV     8209\n",
       "HRDT    1447\n",
       "MRDT       1\n",
       "Name: product group, dtype: int64"
      ]
     },
     "execution_count": 22,
     "metadata": {},
     "output_type": "execute_result"
    }
   ],
   "source": [
    "df['product group'].value_counts()"
   ]
  },
  {
   "cell_type": "code",
   "execution_count": 23,
   "metadata": {},
   "outputs": [],
   "source": [
    "df['scheduled delivery date']= pd.to_datetime(df['scheduled delivery date'])"
   ]
  },
  {
   "cell_type": "code",
   "execution_count": 24,
   "metadata": {},
   "outputs": [
    {
     "data": {
      "text/plain": [
       "<AxesSubplot:xlabel='scheduled delivery date', ylabel='line item quantity'>"
      ]
     },
     "execution_count": 24,
     "metadata": {},
     "output_type": "execute_result"
    },
    {
     "data": {
      "image/png": "[encoded data removed]",
      "text/plain": [
       "<Figure size 432x288 with 1 Axes>"
      ]
     },
     "metadata": {
      "needs_background": "light"
     },
     "output_type": "display_data"
    }
   ],
   "source": [
    "sns.lineplot(x=\"scheduled delivery date\", y=\"line item quantity\", data=df)"
   ]
  },
  {
   "cell_type": "markdown",
   "metadata": {},
   "source": [
    "## Visualizations for 2015"
   ]
  },
  {
   "cell_type": "code",
   "execution_count": 25,
   "metadata": {},
   "outputs": [],
   "source": [
    "df_year = df[df[\"scheduled delivery date\"] >= \"2015-01-01\"]"
   ]
  },
  {
   "cell_type": "code",
   "execution_count": 26,
   "metadata": {},
   "outputs": [
    {
     "data": {
      "text/plain": [
       "<AxesSubplot:xlabel='scheduled delivery date', ylabel='line item quantity'>"
      ]
     },
     "execution_count": 26,
     "metadata": {},
     "output_type": "execute_result"
    },
    {
     "data": {
      "image/png": "[encoded data removed]",
      "text/plain": [
       "<Figure size 432x288 with 1 Axes>"
      ]
     },
     "metadata": {
      "needs_background": "light"
     },
     "output_type": "display_data"
    }
   ],
   "source": [
    "sns.lineplot(x=\"scheduled delivery date\", y=\"line item quantity\", data=df_year)"
   ]
  },
  {
   "cell_type": "markdown",
   "metadata": {},
   "source": [
    "Above graph goes down nearing 2016 and that's where the supplying ends. It might be necessary to drop the second half of 2015 out of the model to avoid skewing the model. "
   ]
  },
  {
   "cell_type": "code",
   "execution_count": 27,
   "metadata": {},
   "outputs": [
    {
     "data": {
      "text/plain": [
       "<AxesSubplot:xlabel='sub classification', ylabel='line item quantity'>"
      ]
     },
     "execution_count": 27,
     "metadata": {},
     "output_type": "execute_result"
    },
    {
     "data": {
      "image/png": "[encoded data removed]",
      "text/plain": [
       "<Figure size 432x288 with 1 Axes>"
      ]
     },
     "metadata": {
      "needs_background": "light"
     },
     "output_type": "display_data"
    }
   ],
   "source": [
    "sns.scatterplot(data=df_year, x=\"sub classification\", y=\"line item quantity\")"
   ]
  },
  {
   "cell_type": "markdown",
   "metadata": {},
   "source": [
    "## NEW TimeSeries Dataframe"
   ]
  },
  {
   "cell_type": "code",
   "execution_count": 28,
   "metadata": {},
   "outputs": [],
   "source": [
    "# create time series data\n",
    "ts_df = df.pivot_table(index='delivered to client date', columns='product group', values='line item quantity')\n",
    "\n",
    "\n",
    "# convert to datetime\n",
    "ts_df.index = pd.to_datetime(ts_df.index, format=\"%d-%m-%Y\")\n",
    "ts_df.index.name = \"delivery date\"\n",
    "ts_df.index = ts_df.index.strftime(\"%m-%Y\")\n",
    "\n",
    "# remove timezone information--fixig plot error\n",
    "ts_df.index = pd.to_datetime(ts_df.index).tz_localize(None)\n",
    "\n",
    "\n",
    "ts_df = ts_df.resample(\"M\").last()\n",
    "\n",
    "\n",
    "# handling missing values\n",
    "ts_df=ts_df.fillna(0)\n"
   ]
  },
  {
   "cell_type": "code",
   "execution_count": 29,
   "metadata": {
    "scrolled": true
   },
   "outputs": [
    {
     "data": {
      "image/png": "[encoded data removed]",
      "text/plain": [
       "<Figure size 432x288 with 1 Axes>"
      ]
     },
     "metadata": {
      "needs_background": "light"
     },
     "output_type": "display_data"
    }
   ],
   "source": [
    "plt.plot(ts_df.index, ts_df['ARV'])\n",
    "\n",
    "# titles and labels\n",
    "plt.title('ARV Delivery Over Time')\n",
    "plt.xlabel('Date')\n",
    "plt.ylabel('Number of Deliveries')\n",
    "\n",
    "\n",
    "plt.show()"
   ]
  },
  {
   "cell_type": "code",
   "execution_count": 30,
   "metadata": {},
   "outputs": [
    {
     "data": {
      "image/png": "[encoded data removed]",
      "text/plain": [
       "<Figure size 432x288 with 1 Axes>"
      ]
     },
     "metadata": {
      "needs_background": "light"
     },
     "output_type": "display_data"
    }
   ],
   "source": [
    "plt.plot(ts_df.index, ts_df['HRDT'])\n",
    "\n",
    "# titles and labels\n",
    "plt.title('HRDT Delivery Over Time')\n",
    "plt.xlabel('Date')\n",
    "plt.ylabel('Number of Deliveries')\n",
    "\n",
    "\n",
    "plt.show()"
   ]
  },
  {
   "cell_type": "code",
   "execution_count": 31,
   "metadata": {
    "scrolled": false
   },
   "outputs": [
    {
     "data": {
      "image/png": "[encoded data removed]",
      "text/plain": [
       "<Figure size 432x288 with 1 Axes>"
      ]
     },
     "metadata": {
      "needs_background": "light"
     },
     "output_type": "display_data"
    }
   ],
   "source": [
    "# the data\n",
    "plt.plot(ts_df.index, ts_df['ARV'], label='ARV')\n",
    "plt.plot(ts_df.index, ts_df['HRDT'], label='HRDT')\n",
    "\n",
    "# titles and labels\n",
    "plt.title('Deliveries Over Time')\n",
    "plt.xlabel('Date')\n",
    "plt.ylabel('Number of Deliveries')\n",
    "\n",
    "plt.legend()\n",
    "plt.show()"
   ]
  },
  {
   "cell_type": "code",
   "execution_count": 32,
   "metadata": {},
   "outputs": [
    {
     "data": {
      "text/html": [
       "<div>\n",
       "<style scoped>\n",
       "    .dataframe tbody tr th:only-of-type {\n",
       "        vertical-align: middle;\n",
       "    }\n",
       "\n",
       "    .dataframe tbody tr th {\n",
       "        vertical-align: top;\n",
       "    }\n",
       "\n",
       "    .dataframe thead th {\n",
       "        text-align: right;\n",
       "    }\n",
       "</style>\n",
       "<table border=\"1\" class=\"dataframe\">\n",
       "  <thead>\n",
       "    <tr style=\"text-align: right;\">\n",
       "      <th>product group</th>\n",
       "      <th>ARV</th>\n",
       "      <th>HRDT</th>\n",
       "      <th>MRDT</th>\n",
       "    </tr>\n",
       "    <tr>\n",
       "      <th>delivery date</th>\n",
       "      <th></th>\n",
       "      <th></th>\n",
       "      <th></th>\n",
       "    </tr>\n",
       "  </thead>\n",
       "  <tbody>\n",
       "    <tr>\n",
       "      <th>2006-05-31</th>\n",
       "      <td>0.0</td>\n",
       "      <td>31.0</td>\n",
       "      <td>0.0</td>\n",
       "    </tr>\n",
       "    <tr>\n",
       "      <th>2006-06-30</th>\n",
       "      <td>0.0</td>\n",
       "      <td>0.0</td>\n",
       "      <td>0.0</td>\n",
       "    </tr>\n",
       "    <tr>\n",
       "      <th>2006-07-31</th>\n",
       "      <td>0.0</td>\n",
       "      <td>50000.0</td>\n",
       "      <td>0.0</td>\n",
       "    </tr>\n",
       "    <tr>\n",
       "      <th>2006-08-31</th>\n",
       "      <td>31000.0</td>\n",
       "      <td>0.0</td>\n",
       "      <td>0.0</td>\n",
       "    </tr>\n",
       "    <tr>\n",
       "      <th>2006-09-30</th>\n",
       "      <td>433.5</td>\n",
       "      <td>0.0</td>\n",
       "      <td>0.0</td>\n",
       "    </tr>\n",
       "  </tbody>\n",
       "</table>\n",
       "</div>"
      ],
      "text/plain": [
       "product group      ARV     HRDT  MRDT\n",
       "delivery date                        \n",
       "2006-05-31         0.0     31.0   0.0\n",
       "2006-06-30         0.0      0.0   0.0\n",
       "2006-07-31         0.0  50000.0   0.0\n",
       "2006-08-31     31000.0      0.0   0.0\n",
       "2006-09-30       433.5      0.0   0.0"
      ]
     },
     "execution_count": 32,
     "metadata": {},
     "output_type": "execute_result"
    }
   ],
   "source": [
    "ts_df.head()"
   ]
  },
  {
   "cell_type": "markdown",
   "metadata": {},
   "source": [
    "# Stationarity Test"
   ]
  },
  {
   "cell_type": "code",
   "execution_count": 33,
   "metadata": {},
   "outputs": [
    {
     "name": "stdout",
     "output_type": "stream",
     "text": [
      "p-value: 1.4101439569394792e-16\n",
      "The data is stationary\n"
     ]
    }
   ],
   "source": [
    "dftest = adfuller(ts_df['ARV'])\n",
    "print('p-value:', dftest[1])\n",
    "alpha=0.05\n",
    "\n",
    "if dftest[1] < alpha:\n",
    "    print(\"The data is stationary\")\n",
    "else:\n",
    "    print(\"The data is non-stationary\")\n",
    " "
   ]
  },
  {
   "cell_type": "code",
   "execution_count": 34,
   "metadata": {},
   "outputs": [
    {
     "name": "stdout",
     "output_type": "stream",
     "text": [
      "p-value: 0.1997321559460396\n",
      "The data is non-stationary\n"
     ]
    }
   ],
   "source": [
    "dftest = adfuller(ts_df['HRDT'])\n",
    "print('p-value:', dftest[1])\n",
    "alpha=0.05\n",
    "\n",
    "if dftest[1] < alpha:\n",
    "    print(\"The data is stationary\")\n",
    "else:\n",
    "    print(\"The data is non-stationary\")\n"
   ]
  },
  {
   "cell_type": "markdown",
   "metadata": {},
   "source": [
    "# HRDT STATIONARY"
   ]
  },
  {
   "cell_type": "markdown",
   "metadata": {},
   "source": [
    "### Log Difference"
   ]
  },
  {
   "cell_type": "code",
   "execution_count": 35,
   "metadata": {},
   "outputs": [],
   "source": [
    "#to avoid getting -inf\n",
    "ts_df = ts_df + 1"
   ]
  },
  {
   "cell_type": "code",
   "execution_count": 36,
   "metadata": {},
   "outputs": [],
   "source": [
    "ts_df['HRDT'] = np.log(ts_df['HRDT'])\n",
    "ts_df['HRDT'] = ts_df['HRDT'].diff()\n",
    "ts_df = ts_df.drop(ts_df.index[0])"
   ]
  },
  {
   "cell_type": "code",
   "execution_count": 37,
   "metadata": {},
   "outputs": [
    {
     "data": {
      "text/plain": [
       "0"
      ]
     },
     "execution_count": 37,
     "metadata": {},
     "output_type": "execute_result"
    }
   ],
   "source": [
    "ts_df['HRDT'].isnull().sum()"
   ]
  },
  {
   "cell_type": "code",
   "execution_count": 38,
   "metadata": {},
   "outputs": [
    {
     "data": {
      "text/plain": [
       "delivery date\n",
       "2006-06-30    -3.465736\n",
       "2006-07-31    10.819798\n",
       "2006-08-31   -10.819798\n",
       "2006-09-30     0.000000\n",
       "2006-10-31     3.828641\n",
       "                ...    \n",
       "2015-05-31     1.596523\n",
       "2015-06-30    -0.342263\n",
       "2015-07-31    -2.271739\n",
       "2015-08-31     0.456474\n",
       "2015-09-30    -6.829794\n",
       "Freq: M, Name: HRDT, Length: 112, dtype: float64"
      ]
     },
     "execution_count": 38,
     "metadata": {},
     "output_type": "execute_result"
    }
   ],
   "source": [
    "ts_df['HRDT'].fillna(0)"
   ]
  },
  {
   "cell_type": "code",
   "execution_count": 39,
   "metadata": {},
   "outputs": [
    {
     "data": {
      "text/plain": [
       "[<matplotlib.lines.Line2D at 0x24b2e45a8e0>]"
      ]
     },
     "execution_count": 39,
     "metadata": {},
     "output_type": "execute_result"
    },
    {
     "data": {
      "image/png": "[encoded data removed]",
      "text/plain": [
       "<Figure size 432x288 with 1 Axes>"
      ]
     },
     "metadata": {
      "needs_background": "light"
     },
     "output_type": "display_data"
    }
   ],
   "source": [
    "plt.plot(ts_df['HRDT'])"
   ]
  },
  {
   "cell_type": "markdown",
   "metadata": {},
   "source": [
    "# First Simple Model"
   ]
  },
  {
   "cell_type": "code",
   "execution_count": 40,
   "metadata": {},
   "outputs": [
    {
     "name": "stdout",
     "output_type": "stream",
     "text": [
      "Mean Absolute Error: 28586.05681335224\n"
     ]
    }
   ],
   "source": [
    "# Train-test split\n",
    "train_data = ts_df.loc[:'09-2014']\n",
    "test_data = ts_df.loc['10-2014':]\n",
    "\n",
    "# ARIMA model\n",
    "model = sm.tsa.ARIMA(train_data['ARV'], order=(1, 1, 1), dates=train_data.index, freq='M')\n",
    "results = model.fit()\n",
    "\n",
    "arv_pred = results.predict(start='11-2014', end='10-2015')\n",
    "\n",
    "#error\n",
    "mae = pd.Series.abs(arv_pred - test_data['ARV']).mean()\n",
    "print('Mean Absolute Error:', mae)"
   ]
  },
  {
   "cell_type": "code",
   "execution_count": 41,
   "metadata": {},
   "outputs": [
    {
     "name": "stdout",
     "output_type": "stream",
     "text": [
      "Mean Absolute Error: 1.8389643897674766\n"
     ]
    }
   ],
   "source": [
    "# Train-test split\n",
    "train_data = ts_df.loc[:'09-2014']\n",
    "test_data = ts_df.loc['10-2014':]\n",
    "\n",
    "\n",
    "# ARIMA model\n",
    "model = sm.tsa.ARIMA(train_data['HRDT'], order=(1, 1, 1), dates=train_data.index, freq='M')\n",
    "results = model.fit()\n",
    "\n",
    "hrdt_pred = results.predict(start='11-2014', end='10-2015')\n",
    "\n",
    "# error\n",
    "mae = pd.Series.abs(hrdt_pred - test_data['HRDT']).mean()\n",
    "print('Mean Absolute Error:', mae)"
   ]
  },
  {
   "cell_type": "code",
   "execution_count": 42,
   "metadata": {},
   "outputs": [
    {
     "data": {
      "image/png": "[encoded data removed]",
      "text/plain": [
       "<Figure size 432x288 with 1 Axes>"
      ]
     },
     "metadata": {
      "needs_background": "light"
     },
     "output_type": "display_data"
    }
   ],
   "source": [
    "plt.plot(test_data.index, test_data['ARV'], label='Actual')\n",
    "plt.plot(arv_pred.index, arv_pred, label='Predicted')\n",
    "\n",
    "plt.title('ARIMA Model Predictions for ARV')\n",
    "plt.xlabel('Date')\n",
    "plt.ylabel('ARV')\n",
    "plt.legend()\n",
    "\n",
    "plt.show()"
   ]
  },
  {
   "cell_type": "code",
   "execution_count": 43,
   "metadata": {},
   "outputs": [
    {
     "data": {
      "image/png": "[encoded data removed]",
      "text/plain": [
       "<Figure size 432x288 with 1 Axes>"
      ]
     },
     "metadata": {
      "needs_background": "light"
     },
     "output_type": "display_data"
    }
   ],
   "source": [
    "plt.plot(test_data.index, test_data['HRDT'], label='Actual')\n",
    "plt.plot(hrdt_pred.index, hrdt_pred, label='Predicted')\n",
    "\n",
    "plt.title('ARIMA Model Predictions for HRDT')\n",
    "plt.xlabel('Date')\n",
    "plt.ylabel('HRDT')\n",
    "plt.legend()\n",
    "\n",
    "plt.show()"
   ]
  },
  {
   "cell_type": "markdown",
   "metadata": {},
   "source": [
    "# SARIMA"
   ]
  },
  {
   "cell_type": "code",
   "execution_count": 44,
   "metadata": {},
   "outputs": [
    {
     "data": {
      "image/png": "[encoded data removed]",
      "text/plain": [
       "<Figure size 432x288 with 1 Axes>"
      ]
     },
     "metadata": {
      "needs_background": "light"
     },
     "output_type": "display_data"
    },
    {
     "data": {
      "image/png": "[encoded data removed]",
      "text/plain": [
       "<Figure size 432x288 with 1 Axes>"
      ]
     },
     "metadata": {
      "needs_background": "light"
     },
     "output_type": "display_data"
    }
   ],
   "source": [
    "plot_pacf(ts_df['ARV'], method='ywm');\n",
    "plot_acf(ts_df['ARV']);"
   ]
  },
  {
   "cell_type": "code",
   "execution_count": 45,
   "metadata": {},
   "outputs": [
    {
     "name": "stdout",
     "output_type": "stream",
     "text": [
      "Mean Absolute Error: 24226.527404192773\n"
     ]
    }
   ],
   "source": [
    "# Train-test split\n",
    "train_data = ts_df.loc[:'09-2014']\n",
    "test_data = ts_df.loc['10-2014':]\n",
    "\n",
    "# SARIMA model\n",
    "model = sm.tsa.statespace.SARIMAX(train_data['ARV'], order=(0,0,1), seasonal_order=(1,1,1,12), enforce_stationarity=False, enforce_invertibility=False)\n",
    "results = model.fit()\n",
    "\n",
    "# Predictions\n",
    "arv_pred = results.predict(start='11-2014', end='9-2015')\n",
    "\n",
    "# Error\n",
    "mae = pd.Series.abs(arv_pred - test_data['ARV']).mean()\n",
    "print('Mean Absolute Error:', mae)\n"
   ]
  },
  {
   "cell_type": "code",
   "execution_count": 46,
   "metadata": {},
   "outputs": [
    {
     "data": {
      "image/png": "[encoded data removed]",
      "text/plain": [
       "<Figure size 432x288 with 1 Axes>"
      ]
     },
     "metadata": {
      "needs_background": "light"
     },
     "output_type": "display_data"
    }
   ],
   "source": [
    "plt.plot(test_data.index, test_data['ARV'], label='Actual')\n",
    "plt.plot(arv_pred.index, arv_pred, label='Predicted')\n",
    "\n",
    "plt.title('ARIMA Model Predictions for ARV')\n",
    "plt.xlabel('Date')\n",
    "plt.ylabel('ARV')\n",
    "plt.legend()\n",
    "\n",
    "plt.show()"
   ]
  },
  {
   "cell_type": "code",
   "execution_count": 47,
   "metadata": {},
   "outputs": [
    {
     "data": {
      "image/png": "[encoded data removed]",
      "text/plain": [
       "<Figure size 432x288 with 1 Axes>"
      ]
     },
     "metadata": {
      "needs_background": "light"
     },
     "output_type": "display_data"
    },
    {
     "data": {
      "image/png": "[encoded data removed]",
      "text/plain": [
       "<Figure size 432x288 with 1 Axes>"
      ]
     },
     "metadata": {
      "needs_background": "light"
     },
     "output_type": "display_data"
    }
   ],
   "source": [
    "plot_pacf(ts_df['HRDT'], method='ywm');\n",
    "plot_acf(ts_df['HRDT']);"
   ]
  },
  {
   "cell_type": "code",
   "execution_count": 48,
   "metadata": {},
   "outputs": [
    {
     "name": "stdout",
     "output_type": "stream",
     "text": [
      "Mean Absolute Error: 26845.908012867512\n"
     ]
    }
   ],
   "source": [
    "# Train-test split\n",
    "train_data = ts_df.loc[:'09-2014']\n",
    "test_data = ts_df.loc['10-2014':]\n",
    "\n",
    "# SARIMA model\n",
    "model = sm.tsa.statespace.SARIMAX(train_data['ARV'], order=(2,1,1), seasonal_order=(0,1,1,12), enforce_stationarity=False, enforce_invertibility=False)\n",
    "results = model.fit()\n",
    "\n",
    "# Predictions\n",
    "hrdt_pred = results.predict(start='11-2014', end='9-2015')\n",
    "\n",
    "# Error\n",
    "mae = pd.Series.abs(hrdt_pred - test_data['HRDT']).mean()\n",
    "print('Mean Absolute Error:', mae)\n"
   ]
  },
  {
   "cell_type": "code",
   "execution_count": 49,
   "metadata": {},
   "outputs": [
    {
     "data": {
      "image/png": "[encoded data removed]",
      "text/plain": [
       "<Figure size 432x288 with 1 Axes>"
      ]
     },
     "metadata": {
      "needs_background": "light"
     },
     "output_type": "display_data"
    }
   ],
   "source": [
    "plt.plot(test_data.index, test_data['HRDT'], label='Actual')\n",
    "plt.plot(hrdt_pred.index, hrdt_pred, label='Predicted')\n",
    "\n",
    "plt.title('ARIMA Model Predictions for HRDT')\n",
    "plt.xlabel('Date')\n",
    "plt.ylabel('HRDT')\n",
    "plt.legend()\n",
    "\n",
    "plt.show()"
   ]
  },
  {
   "cell_type": "markdown",
   "metadata": {},
   "source": [
    "# GridSearch for SARIMA parameters"
   ]
  },
  {
   "cell_type": "code",
   "execution_count": null,
   "metadata": {},
   "outputs": [],
   "source": []
  }
 ],
 "metadata": {
  "kernelspec": {
   "display_name": "Python (learn-env)",
   "language": "python",
   "name": "learn-env"
  },
  "language_info": {
   "codemirror_mode": {
    "name": "ipython",
    "version": 3
   },
   "file_extension": ".py",
   "mimetype": "text/x-python",
   "name": "python",
   "nbconvert_exporter": "python",
   "pygments_lexer": "ipython3",
   "version": "3.8.5"
  }
 },
 "nbformat": 4,
 "nbformat_minor": 4
}
