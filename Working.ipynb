{
 "cells": [
  {
   "cell_type": "markdown",
   "metadata": {},
   "source": [
    "# Import and EDA"
   ]
  },
  {
   "cell_type": "code",
   "execution_count": 52,
   "metadata": {},
   "outputs": [],
   "source": [
    "#Dataframe\n",
    "import pandas as pd\n",
    "from datetime import datetime as dt\n",
    "import numpy as np\n",
    "import pytz\n",
    "import itertools\n",
    "\n",
    "#Visualizations\n",
    "import matplotlib.pyplot as plt\n",
    "import seaborn as sns\n",
    "\n",
    "\n",
    "#Modeling\n",
    "import statsmodels.api as sm\n",
    "from statsmodels.tsa.stattools import adfuller\n",
    "from statsmodels.graphics.tsaplots import plot_pacf\n",
    "from statsmodels.graphics.tsaplots import plot_acf\n",
    "from statsmodels.tsa.statespace.sarimax import SARIMAX\n",
    "from statsmodels.tsa.holtwinters import ExponentialSmoothing"
   ]
  },
  {
   "cell_type": "code",
   "execution_count": 2,
   "metadata": {},
   "outputs": [],
   "source": [
    "df=pd.read_csv('Data\\Supply_Chain_Shipment_Pricing_Data.csv')"
   ]
  },
  {
   "cell_type": "code",
   "execution_count": 3,
   "metadata": {
    "scrolled": true
   },
   "outputs": [
    {
     "data": {
      "text/html": [
       "<div>\n",
       "<style scoped>\n",
       "    .dataframe tbody tr th:only-of-type {\n",
       "        vertical-align: middle;\n",
       "    }\n",
       "\n",
       "    .dataframe tbody tr th {\n",
       "        vertical-align: top;\n",
       "    }\n",
       "\n",
       "    .dataframe thead th {\n",
       "        text-align: right;\n",
       "    }\n",
       "</style>\n",
       "<table border=\"1\" class=\"dataframe\">\n",
       "  <thead>\n",
       "    <tr style=\"text-align: right;\">\n",
       "      <th></th>\n",
       "      <th>id</th>\n",
       "      <th>project code</th>\n",
       "      <th>pq #</th>\n",
       "      <th>po / so #</th>\n",
       "      <th>asn/dn #</th>\n",
       "      <th>country</th>\n",
       "      <th>managed by</th>\n",
       "      <th>fulfill via</th>\n",
       "      <th>vendor inco term</th>\n",
       "      <th>shipment mode</th>\n",
       "      <th>...</th>\n",
       "      <th>unit of measure (per pack)</th>\n",
       "      <th>line item quantity</th>\n",
       "      <th>line item value</th>\n",
       "      <th>pack price</th>\n",
       "      <th>unit price</th>\n",
       "      <th>manufacturing site</th>\n",
       "      <th>first line designation</th>\n",
       "      <th>weight (kilograms)</th>\n",
       "      <th>freight cost (usd)</th>\n",
       "      <th>line item insurance (usd)</th>\n",
       "    </tr>\n",
       "  </thead>\n",
       "  <tbody>\n",
       "    <tr>\n",
       "      <th>0</th>\n",
       "      <td>1</td>\n",
       "      <td>100-CI-T01</td>\n",
       "      <td>Pre-PQ Process</td>\n",
       "      <td>SCMS-4</td>\n",
       "      <td>ASN-8</td>\n",
       "      <td>Côte d'Ivoire</td>\n",
       "      <td>PMO - US</td>\n",
       "      <td>Direct Drop</td>\n",
       "      <td>EXW</td>\n",
       "      <td>Air</td>\n",
       "      <td>...</td>\n",
       "      <td>30</td>\n",
       "      <td>19</td>\n",
       "      <td>551.0</td>\n",
       "      <td>29.00</td>\n",
       "      <td>0.97</td>\n",
       "      <td>Ranbaxy Fine Chemicals LTD</td>\n",
       "      <td>True</td>\n",
       "      <td>13</td>\n",
       "      <td>780.34</td>\n",
       "      <td>NaN</td>\n",
       "    </tr>\n",
       "    <tr>\n",
       "      <th>1</th>\n",
       "      <td>3</td>\n",
       "      <td>108-VN-T01</td>\n",
       "      <td>Pre-PQ Process</td>\n",
       "      <td>SCMS-13</td>\n",
       "      <td>ASN-85</td>\n",
       "      <td>Vietnam</td>\n",
       "      <td>PMO - US</td>\n",
       "      <td>Direct Drop</td>\n",
       "      <td>EXW</td>\n",
       "      <td>Air</td>\n",
       "      <td>...</td>\n",
       "      <td>240</td>\n",
       "      <td>1000</td>\n",
       "      <td>6200.0</td>\n",
       "      <td>6.20</td>\n",
       "      <td>0.03</td>\n",
       "      <td>Aurobindo Unit III, India</td>\n",
       "      <td>True</td>\n",
       "      <td>358</td>\n",
       "      <td>4521.5</td>\n",
       "      <td>NaN</td>\n",
       "    </tr>\n",
       "    <tr>\n",
       "      <th>2</th>\n",
       "      <td>4</td>\n",
       "      <td>100-CI-T01</td>\n",
       "      <td>Pre-PQ Process</td>\n",
       "      <td>SCMS-20</td>\n",
       "      <td>ASN-14</td>\n",
       "      <td>Côte d'Ivoire</td>\n",
       "      <td>PMO - US</td>\n",
       "      <td>Direct Drop</td>\n",
       "      <td>FCA</td>\n",
       "      <td>Air</td>\n",
       "      <td>...</td>\n",
       "      <td>100</td>\n",
       "      <td>500</td>\n",
       "      <td>40000.0</td>\n",
       "      <td>80.00</td>\n",
       "      <td>0.80</td>\n",
       "      <td>ABBVIE GmbH &amp; Co.KG Wiesbaden</td>\n",
       "      <td>True</td>\n",
       "      <td>171</td>\n",
       "      <td>1653.78</td>\n",
       "      <td>NaN</td>\n",
       "    </tr>\n",
       "    <tr>\n",
       "      <th>3</th>\n",
       "      <td>15</td>\n",
       "      <td>108-VN-T01</td>\n",
       "      <td>Pre-PQ Process</td>\n",
       "      <td>SCMS-78</td>\n",
       "      <td>ASN-50</td>\n",
       "      <td>Vietnam</td>\n",
       "      <td>PMO - US</td>\n",
       "      <td>Direct Drop</td>\n",
       "      <td>EXW</td>\n",
       "      <td>Air</td>\n",
       "      <td>...</td>\n",
       "      <td>60</td>\n",
       "      <td>31920</td>\n",
       "      <td>127360.8</td>\n",
       "      <td>3.99</td>\n",
       "      <td>0.07</td>\n",
       "      <td>Ranbaxy, Paonta Shahib, India</td>\n",
       "      <td>True</td>\n",
       "      <td>1855</td>\n",
       "      <td>16007.06</td>\n",
       "      <td>NaN</td>\n",
       "    </tr>\n",
       "    <tr>\n",
       "      <th>4</th>\n",
       "      <td>16</td>\n",
       "      <td>108-VN-T01</td>\n",
       "      <td>Pre-PQ Process</td>\n",
       "      <td>SCMS-81</td>\n",
       "      <td>ASN-55</td>\n",
       "      <td>Vietnam</td>\n",
       "      <td>PMO - US</td>\n",
       "      <td>Direct Drop</td>\n",
       "      <td>EXW</td>\n",
       "      <td>Air</td>\n",
       "      <td>...</td>\n",
       "      <td>60</td>\n",
       "      <td>38000</td>\n",
       "      <td>121600.0</td>\n",
       "      <td>3.20</td>\n",
       "      <td>0.05</td>\n",
       "      <td>Aurobindo Unit III, India</td>\n",
       "      <td>True</td>\n",
       "      <td>7590</td>\n",
       "      <td>45450.08</td>\n",
       "      <td>NaN</td>\n",
       "    </tr>\n",
       "  </tbody>\n",
       "</table>\n",
       "<p>5 rows × 33 columns</p>\n",
       "</div>"
      ],
      "text/plain": [
       "   id project code            pq # po / so # asn/dn #        country  \\\n",
       "0   1   100-CI-T01  Pre-PQ Process    SCMS-4    ASN-8  Côte d'Ivoire   \n",
       "1   3   108-VN-T01  Pre-PQ Process   SCMS-13   ASN-85        Vietnam   \n",
       "2   4   100-CI-T01  Pre-PQ Process   SCMS-20   ASN-14  Côte d'Ivoire   \n",
       "3  15   108-VN-T01  Pre-PQ Process   SCMS-78   ASN-50        Vietnam   \n",
       "4  16   108-VN-T01  Pre-PQ Process   SCMS-81   ASN-55        Vietnam   \n",
       "\n",
       "  managed by  fulfill via vendor inco term shipment mode  ...  \\\n",
       "0   PMO - US  Direct Drop              EXW           Air  ...   \n",
       "1   PMO - US  Direct Drop              EXW           Air  ...   \n",
       "2   PMO - US  Direct Drop              FCA           Air  ...   \n",
       "3   PMO - US  Direct Drop              EXW           Air  ...   \n",
       "4   PMO - US  Direct Drop              EXW           Air  ...   \n",
       "\n",
       "  unit of measure (per pack) line item quantity line item value pack price  \\\n",
       "0                         30                 19           551.0      29.00   \n",
       "1                        240               1000          6200.0       6.20   \n",
       "2                        100                500         40000.0      80.00   \n",
       "3                         60              31920        127360.8       3.99   \n",
       "4                         60              38000        121600.0       3.20   \n",
       "\n",
       "  unit price             manufacturing site first line designation  \\\n",
       "0       0.97     Ranbaxy Fine Chemicals LTD                   True   \n",
       "1       0.03      Aurobindo Unit III, India                   True   \n",
       "2       0.80  ABBVIE GmbH & Co.KG Wiesbaden                   True   \n",
       "3       0.07  Ranbaxy, Paonta Shahib, India                   True   \n",
       "4       0.05      Aurobindo Unit III, India                   True   \n",
       "\n",
       "  weight (kilograms) freight cost (usd) line item insurance (usd)  \n",
       "0                 13             780.34                       NaN  \n",
       "1                358             4521.5                       NaN  \n",
       "2                171            1653.78                       NaN  \n",
       "3               1855           16007.06                       NaN  \n",
       "4               7590           45450.08                       NaN  \n",
       "\n",
       "[5 rows x 33 columns]"
      ]
     },
     "execution_count": 3,
     "metadata": {},
     "output_type": "execute_result"
    }
   ],
   "source": [
    "df.head()"
   ]
  },
  {
   "cell_type": "code",
   "execution_count": 4,
   "metadata": {},
   "outputs": [
    {
     "name": "stdout",
     "output_type": "stream",
     "text": [
      "<class 'pandas.core.frame.DataFrame'>\n",
      "RangeIndex: 10324 entries, 0 to 10323\n",
      "Data columns (total 33 columns):\n",
      " #   Column                        Non-Null Count  Dtype  \n",
      "---  ------                        --------------  -----  \n",
      " 0   id                            10324 non-null  int64  \n",
      " 1   project code                  10324 non-null  object \n",
      " 2   pq #                          10324 non-null  object \n",
      " 3   po / so #                     10324 non-null  object \n",
      " 4   asn/dn #                      10324 non-null  object \n",
      " 5   country                       10324 non-null  object \n",
      " 6   managed by                    10324 non-null  object \n",
      " 7   fulfill via                   10324 non-null  object \n",
      " 8   vendor inco term              10324 non-null  object \n",
      " 9   shipment mode                 9964 non-null   object \n",
      " 10  pq first sent to client date  10324 non-null  object \n",
      " 11  po sent to vendor date        10324 non-null  object \n",
      " 12  scheduled delivery date       10324 non-null  object \n",
      " 13  delivered to client date      10324 non-null  object \n",
      " 14  delivery recorded date        10324 non-null  object \n",
      " 15  product group                 10324 non-null  object \n",
      " 16  sub classification            10324 non-null  object \n",
      " 17  vendor                        10324 non-null  object \n",
      " 18  item description              10324 non-null  object \n",
      " 19  molecule/test type            10324 non-null  object \n",
      " 20  brand                         10324 non-null  object \n",
      " 21  dosage                        8588 non-null   object \n",
      " 22  dosage form                   10324 non-null  object \n",
      " 23  unit of measure (per pack)    10324 non-null  int64  \n",
      " 24  line item quantity            10324 non-null  int64  \n",
      " 25  line item value               10324 non-null  float64\n",
      " 26  pack price                    10324 non-null  float64\n",
      " 27  unit price                    10324 non-null  float64\n",
      " 28  manufacturing site            10324 non-null  object \n",
      " 29  first line designation        10324 non-null  bool   \n",
      " 30  weight (kilograms)            10324 non-null  object \n",
      " 31  freight cost (usd)            10324 non-null  object \n",
      " 32  line item insurance (usd)     10037 non-null  float64\n",
      "dtypes: bool(1), float64(4), int64(3), object(25)\n",
      "memory usage: 2.5+ MB\n"
     ]
    }
   ],
   "source": [
    "df.info()"
   ]
  },
  {
   "cell_type": "code",
   "execution_count": 5,
   "metadata": {},
   "outputs": [
    {
     "data": {
      "text/plain": [
       "South Africa          1406\n",
       "Nigeria               1194\n",
       "Côte d'Ivoire         1083\n",
       "Uganda                 779\n",
       "Vietnam                688\n",
       "Zambia                 683\n",
       "Haiti                  655\n",
       "Mozambique             631\n",
       "Zimbabwe               538\n",
       "Tanzania               519\n",
       "Rwanda                 430\n",
       "Congo, DRC             333\n",
       "Guyana                 237\n",
       "Ethiopia               216\n",
       "South Sudan            164\n",
       "Kenya                  111\n",
       "Burundi                 98\n",
       "Namibia                 95\n",
       "Cameroon                75\n",
       "Botswana                70\n",
       "Ghana                   58\n",
       "Dominican Republic      52\n",
       "Sudan                   46\n",
       "Swaziland               35\n",
       "Mali                    17\n",
       "Pakistan                15\n",
       "Guatemala               15\n",
       "Malawi                  14\n",
       "Benin                   13\n",
       "Libya                    8\n",
       "Lebanon                  8\n",
       "Angola                   7\n",
       "Liberia                  6\n",
       "Sierra Leone             4\n",
       "Lesotho                  4\n",
       "Senegal                  3\n",
       "Togo                     3\n",
       "Afghanistan              3\n",
       "Burkina Faso             2\n",
       "Kyrgyzstan               2\n",
       "Kazakhstan               2\n",
       "Guinea                   1\n",
       "Belize                   1\n",
       "Name: country, dtype: int64"
      ]
     },
     "execution_count": 5,
     "metadata": {},
     "output_type": "execute_result"
    }
   ],
   "source": [
    "df['country'].value_counts()"
   ]
  },
  {
   "cell_type": "code",
   "execution_count": 6,
   "metadata": {},
   "outputs": [
    {
     "data": {
      "text/plain": [
       "Air            6113\n",
       "Truck          2830\n",
       "Air Charter     650\n",
       "Ocean           371\n",
       "Name: shipment mode, dtype: int64"
      ]
     },
     "execution_count": 6,
     "metadata": {},
     "output_type": "execute_result"
    }
   ],
   "source": [
    "df['shipment mode'].value_counts()"
   ]
  },
  {
   "cell_type": "markdown",
   "metadata": {},
   "source": [
    "# Data Cleaning"
   ]
  },
  {
   "cell_type": "markdown",
   "metadata": {},
   "source": [
    "### Dropping Columns"
   ]
  },
  {
   "cell_type": "code",
   "execution_count": 7,
   "metadata": {},
   "outputs": [],
   "source": [
    "df.drop(columns=[\n",
    "    'pq #',\n",
    "    'po / so #',\n",
    "    'asn/dn #', \n",
    "    'pq first sent to client date', \n",
    "    'po sent to vendor date', \n",
    "    'line item insurance (usd)', \n",
    "    'id',\n",
    "    'project code',\n",
    "    'managed by',\n",
    "    'fulfill via',\n",
    "    'vendor inco term',\n",
    "    'shipment mode',\n",
    "    'delivery recorded date',\n",
    "    'molecule/test type',\n",
    "    'brand',\n",
    "    'dosage',\n",
    "    'dosage form',\n",
    "    'unit of measure (per pack)',\n",
    "    'pack price',\n",
    "    'unit price',\n",
    "    'manufacturing site',\n",
    "    'first line designation',\n",
    "    'weight (kilograms)',\n",
    "    'freight cost (usd)'], inplace=True)"
   ]
  },
  {
   "cell_type": "markdown",
   "metadata": {},
   "source": [
    "## Dropping Rows"
   ]
  },
  {
   "cell_type": "markdown",
   "metadata": {},
   "source": [
    "Dropping countries with less than 100 instances"
   ]
  },
  {
   "cell_type": "code",
   "execution_count": 8,
   "metadata": {},
   "outputs": [],
   "source": [
    "df = df[df['country'].map(df['country'].value_counts()) >= 50]"
   ]
  },
  {
   "cell_type": "code",
   "execution_count": 9,
   "metadata": {},
   "outputs": [
    {
     "data": {
      "text/plain": [
       "South Africa          1406\n",
       "Nigeria               1194\n",
       "Côte d'Ivoire         1083\n",
       "Uganda                 779\n",
       "Vietnam                688\n",
       "Zambia                 683\n",
       "Haiti                  655\n",
       "Mozambique             631\n",
       "Zimbabwe               538\n",
       "Tanzania               519\n",
       "Rwanda                 430\n",
       "Congo, DRC             333\n",
       "Guyana                 237\n",
       "Ethiopia               216\n",
       "South Sudan            164\n",
       "Kenya                  111\n",
       "Burundi                 98\n",
       "Namibia                 95\n",
       "Cameroon                75\n",
       "Botswana                70\n",
       "Ghana                   58\n",
       "Dominican Republic      52\n",
       "Name: country, dtype: int64"
      ]
     },
     "execution_count": 9,
     "metadata": {},
     "output_type": "execute_result"
    }
   ],
   "source": [
    "df['country'].value_counts() #SANITY CHECK"
   ]
  },
  {
   "cell_type": "code",
   "execution_count": 10,
   "metadata": {},
   "outputs": [
    {
     "name": "stdout",
     "output_type": "stream",
     "text": [
      "<class 'pandas.core.frame.DataFrame'>\n",
      "Int64Index: 10115 entries, 0 to 10323\n",
      "Data columns (total 9 columns):\n",
      " #   Column                    Non-Null Count  Dtype  \n",
      "---  ------                    --------------  -----  \n",
      " 0   country                   10115 non-null  object \n",
      " 1   scheduled delivery date   10115 non-null  object \n",
      " 2   delivered to client date  10115 non-null  object \n",
      " 3   product group             10115 non-null  object \n",
      " 4   sub classification        10115 non-null  object \n",
      " 5   vendor                    10115 non-null  object \n",
      " 6   item description          10115 non-null  object \n",
      " 7   line item quantity        10115 non-null  int64  \n",
      " 8   line item value           10115 non-null  float64\n",
      "dtypes: float64(1), int64(1), object(7)\n",
      "memory usage: 790.2+ KB\n"
     ]
    }
   ],
   "source": [
    "df.info() #SANITY CHECK"
   ]
  },
  {
   "cell_type": "code",
   "execution_count": 11,
   "metadata": {},
   "outputs": [
    {
     "data": {
      "text/html": [
       "<div>\n",
       "<style scoped>\n",
       "    .dataframe tbody tr th:only-of-type {\n",
       "        vertical-align: middle;\n",
       "    }\n",
       "\n",
       "    .dataframe tbody tr th {\n",
       "        vertical-align: top;\n",
       "    }\n",
       "\n",
       "    .dataframe thead th {\n",
       "        text-align: right;\n",
       "    }\n",
       "</style>\n",
       "<table border=\"1\" class=\"dataframe\">\n",
       "  <thead>\n",
       "    <tr style=\"text-align: right;\">\n",
       "      <th></th>\n",
       "      <th>country</th>\n",
       "      <th>scheduled delivery date</th>\n",
       "      <th>delivered to client date</th>\n",
       "      <th>product group</th>\n",
       "      <th>sub classification</th>\n",
       "      <th>vendor</th>\n",
       "      <th>item description</th>\n",
       "      <th>line item quantity</th>\n",
       "      <th>line item value</th>\n",
       "    </tr>\n",
       "  </thead>\n",
       "  <tbody>\n",
       "    <tr>\n",
       "      <th>0</th>\n",
       "      <td>Côte d'Ivoire</td>\n",
       "      <td>2-Jun-06</td>\n",
       "      <td>2-Jun-06</td>\n",
       "      <td>HRDT</td>\n",
       "      <td>HIV test</td>\n",
       "      <td>RANBAXY Fine Chemicals LTD.</td>\n",
       "      <td>HIV, Reveal G3 Rapid HIV-1 Antibody Test, 30 T...</td>\n",
       "      <td>19</td>\n",
       "      <td>551.0</td>\n",
       "    </tr>\n",
       "    <tr>\n",
       "      <th>1</th>\n",
       "      <td>Vietnam</td>\n",
       "      <td>14-Nov-06</td>\n",
       "      <td>14-Nov-06</td>\n",
       "      <td>ARV</td>\n",
       "      <td>Pediatric</td>\n",
       "      <td>Aurobindo Pharma Limited</td>\n",
       "      <td>Nevirapine 10mg/ml, oral suspension, Bottle, 2...</td>\n",
       "      <td>1000</td>\n",
       "      <td>6200.0</td>\n",
       "    </tr>\n",
       "    <tr>\n",
       "      <th>2</th>\n",
       "      <td>Côte d'Ivoire</td>\n",
       "      <td>27-Aug-06</td>\n",
       "      <td>27-Aug-06</td>\n",
       "      <td>HRDT</td>\n",
       "      <td>HIV test</td>\n",
       "      <td>Abbott GmbH &amp; Co. KG</td>\n",
       "      <td>HIV 1/2, Determine Complete HIV Kit, 100 Tests</td>\n",
       "      <td>500</td>\n",
       "      <td>40000.0</td>\n",
       "    </tr>\n",
       "    <tr>\n",
       "      <th>3</th>\n",
       "      <td>Vietnam</td>\n",
       "      <td>1-Sep-06</td>\n",
       "      <td>1-Sep-06</td>\n",
       "      <td>ARV</td>\n",
       "      <td>Adult</td>\n",
       "      <td>SUN PHARMACEUTICAL INDUSTRIES LTD (RANBAXY LAB...</td>\n",
       "      <td>Lamivudine 150mg, tablets, 60 Tabs</td>\n",
       "      <td>31920</td>\n",
       "      <td>127360.8</td>\n",
       "    </tr>\n",
       "    <tr>\n",
       "      <th>4</th>\n",
       "      <td>Vietnam</td>\n",
       "      <td>11-Aug-06</td>\n",
       "      <td>11-Aug-06</td>\n",
       "      <td>ARV</td>\n",
       "      <td>Adult</td>\n",
       "      <td>Aurobindo Pharma Limited</td>\n",
       "      <td>Stavudine 30mg, capsules, 60 Caps</td>\n",
       "      <td>38000</td>\n",
       "      <td>121600.0</td>\n",
       "    </tr>\n",
       "  </tbody>\n",
       "</table>\n",
       "</div>"
      ],
      "text/plain": [
       "         country scheduled delivery date delivered to client date  \\\n",
       "0  Côte d'Ivoire                2-Jun-06                 2-Jun-06   \n",
       "1        Vietnam               14-Nov-06                14-Nov-06   \n",
       "2  Côte d'Ivoire               27-Aug-06                27-Aug-06   \n",
       "3        Vietnam                1-Sep-06                 1-Sep-06   \n",
       "4        Vietnam               11-Aug-06                11-Aug-06   \n",
       "\n",
       "  product group sub classification  \\\n",
       "0          HRDT           HIV test   \n",
       "1           ARV          Pediatric   \n",
       "2          HRDT           HIV test   \n",
       "3           ARV              Adult   \n",
       "4           ARV              Adult   \n",
       "\n",
       "                                              vendor  \\\n",
       "0                        RANBAXY Fine Chemicals LTD.   \n",
       "1                           Aurobindo Pharma Limited   \n",
       "2                               Abbott GmbH & Co. KG   \n",
       "3  SUN PHARMACEUTICAL INDUSTRIES LTD (RANBAXY LAB...   \n",
       "4                           Aurobindo Pharma Limited   \n",
       "\n",
       "                                    item description  line item quantity  \\\n",
       "0  HIV, Reveal G3 Rapid HIV-1 Antibody Test, 30 T...                  19   \n",
       "1  Nevirapine 10mg/ml, oral suspension, Bottle, 2...                1000   \n",
       "2     HIV 1/2, Determine Complete HIV Kit, 100 Tests                 500   \n",
       "3                 Lamivudine 150mg, tablets, 60 Tabs               31920   \n",
       "4                  Stavudine 30mg, capsules, 60 Caps               38000   \n",
       "\n",
       "   line item value  \n",
       "0            551.0  \n",
       "1           6200.0  \n",
       "2          40000.0  \n",
       "3         127360.8  \n",
       "4         121600.0  "
      ]
     },
     "execution_count": 11,
     "metadata": {},
     "output_type": "execute_result"
    }
   ],
   "source": [
    "df.head()"
   ]
  },
  {
   "cell_type": "code",
   "execution_count": 12,
   "metadata": {},
   "outputs": [
    {
     "data": {
      "text/plain": [
       "SCMS from RDC                                      5334\n",
       "S. BUYS WHOLESALER                                  715\n",
       "Orgenics, Ltd                                       691\n",
       "Aurobindo Pharma Limited                            665\n",
       "ABBVIE LOGISTICS (FORMERLY ABBOTT LOGISTICS BV)     345\n",
       "                                                   ... \n",
       "CENTRAL PHARMACEUTICAL COMPANY NO. 1                  1\n",
       "SETEMA LIMITED PLC                                    1\n",
       "AHN (PTY) LTD (AKA UCB (S.A.)                         1\n",
       "RAININ INSTRUMENT, LLC.                               1\n",
       "BIO-RAD LABORATORIES PTY LTD. (SOUTH AFRICA)          1\n",
       "Name: vendor, Length: 71, dtype: int64"
      ]
     },
     "execution_count": 12,
     "metadata": {},
     "output_type": "execute_result"
    }
   ],
   "source": [
    "df['vendor'].value_counts()"
   ]
  },
  {
   "cell_type": "code",
   "execution_count": 13,
   "metadata": {},
   "outputs": [],
   "source": [
    "#Dropping vendors with less than 50 instances\n",
    "df = df[df['vendor'].map(df['vendor'].value_counts()) >= 50]"
   ]
  },
  {
   "cell_type": "code",
   "execution_count": 14,
   "metadata": {
    "scrolled": false
   },
   "outputs": [
    {
     "data": {
      "text/html": [
       "<div>\n",
       "<style scoped>\n",
       "    .dataframe tbody tr th:only-of-type {\n",
       "        vertical-align: middle;\n",
       "    }\n",
       "\n",
       "    .dataframe tbody tr th {\n",
       "        vertical-align: top;\n",
       "    }\n",
       "\n",
       "    .dataframe thead th {\n",
       "        text-align: right;\n",
       "    }\n",
       "</style>\n",
       "<table border=\"1\" class=\"dataframe\">\n",
       "  <thead>\n",
       "    <tr style=\"text-align: right;\">\n",
       "      <th></th>\n",
       "      <th>country</th>\n",
       "      <th>scheduled delivery date</th>\n",
       "      <th>delivered to client date</th>\n",
       "      <th>product group</th>\n",
       "      <th>sub classification</th>\n",
       "      <th>vendor</th>\n",
       "      <th>item description</th>\n",
       "      <th>line item quantity</th>\n",
       "      <th>line item value</th>\n",
       "      <th>unscheduled_delivery</th>\n",
       "    </tr>\n",
       "  </thead>\n",
       "  <tbody>\n",
       "    <tr>\n",
       "      <th>25</th>\n",
       "      <td>Haiti</td>\n",
       "      <td>13-Aug-07</td>\n",
       "      <td>21-Aug-07</td>\n",
       "      <td>HRDT</td>\n",
       "      <td>HIV test</td>\n",
       "      <td>Orgenics, Ltd</td>\n",
       "      <td>HIV 1/2, Determine HIV Kit, without Lancets, 1...</td>\n",
       "      <td>750</td>\n",
       "      <td>53992.50</td>\n",
       "      <td>True</td>\n",
       "    </tr>\n",
       "    <tr>\n",
       "      <th>41</th>\n",
       "      <td>Guyana</td>\n",
       "      <td>9-Apr-08</td>\n",
       "      <td>1-Apr-08</td>\n",
       "      <td>HRDT</td>\n",
       "      <td>HIV test - Ancillary</td>\n",
       "      <td>Orgenics, Ltd</td>\n",
       "      <td>HIV, Lancet, Safety, for HIV Test kits, 100 Pcs</td>\n",
       "      <td>240</td>\n",
       "      <td>2.40</td>\n",
       "      <td>True</td>\n",
       "    </tr>\n",
       "    <tr>\n",
       "      <th>51</th>\n",
       "      <td>South Africa</td>\n",
       "      <td>25-Apr-08</td>\n",
       "      <td>7-Apr-08</td>\n",
       "      <td>ARV</td>\n",
       "      <td>Pediatric</td>\n",
       "      <td>S. BUYS WHOLESALER</td>\n",
       "      <td>Didanosine 25mg [Videx], chewable tablets, 60 ...</td>\n",
       "      <td>6</td>\n",
       "      <td>77.10</td>\n",
       "      <td>True</td>\n",
       "    </tr>\n",
       "    <tr>\n",
       "      <th>53</th>\n",
       "      <td>Nigeria</td>\n",
       "      <td>9-Jul-08</td>\n",
       "      <td>4-Jul-08</td>\n",
       "      <td>HRDT</td>\n",
       "      <td>HIV test - Ancillary</td>\n",
       "      <td>Orgenics, Ltd</td>\n",
       "      <td>HIV, Lancet, Safety, for HIV Test kits, 100 Pcs</td>\n",
       "      <td>5498</td>\n",
       "      <td>54.98</td>\n",
       "      <td>True</td>\n",
       "    </tr>\n",
       "    <tr>\n",
       "      <th>57</th>\n",
       "      <td>South Africa</td>\n",
       "      <td>20-Aug-08</td>\n",
       "      <td>8-May-08</td>\n",
       "      <td>ARV</td>\n",
       "      <td>Adult</td>\n",
       "      <td>S. BUYS WHOLESALER</td>\n",
       "      <td>Didanosine EC 250mg [Videx EC], delayed-releas...</td>\n",
       "      <td>100</td>\n",
       "      <td>1906.00</td>\n",
       "      <td>True</td>\n",
       "    </tr>\n",
       "    <tr>\n",
       "      <th>...</th>\n",
       "      <td>...</td>\n",
       "      <td>...</td>\n",
       "      <td>...</td>\n",
       "      <td>...</td>\n",
       "      <td>...</td>\n",
       "      <td>...</td>\n",
       "      <td>...</td>\n",
       "      <td>...</td>\n",
       "      <td>...</td>\n",
       "      <td>...</td>\n",
       "    </tr>\n",
       "    <tr>\n",
       "      <th>10319</th>\n",
       "      <td>Zimbabwe</td>\n",
       "      <td>31-Jul-15</td>\n",
       "      <td>15-Jul-15</td>\n",
       "      <td>ARV</td>\n",
       "      <td>Pediatric</td>\n",
       "      <td>SCMS from RDC</td>\n",
       "      <td>Lamivudine/Nevirapine/Zidovudine 30/50/60mg, d...</td>\n",
       "      <td>166571</td>\n",
       "      <td>599655.60</td>\n",
       "      <td>True</td>\n",
       "    </tr>\n",
       "    <tr>\n",
       "      <th>10320</th>\n",
       "      <td>Côte d'Ivoire</td>\n",
       "      <td>31-Jul-15</td>\n",
       "      <td>6-Aug-15</td>\n",
       "      <td>ARV</td>\n",
       "      <td>Adult</td>\n",
       "      <td>SCMS from RDC</td>\n",
       "      <td>Lamivudine/Zidovudine 150/300mg, tablets, 60 Tabs</td>\n",
       "      <td>21072</td>\n",
       "      <td>137389.44</td>\n",
       "      <td>True</td>\n",
       "    </tr>\n",
       "    <tr>\n",
       "      <th>10321</th>\n",
       "      <td>Zambia</td>\n",
       "      <td>31-Aug-15</td>\n",
       "      <td>25-Aug-15</td>\n",
       "      <td>ARV</td>\n",
       "      <td>Adult</td>\n",
       "      <td>SCMS from RDC</td>\n",
       "      <td>Efavirenz/Lamivudine/Tenofovir Disoproxil Fuma...</td>\n",
       "      <td>514526</td>\n",
       "      <td>5140114.74</td>\n",
       "      <td>True</td>\n",
       "    </tr>\n",
       "    <tr>\n",
       "      <th>10322</th>\n",
       "      <td>Zimbabwe</td>\n",
       "      <td>9-Sep-15</td>\n",
       "      <td>4-Aug-15</td>\n",
       "      <td>ARV</td>\n",
       "      <td>Adult</td>\n",
       "      <td>SCMS from RDC</td>\n",
       "      <td>Lamivudine/Zidovudine 150/300mg, tablets, 60 Tabs</td>\n",
       "      <td>17465</td>\n",
       "      <td>113871.80</td>\n",
       "      <td>True</td>\n",
       "    </tr>\n",
       "    <tr>\n",
       "      <th>10323</th>\n",
       "      <td>Zimbabwe</td>\n",
       "      <td>31-Aug-15</td>\n",
       "      <td>4-Aug-15</td>\n",
       "      <td>ARV</td>\n",
       "      <td>Pediatric</td>\n",
       "      <td>SCMS from RDC</td>\n",
       "      <td>Lamivudine/Zidovudine 30/60mg, dispersible tab...</td>\n",
       "      <td>36639</td>\n",
       "      <td>72911.61</td>\n",
       "      <td>True</td>\n",
       "    </tr>\n",
       "  </tbody>\n",
       "</table>\n",
       "<p>3922 rows × 10 columns</p>\n",
       "</div>"
      ],
      "text/plain": [
       "             country scheduled delivery date delivered to client date  \\\n",
       "25             Haiti               13-Aug-07                21-Aug-07   \n",
       "41            Guyana                9-Apr-08                 1-Apr-08   \n",
       "51      South Africa               25-Apr-08                 7-Apr-08   \n",
       "53           Nigeria                9-Jul-08                 4-Jul-08   \n",
       "57      South Africa               20-Aug-08                 8-May-08   \n",
       "...              ...                     ...                      ...   \n",
       "10319       Zimbabwe               31-Jul-15                15-Jul-15   \n",
       "10320  Côte d'Ivoire               31-Jul-15                 6-Aug-15   \n",
       "10321         Zambia               31-Aug-15                25-Aug-15   \n",
       "10322       Zimbabwe                9-Sep-15                 4-Aug-15   \n",
       "10323       Zimbabwe               31-Aug-15                 4-Aug-15   \n",
       "\n",
       "      product group    sub classification              vendor  \\\n",
       "25             HRDT              HIV test       Orgenics, Ltd   \n",
       "41             HRDT  HIV test - Ancillary       Orgenics, Ltd   \n",
       "51              ARV             Pediatric  S. BUYS WHOLESALER   \n",
       "53             HRDT  HIV test - Ancillary       Orgenics, Ltd   \n",
       "57              ARV                 Adult  S. BUYS WHOLESALER   \n",
       "...             ...                   ...                 ...   \n",
       "10319           ARV             Pediatric       SCMS from RDC   \n",
       "10320           ARV                 Adult       SCMS from RDC   \n",
       "10321           ARV                 Adult       SCMS from RDC   \n",
       "10322           ARV                 Adult       SCMS from RDC   \n",
       "10323           ARV             Pediatric       SCMS from RDC   \n",
       "\n",
       "                                        item description  line item quantity  \\\n",
       "25     HIV 1/2, Determine HIV Kit, without Lancets, 1...                 750   \n",
       "41       HIV, Lancet, Safety, for HIV Test kits, 100 Pcs                 240   \n",
       "51     Didanosine 25mg [Videx], chewable tablets, 60 ...                   6   \n",
       "53       HIV, Lancet, Safety, for HIV Test kits, 100 Pcs                5498   \n",
       "57     Didanosine EC 250mg [Videx EC], delayed-releas...                 100   \n",
       "...                                                  ...                 ...   \n",
       "10319  Lamivudine/Nevirapine/Zidovudine 30/50/60mg, d...              166571   \n",
       "10320  Lamivudine/Zidovudine 150/300mg, tablets, 60 Tabs               21072   \n",
       "10321  Efavirenz/Lamivudine/Tenofovir Disoproxil Fuma...              514526   \n",
       "10322  Lamivudine/Zidovudine 150/300mg, tablets, 60 Tabs               17465   \n",
       "10323  Lamivudine/Zidovudine 30/60mg, dispersible tab...               36639   \n",
       "\n",
       "       line item value  unscheduled_delivery  \n",
       "25            53992.50                  True  \n",
       "41                2.40                  True  \n",
       "51               77.10                  True  \n",
       "53               54.98                  True  \n",
       "57             1906.00                  True  \n",
       "...                ...                   ...  \n",
       "10319        599655.60                  True  \n",
       "10320        137389.44                  True  \n",
       "10321       5140114.74                  True  \n",
       "10322        113871.80                  True  \n",
       "10323         72911.61                  True  \n",
       "\n",
       "[3922 rows x 10 columns]"
      ]
     },
     "execution_count": 14,
     "metadata": {},
     "output_type": "execute_result"
    }
   ],
   "source": [
    "#Checking the rows where the two date columns don't match\n",
    "df['unscheduled_delivery'] = df.apply(lambda row: row['scheduled delivery date'] != row['delivered to client date'], axis=1)\n",
    "df[df['unscheduled_delivery'] == True]"
   ]
  },
  {
   "cell_type": "code",
   "execution_count": 15,
   "metadata": {},
   "outputs": [
    {
     "data": {
      "text/plain": [
       "SCMS from RDC                                                        3298\n",
       "S. BUYS WHOLESALER                                                    251\n",
       "Orgenics, Ltd                                                         161\n",
       "Aurobindo Pharma Limited                                              116\n",
       "CIPLA LIMITED                                                          29\n",
       "CHEMBIO DIAGNOSTIC SYSTEMS, INC.                                       13\n",
       "HETERO LABS LIMITED                                                    11\n",
       "Standard Diagnostics, Inc.                                             10\n",
       "SHANGHAI KEHUA BIOENGINEERING CO.,LTD.  (KHB)                          10\n",
       "MYLAN LABORATORIES LTD (FORMERLY MATRIX LABORATORIES)                   7\n",
       "ABBVIE LOGISTICS (FORMERLY ABBOTT LOGISTICS BV)                         6\n",
       "STRIDES ARCOLAB LIMITED                                                 5\n",
       "Trinity Biotech, Plc                                                    3\n",
       "MERCK SHARP & DOHME IDEA GMBH (FORMALLY MERCK SHARP & DOHME B.V.)       2\n",
       "Name: vendor, dtype: int64"
      ]
     },
     "execution_count": 15,
     "metadata": {},
     "output_type": "execute_result"
    }
   ],
   "source": [
    "#Flagging vendors with the most delayed deliveries \n",
    "df[df['unscheduled_delivery'] == True]['vendor'].value_counts()"
   ]
  },
  {
   "cell_type": "markdown",
   "metadata": {},
   "source": [
    "# TimeSeries"
   ]
  },
  {
   "cell_type": "code",
   "execution_count": 16,
   "metadata": {},
   "outputs": [],
   "source": [
    "df['delivered to client date'] = df['delivered to client date'].astype(str)"
   ]
  },
  {
   "cell_type": "code",
   "execution_count": 17,
   "metadata": {},
   "outputs": [],
   "source": [
    "df['delivered to client date'] = pd.to_datetime(df['delivered to client date'], infer_datetime_format=True)\n",
    "df.set_index('delivered to client date', inplace=True)"
   ]
  },
  {
   "cell_type": "code",
   "execution_count": 18,
   "metadata": {
    "scrolled": false
   },
   "outputs": [
    {
     "data": {
      "text/html": [
       "<div>\n",
       "<style scoped>\n",
       "    .dataframe tbody tr th:only-of-type {\n",
       "        vertical-align: middle;\n",
       "    }\n",
       "\n",
       "    .dataframe tbody tr th {\n",
       "        vertical-align: top;\n",
       "    }\n",
       "\n",
       "    .dataframe thead th {\n",
       "        text-align: right;\n",
       "    }\n",
       "</style>\n",
       "<table border=\"1\" class=\"dataframe\">\n",
       "  <thead>\n",
       "    <tr style=\"text-align: right;\">\n",
       "      <th></th>\n",
       "      <th>country</th>\n",
       "      <th>scheduled delivery date</th>\n",
       "      <th>product group</th>\n",
       "      <th>sub classification</th>\n",
       "      <th>vendor</th>\n",
       "      <th>item description</th>\n",
       "      <th>line item quantity</th>\n",
       "      <th>line item value</th>\n",
       "      <th>unscheduled_delivery</th>\n",
       "    </tr>\n",
       "    <tr>\n",
       "      <th>delivered to client date</th>\n",
       "      <th></th>\n",
       "      <th></th>\n",
       "      <th></th>\n",
       "      <th></th>\n",
       "      <th></th>\n",
       "      <th></th>\n",
       "      <th></th>\n",
       "      <th></th>\n",
       "      <th></th>\n",
       "    </tr>\n",
       "  </thead>\n",
       "  <tbody>\n",
       "    <tr>\n",
       "      <th>2006-11-14</th>\n",
       "      <td>Vietnam</td>\n",
       "      <td>14-Nov-06</td>\n",
       "      <td>ARV</td>\n",
       "      <td>Pediatric</td>\n",
       "      <td>Aurobindo Pharma Limited</td>\n",
       "      <td>Nevirapine 10mg/ml, oral suspension, Bottle, 2...</td>\n",
       "      <td>1000</td>\n",
       "      <td>6200.00</td>\n",
       "      <td>False</td>\n",
       "    </tr>\n",
       "    <tr>\n",
       "      <th>2006-08-11</th>\n",
       "      <td>Vietnam</td>\n",
       "      <td>11-Aug-06</td>\n",
       "      <td>ARV</td>\n",
       "      <td>Adult</td>\n",
       "      <td>Aurobindo Pharma Limited</td>\n",
       "      <td>Stavudine 30mg, capsules, 60 Caps</td>\n",
       "      <td>38000</td>\n",
       "      <td>121600.00</td>\n",
       "      <td>False</td>\n",
       "    </tr>\n",
       "    <tr>\n",
       "      <th>2006-09-28</th>\n",
       "      <td>Nigeria</td>\n",
       "      <td>28-Sep-06</td>\n",
       "      <td>ARV</td>\n",
       "      <td>Pediatric</td>\n",
       "      <td>Aurobindo Pharma Limited</td>\n",
       "      <td>Zidovudine 10mg/ml, oral solution, Bottle, 240 ml</td>\n",
       "      <td>416</td>\n",
       "      <td>2225.60</td>\n",
       "      <td>False</td>\n",
       "    </tr>\n",
       "    <tr>\n",
       "      <th>2007-01-08</th>\n",
       "      <td>Zambia</td>\n",
       "      <td>8-Jan-07</td>\n",
       "      <td>ARV</td>\n",
       "      <td>Pediatric</td>\n",
       "      <td>MERCK SHARP &amp; DOHME IDEA GMBH (FORMALLY MERCK ...</td>\n",
       "      <td>Efavirenz 200mg [Stocrin/Sustiva], capsule, 90...</td>\n",
       "      <td>135</td>\n",
       "      <td>4374.00</td>\n",
       "      <td>False</td>\n",
       "    </tr>\n",
       "    <tr>\n",
       "      <th>2006-11-24</th>\n",
       "      <td>Tanzania</td>\n",
       "      <td>24-Nov-06</td>\n",
       "      <td>ARV</td>\n",
       "      <td>Adult</td>\n",
       "      <td>Aurobindo Pharma Limited</td>\n",
       "      <td>Nevirapine 200mg, tablets, 60 Tabs</td>\n",
       "      <td>16667</td>\n",
       "      <td>60834.55</td>\n",
       "      <td>False</td>\n",
       "    </tr>\n",
       "  </tbody>\n",
       "</table>\n",
       "</div>"
      ],
      "text/plain": [
       "                           country scheduled delivery date product group  \\\n",
       "delivered to client date                                                   \n",
       "2006-11-14                 Vietnam               14-Nov-06           ARV   \n",
       "2006-08-11                 Vietnam               11-Aug-06           ARV   \n",
       "2006-09-28                 Nigeria               28-Sep-06           ARV   \n",
       "2007-01-08                  Zambia                8-Jan-07           ARV   \n",
       "2006-11-24                Tanzania               24-Nov-06           ARV   \n",
       "\n",
       "                         sub classification  \\\n",
       "delivered to client date                      \n",
       "2006-11-14                        Pediatric   \n",
       "2006-08-11                            Adult   \n",
       "2006-09-28                        Pediatric   \n",
       "2007-01-08                        Pediatric   \n",
       "2006-11-24                            Adult   \n",
       "\n",
       "                                                                     vendor  \\\n",
       "delivered to client date                                                      \n",
       "2006-11-14                                         Aurobindo Pharma Limited   \n",
       "2006-08-11                                         Aurobindo Pharma Limited   \n",
       "2006-09-28                                         Aurobindo Pharma Limited   \n",
       "2007-01-08                MERCK SHARP & DOHME IDEA GMBH (FORMALLY MERCK ...   \n",
       "2006-11-24                                         Aurobindo Pharma Limited   \n",
       "\n",
       "                                                           item description  \\\n",
       "delivered to client date                                                      \n",
       "2006-11-14                Nevirapine 10mg/ml, oral suspension, Bottle, 2...   \n",
       "2006-08-11                                Stavudine 30mg, capsules, 60 Caps   \n",
       "2006-09-28                Zidovudine 10mg/ml, oral solution, Bottle, 240 ml   \n",
       "2007-01-08                Efavirenz 200mg [Stocrin/Sustiva], capsule, 90...   \n",
       "2006-11-24                               Nevirapine 200mg, tablets, 60 Tabs   \n",
       "\n",
       "                          line item quantity  line item value  \\\n",
       "delivered to client date                                        \n",
       "2006-11-14                              1000          6200.00   \n",
       "2006-08-11                             38000        121600.00   \n",
       "2006-09-28                               416          2225.60   \n",
       "2007-01-08                               135          4374.00   \n",
       "2006-11-24                             16667         60834.55   \n",
       "\n",
       "                          unscheduled_delivery  \n",
       "delivered to client date                        \n",
       "2006-11-14                               False  \n",
       "2006-08-11                               False  \n",
       "2006-09-28                               False  \n",
       "2007-01-08                               False  \n",
       "2006-11-24                               False  "
      ]
     },
     "execution_count": 18,
     "metadata": {},
     "output_type": "execute_result"
    }
   ],
   "source": [
    "df.head()#SANITY CHECK"
   ]
  },
  {
   "cell_type": "code",
   "execution_count": 19,
   "metadata": {},
   "outputs": [
    {
     "data": {
      "text/plain": [
       "country                    0\n",
       "scheduled delivery date    0\n",
       "product group              0\n",
       "sub classification         0\n",
       "vendor                     0\n",
       "item description           0\n",
       "line item quantity         0\n",
       "line item value            0\n",
       "unscheduled_delivery       0\n",
       "dtype: int64"
      ]
     },
     "execution_count": 19,
     "metadata": {},
     "output_type": "execute_result"
    }
   ],
   "source": [
    "df.isnull().sum()"
   ]
  },
  {
   "cell_type": "markdown",
   "metadata": {},
   "source": [
    "### Picking a column to use with date"
   ]
  },
  {
   "cell_type": "code",
   "execution_count": 20,
   "metadata": {},
   "outputs": [
    {
     "data": {
      "text/plain": [
       "Adult                   6348\n",
       "Pediatric               1861\n",
       "HIV test                1318\n",
       "HIV test - Ancillary     129\n",
       "Malaria                    1\n",
       "Name: sub classification, dtype: int64"
      ]
     },
     "execution_count": 20,
     "metadata": {},
     "output_type": "execute_result"
    }
   ],
   "source": [
    "df['sub classification'].value_counts()"
   ]
  },
  {
   "cell_type": "code",
   "execution_count": 21,
   "metadata": {},
   "outputs": [
    {
     "data": {
      "text/plain": [
       "Efavirenz 600mg, tablets, 30 Tabs                                                735\n",
       "Nevirapine 200mg, tablets, 60 Tabs                                               609\n",
       "Lamivudine/Zidovudine 150/300mg, tablets, 60 Tabs                                594\n",
       "Lamivudine/Nevirapine/Zidovudine 150/200/300mg, tablets, 60 Tabs                 573\n",
       "HIV 1/2, Determine Complete HIV Kit, 100 Tests                                   497\n",
       "                                                                                ... \n",
       "HIV, Pepti-LAV 1|2 (HIV-1|2 Ab differenciation, Immuno-Blot)                       1\n",
       "Lamivudine/Zidovudine+Abacavir 150/300+300mg, tablets, co-blister, 60+60 Tabs      1\n",
       "Malaria Antigen P.f , HRP2, Kit, 25 Tests                                          1\n",
       "Lamivudine 300mg, tablets, 30 Tabs                                                 1\n",
       "Nevirapine 50mg, dispersible tablets, 60 Tabs                                      1\n",
       "Name: item description, Length: 145, dtype: int64"
      ]
     },
     "execution_count": 21,
     "metadata": {},
     "output_type": "execute_result"
    }
   ],
   "source": [
    "df['item description'].value_counts()"
   ]
  },
  {
   "cell_type": "code",
   "execution_count": 22,
   "metadata": {},
   "outputs": [
    {
     "data": {
      "text/plain": [
       "ARV     8209\n",
       "HRDT    1447\n",
       "MRDT       1\n",
       "Name: product group, dtype: int64"
      ]
     },
     "execution_count": 22,
     "metadata": {},
     "output_type": "execute_result"
    }
   ],
   "source": [
    "df['product group'].value_counts()"
   ]
  },
  {
   "cell_type": "code",
   "execution_count": 23,
   "metadata": {},
   "outputs": [],
   "source": [
    "df['scheduled delivery date']= pd.to_datetime(df['scheduled delivery date'])"
   ]
  },
  {
   "cell_type": "code",
   "execution_count": 24,
   "metadata": {},
   "outputs": [
    {
     "data": {
      "text/plain": [
       "<AxesSubplot:xlabel='scheduled delivery date', ylabel='line item quantity'>"
      ]
     },
     "execution_count": 24,
     "metadata": {},
     "output_type": "execute_result"
    },
    {
     "data": {
      "image/png": "[encoded data removed]",
      "text/plain": [
       "<Figure size 432x288 with 1 Axes>"
      ]
     },
     "metadata": {
      "needs_background": "light"
     },
     "output_type": "display_data"
    }
   ],
   "source": [
    "sns.lineplot(x=\"scheduled delivery date\", y=\"line item quantity\", data=df)"
   ]
  },
  {
   "cell_type": "markdown",
   "metadata": {},
   "source": [
    "## Visualizations for 2015"
   ]
  },
  {
   "cell_type": "code",
   "execution_count": 25,
   "metadata": {},
   "outputs": [],
   "source": [
    "df_year = df[df[\"scheduled delivery date\"] >= \"2015-01-01\"]"
   ]
  },
  {
   "cell_type": "code",
   "execution_count": 26,
   "metadata": {},
   "outputs": [
    {
     "data": {
      "text/plain": [
       "<AxesSubplot:xlabel='scheduled delivery date', ylabel='line item quantity'>"
      ]
     },
     "execution_count": 26,
     "metadata": {},
     "output_type": "execute_result"
    },
    {
     "data": {
      "image/png": "[encoded data removed]",
      "text/plain": [
       "<Figure size 432x288 with 1 Axes>"
      ]
     },
     "metadata": {
      "needs_background": "light"
     },
     "output_type": "display_data"
    }
   ],
   "source": [
    "sns.lineplot(x=\"scheduled delivery date\", y=\"line item quantity\", data=df_year)"
   ]
  },
  {
   "cell_type": "markdown",
   "metadata": {},
   "source": [
    "Above graph goes down nearing 2016 and that's where the supplying ends. It might be necessary to drop the second half of 2015 out of the model to avoid skewing the model. "
   ]
  },
  {
   "cell_type": "code",
   "execution_count": 27,
   "metadata": {},
   "outputs": [
    {
     "data": {
      "text/plain": [
       "<AxesSubplot:xlabel='sub classification', ylabel='line item quantity'>"
      ]
     },
     "execution_count": 27,
     "metadata": {},
     "output_type": "execute_result"
    },
    {
     "data": {
      "image/png": "[encoded data removed]",
      "text/plain": [
       "<Figure size 432x288 with 1 Axes>"
      ]
     },
     "metadata": {
      "needs_background": "light"
     },
     "output_type": "display_data"
    }
   ],
   "source": [
    "sns.scatterplot(data=df_year, x=\"sub classification\", y=\"line item quantity\")"
   ]
  },
  {
   "cell_type": "markdown",
   "metadata": {},
   "source": [
    "## NEW TimeSeries Dataframe"
   ]
  },
  {
   "cell_type": "code",
   "execution_count": 28,
   "metadata": {},
   "outputs": [],
   "source": [
    "# create time series data\n",
    "ts_df = df.pivot_table(index='delivered to client date', columns='product group', values='line item quantity')\n",
    "\n",
    "\n",
    "# convert to datetime\n",
    "ts_df.index = pd.to_datetime(ts_df.index, format=\"%d-%m-%Y\")\n",
    "ts_df.index.name = \"delivery date\"\n",
    "ts_df.index = ts_df.index.strftime(\"%m-%Y\")\n",
    "\n",
    "# remove timezone information--fixig plot error\n",
    "ts_df.index = pd.to_datetime(ts_df.index).tz_localize(None)\n",
    "\n",
    "\n",
    "ts_df = ts_df.resample(\"M\").last()\n",
    "\n",
    "\n",
    "# handling missing values\n",
    "ts_df=ts_df.fillna(0)\n"
   ]
  },
  {
   "cell_type": "code",
   "execution_count": 29,
   "metadata": {
    "scrolled": true
   },
   "outputs": [
    {
     "data": {
      "image/png": "[encoded data removed]",
      "text/plain": [
       "<Figure size 432x288 with 1 Axes>"
      ]
     },
     "metadata": {
      "needs_background": "light"
     },
     "output_type": "display_data"
    }
   ],
   "source": [
    "plt.plot(ts_df.index, ts_df['ARV'])\n",
    "\n",
    "# titles and labels\n",
    "plt.title('ARV Delivery Over Time')\n",
    "plt.xlabel('Date')\n",
    "plt.ylabel('Number of Deliveries')\n",
    "\n",
    "\n",
    "plt.show()"
   ]
  },
  {
   "cell_type": "code",
   "execution_count": 30,
   "metadata": {},
   "outputs": [
    {
     "data": {
      "image/png": "[encoded data removed]",
      "text/plain": [
       "<Figure size 432x288 with 1 Axes>"
      ]
     },
     "metadata": {
      "needs_background": "light"
     },
     "output_type": "display_data"
    }
   ],
   "source": [
    "plt.plot(ts_df.index, ts_df['HRDT'])\n",
    "\n",
    "# titles and labels\n",
    "plt.title('HRDT Delivery Over Time')\n",
    "plt.xlabel('Date')\n",
    "plt.ylabel('Number of Deliveries')\n",
    "\n",
    "\n",
    "plt.show()"
   ]
  },
  {
   "cell_type": "code",
   "execution_count": 31,
   "metadata": {
    "scrolled": false
   },
   "outputs": [
    {
     "data": {
      "image/png": "[encoded data removed]",
      "text/plain": [
       "<Figure size 432x288 with 1 Axes>"
      ]
     },
     "metadata": {
      "needs_background": "light"
     },
     "output_type": "display_data"
    }
   ],
   "source": [
    "# the data\n",
    "plt.plot(ts_df.index, ts_df['ARV'], label='ARV')\n",
    "plt.plot(ts_df.index, ts_df['HRDT'], label='HRDT')\n",
    "\n",
    "# titles and labels\n",
    "plt.title('Deliveries Over Time')\n",
    "plt.xlabel('Date')\n",
    "plt.ylabel('Number of Deliveries')\n",
    "\n",
    "plt.legend()\n",
    "plt.show()"
   ]
  },
  {
   "cell_type": "code",
   "execution_count": 32,
   "metadata": {},
   "outputs": [
    {
     "data": {
      "text/html": [
       "<div>\n",
       "<style scoped>\n",
       "    .dataframe tbody tr th:only-of-type {\n",
       "        vertical-align: middle;\n",
       "    }\n",
       "\n",
       "    .dataframe tbody tr th {\n",
       "        vertical-align: top;\n",
       "    }\n",
       "\n",
       "    .dataframe thead th {\n",
       "        text-align: right;\n",
       "    }\n",
       "</style>\n",
       "<table border=\"1\" class=\"dataframe\">\n",
       "  <thead>\n",
       "    <tr style=\"text-align: right;\">\n",
       "      <th>product group</th>\n",
       "      <th>ARV</th>\n",
       "      <th>HRDT</th>\n",
       "      <th>MRDT</th>\n",
       "    </tr>\n",
       "    <tr>\n",
       "      <th>delivery date</th>\n",
       "      <th></th>\n",
       "      <th></th>\n",
       "      <th></th>\n",
       "    </tr>\n",
       "  </thead>\n",
       "  <tbody>\n",
       "    <tr>\n",
       "      <th>2006-05-31</th>\n",
       "      <td>0.0</td>\n",
       "      <td>31.0</td>\n",
       "      <td>0.0</td>\n",
       "    </tr>\n",
       "    <tr>\n",
       "      <th>2006-06-30</th>\n",
       "      <td>0.0</td>\n",
       "      <td>0.0</td>\n",
       "      <td>0.0</td>\n",
       "    </tr>\n",
       "    <tr>\n",
       "      <th>2006-07-31</th>\n",
       "      <td>0.0</td>\n",
       "      <td>50000.0</td>\n",
       "      <td>0.0</td>\n",
       "    </tr>\n",
       "    <tr>\n",
       "      <th>2006-08-31</th>\n",
       "      <td>31000.0</td>\n",
       "      <td>0.0</td>\n",
       "      <td>0.0</td>\n",
       "    </tr>\n",
       "    <tr>\n",
       "      <th>2006-09-30</th>\n",
       "      <td>433.5</td>\n",
       "      <td>0.0</td>\n",
       "      <td>0.0</td>\n",
       "    </tr>\n",
       "  </tbody>\n",
       "</table>\n",
       "</div>"
      ],
      "text/plain": [
       "product group      ARV     HRDT  MRDT\n",
       "delivery date                        \n",
       "2006-05-31         0.0     31.0   0.0\n",
       "2006-06-30         0.0      0.0   0.0\n",
       "2006-07-31         0.0  50000.0   0.0\n",
       "2006-08-31     31000.0      0.0   0.0\n",
       "2006-09-30       433.5      0.0   0.0"
      ]
     },
     "execution_count": 32,
     "metadata": {},
     "output_type": "execute_result"
    }
   ],
   "source": [
    "ts_df.head()"
   ]
  },
  {
   "cell_type": "markdown",
   "metadata": {},
   "source": [
    "# Stationarity Test"
   ]
  },
  {
   "cell_type": "code",
   "execution_count": 33,
   "metadata": {},
   "outputs": [
    {
     "name": "stdout",
     "output_type": "stream",
     "text": [
      "p-value: 1.4101439569394792e-16\n",
      "The data is stationary\n"
     ]
    }
   ],
   "source": [
    "dftest = adfuller(ts_df['ARV'])\n",
    "print('p-value:', dftest[1])\n",
    "alpha=0.05\n",
    "\n",
    "if dftest[1] < alpha:\n",
    "    print(\"The data is stationary\")\n",
    "else:\n",
    "    print(\"The data is non-stationary\")\n",
    " "
   ]
  },
  {
   "cell_type": "code",
   "execution_count": 34,
   "metadata": {},
   "outputs": [
    {
     "name": "stdout",
     "output_type": "stream",
     "text": [
      "p-value: 0.1997321559460396\n",
      "The data is non-stationary\n"
     ]
    }
   ],
   "source": [
    "dftest = adfuller(ts_df['HRDT'])\n",
    "print('p-value:', dftest[1])\n",
    "alpha=0.05\n",
    "\n",
    "if dftest[1] < alpha:\n",
    "    print(\"The data is stationary\")\n",
    "else:\n",
    "    print(\"The data is non-stationary\")\n"
   ]
  },
  {
   "cell_type": "markdown",
   "metadata": {},
   "source": [
    "# HRDT STATIONARY"
   ]
  },
  {
   "cell_type": "markdown",
   "metadata": {},
   "source": [
    "### Log Difference"
   ]
  },
  {
   "cell_type": "code",
   "execution_count": 35,
   "metadata": {},
   "outputs": [],
   "source": [
    "#to avoid getting -inf\n",
    "ts_df = ts_df + 1"
   ]
  },
  {
   "cell_type": "code",
   "execution_count": 36,
   "metadata": {},
   "outputs": [],
   "source": [
    "ts_df['HRDT'] = np.log(ts_df['HRDT'])\n",
    "ts_df['HRDT'] = ts_df['HRDT'].diff()\n",
    "ts_df = ts_df.drop(ts_df.index[0])"
   ]
  },
  {
   "cell_type": "code",
   "execution_count": 37,
   "metadata": {},
   "outputs": [
    {
     "data": {
      "text/plain": [
       "0"
      ]
     },
     "execution_count": 37,
     "metadata": {},
     "output_type": "execute_result"
    }
   ],
   "source": [
    "ts_df['HRDT'].isnull().sum()"
   ]
  },
  {
   "cell_type": "code",
   "execution_count": 38,
   "metadata": {},
   "outputs": [
    {
     "data": {
      "text/plain": [
       "delivery date\n",
       "2006-06-30    -3.465736\n",
       "2006-07-31    10.819798\n",
       "2006-08-31   -10.819798\n",
       "2006-09-30     0.000000\n",
       "2006-10-31     3.828641\n",
       "                ...    \n",
       "2015-05-31     1.596523\n",
       "2015-06-30    -0.342263\n",
       "2015-07-31    -2.271739\n",
       "2015-08-31     0.456474\n",
       "2015-09-30    -6.829794\n",
       "Freq: M, Name: HRDT, Length: 112, dtype: float64"
      ]
     },
     "execution_count": 38,
     "metadata": {},
     "output_type": "execute_result"
    }
   ],
   "source": [
    "ts_df['HRDT'].fillna(0)"
   ]
  },
  {
   "cell_type": "code",
   "execution_count": 39,
   "metadata": {},
   "outputs": [
    {
     "data": {
      "text/plain": [
       "[<matplotlib.lines.Line2D at 0x1d0fa9b48e0>]"
      ]
     },
     "execution_count": 39,
     "metadata": {},
     "output_type": "execute_result"
    },
    {
     "data": {
      "image/png": "[encoded data removed]",
      "text/plain": [
       "<Figure size 432x288 with 1 Axes>"
      ]
     },
     "metadata": {
      "needs_background": "light"
     },
     "output_type": "display_data"
    }
   ],
   "source": [
    "plt.plot(ts_df['HRDT'])"
   ]
  },
  {
   "cell_type": "markdown",
   "metadata": {},
   "source": [
    "# First Simple Model"
   ]
  },
  {
   "cell_type": "code",
   "execution_count": 40,
   "metadata": {},
   "outputs": [
    {
     "name": "stdout",
     "output_type": "stream",
     "text": [
      "Mean Absolute Error: 28586.05681335224\n"
     ]
    }
   ],
   "source": [
    "# Train-test split\n",
    "train_data = ts_df.loc[:'09-2014']\n",
    "test_data = ts_df.loc['10-2014':]\n",
    "\n",
    "# ARIMA model\n",
    "model = sm.tsa.ARIMA(train_data['ARV'], order=(1, 1, 1), dates=train_data.index, freq='M')\n",
    "results = model.fit()\n",
    "\n",
    "arv_pred = results.predict(start='11-2014', end='10-2015')\n",
    "\n",
    "#error\n",
    "mae = pd.Series.abs(arv_pred - test_data['ARV']).mean()\n",
    "print('Mean Absolute Error:', mae)"
   ]
  },
  {
   "cell_type": "code",
   "execution_count": 41,
   "metadata": {},
   "outputs": [
    {
     "name": "stdout",
     "output_type": "stream",
     "text": [
      "Mean Absolute Error: 1.8389643897674766\n"
     ]
    }
   ],
   "source": [
    "# Train-test split\n",
    "train_data = ts_df.loc[:'09-2014']\n",
    "test_data = ts_df.loc['10-2014':]\n",
    "\n",
    "\n",
    "# ARIMA model\n",
    "model = sm.tsa.ARIMA(train_data['HRDT'], order=(1, 1, 1), dates=train_data.index, freq='M')\n",
    "results = model.fit()\n",
    "\n",
    "hrdt_pred = results.predict(start='11-2014', end='10-2015')\n",
    "\n",
    "# error\n",
    "mae = pd.Series.abs(hrdt_pred - test_data['HRDT']).mean()\n",
    "print('Mean Absolute Error:', mae)"
   ]
  },
  {
   "cell_type": "code",
   "execution_count": 42,
   "metadata": {},
   "outputs": [
    {
     "data": {
      "image/png": "[encoded data removed]",
      "text/plain": [
       "<Figure size 432x288 with 1 Axes>"
      ]
     },
     "metadata": {
      "needs_background": "light"
     },
     "output_type": "display_data"
    }
   ],
   "source": [
    "plt.plot(test_data.index, test_data['ARV'], label='Actual')\n",
    "plt.plot(arv_pred.index, arv_pred, label='Predicted')\n",
    "\n",
    "plt.title('ARIMA Model Predictions for ARV')\n",
    "plt.xlabel('Date')\n",
    "plt.ylabel('ARV')\n",
    "plt.legend()\n",
    "\n",
    "plt.show()"
   ]
  },
  {
   "cell_type": "code",
   "execution_count": 43,
   "metadata": {},
   "outputs": [
    {
     "data": {
      "image/png": "[encoded data removed]",
      "text/plain": [
       "<Figure size 432x288 with 1 Axes>"
      ]
     },
     "metadata": {
      "needs_background": "light"
     },
     "output_type": "display_data"
    }
   ],
   "source": [
    "plt.plot(test_data.index, test_data['HRDT'], label='Actual')\n",
    "plt.plot(hrdt_pred.index, hrdt_pred, label='Predicted')\n",
    "\n",
    "plt.title('ARIMA Model Predictions for HRDT')\n",
    "plt.xlabel('Date')\n",
    "plt.ylabel('HRDT')\n",
    "plt.legend()\n",
    "\n",
    "plt.show()"
   ]
  },
  {
   "cell_type": "markdown",
   "metadata": {},
   "source": [
    "# SARIMA"
   ]
  },
  {
   "cell_type": "code",
   "execution_count": 44,
   "metadata": {},
   "outputs": [
    {
     "data": {
      "image/png": "[encoded data removed]",
      "text/plain": [
       "<Figure size 432x288 with 1 Axes>"
      ]
     },
     "metadata": {
      "needs_background": "light"
     },
     "output_type": "display_data"
    },
    {
     "data": {
      "image/png": "[encoded data removed]",
      "text/plain": [
       "<Figure size 432x288 with 1 Axes>"
      ]
     },
     "metadata": {
      "needs_background": "light"
     },
     "output_type": "display_data"
    }
   ],
   "source": [
    "plot_pacf(ts_df['ARV'], method='ywm');\n",
    "plot_acf(ts_df['ARV']);"
   ]
  },
  {
   "cell_type": "code",
   "execution_count": 45,
   "metadata": {},
   "outputs": [
    {
     "name": "stdout",
     "output_type": "stream",
     "text": [
      "Mean Absolute Error: 24226.527404192773\n"
     ]
    }
   ],
   "source": [
    "# Train-test split\n",
    "train_data = ts_df.loc[:'09-2014']\n",
    "test_data = ts_df.loc['10-2014':]\n",
    "\n",
    "# SARIMA model\n",
    "model = sm.tsa.statespace.SARIMAX(train_data['ARV'], order=(0,0,1), seasonal_order=(1,1,1,12), enforce_stationarity=False, enforce_invertibility=False)\n",
    "results = model.fit()\n",
    "\n",
    "# Predictions\n",
    "arv_pred = results.predict(start='11-2014', end='9-2015')\n",
    "\n",
    "# Error\n",
    "mae = pd.Series.abs(arv_pred - test_data['ARV']).mean()\n",
    "print('Mean Absolute Error:', mae)\n"
   ]
  },
  {
   "cell_type": "code",
   "execution_count": 46,
   "metadata": {},
   "outputs": [
    {
     "data": {
      "image/png": "[encoded data removed]",
      "text/plain": [
       "<Figure size 432x288 with 1 Axes>"
      ]
     },
     "metadata": {
      "needs_background": "light"
     },
     "output_type": "display_data"
    }
   ],
   "source": [
    "plt.plot(test_data.index, test_data['ARV'], label='Actual')\n",
    "plt.plot(arv_pred.index, arv_pred, label='Predicted')\n",
    "\n",
    "plt.title('ARIMA Model Predictions for ARV')\n",
    "plt.xlabel('Date')\n",
    "plt.ylabel('ARV')\n",
    "plt.legend()\n",
    "\n",
    "plt.show()"
   ]
  },
  {
   "cell_type": "code",
   "execution_count": 47,
   "metadata": {},
   "outputs": [
    {
     "data": {
      "image/png": "[encoded data removed]",
      "text/plain": [
       "<Figure size 432x288 with 1 Axes>"
      ]
     },
     "metadata": {
      "needs_background": "light"
     },
     "output_type": "display_data"
    },
    {
     "data": {
      "image/png": "[encoded data removed]",
      "text/plain": [
       "<Figure size 432x288 with 1 Axes>"
      ]
     },
     "metadata": {
      "needs_background": "light"
     },
     "output_type": "display_data"
    }
   ],
   "source": [
    "plot_pacf(ts_df['HRDT'], method='ywm');\n",
    "plot_acf(ts_df['HRDT']);"
   ]
  },
  {
   "cell_type": "code",
   "execution_count": 68,
   "metadata": {},
   "outputs": [
    {
     "name": "stdout",
     "output_type": "stream",
     "text": [
      "Mean Absolute Error: 1.8878892146446908\n"
     ]
    }
   ],
   "source": [
    "# Train-test split\n",
    "train_data = ts_df.loc[:'09-2014']\n",
    "test_data = ts_df.loc['10-2014':]\n",
    "\n",
    "# SARIMA model\n",
    "model = sm.tsa.statespace.SARIMAX(train_data['HRDT'], order=(2,1,1), seasonal_order=(0,1,1,12), enforce_stationarity=False, enforce_invertibility=False)\n",
    "results = model.fit()\n",
    "\n",
    "# Predictions\n",
    "hrdt_pred = results.predict(start='11-2014', end='9-2015')\n",
    "\n",
    "# Error\n",
    "mae = pd.Series.abs(hrdt_pred - test_data['HRDT']).mean()\n",
    "print('Mean Absolute Error:', mae)\n"
   ]
  },
  {
   "cell_type": "code",
   "execution_count": 69,
   "metadata": {},
   "outputs": [
    {
     "data": {
      "image/png": "[encoded data removed]",
      "text/plain": [
       "<Figure size 432x288 with 1 Axes>"
      ]
     },
     "metadata": {
      "needs_background": "light"
     },
     "output_type": "display_data"
    }
   ],
   "source": [
    "plt.plot(test_data.index, test_data['HRDT'], label='Actual')\n",
    "plt.plot(hrdt_pred.index, hrdt_pred, label='Predicted')\n",
    "\n",
    "plt.title('ARIMA Model Predictions for HRDT')\n",
    "plt.xlabel('Date')\n",
    "plt.ylabel('HRDT')\n",
    "plt.legend()\n",
    "\n",
    "plt.show()"
   ]
  },
  {
   "cell_type": "markdown",
   "metadata": {},
   "source": [
    "# GridSearch for SARIMA parameters"
   ]
  },
  {
   "cell_type": "markdown",
   "metadata": {},
   "source": [
    "## Citation: https://towardsdatascience.com/grid-search-for-sarimax-parameters-adbd5104cb8b"
   ]
  },
  {
   "cell_type": "code",
   "execution_count": null,
   "metadata": {},
   "outputs": [],
   "source": [
    "# Define the p, d and q parameters to take any value between 0 and 3 (exclusive)\n",
    "p = d = q = range(0, 3)\n",
    "\n",
    "# Generate all different combinations of p, q and q triplets\n",
    "pdq = list(itertools.product(p, d, q))\n",
    "\n",
    "# Generate all different combinations of seasonal p, q and q triplets\n",
    "# Note: here we have 12 in the 's' position as we have monthly data\n",
    "pdqs = [(x[0], x[1], x[2], 12) for x in list(itertools.product(p, d, q))]\n",
    "\n",
    "\n",
    "\n",
    "# Define function\n",
    "def sarimax_gridsearch(ts_df, pdq, pdqs, maxiter=50, freq='M'):\n",
    "    '''\n",
    "    Input: \n",
    "        ts : your time series data\n",
    "        pdq : ARIMA combinations from above\n",
    "        pdqs : seasonal ARIMA combinations from above\n",
    "        maxiter : number of iterations, increase if your model isn't converging\n",
    "        frequency : default='M' for month\n",
    "        \n",
    "    Return:\n",
    "        Prints out top 5 parameter combinations\n",
    "        Returns dataframe of parameter combinations ranked by BIC\n",
    "    '''\n",
    "\n",
    "    # Run a grid search with pdq and seasonal pdq parameters and get the best BIC value\n",
    "    ans = [[]]\n",
    "    for comb in pdq:\n",
    "        for combs in pdqs:\n",
    "            try:\n",
    "                mod = sm.tsa.statespace.SARIMAX(ts_df,\n",
    "                                                order=comb,\n",
    "                                                seasonal_order=combs,\n",
    "                                                enforce_stationarity=False,\n",
    "                                                enforce_invertibility=False,\n",
    "                                                freq=freq)\n",
    "\n",
    "                output = mod.fit(maxiter=maxiter) \n",
    "                ans.append([comb, combs, output.bic])\n",
    "                print('SARIMAX {} x {}12 : BIC Calculated ={}'.format(comb, combs, output.bic))\n",
    "            except Exception as e:\n",
    "                print(f\"Error: {e}\")\n",
    "                continue\n",
    "            \n",
    "    # Find the parameters with minimal BIC value\n",
    "\n",
    "    # Convert into dataframe\n",
    "    ans_df = pd.DataFrame(ans, columns=['pdq', 'pdqs', 'bic'])\n",
    "    ans_df = ans_df.dropna()\n",
    "\n",
    "    # Sort and return top 5 combinations\n",
    "    ans_df = ans_df.sort_values(by=['bic'],ascending=True)[0:5]\n",
    "    \n",
    "    return ans_df\n"
   ]
  },
  {
   "cell_type": "code",
   "execution_count": 61,
   "metadata": {
    "scrolled": true
   },
   "outputs": [
    {
     "name": "stdout",
     "output_type": "stream",
     "text": [
      "SARIMAX (0, 0, 0) x (0, 0, 0, 12)12 : BIC Calculated =2636.5633378932025\n",
      "SARIMAX (0, 0, 0) x (0, 0, 1, 12)12 : BIC Calculated =2358.7335910644297\n",
      "SARIMAX (0, 0, 0) x (0, 0, 2, 12)12 : BIC Calculated =2082.5585639326973\n",
      "SARIMAX (0, 0, 0) x (0, 1, 0, 12)12 : BIC Calculated =2379.1068780602727\n",
      "SARIMAX (0, 0, 0) x (0, 1, 1, 12)12 : BIC Calculated =2074.6016611069135\n",
      "SARIMAX (0, 0, 0) x (0, 1, 2, 12)12 : BIC Calculated =1802.275023487787\n",
      "SARIMAX (0, 0, 0) x (0, 2, 0, 12)12 : BIC Calculated =2179.149551938578\n",
      "SARIMAX (0, 0, 0) x (0, 2, 1, 12)12 : BIC Calculated =1829.9690305059935\n",
      "SARIMAX (0, 0, 0) x (0, 2, 2, 12)12 : BIC Calculated =5586.119710085531\n",
      "SARIMAX (0, 0, 0) x (1, 0, 0, 12)12 : BIC Calculated =2378.0286491329543\n",
      "SARIMAX (0, 0, 0) x (1, 0, 1, 12)12 : BIC Calculated =2346.646210042253\n",
      "SARIMAX (0, 0, 0) x (1, 0, 2, 12)12 : BIC Calculated =2071.8068844335144\n",
      "SARIMAX (0, 0, 0) x (1, 1, 0, 12)12 : BIC Calculated =2111.44555587914\n",
      "SARIMAX (0, 0, 0) x (1, 1, 1, 12)12 : BIC Calculated =2077.5632630950504\n",
      "SARIMAX (0, 0, 0) x (1, 1, 2, 12)12 : BIC Calculated =1802.1187361752952\n",
      "SARIMAX (0, 0, 0) x (1, 2, 0, 12)12 : BIC Calculated =1892.1191242454152\n",
      "SARIMAX (0, 0, 0) x (1, 2, 1, 12)12 : BIC Calculated =1828.4563546815755\n",
      "SARIMAX (0, 0, 0) x (1, 2, 2, 12)12 : BIC Calculated =5588.062814753915\n",
      "SARIMAX (0, 0, 0) x (2, 0, 0, 12)12 : BIC Calculated =2104.6426189121016\n",
      "SARIMAX (0, 0, 0) x (2, 0, 1, 12)12 : BIC Calculated =2095.836673934091\n",
      "SARIMAX (0, 0, 0) x (2, 0, 2, 12)12 : BIC Calculated =2070.937977864743\n",
      "SARIMAX (0, 0, 0) x (2, 1, 0, 12)12 : BIC Calculated =1802.4450891050715\n",
      "SARIMAX (0, 0, 0) x (2, 1, 1, 12)12 : BIC Calculated =1807.2991614100865\n",
      "SARIMAX (0, 0, 0) x (2, 1, 2, 12)12 : BIC Calculated =1788.5862542096318\n",
      "SARIMAX (0, 0, 0) x (2, 2, 0, 12)12 : BIC Calculated =1560.2369329304443\n",
      "SARIMAX (0, 0, 0) x (2, 2, 1, 12)12 : BIC Calculated =1539.8879354614419\n"
     ]
    },
    {
     "name": "stderr",
     "output_type": "stream",
     "text": [
      "C:\\Users\\beyza\\AppData\\Roaming\\Python\\Python38\\site-packages\\statsmodels\\base\\model.py:604: ConvergenceWarning: Maximum Likelihood optimization failed to converge. Check mle_retvals\n",
      "  warnings.warn(\"Maximum Likelihood optimization failed to \"\n"
     ]
    },
    {
     "name": "stdout",
     "output_type": "stream",
     "text": [
      "SARIMAX (0, 0, 0) x (2, 2, 2, 12)12 : BIC Calculated =2129.677275753862\n",
      "SARIMAX (0, 0, 1) x (0, 0, 0, 12)12 : BIC Calculated =2608.7912278620415\n",
      "SARIMAX (0, 0, 1) x (0, 0, 1, 12)12 : BIC Calculated =2334.610643160867\n",
      "SARIMAX (0, 0, 1) x (0, 0, 2, 12)12 : BIC Calculated =2059.457296599319\n",
      "SARIMAX (0, 0, 1) x (0, 1, 0, 12)12 : BIC Calculated =2359.5073175086413\n",
      "SARIMAX (0, 0, 1) x (0, 1, 1, 12)12 : BIC Calculated =2050.186907762874\n",
      "SARIMAX (0, 0, 1) x (0, 1, 2, 12)12 : BIC Calculated =1774.966182039863\n",
      "SARIMAX (0, 0, 1) x (0, 2, 0, 12)12 : BIC Calculated =2155.8891858874777\n",
      "SARIMAX (0, 0, 1) x (0, 2, 1, 12)12 : BIC Calculated =1818.191048677408\n",
      "SARIMAX (0, 0, 1) x (0, 2, 2, 12)12 : BIC Calculated =5490.6459405364985\n",
      "SARIMAX (0, 0, 1) x (1, 0, 0, 12)12 : BIC Calculated =2380.598141912392\n",
      "SARIMAX (0, 0, 1) x (1, 0, 1, 12)12 : BIC Calculated =2323.0785242562374\n",
      "SARIMAX (0, 0, 1) x (1, 0, 2, 12)12 : BIC Calculated =2047.868579164006\n",
      "SARIMAX (0, 0, 1) x (1, 1, 0, 12)12 : BIC Calculated =2116.3844553614736\n",
      "SARIMAX (0, 0, 1) x (1, 1, 1, 12)12 : BIC Calculated =2053.792285023503\n",
      "SARIMAX (0, 0, 1) x (1, 1, 2, 12)12 : BIC Calculated =1776.3949944166282\n",
      "SARIMAX (0, 0, 1) x (1, 2, 0, 12)12 : BIC Calculated =1897.736190198021\n",
      "SARIMAX (0, 0, 1) x (1, 2, 1, 12)12 : BIC Calculated =1819.2032232841657\n",
      "SARIMAX (0, 0, 1) x (1, 2, 2, 12)12 : BIC Calculated =5492.487465877853\n",
      "SARIMAX (0, 0, 1) x (2, 0, 0, 12)12 : BIC Calculated =2108.09538813956\n",
      "SARIMAX (0, 0, 1) x (2, 0, 1, 12)12 : BIC Calculated =2096.5968156796253\n",
      "SARIMAX (0, 0, 1) x (2, 0, 2, 12)12 : BIC Calculated =2048.392026019436\n",
      "SARIMAX (0, 0, 1) x (2, 1, 0, 12)12 : BIC Calculated =1813.250133752005\n",
      "SARIMAX (0, 0, 1) x (2, 1, 1, 12)12 : BIC Calculated =1817.3602766621302\n",
      "SARIMAX (0, 0, 1) x (2, 1, 2, 12)12 : BIC Calculated =1774.7514820699853\n",
      "SARIMAX (0, 0, 1) x (2, 2, 0, 12)12 : BIC Calculated =1579.9335535468897\n",
      "SARIMAX (0, 0, 1) x (2, 2, 1, 12)12 : BIC Calculated =1573.1699764931873\n",
      "SARIMAX (0, 0, 1) x (2, 2, 2, 12)12 : BIC Calculated =5303.644562386086\n",
      "SARIMAX (0, 0, 2) x (0, 0, 0, 12)12 : BIC Calculated =2585.6573917667724\n",
      "SARIMAX (0, 0, 2) x (0, 0, 1, 12)12 : BIC Calculated =2313.983008543432\n",
      "SARIMAX (0, 0, 2) x (0, 0, 2, 12)12 : BIC Calculated =2037.3273082263065\n",
      "SARIMAX (0, 0, 2) x (0, 1, 0, 12)12 : BIC Calculated =2340.558182671635\n",
      "SARIMAX (0, 0, 2) x (0, 1, 1, 12)12 : BIC Calculated =2031.7347256153007\n",
      "SARIMAX (0, 0, 2) x (0, 1, 2, 12)12 : BIC Calculated =1756.3711343260993\n",
      "SARIMAX (0, 0, 2) x (0, 2, 0, 12)12 : BIC Calculated =2135.781151195065\n",
      "SARIMAX (0, 0, 2) x (0, 2, 1, 12)12 : BIC Calculated =1798.7340346654323\n",
      "SARIMAX (0, 0, 2) x (0, 2, 2, 12)12 : BIC Calculated =5406.969467655926\n",
      "SARIMAX (0, 0, 2) x (1, 0, 0, 12)12 : BIC Calculated =2382.7772617429555\n",
      "SARIMAX (0, 0, 2) x (1, 0, 1, 12)12 : BIC Calculated =2305.247701256655\n",
      "SARIMAX (0, 0, 2) x (1, 0, 2, 12)12 : BIC Calculated =2029.750525001428\n",
      "SARIMAX (0, 0, 2) x (1, 1, 0, 12)12 : BIC Calculated =2120.986449844438\n",
      "SARIMAX (0, 0, 2) x (1, 1, 1, 12)12 : BIC Calculated =2035.4007022773915\n",
      "SARIMAX (0, 0, 2) x (1, 1, 2, 12)12 : BIC Calculated =1757.9323941615546\n",
      "SARIMAX (0, 0, 2) x (1, 2, 0, 12)12 : BIC Calculated =1902.0591616183751\n",
      "SARIMAX (0, 0, 2) x (1, 2, 1, 12)12 : BIC Calculated =1799.8013678307725\n",
      "SARIMAX (0, 0, 2) x (1, 2, 2, 12)12 : BIC Calculated =5408.831597138403\n",
      "SARIMAX (0, 0, 2) x (2, 0, 0, 12)12 : BIC Calculated =2110.543935016211\n",
      "SARIMAX (0, 0, 2) x (2, 0, 1, 12)12 : BIC Calculated =2101.2350783271872\n",
      "SARIMAX (0, 0, 2) x (2, 0, 2, 12)12 : BIC Calculated =2029.982630048012\n",
      "SARIMAX (0, 0, 2) x (2, 1, 0, 12)12 : BIC Calculated =1818.047411059844\n",
      "SARIMAX (0, 0, 2) x (2, 1, 1, 12)12 : BIC Calculated =1822.1745271082434\n",
      "SARIMAX (0, 0, 2) x (2, 1, 2, 12)12 : BIC Calculated =1755.899240810761\n",
      "SARIMAX (0, 0, 2) x (2, 2, 0, 12)12 : BIC Calculated =1584.1702646429312\n",
      "SARIMAX (0, 0, 2) x (2, 2, 1, 12)12 : BIC Calculated =1577.6952427140386\n",
      "SARIMAX (0, 0, 2) x (2, 2, 2, 12)12 : BIC Calculated =5223.084853091519\n",
      "SARIMAX (0, 1, 0) x (0, 0, 0, 12)12 : BIC Calculated =2641.5660780369117\n",
      "SARIMAX (0, 1, 0) x (0, 0, 1, 12)12 : BIC Calculated =2366.435834241025\n",
      "SARIMAX (0, 1, 0) x (0, 0, 2, 12)12 : BIC Calculated =2089.2908266873974\n",
      "SARIMAX (0, 1, 0) x (0, 1, 0, 12)12 : BIC Calculated =2430.54505500682\n",
      "SARIMAX (0, 1, 0) x (0, 1, 1, 12)12 : BIC Calculated =2108.8779476195677\n",
      "SARIMAX (0, 1, 0) x (0, 1, 2, 12)12 : BIC Calculated =1828.0906451287474\n",
      "SARIMAX (0, 1, 0) x (0, 2, 0, 12)12 : BIC Calculated =2223.0336381944358\n",
      "SARIMAX (0, 1, 0) x (0, 2, 1, 12)12 : BIC Calculated =1866.8643193747591\n",
      "SARIMAX (0, 1, 0) x (0, 2, 2, 12)12 : BIC Calculated =5658.591210751207\n",
      "SARIMAX (0, 1, 0) x (1, 0, 0, 12)12 : BIC Calculated =2386.957694878647\n",
      "SARIMAX (0, 1, 0) x (1, 0, 1, 12)12 : BIC Calculated =2369.8647947104287\n",
      "SARIMAX (0, 1, 0) x (1, 0, 2, 12)12 : BIC Calculated =2084.5082502593227\n",
      "SARIMAX (0, 1, 0) x (1, 1, 0, 12)12 : BIC Calculated =2146.966873390456\n",
      "SARIMAX (0, 1, 0) x (1, 1, 1, 12)12 : BIC Calculated =2106.4016410663176\n",
      "SARIMAX (0, 1, 0) x (1, 1, 2, 12)12 : BIC Calculated =1830.339979409736\n",
      "SARIMAX (0, 1, 0) x (1, 2, 0, 12)12 : BIC Calculated =1923.2002543368883\n",
      "SARIMAX (0, 1, 0) x (1, 2, 1, 12)12 : BIC Calculated =1860.5867227805343\n",
      "SARIMAX (0, 1, 0) x (1, 2, 2, 12)12 : BIC Calculated =5670.472718206743\n",
      "SARIMAX (0, 1, 0) x (2, 0, 0, 12)12 : BIC Calculated =2107.758006555805\n",
      "SARIMAX (0, 1, 0) x (2, 0, 1, 12)12 : BIC Calculated =2101.882032241672\n",
      "SARIMAX (0, 1, 0) x (2, 0, 2, 12)12 : BIC Calculated =2076.5563531417865\n",
      "SARIMAX (0, 1, 0) x (2, 1, 0, 12)12 : BIC Calculated =1822.520479622621\n",
      "SARIMAX (0, 1, 0) x (2, 1, 1, 12)12 : BIC Calculated =1827.6896070476253\n",
      "SARIMAX (0, 1, 0) x (2, 1, 2, 12)12 : BIC Calculated =1799.2415956688553\n",
      "SARIMAX (0, 1, 0) x (2, 2, 0, 12)12 : BIC Calculated =1569.3177177808009\n",
      "SARIMAX (0, 1, 0) x (2, 2, 1, 12)12 : BIC Calculated =1547.2134318006308\n"
     ]
    },
    {
     "name": "stderr",
     "output_type": "stream",
     "text": [
      "C:\\Users\\beyza\\AppData\\Roaming\\Python\\Python38\\site-packages\\statsmodels\\base\\model.py:604: ConvergenceWarning: Maximum Likelihood optimization failed to converge. Check mle_retvals\n",
      "  warnings.warn(\"Maximum Likelihood optimization failed to \"\n"
     ]
    },
    {
     "name": "stdout",
     "output_type": "stream",
     "text": [
      "SARIMAX (0, 1, 0) x (2, 2, 2, 12)12 : BIC Calculated =2649.8221968250023\n",
      "SARIMAX (0, 1, 1) x (0, 0, 0, 12)12 : BIC Calculated =2557.6130717232345\n",
      "SARIMAX (0, 1, 1) x (0, 0, 1, 12)12 : BIC Calculated =2290.366732465029\n",
      "SARIMAX (0, 1, 1) x (0, 0, 2, 12)12 : BIC Calculated =2014.9808329457655\n",
      "SARIMAX (0, 1, 1) x (0, 1, 0, 12)12 : BIC Calculated =2338.098060690654\n",
      "SARIMAX (0, 1, 1) x (0, 1, 1, 12)12 : BIC Calculated =2028.1756190346227\n",
      "SARIMAX (0, 1, 1) x (0, 1, 2, 12)12 : BIC Calculated =1752.0201693732583\n",
      "SARIMAX (0, 1, 1) x (0, 2, 0, 12)12 : BIC Calculated =2133.409892583158\n",
      "SARIMAX (0, 1, 1) x (0, 2, 1, 12)12 : BIC Calculated =1803.4452495126015\n",
      "SARIMAX (0, 1, 1) x (0, 2, 2, 12)12 : BIC Calculated =5523.63952144332\n",
      "SARIMAX (0, 1, 1) x (1, 0, 0, 12)12 : BIC Calculated =2335.517922673847\n",
      "SARIMAX (0, 1, 1) x (1, 0, 1, 12)12 : BIC Calculated =2287.5188970582785\n",
      "SARIMAX (0, 1, 1) x (1, 0, 2, 12)12 : BIC Calculated =2013.694104633276\n",
      "SARIMAX (0, 1, 1) x (1, 1, 0, 12)12 : BIC Calculated =2095.166235211359\n",
      "SARIMAX (0, 1, 1) x (1, 1, 1, 12)12 : BIC Calculated =2032.0367953373063\n",
      "SARIMAX (0, 1, 1) x (1, 1, 2, 12)12 : BIC Calculated =1755.7665573088711\n",
      "SARIMAX (0, 1, 1) x (1, 2, 0, 12)12 : BIC Calculated =1876.4110085140935\n",
      "SARIMAX (0, 1, 1) x (1, 2, 1, 12)12 : BIC Calculated =1804.567466868351\n",
      "SARIMAX (0, 1, 1) x (1, 2, 2, 12)12 : BIC Calculated =5535.692650183711\n",
      "SARIMAX (0, 1, 1) x (2, 0, 0, 12)12 : BIC Calculated =2062.3070354382235\n",
      "SARIMAX (0, 1, 1) x (2, 0, 1, 12)12 : BIC Calculated =2057.655112020258\n",
      "SARIMAX (0, 1, 1) x (2, 0, 2, 12)12 : BIC Calculated =2014.4702913267586\n",
      "SARIMAX (0, 1, 1) x (2, 1, 0, 12)12 : BIC Calculated =1795.0628504274252\n",
      "SARIMAX (0, 1, 1) x (2, 1, 1, 12)12 : BIC Calculated =1797.45830695944\n",
      "SARIMAX (0, 1, 1) x (2, 1, 2, 12)12 : BIC Calculated =1753.3580469044782\n",
      "SARIMAX (0, 1, 1) x (2, 2, 0, 12)12 : BIC Calculated =1563.3538968294383\n",
      "SARIMAX (0, 1, 1) x (2, 2, 1, 12)12 : BIC Calculated =1557.8255725490783\n",
      "SARIMAX (0, 1, 1) x (2, 2, 2, 12)12 : BIC Calculated =5508.07041338686\n",
      "SARIMAX (0, 1, 2) x (0, 0, 0, 12)12 : BIC Calculated =2540.0423841797974\n",
      "SARIMAX (0, 1, 2) x (0, 0, 1, 12)12 : BIC Calculated =2272.212142455731\n",
      "SARIMAX (0, 1, 2) x (0, 0, 2, 12)12 : BIC Calculated =1996.6918946027347\n",
      "SARIMAX (0, 1, 2) x (0, 1, 0, 12)12 : BIC Calculated =2320.127793589847\n",
      "SARIMAX (0, 1, 2) x (0, 1, 1, 12)12 : BIC Calculated =2011.8419097072363\n",
      "SARIMAX (0, 1, 2) x (0, 1, 2, 12)12 : BIC Calculated =1734.912599377698\n",
      "SARIMAX (0, 1, 2) x (0, 2, 0, 12)12 : BIC Calculated =2113.775000686058\n",
      "SARIMAX (0, 1, 2) x (0, 2, 1, 12)12 : BIC Calculated =1785.6516381406193\n",
      "SARIMAX (0, 1, 2) x (0, 2, 2, 12)12 : BIC Calculated =5440.358340266715\n",
      "SARIMAX (0, 1, 2) x (1, 0, 0, 12)12 : BIC Calculated =2340.1860046699717\n",
      "SARIMAX (0, 1, 2) x (1, 0, 1, 12)12 : BIC Calculated =2269.6314287435207\n",
      "SARIMAX (0, 1, 2) x (1, 0, 2, 12)12 : BIC Calculated =1995.3750179825702\n",
      "SARIMAX (0, 1, 2) x (1, 1, 0, 12)12 : BIC Calculated =2101.067273415502\n",
      "SARIMAX (0, 1, 2) x (1, 1, 1, 12)12 : BIC Calculated =2015.7068916621943\n",
      "SARIMAX (0, 1, 2) x (1, 1, 2, 12)12 : BIC Calculated =1738.71904850446\n",
      "SARIMAX (0, 1, 2) x (1, 2, 0, 12)12 : BIC Calculated =1881.8767750415232\n",
      "SARIMAX (0, 1, 2) x (1, 2, 1, 12)12 : BIC Calculated =1787.054057180689\n",
      "SARIMAX (0, 1, 2) x (1, 2, 2, 12)12 : BIC Calculated =5452.264738805541\n"
     ]
    },
    {
     "name": "stderr",
     "output_type": "stream",
     "text": [
      "C:\\Users\\beyza\\AppData\\Roaming\\Python\\Python38\\site-packages\\statsmodels\\base\\model.py:604: ConvergenceWarning: Maximum Likelihood optimization failed to converge. Check mle_retvals\n",
      "  warnings.warn(\"Maximum Likelihood optimization failed to \"\n"
     ]
    },
    {
     "name": "stdout",
     "output_type": "stream",
     "text": [
      "SARIMAX (0, 1, 2) x (2, 0, 0, 12)12 : BIC Calculated =2066.774234680086\n",
      "SARIMAX (0, 1, 2) x (2, 0, 1, 12)12 : BIC Calculated =2062.073632349729\n",
      "SARIMAX (0, 1, 2) x (2, 0, 2, 12)12 : BIC Calculated =1996.2473776336062\n",
      "SARIMAX (0, 1, 2) x (2, 1, 0, 12)12 : BIC Calculated =1801.575229163414\n",
      "SARIMAX (0, 1, 2) x (2, 1, 1, 12)12 : BIC Calculated =1804.1163764187877\n",
      "SARIMAX (0, 1, 2) x (2, 1, 2, 12)12 : BIC Calculated =1736.6086299636484\n",
      "SARIMAX (0, 1, 2) x (2, 2, 0, 12)12 : BIC Calculated =1569.1418816642863\n",
      "SARIMAX (0, 1, 2) x (2, 2, 1, 12)12 : BIC Calculated =1564.3875082353964\n",
      "SARIMAX (0, 1, 2) x (2, 2, 2, 12)12 : BIC Calculated =5425.146187635612\n",
      "SARIMAX (0, 2, 0) x (0, 0, 0, 12)12 : BIC Calculated =2737.2633521517537\n",
      "SARIMAX (0, 2, 0) x (0, 0, 1, 12)12 : BIC Calculated =2447.2217153371835\n",
      "SARIMAX (0, 2, 0) x (0, 0, 2, 12)12 : BIC Calculated =2156.6109889968075\n",
      "SARIMAX (0, 2, 0) x (0, 1, 0, 12)12 : BIC Calculated =2515.994268231988\n",
      "SARIMAX (0, 2, 0) x (0, 1, 1, 12)12 : BIC Calculated =2184.918817272203\n",
      "SARIMAX (0, 2, 0) x (0, 1, 2, 12)12 : BIC Calculated =1885.5347638012177\n",
      "SARIMAX (0, 2, 0) x (0, 2, 0, 12)12 : BIC Calculated =2295.450533849457\n",
      "SARIMAX (0, 2, 0) x (0, 2, 1, 12)12 : BIC Calculated =1940.0397010185998\n",
      "SARIMAX (0, 2, 0) x (0, 2, 2, 12)12 : BIC Calculated =5570.218030267597\n",
      "SARIMAX (0, 2, 0) x (1, 0, 0, 12)12 : BIC Calculated =2468.5871471414307\n",
      "SARIMAX (0, 2, 0) x (1, 0, 1, 12)12 : BIC Calculated =2450.6211168034633\n",
      "SARIMAX (0, 2, 0) x (1, 0, 2, 12)12 : BIC Calculated =2159.8479670966403\n",
      "SARIMAX (0, 2, 0) x (1, 1, 0, 12)12 : BIC Calculated =2217.8479698794104\n",
      "SARIMAX (0, 2, 0) x (1, 1, 1, 12)12 : BIC Calculated =2176.931448239164\n",
      "SARIMAX (0, 2, 0) x (1, 1, 2, 12)12 : BIC Calculated =1888.5820035621207\n",
      "SARIMAX (0, 2, 0) x (1, 2, 0, 12)12 : BIC Calculated =1981.9824724634784\n",
      "SARIMAX (0, 2, 0) x (1, 2, 1, 12)12 : BIC Calculated =1925.841022122843\n",
      "SARIMAX (0, 2, 0) x (1, 2, 2, 12)12 : BIC Calculated =5560.092548010568\n",
      "SARIMAX (0, 2, 0) x (2, 0, 0, 12)12 : BIC Calculated =2175.6863191896327\n",
      "SARIMAX (0, 2, 0) x (2, 0, 1, 12)12 : BIC Calculated =2170.13122336076\n",
      "SARIMAX (0, 2, 0) x (2, 0, 2, 12)12 : BIC Calculated =2145.3875327334185\n",
      "SARIMAX (0, 2, 0) x (2, 1, 0, 12)12 : BIC Calculated =1878.2994803626177\n",
      "SARIMAX (0, 2, 0) x (2, 1, 1, 12)12 : BIC Calculated =1883.4785225836483\n",
      "SARIMAX (0, 2, 0) x (2, 1, 2, 12)12 : BIC Calculated =1854.3310775484838\n",
      "SARIMAX (0, 2, 0) x (2, 2, 0, 12)12 : BIC Calculated =1610.951538902481\n",
      "SARIMAX (0, 2, 0) x (2, 2, 1, 12)12 : BIC Calculated =1589.5117585569158\n",
      "SARIMAX (0, 2, 0) x (2, 2, 2, 12)12 : BIC Calculated =5394.172624139905\n",
      "SARIMAX (0, 2, 1) x (0, 0, 0, 12)12 : BIC Calculated =2599.057743345728\n",
      "SARIMAX (0, 2, 1) x (0, 0, 1, 12)12 : BIC Calculated =2322.335144813539\n",
      "SARIMAX (0, 2, 1) x (0, 0, 2, 12)12 : BIC Calculated =2045.2828484949425\n",
      "SARIMAX (0, 2, 1) x (0, 1, 0, 12)12 : BIC Calculated =2385.976868012438\n",
      "SARIMAX (0, 2, 1) x (0, 1, 1, 12)12 : BIC Calculated =2061.4092704286445\n",
      "SARIMAX (0, 2, 1) x (0, 1, 2, 12)12 : BIC Calculated =1776.0855831971085\n",
      "SARIMAX (0, 2, 1) x (0, 2, 0, 12)12 : BIC Calculated =2173.9937136471794\n",
      "SARIMAX (0, 2, 1) x (0, 2, 1, 12)12 : BIC Calculated =1832.3444088230638\n"
     ]
    },
    {
     "name": "stderr",
     "output_type": "stream",
     "text": [
      "C:\\Users\\beyza\\AppData\\Roaming\\Python\\Python38\\site-packages\\statsmodels\\base\\model.py:604: ConvergenceWarning: Maximum Likelihood optimization failed to converge. Check mle_retvals\n",
      "  warnings.warn(\"Maximum Likelihood optimization failed to \"\n"
     ]
    },
    {
     "name": "stdout",
     "output_type": "stream",
     "text": [
      "SARIMAX (0, 2, 1) x (0, 2, 2, 12)12 : BIC Calculated =2439.942772981942\n",
      "SARIMAX (0, 2, 1) x (1, 0, 0, 12)12 : BIC Calculated =2369.0055893651333\n",
      "SARIMAX (0, 2, 1) x (1, 0, 1, 12)12 : BIC Calculated =2326.8383505124766\n",
      "SARIMAX (0, 2, 1) x (1, 0, 2, 12)12 : BIC Calculated =2048.794106994202\n",
      "SARIMAX (0, 2, 1) x (1, 1, 0, 12)12 : BIC Calculated =2130.495654747495\n",
      "SARIMAX (0, 2, 1) x (1, 1, 1, 12)12 : BIC Calculated =2064.0935909533196\n",
      "SARIMAX (0, 2, 1) x (1, 1, 2, 12)12 : BIC Calculated =1780.3613785429438\n",
      "SARIMAX (0, 2, 1) x (1, 2, 0, 12)12 : BIC Calculated =1906.8703314129334\n",
      "SARIMAX (0, 2, 1) x (1, 2, 1, 12)12 : BIC Calculated =1832.2798430465348\n"
     ]
    },
    {
     "name": "stderr",
     "output_type": "stream",
     "text": [
      "C:\\Users\\beyza\\AppData\\Roaming\\Python\\Python38\\site-packages\\statsmodels\\base\\model.py:604: ConvergenceWarning: Maximum Likelihood optimization failed to converge. Check mle_retvals\n",
      "  warnings.warn(\"Maximum Likelihood optimization failed to \"\n"
     ]
    },
    {
     "name": "stdout",
     "output_type": "stream",
     "text": [
      "SARIMAX (0, 2, 1) x (1, 2, 2, 12)12 : BIC Calculated =3063.449312343292\n",
      "SARIMAX (0, 2, 1) x (2, 0, 0, 12)12 : BIC Calculated =2088.468132417411\n",
      "SARIMAX (0, 2, 1) x (2, 0, 1, 12)12 : BIC Calculated =2080.7115541559315\n",
      "SARIMAX (0, 2, 1) x (2, 0, 2, 12)12 : BIC Calculated =2034.196532416042\n",
      "SARIMAX (0, 2, 1) x (2, 1, 0, 12)12 : BIC Calculated =1818.9327244702106\n",
      "SARIMAX (0, 2, 1) x (2, 1, 1, 12)12 : BIC Calculated =1823.2321165654048\n",
      "SARIMAX (0, 2, 1) x (2, 1, 2, 12)12 : BIC Calculated =1776.0567763620913\n",
      "SARIMAX (0, 2, 1) x (2, 2, 0, 12)12 : BIC Calculated =1579.6584219208967\n",
      "SARIMAX (0, 2, 1) x (2, 2, 1, 12)12 : BIC Calculated =1577.7426549670777\n"
     ]
    },
    {
     "name": "stderr",
     "output_type": "stream",
     "text": [
      "C:\\Users\\beyza\\AppData\\Roaming\\Python\\Python38\\site-packages\\statsmodels\\base\\model.py:604: ConvergenceWarning: Maximum Likelihood optimization failed to converge. Check mle_retvals\n",
      "  warnings.warn(\"Maximum Likelihood optimization failed to \"\n"
     ]
    },
    {
     "name": "stdout",
     "output_type": "stream",
     "text": [
      "SARIMAX (0, 2, 1) x (2, 2, 2, 12)12 : BIC Calculated =4473.472792163915\n",
      "SARIMAX (0, 2, 2) x (0, 0, 0, 12)12 : BIC Calculated =2540.021381864831\n",
      "SARIMAX (0, 2, 2) x (0, 0, 1, 12)12 : BIC Calculated =2267.3332241267203\n",
      "SARIMAX (0, 2, 2) x (0, 0, 2, 12)12 : BIC Calculated =1988.8735075063316\n",
      "SARIMAX (0, 2, 2) x (0, 1, 0, 12)12 : BIC Calculated =2326.671901093165\n",
      "SARIMAX (0, 2, 2) x (0, 1, 1, 12)12 : BIC Calculated =2025.2812592040352\n",
      "SARIMAX (0, 2, 2) x (0, 1, 2, 12)12 : BIC Calculated =1741.1481363493435\n",
      "SARIMAX (0, 2, 2) x (0, 2, 0, 12)12 : BIC Calculated =2118.2828008436186\n",
      "SARIMAX (0, 2, 2) x (0, 2, 1, 12)12 : BIC Calculated =1802.1917248939142\n",
      "SARIMAX (0, 2, 2) x (0, 2, 2, 12)12 : BIC Calculated =5320.361147448492\n",
      "SARIMAX (0, 2, 2) x (1, 0, 0, 12)12 : BIC Calculated =2336.7349245441937\n",
      "SARIMAX (0, 2, 2) x (1, 0, 1, 12)12 : BIC Calculated =2266.6769128011097\n",
      "SARIMAX (0, 2, 2) x (1, 0, 2, 12)12 : BIC Calculated =1989.3973207013107\n",
      "SARIMAX (0, 2, 2) x (1, 1, 0, 12)12 : BIC Calculated =2107.4935930392217\n",
      "SARIMAX (0, 2, 2) x (1, 1, 1, 12)12 : BIC Calculated =2029.2574568394755\n",
      "SARIMAX (0, 2, 2) x (1, 1, 2, 12)12 : BIC Calculated =1745.3407657051484\n",
      "SARIMAX (0, 2, 2) x (1, 2, 0, 12)12 : BIC Calculated =1888.3405536894193\n",
      "SARIMAX (0, 2, 2) x (1, 2, 1, 12)12 : BIC Calculated =1804.4681966520557\n",
      "SARIMAX (0, 2, 2) x (1, 2, 2, 12)12 : BIC Calculated =5310.0793497921195\n",
      "SARIMAX (0, 2, 2) x (2, 0, 0, 12)12 : BIC Calculated =2059.7214321481465\n",
      "SARIMAX (0, 2, 2) x (2, 0, 1, 12)12 : BIC Calculated =2058.1418366032854\n"
     ]
    },
    {
     "name": "stderr",
     "output_type": "stream",
     "text": [
      "C:\\Users\\beyza\\AppData\\Roaming\\Python\\Python38\\site-packages\\statsmodels\\base\\model.py:604: ConvergenceWarning: Maximum Likelihood optimization failed to converge. Check mle_retvals\n",
      "  warnings.warn(\"Maximum Likelihood optimization failed to \"\n"
     ]
    },
    {
     "name": "stdout",
     "output_type": "stream",
     "text": [
      "SARIMAX (0, 2, 2) x (2, 0, 2, 12)12 : BIC Calculated =1991.8826158045497\n",
      "SARIMAX (0, 2, 2) x (2, 1, 0, 12)12 : BIC Calculated =1810.162232084458\n",
      "SARIMAX (0, 2, 2) x (2, 1, 1, 12)12 : BIC Calculated =1813.8565614878817\n",
      "SARIMAX (0, 2, 2) x (2, 1, 2, 12)12 : BIC Calculated =1745.1384102415186\n",
      "SARIMAX (0, 2, 2) x (2, 2, 0, 12)12 : BIC Calculated =1578.333030707304\n",
      "SARIMAX (0, 2, 2) x (2, 2, 1, 12)12 : BIC Calculated =1578.8599725360714\n",
      "SARIMAX (0, 2, 2) x (2, 2, 2, 12)12 : BIC Calculated =5281.6699036367\n",
      "SARIMAX (1, 0, 0) x (0, 0, 0, 12)12 : BIC Calculated =2626.1600360636\n",
      "SARIMAX (1, 0, 0) x (0, 0, 1, 12)12 : BIC Calculated =2356.3214445476438\n",
      "SARIMAX (1, 0, 0) x (0, 0, 2, 12)12 : BIC Calculated =2081.476849091639\n",
      "SARIMAX (1, 0, 0) x (0, 1, 0, 12)12 : BIC Calculated =2382.503377199529\n",
      "SARIMAX (1, 0, 0) x (0, 1, 1, 12)12 : BIC Calculated =2072.5431860100903\n",
      "SARIMAX (1, 0, 0) x (0, 1, 2, 12)12 : BIC Calculated =1797.4972404311743\n",
      "SARIMAX (1, 0, 0) x (0, 2, 0, 12)12 : BIC Calculated =2179.7954384545023\n",
      "SARIMAX (1, 0, 0) x (0, 2, 1, 12)12 : BIC Calculated =1840.9555506360432\n",
      "SARIMAX (1, 0, 0) x (0, 2, 2, 12)12 : BIC Calculated =5577.198471525444\n",
      "SARIMAX (1, 0, 0) x (1, 0, 0, 12)12 : BIC Calculated =2356.409931070666\n",
      "SARIMAX (1, 0, 0) x (1, 0, 1, 12)12 : BIC Calculated =2344.2931809904408\n",
      "SARIMAX (1, 0, 0) x (1, 0, 2, 12)12 : BIC Calculated =2069.668962643225\n",
      "SARIMAX (1, 0, 0) x (1, 1, 0, 12)12 : BIC Calculated =2091.8454259457008\n",
      "SARIMAX (1, 0, 0) x (1, 1, 1, 12)12 : BIC Calculated =2076.095396981054\n",
      "SARIMAX (1, 0, 0) x (1, 1, 2, 12)12 : BIC Calculated =1798.9381384584226\n",
      "SARIMAX (1, 0, 0) x (1, 2, 0, 12)12 : BIC Calculated =1871.9107484708331\n",
      "SARIMAX (1, 0, 0) x (1, 2, 1, 12)12 : BIC Calculated =1841.8819150863208\n",
      "SARIMAX (1, 0, 0) x (1, 2, 2, 12)12 : BIC Calculated =5579.019132546147\n",
      "SARIMAX (1, 0, 0) x (2, 0, 0, 12)12 : BIC Calculated =2083.6545715783313\n",
      "SARIMAX (1, 0, 0) x (2, 0, 1, 12)12 : BIC Calculated =2070.57857574055\n",
      "SARIMAX (1, 0, 0) x (2, 0, 2, 12)12 : BIC Calculated =2069.750785586284\n",
      "SARIMAX (1, 0, 0) x (2, 1, 0, 12)12 : BIC Calculated =1789.5050771930623\n",
      "SARIMAX (1, 0, 0) x (2, 1, 1, 12)12 : BIC Calculated =1793.6260682066\n",
      "SARIMAX (1, 0, 0) x (2, 1, 2, 12)12 : BIC Calculated =1797.0494071482717\n",
      "SARIMAX (1, 0, 0) x (2, 2, 0, 12)12 : BIC Calculated =1554.742354551531\n",
      "SARIMAX (1, 0, 0) x (2, 2, 1, 12)12 : BIC Calculated =1547.7923949227074\n",
      "SARIMAX (1, 0, 0) x (2, 2, 2, 12)12 : BIC Calculated =5387.079809429973\n",
      "SARIMAX (1, 0, 1) x (0, 0, 0, 12)12 : BIC Calculated =2584.980086067325\n",
      "SARIMAX (1, 0, 1) x (0, 0, 1, 12)12 : BIC Calculated =2316.856798416543\n",
      "SARIMAX (1, 0, 1) x (0, 0, 2, 12)12 : BIC Calculated =2041.3593512642276\n",
      "SARIMAX (1, 0, 1) x (0, 1, 0, 12)12 : BIC Calculated =2363.920562275984\n",
      "SARIMAX (1, 0, 1) x (0, 1, 1, 12)12 : BIC Calculated =2049.015814153594\n",
      "SARIMAX (1, 0, 1) x (0, 1, 2, 12)12 : BIC Calculated =1774.4033493220272\n",
      "SARIMAX (1, 0, 1) x (0, 2, 0, 12)12 : BIC Calculated =2159.9648514591927\n",
      "SARIMAX (1, 0, 1) x (0, 2, 1, 12)12 : BIC Calculated =1822.290873485819\n",
      "SARIMAX (1, 0, 1) x (0, 2, 2, 12)12 : BIC Calculated =5494.636305233165\n",
      "SARIMAX (1, 0, 1) x (1, 0, 0, 12)12 : BIC Calculated =2339.4214184164575\n",
      "SARIMAX (1, 0, 1) x (1, 0, 1, 12)12 : BIC Calculated =2321.414424501175\n",
      "SARIMAX (1, 0, 1) x (1, 0, 2, 12)12 : BIC Calculated =2040.2637642137342\n",
      "SARIMAX (1, 0, 1) x (1, 1, 0, 12)12 : BIC Calculated =2096.425995699365\n",
      "SARIMAX (1, 0, 1) x (1, 1, 1, 12)12 : BIC Calculated =2052.787022087417\n",
      "SARIMAX (1, 0, 1) x (1, 1, 2, 12)12 : BIC Calculated =1776.1708141634585\n",
      "SARIMAX (1, 0, 1) x (1, 2, 0, 12)12 : BIC Calculated =1876.2749814917936\n",
      "SARIMAX (1, 0, 1) x (1, 2, 1, 12)12 : BIC Calculated =1823.4246805619719\n",
      "SARIMAX (1, 0, 1) x (1, 2, 2, 12)12 : BIC Calculated =5496.477830574524\n",
      "SARIMAX (1, 0, 1) x (2, 0, 0, 12)12 : BIC Calculated =2065.9040115555954\n",
      "SARIMAX (1, 0, 1) x (2, 0, 1, 12)12 : BIC Calculated =2068.1010919088553\n",
      "SARIMAX (1, 0, 1) x (2, 0, 2, 12)12 : BIC Calculated =2046.6186831592142\n",
      "SARIMAX (1, 0, 1) x (2, 1, 0, 12)12 : BIC Calculated =1793.3878551693424\n",
      "SARIMAX (1, 0, 1) x (2, 1, 1, 12)12 : BIC Calculated =1795.6875172126129\n",
      "SARIMAX (1, 0, 1) x (2, 1, 2, 12)12 : BIC Calculated =1775.132074834911\n",
      "SARIMAX (1, 0, 1) x (2, 2, 0, 12)12 : BIC Calculated =1559.2330539176103\n",
      "SARIMAX (1, 0, 1) x (2, 2, 1, 12)12 : BIC Calculated =1552.4038124252404\n",
      "SARIMAX (1, 0, 1) x (2, 2, 2, 12)12 : BIC Calculated =5307.634927082759\n",
      "SARIMAX (1, 0, 2) x (0, 0, 0, 12)12 : BIC Calculated =2566.1565673819623\n",
      "SARIMAX (1, 0, 2) x (0, 0, 1, 12)12 : BIC Calculated =2298.7077633976587\n",
      "SARIMAX (1, 0, 2) x (0, 0, 2, 12)12 : BIC Calculated =2022.9472022938398\n",
      "SARIMAX (1, 0, 2) x (0, 1, 0, 12)12 : BIC Calculated =2344.9594977561374\n",
      "SARIMAX (1, 0, 2) x (0, 1, 1, 12)12 : BIC Calculated =2035.9777773659198\n",
      "SARIMAX (1, 0, 2) x (0, 1, 2, 12)12 : BIC Calculated =1755.7928073704584\n",
      "SARIMAX (1, 0, 2) x (0, 2, 0, 12)12 : BIC Calculated =2140.0047234076314\n",
      "SARIMAX (1, 0, 2) x (0, 2, 1, 12)12 : BIC Calculated =1802.7772172017749\n",
      "SARIMAX (1, 0, 2) x (0, 2, 2, 12)12 : BIC Calculated =5410.820524602528\n",
      "SARIMAX (1, 0, 2) x (1, 0, 0, 12)12 : BIC Calculated =2343.8878859197052\n",
      "SARIMAX (1, 0, 2) x (1, 0, 1, 12)12 : BIC Calculated =2303.2047071060824\n",
      "SARIMAX (1, 0, 2) x (1, 0, 2, 12)12 : BIC Calculated =2021.7474668263728\n",
      "SARIMAX (1, 0, 2) x (1, 1, 0, 12)12 : BIC Calculated =2100.807024326744\n",
      "SARIMAX (1, 0, 2) x (1, 1, 1, 12)12 : BIC Calculated =2039.6904102440085\n",
      "SARIMAX (1, 0, 2) x (1, 1, 2, 12)12 : BIC Calculated =1757.6167939169381\n",
      "SARIMAX (1, 0, 2) x (1, 2, 0, 12)12 : BIC Calculated =1880.6186871696227\n",
      "SARIMAX (1, 0, 2) x (1, 2, 1, 12)12 : BIC Calculated =1803.8453692165735\n",
      "SARIMAX (1, 0, 2) x (1, 2, 2, 12)12 : BIC Calculated =5412.682654085006\n",
      "SARIMAX (1, 0, 2) x (2, 0, 0, 12)12 : BIC Calculated =2070.256858805298\n",
      "SARIMAX (1, 0, 2) x (2, 0, 1, 12)12 : BIC Calculated =2076.7164195269957\n",
      "SARIMAX (1, 0, 2) x (2, 0, 2, 12)12 : BIC Calculated =2028.3500102533546\n",
      "SARIMAX (1, 0, 2) x (2, 1, 0, 12)12 : BIC Calculated =1799.1444656881863\n",
      "SARIMAX (1, 0, 2) x (2, 1, 1, 12)12 : BIC Calculated =1803.2649388516338\n",
      "SARIMAX (1, 0, 2) x (2, 1, 2, 12)12 : BIC Calculated =1756.2829916799399\n",
      "SARIMAX (1, 0, 2) x (2, 2, 0, 12)12 : BIC Calculated =1564.0852969258835\n",
      "SARIMAX (1, 0, 2) x (2, 2, 1, 12)12 : BIC Calculated =1556.8787189782065\n",
      "SARIMAX (1, 0, 2) x (2, 2, 2, 12)12 : BIC Calculated =5226.9359100381225\n",
      "SARIMAX (1, 1, 0) x (0, 0, 0, 12)12 : BIC Calculated =2616.3196411834942\n",
      "SARIMAX (1, 1, 0) x (0, 0, 1, 12)12 : BIC Calculated =2344.324288878654\n",
      "SARIMAX (1, 1, 0) x (0, 0, 2, 12)12 : BIC Calculated =2064.8059690493465\n",
      "SARIMAX (1, 1, 0) x (0, 1, 0, 12)12 : BIC Calculated =2400.511957962373\n",
      "SARIMAX (1, 1, 0) x (0, 1, 1, 12)12 : BIC Calculated =2076.2205524358505\n",
      "SARIMAX (1, 1, 0) x (0, 1, 2, 12)12 : BIC Calculated =1797.0809564783538\n",
      "SARIMAX (1, 1, 0) x (0, 2, 0, 12)12 : BIC Calculated =2190.976930901905\n",
      "SARIMAX (1, 1, 0) x (0, 2, 1, 12)12 : BIC Calculated =1845.0925554969683\n",
      "SARIMAX (1, 1, 0) x (0, 2, 2, 12)12 : BIC Calculated =5626.975337282132\n",
      "SARIMAX (1, 1, 0) x (1, 0, 0, 12)12 : BIC Calculated =2344.7200761188146\n",
      "SARIMAX (1, 1, 0) x (1, 0, 1, 12)12 : BIC Calculated =2348.8294719374185\n",
      "SARIMAX (1, 1, 0) x (1, 0, 2, 12)12 : BIC Calculated =2060.141008056596\n",
      "SARIMAX (1, 1, 0) x (1, 1, 0, 12)12 : BIC Calculated =2102.1869585077543\n",
      "SARIMAX (1, 1, 0) x (1, 1, 1, 12)12 : BIC Calculated =2079.894462304921\n",
      "SARIMAX (1, 1, 0) x (1, 1, 2, 12)12 : BIC Calculated =1800.9782903237915\n",
      "SARIMAX (1, 1, 0) x (1, 2, 0, 12)12 : BIC Calculated =1877.2972194066815\n",
      "SARIMAX (1, 1, 0) x (1, 2, 1, 12)12 : BIC Calculated =1845.9414105073663\n",
      "SARIMAX (1, 1, 0) x (1, 2, 2, 12)12 : BIC Calculated =5639.174927442999\n",
      "SARIMAX (1, 1, 0) x (2, 0, 0, 12)12 : BIC Calculated =2066.858773140392\n",
      "SARIMAX (1, 1, 0) x (2, 0, 1, 12)12 : BIC Calculated =2057.86509922831\n",
      "SARIMAX (1, 1, 0) x (2, 0, 2, 12)12 : BIC Calculated =2053.8513292629377\n",
      "SARIMAX (1, 1, 0) x (2, 1, 0, 12)12 : BIC Calculated =1793.2751817036321\n",
      "SARIMAX (1, 1, 0) x (2, 1, 1, 12)12 : BIC Calculated =1796.8065505647094\n",
      "SARIMAX (1, 1, 0) x (2, 1, 2, 12)12 : BIC Calculated =1796.941701797814\n",
      "SARIMAX (1, 1, 0) x (2, 2, 0, 12)12 : BIC Calculated =1552.9690068974123\n"
     ]
    },
    {
     "name": "stdout",
     "output_type": "stream",
     "text": [
      "SARIMAX (1, 1, 0) x (2, 2, 1, 12)12 : BIC Calculated =1546.9315846009417\n",
      "SARIMAX (1, 1, 0) x (2, 2, 2, 12)12 : BIC Calculated =5611.0487362381555\n",
      "SARIMAX (1, 1, 1) x (0, 0, 0, 12)12 : BIC Calculated =2562.2235855130552\n",
      "SARIMAX (1, 1, 1) x (0, 0, 1, 12)12 : BIC Calculated =2294.789939494654\n",
      "SARIMAX (1, 1, 1) x (0, 0, 2, 12)12 : BIC Calculated =2019.4197198047175\n",
      "SARIMAX (1, 1, 1) x (0, 1, 0, 12)12 : BIC Calculated =2342.3195173192976\n",
      "SARIMAX (1, 1, 1) x (0, 1, 1, 12)12 : BIC Calculated =2032.599302062661\n",
      "SARIMAX (1, 1, 1) x (0, 1, 2, 12)12 : BIC Calculated =1756.2783451657465\n",
      "SARIMAX (1, 1, 1) x (0, 2, 0, 12)12 : BIC Calculated =2137.1634137447636\n",
      "SARIMAX (1, 1, 1) x (0, 2, 1, 12)12 : BIC Calculated =1807.202670470677\n",
      "SARIMAX (1, 1, 1) x (0, 2, 2, 12)12 : BIC Calculated =5527.385408840841\n",
      "SARIMAX (1, 1, 1) x (1, 0, 0, 12)12 : BIC Calculated =2317.406739064946\n",
      "SARIMAX (1, 1, 1) x (1, 0, 1, 12)12 : BIC Calculated =2292.0243302189674\n",
      "SARIMAX (1, 1, 1) x (1, 0, 2, 12)12 : BIC Calculated =2024.9369909620139\n",
      "SARIMAX (1, 1, 1) x (1, 1, 0, 12)12 : BIC Calculated =2076.391249754611\n",
      "SARIMAX (1, 1, 1) x (1, 1, 1, 12)12 : BIC Calculated =2036.444953613296\n",
      "SARIMAX (1, 1, 1) x (1, 1, 2, 12)12 : BIC Calculated =1760.0416264149449\n",
      "SARIMAX (1, 1, 1) x (1, 2, 0, 12)12 : BIC Calculated =1856.1989441671215\n",
      "SARIMAX (1, 1, 1) x (1, 2, 1, 12)12 : BIC Calculated =1808.4999991546447\n",
      "SARIMAX (1, 1, 1) x (1, 2, 2, 12)12 : BIC Calculated =5539.438537581226\n",
      "SARIMAX (1, 1, 1) x (2, 0, 0, 12)12 : BIC Calculated =2044.0923753295335\n",
      "SARIMAX (1, 1, 1) x (2, 0, 1, 12)12 : BIC Calculated =2039.1020418333749\n",
      "SARIMAX (1, 1, 1) x (2, 0, 2, 12)12 : BIC Calculated =2018.6193855321912\n",
      "SARIMAX (1, 1, 1) x (2, 1, 0, 12)12 : BIC Calculated =1776.0615171799693\n",
      "SARIMAX (1, 1, 1) x (2, 1, 1, 12)12 : BIC Calculated =1778.4516490428891\n",
      "SARIMAX (1, 1, 1) x (2, 1, 2, 12)12 : BIC Calculated =1757.5864690214687\n",
      "SARIMAX (1, 1, 1) x (2, 2, 0, 12)12 : BIC Calculated =1542.6279092343927\n",
      "SARIMAX (1, 1, 1) x (2, 2, 1, 12)12 : BIC Calculated =1537.4120699699452\n",
      "SARIMAX (1, 1, 1) x (2, 2, 2, 12)12 : BIC Calculated =5511.816300784381\n",
      "SARIMAX (1, 1, 2) x (0, 0, 0, 12)12 : BIC Calculated =2543.4525477766833\n",
      "SARIMAX (1, 1, 2) x (0, 0, 1, 12)12 : BIC Calculated =2300.4160479929014\n",
      "SARIMAX (1, 1, 2) x (0, 0, 2, 12)12 : BIC Calculated =2006.4987740545405\n",
      "SARIMAX (1, 1, 2) x (0, 1, 0, 12)12 : BIC Calculated =2323.6976923057705\n",
      "SARIMAX (1, 1, 2) x (0, 1, 1, 12)12 : BIC Calculated =2014.2810883298405\n",
      "SARIMAX (1, 1, 2) x (0, 1, 2, 12)12 : BIC Calculated =1737.0352509408895\n",
      "SARIMAX (1, 1, 2) x (0, 2, 0, 12)12 : BIC Calculated =2116.927938582824\n",
      "SARIMAX (1, 1, 2) x (0, 2, 1, 12)12 : BIC Calculated =1786.8625252145357\n",
      "SARIMAX (1, 1, 2) x (0, 2, 2, 12)12 : BIC Calculated =5441.040149298638\n",
      "SARIMAX (1, 1, 2) x (1, 0, 0, 12)12 : BIC Calculated =2321.428756792368\n",
      "SARIMAX (1, 1, 2) x (1, 0, 1, 12)12 : BIC Calculated =2302.273103280152\n",
      "SARIMAX (1, 1, 2) x (1, 0, 2, 12)12 : BIC Calculated =2007.9095971955905\n",
      "SARIMAX (1, 1, 2) x (1, 1, 0, 12)12 : BIC Calculated =2081.07601306171\n",
      "SARIMAX (1, 1, 2) x (1, 1, 1, 12)12 : BIC Calculated =2017.716977159607\n",
      "SARIMAX (1, 1, 2) x (1, 1, 2, 12)12 : BIC Calculated =1740.83784449556\n",
      "SARIMAX (1, 1, 2) x (1, 2, 0, 12)12 : BIC Calculated =1860.1427603929426\n",
      "SARIMAX (1, 1, 2) x (1, 2, 1, 12)12 : BIC Calculated =1788.2965194513235\n",
      "SARIMAX (1, 1, 2) x (1, 2, 2, 12)12 : BIC Calculated =5452.946547837462\n",
      "SARIMAX (1, 1, 2) x (2, 0, 0, 12)12 : BIC Calculated =2055.98871721513\n",
      "SARIMAX (1, 1, 2) x (2, 0, 1, 12)12 : BIC Calculated =2055.0189850989746\n",
      "SARIMAX (1, 1, 2) x (2, 0, 2, 12)12 : BIC Calculated =2009.4854280656414\n",
      "SARIMAX (1, 1, 2) x (2, 1, 0, 12)12 : BIC Calculated =1779.906182142267\n",
      "SARIMAX (1, 1, 2) x (2, 1, 1, 12)12 : BIC Calculated =1782.8818794654237\n",
      "SARIMAX (1, 1, 2) x (2, 1, 2, 12)12 : BIC Calculated =1738.5671858464225\n",
      "SARIMAX (1, 1, 2) x (2, 2, 0, 12)12 : BIC Calculated =1545.5741424913276\n",
      "SARIMAX (1, 1, 2) x (2, 2, 1, 12)12 : BIC Calculated =1541.38778631975\n",
      "SARIMAX (1, 1, 2) x (2, 2, 2, 12)12 : BIC Calculated =5425.827996667535\n",
      "SARIMAX (1, 2, 0) x (0, 0, 0, 12)12 : BIC Calculated =2678.36524079695\n",
      "SARIMAX (1, 2, 0) x (0, 0, 1, 12)12 : BIC Calculated =2395.313244333851\n",
      "SARIMAX (1, 2, 0) x (0, 0, 2, 12)12 : BIC Calculated =2106.9957508035377\n",
      "SARIMAX (1, 2, 0) x (0, 1, 0, 12)12 : BIC Calculated =2456.4339631326075\n",
      "SARIMAX (1, 2, 0) x (0, 1, 1, 12)12 : BIC Calculated =2120.5997824055858\n",
      "SARIMAX (1, 2, 0) x (0, 1, 2, 12)12 : BIC Calculated =1832.2068107165785\n",
      "SARIMAX (1, 2, 0) x (0, 2, 0, 12)12 : BIC Calculated =2236.447054240008\n",
      "SARIMAX (1, 2, 0) x (0, 2, 1, 12)12 : BIC Calculated =1879.9514751290594\n",
      "SARIMAX (1, 2, 0) x (0, 2, 2, 12)12 : BIC Calculated =5513.274338106937\n",
      "SARIMAX (1, 2, 0) x (1, 0, 0, 12)12 : BIC Calculated =2396.128757885683\n",
      "SARIMAX (1, 2, 0) x (1, 0, 1, 12)12 : BIC Calculated =2399.785686901367\n",
      "SARIMAX (1, 2, 0) x (1, 0, 2, 12)12 : BIC Calculated =2101.6693896042993\n",
      "SARIMAX (1, 2, 0) x (1, 1, 0, 12)12 : BIC Calculated =2147.0183765059624\n",
      "SARIMAX (1, 2, 0) x (1, 1, 1, 12)12 : BIC Calculated =2124.389630575817\n",
      "SARIMAX (1, 2, 0) x (1, 1, 2, 12)12 : BIC Calculated =1836.3375112412618\n",
      "SARIMAX (1, 2, 0) x (1, 2, 0, 12)12 : BIC Calculated =1912.1865286412603\n",
      "SARIMAX (1, 2, 0) x (1, 2, 1, 12)12 : BIC Calculated =1880.819569389687\n",
      "SARIMAX (1, 2, 0) x (1, 2, 2, 12)12 : BIC Calculated =5502.539119748781\n",
      "SARIMAX (1, 2, 0) x (2, 0, 0, 12)12 : BIC Calculated =2108.4747873203023\n",
      "SARIMAX (1, 2, 0) x (2, 0, 1, 12)12 : BIC Calculated =2099.519879109655\n",
      "SARIMAX (1, 2, 0) x (2, 0, 2, 12)12 : BIC Calculated =2097.127102242356\n",
      "SARIMAX (1, 2, 0) x (2, 1, 0, 12)12 : BIC Calculated =1830.508598700342\n",
      "SARIMAX (1, 2, 0) x (2, 1, 1, 12)12 : BIC Calculated =1834.6750500150542\n",
      "SARIMAX (1, 2, 0) x (2, 1, 2, 12)12 : BIC Calculated =1840.388087905807\n",
      "SARIMAX (1, 2, 0) x (2, 2, 0, 12)12 : BIC Calculated =1578.3356307833699\n",
      "SARIMAX (1, 2, 0) x (2, 2, 1, 12)12 : BIC Calculated =1572.7539788120193\n",
      "SARIMAX (1, 2, 0) x (2, 2, 2, 12)12 : BIC Calculated =5473.061756332303\n",
      "SARIMAX (1, 2, 1) x (0, 0, 0, 12)12 : BIC Calculated =2578.5444028547263\n",
      "SARIMAX (1, 2, 1) x (0, 0, 1, 12)12 : BIC Calculated =2305.538061017497\n",
      "SARIMAX (1, 2, 1) x (0, 0, 2, 12)12 : BIC Calculated =2025.2132955258455\n",
      "SARIMAX (1, 2, 1) x (0, 1, 0, 12)12 : BIC Calculated =2360.87191948095\n",
      "SARIMAX (1, 2, 1) x (0, 1, 1, 12)12 : BIC Calculated =2047.257734292358\n",
      "SARIMAX (1, 2, 1) x (0, 1, 2, 12)12 : BIC Calculated =1764.9072789132233\n",
      "SARIMAX (1, 2, 1) x (0, 2, 0, 12)12 : BIC Calculated =2149.2186750037154\n",
      "SARIMAX (1, 2, 1) x (0, 2, 1, 12)12 : BIC Calculated =1818.149402691896\n",
      "SARIMAX (1, 2, 1) x (0, 2, 2, 12)12 : BIC Calculated =5395.219423526884\n",
      "SARIMAX (1, 2, 1) x (1, 0, 0, 12)12 : BIC Calculated =2328.754434343728\n",
      "SARIMAX (1, 2, 1) x (1, 0, 1, 12)12 : BIC Calculated =2310.1022898813567\n",
      "SARIMAX (1, 2, 1) x (1, 0, 2, 12)12 : BIC Calculated =2022.71181302969\n",
      "SARIMAX (1, 2, 1) x (1, 1, 0, 12)12 : BIC Calculated =2088.8528212845945\n",
      "SARIMAX (1, 2, 1) x (1, 1, 1, 12)12 : BIC Calculated =2050.958711396402\n",
      "SARIMAX (1, 2, 1) x (1, 1, 2, 12)12 : BIC Calculated =1769.0517370552604\n",
      "SARIMAX (1, 2, 1) x (1, 2, 0, 12)12 : BIC Calculated =1863.5846296655563\n",
      "SARIMAX (1, 2, 1) x (1, 2, 1, 12)12 : BIC Calculated =1819.5878123522862\n",
      "SARIMAX (1, 2, 1) x (1, 2, 2, 12)12 : BIC Calculated =5384.711054427798\n",
      "SARIMAX (1, 2, 1) x (2, 0, 0, 12)12 : BIC Calculated =2049.8028791431866\n",
      "SARIMAX (1, 2, 1) x (2, 0, 1, 12)12 : BIC Calculated =2044.042093149777\n",
      "SARIMAX (1, 2, 1) x (2, 0, 2, 12)12 : BIC Calculated =2021.1926941010436\n",
      "SARIMAX (1, 2, 1) x (2, 1, 0, 12)12 : BIC Calculated =1784.2761875142455\n",
      "SARIMAX (1, 2, 1) x (2, 1, 1, 12)12 : BIC Calculated =1788.5663528261678\n",
      "SARIMAX (1, 2, 1) x (2, 1, 2, 12)12 : BIC Calculated =1766.0063186207356\n",
      "SARIMAX (1, 2, 1) x (2, 2, 0, 12)12 : BIC Calculated =1544.744609896111\n",
      "SARIMAX (1, 2, 1) x (2, 2, 1, 12)12 : BIC Calculated =1543.3499692615271\n",
      "SARIMAX (1, 2, 1) x (2, 2, 2, 12)12 : BIC Calculated =5355.767788550036\n",
      "SARIMAX (1, 2, 2) x (0, 0, 0, 12)12 : BIC Calculated =2538.923668191096\n",
      "SARIMAX (1, 2, 2) x (0, 0, 1, 12)12 : BIC Calculated =2267.4262582854403\n",
      "SARIMAX (1, 2, 2) x (0, 0, 2, 12)12 : BIC Calculated =1989.6676964323046\n",
      "SARIMAX (1, 2, 2) x (0, 1, 0, 12)12 : BIC Calculated =2324.166752959983\n"
     ]
    },
    {
     "name": "stdout",
     "output_type": "stream",
     "text": [
      "SARIMAX (1, 2, 2) x (0, 1, 1, 12)12 : BIC Calculated =2021.7092114668628\n",
      "SARIMAX (1, 2, 2) x (0, 1, 2, 12)12 : BIC Calculated =1739.0077841928937\n",
      "SARIMAX (1, 2, 2) x (0, 2, 0, 12)12 : BIC Calculated =2113.6096140673253\n",
      "SARIMAX (1, 2, 2) x (0, 2, 1, 12)12 : BIC Calculated =1795.193036949576\n",
      "SARIMAX (1, 2, 2) x (0, 2, 2, 12)12 : BIC Calculated =5312.540940101332\n",
      "SARIMAX (1, 2, 2) x (1, 0, 0, 12)12 : BIC Calculated =2313.467609437181\n",
      "SARIMAX (1, 2, 2) x (1, 0, 1, 12)12 : BIC Calculated =2266.1822429957006\n",
      "SARIMAX (1, 2, 2) x (1, 0, 2, 12)12 : BIC Calculated =1989.6401401334992\n",
      "SARIMAX (1, 2, 2) x (1, 1, 0, 12)12 : BIC Calculated =2081.1893921632313\n",
      "SARIMAX (1, 2, 2) x (1, 1, 1, 12)12 : BIC Calculated =2025.6575409733537\n",
      "SARIMAX (1, 2, 2) x (1, 1, 2, 12)12 : BIC Calculated =1743.1961894815463\n",
      "SARIMAX (1, 2, 2) x (1, 2, 0, 12)12 : BIC Calculated =1858.5488882386003\n",
      "SARIMAX (1, 2, 2) x (1, 2, 1, 12)12 : BIC Calculated =1797.1522786628063\n",
      "SARIMAX (1, 2, 2) x (1, 2, 2, 12)12 : BIC Calculated =5302.259149245138\n",
      "SARIMAX (1, 2, 2) x (2, 0, 0, 12)12 : BIC Calculated =2037.2263935604185\n",
      "SARIMAX (1, 2, 2) x (2, 0, 1, 12)12 : BIC Calculated =2034.7485619347594\n"
     ]
    },
    {
     "name": "stderr",
     "output_type": "stream",
     "text": [
      "C:\\Users\\beyza\\AppData\\Roaming\\Python\\Python38\\site-packages\\statsmodels\\base\\model.py:604: ConvergenceWarning: Maximum Likelihood optimization failed to converge. Check mle_retvals\n",
      "  warnings.warn(\"Maximum Likelihood optimization failed to \"\n"
     ]
    },
    {
     "name": "stdout",
     "output_type": "stream",
     "text": [
      "SARIMAX (1, 2, 2) x (2, 0, 2, 12)12 : BIC Calculated =1992.3667423489208\n",
      "SARIMAX (1, 2, 2) x (2, 1, 0, 12)12 : BIC Calculated =1783.2266227646073\n",
      "SARIMAX (1, 2, 2) x (2, 1, 1, 12)12 : BIC Calculated =1786.891495782588\n"
     ]
    },
    {
     "name": "stderr",
     "output_type": "stream",
     "text": [
      "C:\\Users\\beyza\\AppData\\Roaming\\Python\\Python38\\site-packages\\statsmodels\\base\\model.py:604: ConvergenceWarning: Maximum Likelihood optimization failed to converge. Check mle_retvals\n",
      "  warnings.warn(\"Maximum Likelihood optimization failed to \"\n"
     ]
    },
    {
     "name": "stdout",
     "output_type": "stream",
     "text": [
      "SARIMAX (1, 2, 2) x (2, 1, 2, 12)12 : BIC Calculated =1742.406566982238\n",
      "SARIMAX (1, 2, 2) x (2, 2, 0, 12)12 : BIC Calculated =1547.7215889994088\n",
      "SARIMAX (1, 2, 2) x (2, 2, 1, 12)12 : BIC Calculated =1547.3653192846414\n"
     ]
    },
    {
     "name": "stderr",
     "output_type": "stream",
     "text": [
      "C:\\Users\\beyza\\AppData\\Roaming\\Python\\Python38\\site-packages\\statsmodels\\base\\model.py:604: ConvergenceWarning: Maximum Likelihood optimization failed to converge. Check mle_retvals\n",
      "  warnings.warn(\"Maximum Likelihood optimization failed to \"\n"
     ]
    },
    {
     "name": "stdout",
     "output_type": "stream",
     "text": [
      "SARIMAX (1, 2, 2) x (2, 2, 2, 12)12 : BIC Calculated =32.62029955124576\n",
      "SARIMAX (2, 0, 0) x (0, 0, 0, 12)12 : BIC Calculated =2601.4350828106835\n",
      "SARIMAX (2, 0, 0) x (0, 0, 1, 12)12 : BIC Calculated =2355.4437839850184\n",
      "SARIMAX (2, 0, 0) x (0, 0, 2, 12)12 : BIC Calculated =2078.7764303750523\n",
      "SARIMAX (2, 0, 0) x (0, 1, 0, 12)12 : BIC Calculated =2364.0506400358377\n",
      "SARIMAX (2, 0, 0) x (0, 1, 1, 12)12 : BIC Calculated =2076.5781615555957\n",
      "SARIMAX (2, 0, 0) x (0, 1, 2, 12)12 : BIC Calculated =1801.6643428225134\n",
      "SARIMAX (2, 0, 0) x (0, 2, 0, 12)12 : BIC Calculated =2160.1330051021782\n",
      "SARIMAX (2, 0, 0) x (0, 2, 1, 12)12 : BIC Calculated =1845.5672261885866\n",
      "SARIMAX (2, 0, 0) x (0, 2, 2, 12)12 : BIC Calculated =5581.970724562445\n",
      "SARIMAX (2, 0, 0) x (1, 0, 0, 12)12 : BIC Calculated =2332.8961927673263\n",
      "SARIMAX (2, 0, 0) x (1, 0, 1, 12)12 : BIC Calculated =2325.6123895333108\n",
      "SARIMAX (2, 0, 0) x (1, 0, 2, 12)12 : BIC Calculated =2073.697867789504\n",
      "SARIMAX (2, 0, 0) x (1, 1, 0, 12)12 : BIC Calculated =2073.2234550913895\n",
      "SARIMAX (2, 0, 0) x (1, 1, 1, 12)12 : BIC Calculated =2057.1512301587895\n",
      "SARIMAX (2, 0, 0) x (1, 1, 2, 12)12 : BIC Calculated =1803.3716041116982\n",
      "SARIMAX (2, 0, 0) x (1, 2, 0, 12)12 : BIC Calculated =1852.1069149149155\n",
      "SARIMAX (2, 0, 0) x (1, 2, 1, 12)12 : BIC Calculated =1822.5186660855707\n",
      "SARIMAX (2, 0, 0) x (1, 2, 2, 12)12 : BIC Calculated =5583.79138558315\n",
      "SARIMAX (2, 0, 0) x (2, 0, 0, 12)12 : BIC Calculated =2060.029738088545\n",
      "SARIMAX (2, 0, 0) x (2, 0, 1, 12)12 : BIC Calculated =2051.9844074108178\n",
      "SARIMAX (2, 0, 0) x (2, 0, 2, 12)12 : BIC Calculated =2050.4120196921945\n",
      "SARIMAX (2, 0, 0) x (2, 1, 0, 12)12 : BIC Calculated =1770.783760084094\n",
      "SARIMAX (2, 0, 0) x (2, 1, 1, 12)12 : BIC Calculated =1774.9151596769657\n",
      "SARIMAX (2, 0, 0) x (2, 1, 2, 12)12 : BIC Calculated =1777.9803439178656\n",
      "SARIMAX (2, 0, 0) x (2, 2, 0, 12)12 : BIC Calculated =1534.8028668027482\n",
      "SARIMAX (2, 0, 0) x (2, 2, 1, 12)12 : BIC Calculated =1528.168005696185\n",
      "SARIMAX (2, 0, 0) x (2, 2, 2, 12)12 : BIC Calculated =5306.615455007992\n",
      "SARIMAX (2, 0, 1) x (0, 0, 0, 12)12 : BIC Calculated =2589.555471739709\n",
      "SARIMAX (2, 0, 1) x (0, 0, 1, 12)12 : BIC Calculated =2321.2005006293107\n",
      "SARIMAX (2, 0, 1) x (0, 0, 2, 12)12 : BIC Calculated =2045.8003266624273\n",
      "SARIMAX (2, 0, 1) x (0, 1, 0, 12)12 : BIC Calculated =2368.5001632253056\n",
      "SARIMAX (2, 0, 1) x (0, 1, 1, 12)12 : BIC Calculated =2053.4688549499747\n",
      "SARIMAX (2, 0, 1) x (0, 1, 2, 12)12 : BIC Calculated =1778.6393256194863\n",
      "SARIMAX (2, 0, 1) x (0, 2, 0, 12)12 : BIC Calculated =2164.418535179442\n",
      "SARIMAX (2, 0, 1) x (0, 2, 1, 12)12 : BIC Calculated =1826.517316368454\n",
      "SARIMAX (2, 0, 1) x (0, 2, 2, 12)12 : BIC Calculated =5498.759617366439\n",
      "SARIMAX (2, 0, 1) x (1, 0, 0, 12)12 : BIC Calculated =2321.2495727843184\n",
      "SARIMAX (2, 0, 1) x (1, 0, 1, 12)12 : BIC Calculated =2325.7029495886277\n",
      "SARIMAX (2, 0, 1) x (1, 0, 2, 12)12 : BIC Calculated =2044.3960445416421\n",
      "SARIMAX (2, 0, 1) x (1, 1, 0, 12)12 : BIC Calculated =2077.518738841586\n",
      "SARIMAX (2, 0, 1) x (1, 1, 1, 12)12 : BIC Calculated =2057.2211520997457\n",
      "SARIMAX (2, 0, 1) x (1, 1, 2, 12)12 : BIC Calculated =1780.4719945267702\n",
      "SARIMAX (2, 0, 1) x (1, 2, 0, 12)12 : BIC Calculated =1856.422943645644\n",
      "SARIMAX (2, 0, 1) x (1, 2, 1, 12)12 : BIC Calculated =1827.5681817942777\n",
      "SARIMAX (2, 0, 1) x (1, 2, 2, 12)12 : BIC Calculated =5500.601142707793\n",
      "SARIMAX (2, 0, 1) x (2, 0, 0, 12)12 : BIC Calculated =2047.6533017905417\n"
     ]
    },
    {
     "name": "stderr",
     "output_type": "stream",
     "text": [
      "C:\\Users\\beyza\\AppData\\Roaming\\Python\\Python38\\site-packages\\statsmodels\\base\\model.py:604: ConvergenceWarning: Maximum Likelihood optimization failed to converge. Check mle_retvals\n",
      "  warnings.warn(\"Maximum Likelihood optimization failed to \"\n"
     ]
    },
    {
     "name": "stdout",
     "output_type": "stream",
     "text": [
      "SARIMAX (2, 0, 1) x (2, 0, 1, 12)12 : BIC Calculated =2049.5597288261156\n"
     ]
    },
    {
     "name": "stderr",
     "output_type": "stream",
     "text": [
      "C:\\Users\\beyza\\AppData\\Roaming\\Python\\Python38\\site-packages\\statsmodels\\base\\model.py:604: ConvergenceWarning: Maximum Likelihood optimization failed to converge. Check mle_retvals\n",
      "  warnings.warn(\"Maximum Likelihood optimization failed to \"\n"
     ]
    },
    {
     "name": "stdout",
     "output_type": "stream",
     "text": [
      "SARIMAX (2, 0, 1) x (2, 0, 2, 12)12 : BIC Calculated =2051.0441014185844\n",
      "SARIMAX (2, 0, 1) x (2, 1, 0, 12)12 : BIC Calculated =1774.6239676822995\n",
      "SARIMAX (2, 0, 1) x (2, 1, 1, 12)12 : BIC Calculated =1776.8745748335318\n",
      "SARIMAX (2, 0, 1) x (2, 1, 2, 12)12 : BIC Calculated =1779.3714945070672\n",
      "SARIMAX (2, 0, 1) x (2, 2, 0, 12)12 : BIC Calculated =1539.2048059128142\n",
      "SARIMAX (2, 0, 1) x (2, 2, 1, 12)12 : BIC Calculated =1532.438477988584\n",
      "SARIMAX (2, 0, 1) x (2, 2, 2, 12)12 : BIC Calculated =5311.758239216026\n",
      "SARIMAX (2, 0, 2) x (0, 0, 0, 12)12 : BIC Calculated =2570.185804659254\n",
      "SARIMAX (2, 0, 2) x (0, 0, 1, 12)12 : BIC Calculated =2302.9507655394045\n",
      "SARIMAX (2, 0, 2) x (0, 0, 2, 12)12 : BIC Calculated =2027.3959947678427\n",
      "SARIMAX (2, 0, 2) x (0, 1, 0, 12)12 : BIC Calculated =2343.37736754155\n",
      "SARIMAX (2, 0, 2) x (0, 1, 1, 12)12 : BIC Calculated =2038.8552044540716\n",
      "SARIMAX (2, 0, 2) x (0, 1, 2, 12)12 : BIC Calculated =1759.6319102280036\n",
      "SARIMAX (2, 0, 2) x (0, 2, 0, 12)12 : BIC Calculated =2129.2275826686982\n",
      "SARIMAX (2, 0, 2) x (0, 2, 1, 12)12 : BIC Calculated =1803.2507329779148\n",
      "SARIMAX (2, 0, 2) x (0, 2, 2, 12)12 : BIC Calculated =5414.289042157909\n",
      "SARIMAX (2, 0, 2) x (1, 0, 0, 12)12 : BIC Calculated =2325.526851190463\n",
      "SARIMAX (2, 0, 2) x (1, 0, 1, 12)12 : BIC Calculated =2307.4736152418723\n"
     ]
    },
    {
     "name": "stderr",
     "output_type": "stream",
     "text": [
      "C:\\Users\\beyza\\AppData\\Roaming\\Python\\Python38\\site-packages\\statsmodels\\base\\model.py:604: ConvergenceWarning: Maximum Likelihood optimization failed to converge. Check mle_retvals\n",
      "  warnings.warn(\"Maximum Likelihood optimization failed to \"\n"
     ]
    },
    {
     "name": "stdout",
     "output_type": "stream",
     "text": [
      "SARIMAX (2, 0, 2) x (1, 0, 2, 12)12 : BIC Calculated =2025.931251265238\n",
      "SARIMAX (2, 0, 2) x (1, 1, 0, 12)12 : BIC Calculated =2077.8662473401732\n",
      "SARIMAX (2, 0, 2) x (1, 1, 1, 12)12 : BIC Calculated =2042.6153914360787\n",
      "SARIMAX (2, 0, 2) x (1, 1, 2, 12)12 : BIC Calculated =1762.5425628099274\n",
      "SARIMAX (2, 0, 2) x (1, 2, 0, 12)12 : BIC Calculated =1853.3395109661367\n",
      "SARIMAX (2, 0, 2) x (1, 2, 1, 12)12 : BIC Calculated =1805.5083246111324\n",
      "SARIMAX (2, 0, 2) x (1, 2, 2, 12)12 : BIC Calculated =5416.151171640389\n",
      "SARIMAX (2, 0, 2) x (2, 0, 0, 12)12 : BIC Calculated =2052.0593777680974\n"
     ]
    },
    {
     "name": "stderr",
     "output_type": "stream",
     "text": [
      "C:\\Users\\beyza\\AppData\\Roaming\\Python\\Python38\\site-packages\\statsmodels\\base\\model.py:604: ConvergenceWarning: Maximum Likelihood optimization failed to converge. Check mle_retvals\n",
      "  warnings.warn(\"Maximum Likelihood optimization failed to \"\n"
     ]
    },
    {
     "name": "stdout",
     "output_type": "stream",
     "text": [
      "SARIMAX (2, 0, 2) x (2, 0, 1, 12)12 : BIC Calculated =2047.7991271358942\n"
     ]
    },
    {
     "name": "stderr",
     "output_type": "stream",
     "text": [
      "C:\\Users\\beyza\\AppData\\Roaming\\Python\\Python38\\site-packages\\statsmodels\\base\\model.py:604: ConvergenceWarning: Maximum Likelihood optimization failed to converge. Check mle_retvals\n",
      "  warnings.warn(\"Maximum Likelihood optimization failed to \"\n"
     ]
    },
    {
     "name": "stdout",
     "output_type": "stream",
     "text": [
      "SARIMAX (2, 0, 2) x (2, 0, 2, 12)12 : BIC Calculated =2031.1090537053203\n",
      "SARIMAX (2, 0, 2) x (2, 1, 0, 12)12 : BIC Calculated =1777.1850905596712\n",
      "SARIMAX (2, 0, 2) x (2, 1, 1, 12)12 : BIC Calculated =1781.3152597954838\n",
      "SARIMAX (2, 0, 2) x (2, 1, 2, 12)12 : BIC Calculated =1762.0894684233754\n",
      "SARIMAX (2, 0, 2) x (2, 2, 0, 12)12 : BIC Calculated =1539.4706673547616\n",
      "SARIMAX (2, 0, 2) x (2, 2, 1, 12)12 : BIC Calculated =1536.3690069549152\n",
      "SARIMAX (2, 0, 2) x (2, 2, 2, 12)12 : BIC Calculated =5230.4044275935075\n",
      "SARIMAX (2, 1, 0) x (0, 0, 0, 12)12 : BIC Calculated =2586.1477576073976\n",
      "SARIMAX (2, 1, 0) x (0, 0, 1, 12)12 : BIC Calculated =2339.82625256907\n",
      "SARIMAX (2, 1, 0) x (0, 0, 2, 12)12 : BIC Calculated =2062.264264781766\n",
      "SARIMAX (2, 1, 0) x (0, 1, 0, 12)12 : BIC Calculated =2368.741542565166\n",
      "SARIMAX (2, 1, 0) x (0, 1, 1, 12)12 : BIC Calculated =2071.157471609158\n",
      "SARIMAX (2, 1, 0) x (0, 1, 2, 12)12 : BIC Calculated =1791.6490928747407\n",
      "SARIMAX (2, 1, 0) x (0, 2, 0, 12)12 : BIC Calculated =2160.920639719959\n",
      "SARIMAX (2, 1, 0) x (0, 2, 1, 12)12 : BIC Calculated =1841.8610607058035\n",
      "SARIMAX (2, 1, 0) x (0, 2, 2, 12)12 : BIC Calculated =5624.462881535506\n",
      "SARIMAX (2, 1, 0) x (1, 0, 0, 12)12 : BIC Calculated =2317.4245609149734\n",
      "SARIMAX (2, 1, 0) x (1, 0, 1, 12)12 : BIC Calculated =2312.2210626739225\n",
      "SARIMAX (2, 1, 0) x (1, 0, 2, 12)12 : BIC Calculated =2057.942164517378\n",
      "SARIMAX (2, 1, 0) x (1, 1, 0, 12)12 : BIC Calculated =2073.040888499206\n",
      "SARIMAX (2, 1, 0) x (1, 1, 1, 12)12 : BIC Calculated =2050.9895781532296\n",
      "SARIMAX (2, 1, 0) x (1, 1, 2, 12)12 : BIC Calculated =1795.4107706959217\n",
      "SARIMAX (2, 1, 0) x (1, 2, 0, 12)12 : BIC Calculated =1849.1642654972104\n",
      "SARIMAX (2, 1, 0) x (1, 2, 1, 12)12 : BIC Calculated =1818.2722953086277\n",
      "SARIMAX (2, 1, 0) x (1, 2, 2, 12)12 : BIC Calculated =5636.662471696373\n",
      "SARIMAX (2, 1, 0) x (2, 0, 0, 12)12 : BIC Calculated =2041.4892769814858\n",
      "SARIMAX (2, 1, 0) x (2, 0, 1, 12)12 : BIC Calculated =2032.5810576940075\n",
      "SARIMAX (2, 1, 0) x (2, 0, 2, 12)12 : BIC Calculated =2027.2616167653628\n",
      "SARIMAX (2, 1, 0) x (2, 1, 0, 12)12 : BIC Calculated =1761.8194966965402\n",
      "SARIMAX (2, 1, 0) x (2, 1, 1, 12)12 : BIC Calculated =1765.221380788183\n",
      "SARIMAX (2, 1, 0) x (2, 1, 2, 12)12 : BIC Calculated =1767.8429400707191\n",
      "SARIMAX (2, 1, 0) x (2, 2, 0, 12)12 : BIC Calculated =1525.551139385777\n",
      "SARIMAX (2, 1, 0) x (2, 2, 1, 12)12 : BIC Calculated =1519.4375785026225\n",
      "SARIMAX (2, 1, 0) x (2, 2, 2, 12)12 : BIC Calculated =5518.428161042259\n",
      "SARIMAX (2, 1, 1) x (0, 0, 0, 12)12 : BIC Calculated =2566.8533514031947\n",
      "SARIMAX (2, 1, 1) x (0, 0, 1, 12)12 : BIC Calculated =2299.3419403966204\n",
      "SARIMAX (2, 1, 1) x (0, 0, 2, 12)12 : BIC Calculated =2027.1875889170412\n",
      "SARIMAX (2, 1, 1) x (0, 1, 0, 12)12 : BIC Calculated =2346.691675515926\n",
      "SARIMAX (2, 1, 1) x (0, 1, 1, 12)12 : BIC Calculated =2036.582079972225\n",
      "SARIMAX (2, 1, 1) x (0, 1, 2, 12)12 : BIC Calculated =1760.2285658608803\n",
      "SARIMAX (2, 1, 1) x (0, 2, 0, 12)12 : BIC Calculated =2141.1989588647943\n",
      "SARIMAX (2, 1, 1) x (0, 2, 1, 12)12 : BIC Calculated =1810.5662782419863\n"
     ]
    },
    {
     "name": "stderr",
     "output_type": "stream",
     "text": [
      "C:\\Users\\beyza\\AppData\\Roaming\\Python\\Python38\\site-packages\\statsmodels\\base\\model.py:604: ConvergenceWarning: Maximum Likelihood optimization failed to converge. Check mle_retvals\n",
      "  warnings.warn(\"Maximum Likelihood optimization failed to \"\n"
     ]
    },
    {
     "name": "stdout",
     "output_type": "stream",
     "text": [
      "SARIMAX (2, 1, 1) x (0, 2, 2, 12)12 : BIC Calculated =24.66524318503987\n",
      "SARIMAX (2, 1, 1) x (1, 0, 0, 12)12 : BIC Calculated =2299.3857017018204\n",
      "SARIMAX (2, 1, 1) x (1, 0, 1, 12)12 : BIC Calculated =2296.4681743523965\n",
      "SARIMAX (2, 1, 1) x (1, 0, 2, 12)12 : BIC Calculated =2029.2186223587494\n",
      "SARIMAX (2, 1, 1) x (1, 1, 0, 12)12 : BIC Calculated =2057.3201321952993\n",
      "SARIMAX (2, 1, 1) x (1, 1, 1, 12)12 : BIC Calculated =2040.4239206328182\n",
      "SARIMAX (2, 1, 1) x (1, 1, 2, 12)12 : BIC Calculated =1763.975041670762\n",
      "SARIMAX (2, 1, 1) x (1, 2, 0, 12)12 : BIC Calculated =1835.694221051816\n",
      "SARIMAX (2, 1, 1) x (1, 2, 1, 12)12 : BIC Calculated =1811.800769030074\n",
      "SARIMAX (2, 1, 1) x (1, 2, 2, 12)12 : BIC Calculated =5542.346135271169\n",
      "SARIMAX (2, 1, 1) x (2, 0, 0, 12)12 : BIC Calculated =2025.8133248608485\n",
      "SARIMAX (2, 1, 1) x (2, 0, 1, 12)12 : BIC Calculated =2020.5557884657826\n",
      "SARIMAX (2, 1, 1) x (2, 0, 2, 12)12 : BIC Calculated =2022.4886146138308\n",
      "SARIMAX (2, 1, 1) x (2, 1, 0, 12)12 : BIC Calculated =1756.1318997777134\n",
      "SARIMAX (2, 1, 1) x (2, 1, 1, 12)12 : BIC Calculated =1758.7781073644057\n",
      "SARIMAX (2, 1, 1) x (2, 1, 2, 12)12 : BIC Calculated =1761.4367620266828\n",
      "SARIMAX (2, 1, 1) x (2, 2, 0, 12)12 : BIC Calculated =1521.2447308936394\n",
      "SARIMAX (2, 1, 1) x (2, 2, 1, 12)12 : BIC Calculated =1516.3451224748267\n",
      "SARIMAX (2, 1, 1) x (2, 2, 2, 12)12 : BIC Calculated =2726.565042825415\n",
      "SARIMAX (2, 1, 2) x (0, 0, 0, 12)12 : BIC Calculated =2548.129500998038\n",
      "SARIMAX (2, 1, 2) x (0, 0, 1, 12)12 : BIC Calculated =2304.898351065741\n",
      "SARIMAX (2, 1, 2) x (0, 0, 2, 12)12 : BIC Calculated =2005.1588288158327\n",
      "SARIMAX (2, 1, 2) x (0, 1, 0, 12)12 : BIC Calculated =2325.7167646134353\n",
      "SARIMAX (2, 1, 2) x (0, 1, 1, 12)12 : BIC Calculated =2018.1433832947944\n",
      "SARIMAX (2, 1, 2) x (0, 1, 2, 12)12 : BIC Calculated =1741.156055137331\n",
      "SARIMAX (2, 1, 2) x (0, 2, 0, 12)12 : BIC Calculated =2117.8364418395663\n",
      "SARIMAX (2, 1, 2) x (0, 2, 1, 12)12 : BIC Calculated =1790.9234469799685\n",
      "SARIMAX (2, 1, 2) x (0, 2, 2, 12)12 : BIC Calculated =5444.857363950563\n",
      "SARIMAX (2, 1, 2) x (1, 0, 0, 12)12 : BIC Calculated =2303.7619148599188\n",
      "SARIMAX (2, 1, 2) x (1, 0, 1, 12)12 : BIC Calculated =2306.796073793725\n",
      "SARIMAX (2, 1, 2) x (1, 0, 2, 12)12 : BIC Calculated =2012.2380182413754\n",
      "SARIMAX (2, 1, 2) x (1, 1, 0, 12)12 : BIC Calculated =2060.3638412066703\n",
      "SARIMAX (2, 1, 2) x (1, 1, 1, 12)12 : BIC Calculated =2021.9615264493912\n",
      "SARIMAX (2, 1, 2) x (1, 1, 2, 12)12 : BIC Calculated =1744.8638370199358\n",
      "SARIMAX (2, 1, 2) x (1, 2, 0, 12)12 : BIC Calculated =1838.1548028828763\n",
      "SARIMAX (2, 1, 2) x (1, 2, 1, 12)12 : BIC Calculated =1792.422643525447\n",
      "SARIMAX (2, 1, 2) x (1, 2, 2, 12)12 : BIC Calculated =5456.763762489387\n",
      "SARIMAX (2, 1, 2) x (2, 0, 0, 12)12 : BIC Calculated =2030.1055681714781\n",
      "SARIMAX (2, 1, 2) x (2, 0, 1, 12)12 : BIC Calculated =2024.656469889062\n",
      "SARIMAX (2, 1, 2) x (2, 0, 2, 12)12 : BIC Calculated =2002.68314569225\n",
      "SARIMAX (2, 1, 2) x (2, 1, 0, 12)12 : BIC Calculated =1760.3540052023734\n",
      "SARIMAX (2, 1, 2) x (2, 1, 1, 12)12 : BIC Calculated =1763.3495046232333\n",
      "SARIMAX (2, 1, 2) x (2, 1, 2, 12)12 : BIC Calculated =1742.6920943636085\n",
      "SARIMAX (2, 1, 2) x (2, 2, 0, 12)12 : BIC Calculated =1525.0290014344932\n",
      "SARIMAX (2, 1, 2) x (2, 2, 1, 12)12 : BIC Calculated =1520.965547947333\n",
      "SARIMAX (2, 1, 2) x (2, 2, 2, 12)12 : BIC Calculated =5429.645211319459\n",
      "SARIMAX (2, 2, 0) x (0, 0, 0, 12)12 : BIC Calculated =2632.4626975984106\n",
      "SARIMAX (2, 2, 0) x (0, 0, 1, 12)12 : BIC Calculated =2376.4913921626667\n",
      "SARIMAX (2, 2, 0) x (0, 0, 2, 12)12 : BIC Calculated =2096.013915173391\n",
      "SARIMAX (2, 2, 0) x (0, 1, 0, 12)12 : BIC Calculated =2411.6908013052566\n",
      "SARIMAX (2, 2, 0) x (0, 1, 1, 12)12 : BIC Calculated =2104.553780715124\n",
      "SARIMAX (2, 2, 0) x (0, 1, 2, 12)12 : BIC Calculated =1815.479078895181\n",
      "SARIMAX (2, 2, 0) x (0, 2, 0, 12)12 : BIC Calculated =2194.326766391241\n",
      "SARIMAX (2, 2, 0) x (0, 2, 1, 12)12 : BIC Calculated =1867.916209117428\n",
      "SARIMAX (2, 2, 0) x (0, 2, 2, 12)12 : BIC Calculated =5502.628421016391\n",
      "SARIMAX (2, 2, 0) x (1, 0, 0, 12)12 : BIC Calculated =2354.0155315321686\n",
      "SARIMAX (2, 2, 0) x (1, 0, 1, 12)12 : BIC Calculated =2357.742170780335\n",
      "SARIMAX (2, 2, 0) x (1, 0, 2, 12)12 : BIC Calculated =2094.473018326079\n",
      "SARIMAX (2, 2, 0) x (1, 1, 0, 12)12 : BIC Calculated =2106.9280668831607\n",
      "SARIMAX (2, 2, 0) x (1, 1, 1, 12)12 : BIC Calculated =2083.1679867318976\n",
      "SARIMAX (2, 2, 0) x (1, 1, 2, 12)12 : BIC Calculated =1819.6814183863562\n",
      "SARIMAX (2, 2, 0) x (1, 2, 0, 12)12 : BIC Calculated =1874.2109630447378\n",
      "SARIMAX (2, 2, 0) x (1, 2, 1, 12)12 : BIC Calculated =1843.4169795086568\n",
      "SARIMAX (2, 2, 0) x (1, 2, 2, 12)12 : BIC Calculated =5491.893202658234\n",
      "SARIMAX (2, 2, 0) x (2, 0, 0, 12)12 : BIC Calculated =2068.176126611883\n",
      "SARIMAX (2, 2, 0) x (2, 0, 1, 12)12 : BIC Calculated =2059.3109808386366\n",
      "SARIMAX (2, 2, 0) x (2, 0, 2, 12)12 : BIC Calculated =2053.6753363805947\n",
      "SARIMAX (2, 2, 0) x (2, 1, 0, 12)12 : BIC Calculated =1785.2646095131126\n",
      "SARIMAX (2, 2, 0) x (2, 1, 1, 12)12 : BIC Calculated =1788.7732645457618\n",
      "SARIMAX (2, 2, 0) x (2, 1, 2, 12)12 : BIC Calculated =1791.206339620635\n",
      "SARIMAX (2, 2, 0) x (2, 2, 0, 12)12 : BIC Calculated =1541.2852569168242\n",
      "SARIMAX (2, 2, 0) x (2, 2, 1, 12)12 : BIC Calculated =1535.5795300779466\n",
      "SARIMAX (2, 2, 0) x (2, 2, 2, 12)12 : BIC Calculated =5373.2240731085485\n",
      "SARIMAX (2, 2, 1) x (0, 0, 0, 12)12 : BIC Calculated =2575.559532298178\n",
      "SARIMAX (2, 2, 1) x (0, 0, 1, 12)12 : BIC Calculated =2303.1585073129118\n",
      "SARIMAX (2, 2, 1) x (0, 0, 2, 12)12 : BIC Calculated =2023.6706705072347\n",
      "SARIMAX (2, 2, 1) x (0, 1, 0, 12)12 : BIC Calculated =2356.7912467011\n",
      "SARIMAX (2, 2, 1) x (0, 1, 1, 12)12 : BIC Calculated =2047.1935165507005\n",
      "SARIMAX (2, 2, 1) x (0, 1, 2, 12)12 : BIC Calculated =1763.7829914308945\n",
      "SARIMAX (2, 2, 1) x (0, 2, 0, 12)12 : BIC Calculated =2146.529036193884\n",
      "SARIMAX (2, 2, 1) x (0, 2, 1, 12)12 : BIC Calculated =1819.707671850805\n"
     ]
    },
    {
     "name": "stderr",
     "output_type": "stream",
     "text": [
      "C:\\Users\\beyza\\AppData\\Roaming\\Python\\Python38\\site-packages\\statsmodels\\base\\model.py:604: ConvergenceWarning: Maximum Likelihood optimization failed to converge. Check mle_retvals\n",
      "  warnings.warn(\"Maximum Likelihood optimization failed to \"\n"
     ]
    },
    {
     "name": "stdout",
     "output_type": "stream",
     "text": [
      "SARIMAX (2, 2, 1) x (0, 2, 2, 12)12 : BIC Calculated =122.66948485065811\n",
      "SARIMAX (2, 2, 1) x (1, 0, 0, 12)12 : BIC Calculated =2303.194745846321\n",
      "SARIMAX (2, 2, 1) x (1, 0, 1, 12)12 : BIC Calculated =2307.7205340897985\n",
      "SARIMAX (2, 2, 1) x (1, 0, 2, 12)12 : BIC Calculated =2022.0994499303254\n",
      "SARIMAX (2, 2, 1) x (1, 1, 0, 12)12 : BIC Calculated =2062.9004670710433\n",
      "SARIMAX (2, 2, 1) x (1, 1, 1, 12)12 : BIC Calculated =2050.729134353039\n",
      "SARIMAX (2, 2, 1) x (1, 1, 2, 12)12 : BIC Calculated =1767.8423530776547\n",
      "SARIMAX (2, 2, 1) x (1, 2, 0, 12)12 : BIC Calculated =1838.1900870864306\n",
      "SARIMAX (2, 2, 1) x (1, 2, 1, 12)12 : BIC Calculated =1821.3927777484525\n",
      "SARIMAX (2, 2, 1) x (1, 2, 2, 12)12 : BIC Calculated =5388.009169935337\n",
      "SARIMAX (2, 2, 1) x (2, 0, 0, 12)12 : BIC Calculated =2024.938346862007\n",
      "SARIMAX (2, 2, 1) x (2, 0, 1, 12)12 : BIC Calculated =2020.0814572107863\n",
      "SARIMAX (2, 2, 1) x (2, 0, 2, 12)12 : BIC Calculated =2020.1550566035721\n",
      "SARIMAX (2, 2, 1) x (2, 1, 0, 12)12 : BIC Calculated =1758.3620217405798\n",
      "SARIMAX (2, 2, 1) x (2, 1, 1, 12)12 : BIC Calculated =1762.344059767627\n",
      "SARIMAX (2, 2, 1) x (2, 1, 2, 12)12 : BIC Calculated =1765.7467039344513\n",
      "SARIMAX (2, 2, 1) x (2, 2, 0, 12)12 : BIC Calculated =1521.3854424451176\n",
      "SARIMAX (2, 2, 1) x (2, 2, 1, 12)12 : BIC Calculated =1520.2105325315545\n"
     ]
    },
    {
     "name": "stderr",
     "output_type": "stream",
     "text": [
      "C:\\Users\\beyza\\AppData\\Roaming\\Python\\Python38\\site-packages\\statsmodels\\base\\model.py:604: ConvergenceWarning: Maximum Likelihood optimization failed to converge. Check mle_retvals\n",
      "  warnings.warn(\"Maximum Likelihood optimization failed to \"\n"
     ]
    },
    {
     "name": "stdout",
     "output_type": "stream",
     "text": [
      "SARIMAX (2, 2, 1) x (2, 2, 2, 12)12 : BIC Calculated =32.7547564977768\n",
      "SARIMAX (2, 2, 2) x (0, 0, 0, 12)12 : BIC Calculated =2540.4403361940745\n",
      "SARIMAX (2, 2, 2) x (0, 0, 1, 12)12 : BIC Calculated =2269.630590121037\n",
      "SARIMAX (2, 2, 2) x (0, 0, 2, 12)12 : BIC Calculated =1992.0860222121667\n",
      "SARIMAX (2, 2, 2) x (0, 1, 0, 12)12 : BIC Calculated =2326.3613694699\n",
      "SARIMAX (2, 2, 2) x (0, 1, 1, 12)12 : BIC Calculated =2023.2484963810982\n",
      "SARIMAX (2, 2, 2) x (0, 1, 2, 12)12 : BIC Calculated =1740.9807385057738\n",
      "SARIMAX (2, 2, 2) x (0, 2, 0, 12)12 : BIC Calculated =2115.7575071317156\n",
      "SARIMAX (2, 2, 2) x (0, 2, 1, 12)12 : BIC Calculated =1796.4402791254818\n",
      "SARIMAX (2, 2, 2) x (0, 2, 2, 12)12 : BIC Calculated =5313.328410598675\n",
      "SARIMAX (2, 2, 2) x (1, 0, 0, 12)12 : BIC Calculated =2292.556902641982\n"
     ]
    },
    {
     "name": "stderr",
     "output_type": "stream",
     "text": [
      "C:\\Users\\beyza\\AppData\\Roaming\\Python\\Python38\\site-packages\\statsmodels\\base\\model.py:604: ConvergenceWarning: Maximum Likelihood optimization failed to converge. Check mle_retvals\n",
      "  warnings.warn(\"Maximum Likelihood optimization failed to \"\n"
     ]
    },
    {
     "name": "stdout",
     "output_type": "stream",
     "text": [
      "SARIMAX (2, 2, 2) x (1, 0, 1, 12)12 : BIC Calculated =2267.943203458988\n"
     ]
    },
    {
     "name": "stderr",
     "output_type": "stream",
     "text": [
      "C:\\Users\\beyza\\AppData\\Roaming\\Python\\Python38\\site-packages\\statsmodels\\base\\model.py:604: ConvergenceWarning: Maximum Likelihood optimization failed to converge. Check mle_retvals\n",
      "  warnings.warn(\"Maximum Likelihood optimization failed to \"\n"
     ]
    },
    {
     "name": "stdout",
     "output_type": "stream",
     "text": [
      "SARIMAX (2, 2, 2) x (1, 0, 2, 12)12 : BIC Calculated =1991.7615687350615\n",
      "SARIMAX (2, 2, 2) x (1, 1, 0, 12)12 : BIC Calculated =2059.340274729344\n",
      "SARIMAX (2, 2, 2) x (1, 1, 1, 12)12 : BIC Calculated =2027.1839494234075\n",
      "SARIMAX (2, 2, 2) x (1, 1, 2, 12)12 : BIC Calculated =1744.9267111534\n",
      "SARIMAX (2, 2, 2) x (1, 2, 0, 12)12 : BIC Calculated =1835.6667288467572\n",
      "SARIMAX (2, 2, 2) x (1, 2, 1, 12)12 : BIC Calculated =1798.189538479824\n",
      "SARIMAX (2, 2, 2) x (1, 2, 2, 12)12 : BIC Calculated =5303.0466129422875\n"
     ]
    },
    {
     "name": "stderr",
     "output_type": "stream",
     "text": [
      "C:\\Users\\beyza\\AppData\\Roaming\\Python\\Python38\\site-packages\\statsmodels\\base\\model.py:604: ConvergenceWarning: Maximum Likelihood optimization failed to converge. Check mle_retvals\n",
      "  warnings.warn(\"Maximum Likelihood optimization failed to \"\n"
     ]
    },
    {
     "name": "stdout",
     "output_type": "stream",
     "text": [
      "SARIMAX (2, 2, 2) x (2, 0, 0, 12)12 : BIC Calculated =2016.3887568443631\n"
     ]
    },
    {
     "name": "stderr",
     "output_type": "stream",
     "text": [
      "C:\\Users\\beyza\\AppData\\Roaming\\Python\\Python38\\site-packages\\statsmodels\\base\\model.py:604: ConvergenceWarning: Maximum Likelihood optimization failed to converge. Check mle_retvals\n",
      "  warnings.warn(\"Maximum Likelihood optimization failed to \"\n"
     ]
    },
    {
     "name": "stdout",
     "output_type": "stream",
     "text": [
      "SARIMAX (2, 2, 2) x (2, 0, 1, 12)12 : BIC Calculated =2013.34792867855\n"
     ]
    },
    {
     "name": "stderr",
     "output_type": "stream",
     "text": [
      "C:\\Users\\beyza\\AppData\\Roaming\\Python\\Python38\\site-packages\\statsmodels\\base\\model.py:604: ConvergenceWarning: Maximum Likelihood optimization failed to converge. Check mle_retvals\n",
      "  warnings.warn(\"Maximum Likelihood optimization failed to \"\n"
     ]
    },
    {
     "name": "stdout",
     "output_type": "stream",
     "text": [
      "SARIMAX (2, 2, 2) x (2, 0, 2, 12)12 : BIC Calculated =1994.434115152243\n",
      "SARIMAX (2, 2, 2) x (2, 1, 0, 12)12 : BIC Calculated =1761.0521410163572\n",
      "SARIMAX (2, 2, 2) x (2, 1, 1, 12)12 : BIC Calculated =1764.7008184860883\n"
     ]
    },
    {
     "name": "stderr",
     "output_type": "stream",
     "text": [
      "C:\\Users\\beyza\\AppData\\Roaming\\Python\\Python38\\site-packages\\statsmodels\\base\\model.py:604: ConvergenceWarning: Maximum Likelihood optimization failed to converge. Check mle_retvals\n",
      "  warnings.warn(\"Maximum Likelihood optimization failed to \"\n"
     ]
    },
    {
     "name": "stdout",
     "output_type": "stream",
     "text": [
      "SARIMAX (2, 2, 2) x (2, 1, 2, 12)12 : BIC Calculated =1744.0041902466464\n",
      "SARIMAX (2, 2, 2) x (2, 2, 0, 12)12 : BIC Calculated =1524.3920555065436\n",
      "SARIMAX (2, 2, 2) x (2, 2, 1, 12)12 : BIC Calculated =1523.7401537615613\n",
      "SARIMAX (2, 2, 2) x (2, 2, 2, 12)12 : BIC Calculated =5274.637166786874\n"
     ]
    },
    {
     "data": {
      "text/html": [
       "<div>\n",
       "<style scoped>\n",
       "    .dataframe tbody tr th:only-of-type {\n",
       "        vertical-align: middle;\n",
       "    }\n",
       "\n",
       "    .dataframe tbody tr th {\n",
       "        vertical-align: top;\n",
       "    }\n",
       "\n",
       "    .dataframe thead th {\n",
       "        text-align: right;\n",
       "    }\n",
       "</style>\n",
       "<table border=\"1\" class=\"dataframe\">\n",
       "  <thead>\n",
       "    <tr style=\"text-align: right;\">\n",
       "      <th></th>\n",
       "      <th>pdq</th>\n",
       "      <th>pdqs</th>\n",
       "      <th>bic</th>\n",
       "    </tr>\n",
       "  </thead>\n",
       "  <tbody>\n",
       "    <tr>\n",
       "      <th>603</th>\n",
       "      <td>(2, 1, 1)</td>\n",
       "      <td>(0, 2, 2, 12)</td>\n",
       "      <td>24.665243</td>\n",
       "    </tr>\n",
       "    <tr>\n",
       "      <th>486</th>\n",
       "      <td>(1, 2, 2)</td>\n",
       "      <td>(2, 2, 2, 12)</td>\n",
       "      <td>32.620300</td>\n",
       "    </tr>\n",
       "    <tr>\n",
       "      <th>702</th>\n",
       "      <td>(2, 2, 1)</td>\n",
       "      <td>(2, 2, 2, 12)</td>\n",
       "      <td>32.754756</td>\n",
       "    </tr>\n",
       "    <tr>\n",
       "      <th>684</th>\n",
       "      <td>(2, 2, 1)</td>\n",
       "      <td>(0, 2, 2, 12)</td>\n",
       "      <td>122.669485</td>\n",
       "    </tr>\n",
       "    <tr>\n",
       "      <th>620</th>\n",
       "      <td>(2, 1, 1)</td>\n",
       "      <td>(2, 2, 1, 12)</td>\n",
       "      <td>1516.345122</td>\n",
       "    </tr>\n",
       "  </tbody>\n",
       "</table>\n",
       "</div>"
      ],
      "text/plain": [
       "           pdq           pdqs          bic\n",
       "603  (2, 1, 1)  (0, 2, 2, 12)    24.665243\n",
       "486  (1, 2, 2)  (2, 2, 2, 12)    32.620300\n",
       "702  (2, 2, 1)  (2, 2, 2, 12)    32.754756\n",
       "684  (2, 2, 1)  (0, 2, 2, 12)   122.669485\n",
       "620  (2, 1, 1)  (2, 2, 1, 12)  1516.345122"
      ]
     },
     "execution_count": 61,
     "metadata": {},
     "output_type": "execute_result"
    }
   ],
   "source": [
    "sarimax_gridsearch(ts_df['ARV'], pdq, pdqs, freq='M')"
   ]
  },
  {
   "cell_type": "code",
   "execution_count": 65,
   "metadata": {},
   "outputs": [
    {
     "name": "stderr",
     "output_type": "stream",
     "text": [
      "C:\\Users\\beyza\\AppData\\Roaming\\Python\\Python38\\site-packages\\statsmodels\\tsa\\statespace\\sarimax.py:978: UserWarning: Non-invertible starting MA parameters found. Using zeros as starting parameters.\n",
      "  warn('Non-invertible starting MA parameters found.'\n",
      "C:\\Users\\beyza\\AppData\\Roaming\\Python\\Python38\\site-packages\\statsmodels\\tsa\\statespace\\sarimax.py:1009: UserWarning: Non-invertible starting seasonal moving average Using zeros as starting parameters.\n",
      "  warn('Non-invertible starting seasonal moving average'\n"
     ]
    },
    {
     "name": "stdout",
     "output_type": "stream",
     "text": [
      "                                        SARIMAX Results                                        \n",
      "===============================================================================================\n",
      "Dep. Variable:                                     ARV   No. Observations:                  112\n",
      "Model:             SARIMAX(2, 1, 1)x(0, 2, [1, 2], 12)   Log Likelihood               -1065.609\n",
      "Date:                                 Thu, 13 Apr 2023   AIC                           2143.218\n",
      "Time:                                         14:43:16   BIC                           2158.014\n",
      "Sample:                                     06-30-2006   HQIC                          2149.176\n",
      "                                          - 09-30-2015                                         \n",
      "Covariance Type:                                   opg                                         \n",
      "==============================================================================\n",
      "                 coef    std err          z      P>|z|      [0.025      0.975]\n",
      "------------------------------------------------------------------------------\n",
      "ar.L1         -0.0618      0.453     -0.136      0.892      -0.950       0.827\n",
      "ar.L2         -0.0379      0.381     -0.100      0.921      -0.784       0.708\n",
      "ma.L1         -0.8820      0.271     -3.251      0.001      -1.414      -0.350\n",
      "ma.S.L12      -1.3276      0.318     -4.181      0.000      -1.950      -0.705\n",
      "ma.S.L24       0.5512      0.534      1.032      0.302      -0.496       1.598\n",
      "sigma2      4.838e+09    5.7e-11   8.48e+19      0.000    4.84e+09    4.84e+09\n",
      "===================================================================================\n",
      "Ljung-Box (L1) (Q):                   0.00   Jarque-Bera (JB):                49.54\n",
      "Prob(Q):                              0.98   Prob(JB):                         0.00\n",
      "Heteroskedasticity (H):               4.67   Skew:                             1.06\n",
      "Prob(H) (two-sided):                  0.00   Kurtosis:                         6.03\n",
      "===================================================================================\n",
      "\n",
      "Warnings:\n",
      "[1] Covariance matrix calculated using the outer product of gradients (complex-step).\n",
      "[2] Covariance matrix is singular or near-singular, with condition number    inf. Standard errors may be unstable.\n"
     ]
    },
    {
     "data": {
      "image/png": "[encoded data removed]",
      "text/plain": [
       "<Figure size 1152x720 with 4 Axes>"
      ]
     },
     "metadata": {
      "needs_background": "light"
     },
     "output_type": "display_data"
    }
   ],
   "source": [
    "# Build SARIMAX model w/optimal parameters\n",
    "sarimax = sm.tsa.statespace.SARIMAX(ts_df['ARV'], \n",
    "                                    order=(2,1,1), \n",
    "                                    seasonal_order=(0,2,2,12), \n",
    "                                    freq='M')\n",
    "                                    \n",
    "# Fit the model\n",
    "output = sarimax.fit()\n",
    "    \n",
    "# Print output summary\n",
    "print(output.summary())\n",
    "\n",
    "# Plot diagnostics\n",
    "output.plot_diagnostics(figsize=(16,10));"
   ]
  },
  {
   "cell_type": "code",
   "execution_count": 66,
   "metadata": {},
   "outputs": [
    {
     "name": "stdout",
     "output_type": "stream",
     "text": [
      "SARIMAX (0, 0, 0) x (0, 0, 0, 12)12 : BIC Calculated =543.4650882869934\n",
      "SARIMAX (0, 0, 0) x (0, 0, 1, 12)12 : BIC Calculated =447.7807170637846\n",
      "SARIMAX (0, 0, 0) x (0, 0, 2, 12)12 : BIC Calculated =393.0317719636017\n",
      "SARIMAX (0, 0, 0) x (0, 1, 0, 12)12 : BIC Calculated =556.3624080005648\n",
      "SARIMAX (0, 0, 0) x (0, 1, 1, 12)12 : BIC Calculated =413.75948902798035\n",
      "SARIMAX (0, 0, 0) x (0, 1, 2, 12)12 : BIC Calculated =354.99818591142036\n",
      "SARIMAX (0, 0, 0) x (0, 2, 0, 12)12 : BIC Calculated =573.9640055681184\n",
      "SARIMAX (0, 0, 0) x (0, 2, 1, 12)12 : BIC Calculated =419.3950417601522\n"
     ]
    },
    {
     "name": "stderr",
     "output_type": "stream",
     "text": [
      "C:\\Users\\beyza\\AppData\\Roaming\\Python\\Python38\\site-packages\\statsmodels\\base\\model.py:604: ConvergenceWarning: Maximum Likelihood optimization failed to converge. Check mle_retvals\n",
      "  warnings.warn(\"Maximum Likelihood optimization failed to \"\n"
     ]
    },
    {
     "name": "stdout",
     "output_type": "stream",
     "text": [
      "SARIMAX (0, 0, 0) x (0, 2, 2, 12)12 : BIC Calculated =2160.761501819381\n",
      "SARIMAX (0, 0, 0) x (1, 0, 0, 12)12 : BIC Calculated =446.9678592301144\n",
      "SARIMAX (0, 0, 0) x (1, 0, 1, 12)12 : BIC Calculated =446.73357387399045\n",
      "SARIMAX (0, 0, 0) x (1, 0, 2, 12)12 : BIC Calculated =397.0260583704922\n",
      "SARIMAX (0, 0, 0) x (1, 1, 0, 12)12 : BIC Calculated =435.1967020487447\n",
      "SARIMAX (0, 0, 0) x (1, 1, 1, 12)12 : BIC Calculated =415.540267606649\n",
      "SARIMAX (0, 0, 0) x (1, 1, 2, 12)12 : BIC Calculated =354.1660442696359\n",
      "SARIMAX (0, 0, 0) x (1, 2, 0, 12)12 : BIC Calculated =440.3001375058013\n",
      "SARIMAX (0, 0, 0) x (1, 2, 1, 12)12 : BIC Calculated =408.16759966507266\n"
     ]
    },
    {
     "name": "stderr",
     "output_type": "stream",
     "text": [
      "C:\\Users\\beyza\\AppData\\Roaming\\Python\\Python38\\site-packages\\statsmodels\\base\\model.py:604: ConvergenceWarning: Maximum Likelihood optimization failed to converge. Check mle_retvals\n",
      "  warnings.warn(\"Maximum Likelihood optimization failed to \"\n"
     ]
    },
    {
     "name": "stdout",
     "output_type": "stream",
     "text": [
      "SARIMAX (0, 0, 0) x (1, 2, 2, 12)12 : BIC Calculated =2879.071791193346\n",
      "SARIMAX (0, 0, 0) x (2, 0, 0, 12)12 : BIC Calculated =397.4939830379235\n",
      "SARIMAX (0, 0, 0) x (2, 0, 1, 12)12 : BIC Calculated =401.1938449199738\n",
      "SARIMAX (0, 0, 0) x (2, 0, 2, 12)12 : BIC Calculated =400.97864113770635\n",
      "SARIMAX (0, 0, 0) x (2, 1, 0, 12)12 : BIC Calculated =363.5905281670501\n",
      "SARIMAX (0, 0, 0) x (2, 1, 1, 12)12 : BIC Calculated =358.4313540626645\n",
      "SARIMAX (0, 0, 0) x (2, 1, 2, 12)12 : BIC Calculated =358.9101378542662\n",
      "SARIMAX (0, 0, 0) x (2, 2, 0, 12)12 : BIC Calculated =361.6123531876214\n",
      "SARIMAX (0, 0, 0) x (2, 2, 1, 12)12 : BIC Calculated =340.34050455450773\n"
     ]
    },
    {
     "name": "stderr",
     "output_type": "stream",
     "text": [
      "C:\\Users\\beyza\\AppData\\Roaming\\Python\\Python38\\site-packages\\statsmodels\\base\\model.py:604: ConvergenceWarning: Maximum Likelihood optimization failed to converge. Check mle_retvals\n",
      "  warnings.warn(\"Maximum Likelihood optimization failed to \"\n"
     ]
    },
    {
     "name": "stdout",
     "output_type": "stream",
     "text": [
      "SARIMAX (0, 0, 0) x (2, 2, 2, 12)12 : BIC Calculated =2405.6061755510605\n",
      "SARIMAX (0, 0, 1) x (0, 0, 0, 12)12 : BIC Calculated =480.0536893152631\n",
      "SARIMAX (0, 0, 1) x (0, 0, 1, 12)12 : BIC Calculated =395.81623999446657\n",
      "SARIMAX (0, 0, 1) x (0, 0, 2, 12)12 : BIC Calculated =348.61992535085136\n",
      "SARIMAX (0, 0, 1) x (0, 1, 0, 12)12 : BIC Calculated =467.07178471650803\n",
      "SARIMAX (0, 0, 1) x (0, 1, 1, 12)12 : BIC Calculated =374.25817881104814\n",
      "SARIMAX (0, 0, 1) x (0, 1, 2, 12)12 : BIC Calculated =322.04095681851544\n",
      "SARIMAX (0, 0, 1) x (0, 2, 0, 12)12 : BIC Calculated =492.4515141652848\n",
      "SARIMAX (0, 0, 1) x (0, 2, 1, 12)12 : BIC Calculated =367.52508628514113\n"
     ]
    },
    {
     "name": "stderr",
     "output_type": "stream",
     "text": [
      "C:\\Users\\beyza\\AppData\\Roaming\\Python\\Python38\\site-packages\\statsmodels\\base\\model.py:604: ConvergenceWarning: Maximum Likelihood optimization failed to converge. Check mle_retvals\n",
      "  warnings.warn(\"Maximum Likelihood optimization failed to \"\n"
     ]
    },
    {
     "name": "stdout",
     "output_type": "stream",
     "text": [
      "SARIMAX (0, 0, 1) x (0, 2, 2, 12)12 : BIC Calculated =2569.0985021445304\n",
      "SARIMAX (0, 0, 1) x (1, 0, 0, 12)12 : BIC Calculated =404.56260508132397\n",
      "SARIMAX (0, 0, 1) x (1, 0, 1, 12)12 : BIC Calculated =400.0119318013452\n",
      "SARIMAX (0, 0, 1) x (1, 0, 2, 12)12 : BIC Calculated =352.94961006374297\n",
      "SARIMAX (0, 0, 1) x (1, 1, 0, 12)12 : BIC Calculated =390.1020578532351\n",
      "SARIMAX (0, 0, 1) x (1, 1, 1, 12)12 : BIC Calculated =380.87417279714475\n",
      "SARIMAX (0, 0, 1) x (1, 1, 2, 12)12 : BIC Calculated =323.41924388264306\n",
      "SARIMAX (0, 0, 1) x (1, 2, 0, 12)12 : BIC Calculated =389.0238501219524\n",
      "SARIMAX (0, 0, 1) x (1, 2, 1, 12)12 : BIC Calculated =364.2809255973991\n"
     ]
    },
    {
     "name": "stderr",
     "output_type": "stream",
     "text": [
      "C:\\Users\\beyza\\AppData\\Roaming\\Python\\Python38\\site-packages\\statsmodels\\base\\model.py:604: ConvergenceWarning: Maximum Likelihood optimization failed to converge. Check mle_retvals\n",
      "  warnings.warn(\"Maximum Likelihood optimization failed to \"\n"
     ]
    },
    {
     "name": "stdout",
     "output_type": "stream",
     "text": [
      "SARIMAX (0, 0, 1) x (1, 2, 2, 12)12 : BIC Calculated =2420.899664220961\n",
      "SARIMAX (0, 0, 1) x (2, 0, 0, 12)12 : BIC Calculated =357.60021584860215\n",
      "SARIMAX (0, 0, 1) x (2, 0, 1, 12)12 : BIC Calculated =360.66483704419807\n",
      "SARIMAX (0, 0, 1) x (2, 0, 2, 12)12 : BIC Calculated =357.3645171903429\n",
      "SARIMAX (0, 0, 1) x (2, 1, 0, 12)12 : BIC Calculated =333.5222842173121\n",
      "SARIMAX (0, 0, 1) x (2, 1, 1, 12)12 : BIC Calculated =336.70590501783715\n",
      "SARIMAX (0, 0, 1) x (2, 1, 2, 12)12 : BIC Calculated =325.6726488806348\n",
      "SARIMAX (0, 0, 1) x (2, 2, 0, 12)12 : BIC Calculated =323.453204254915\n",
      "SARIMAX (0, 0, 1) x (2, 2, 1, 12)12 : BIC Calculated =315.57244157135426\n",
      "SARIMAX (0, 0, 1) x (2, 2, 2, 12)12 : BIC Calculated =2295.257785776455\n",
      "SARIMAX (0, 0, 2) x (0, 0, 0, 12)12 : BIC Calculated =468.5781174950969\n",
      "SARIMAX (0, 0, 2) x (0, 0, 1, 12)12 : BIC Calculated =393.6995849229112\n",
      "SARIMAX (0, 0, 2) x (0, 0, 2, 12)12 : BIC Calculated =347.9059413970942\n",
      "SARIMAX (0, 0, 2) x (0, 1, 0, 12)12 : BIC Calculated =466.65254859724365\n",
      "SARIMAX (0, 0, 2) x (0, 1, 1, 12)12 : BIC Calculated =374.6828190066848\n",
      "SARIMAX (0, 0, 2) x (0, 1, 2, 12)12 : BIC Calculated =321.12731801326817\n",
      "SARIMAX (0, 0, 2) x (0, 2, 0, 12)12 : BIC Calculated =488.3646936561844\n",
      "SARIMAX (0, 0, 2) x (0, 2, 1, 12)12 : BIC Calculated =365.6463073485951\n",
      "SARIMAX (0, 0, 2) x (0, 2, 2, 12)12 : BIC Calculated =2298.9445273543943\n",
      "SARIMAX (0, 0, 2) x (1, 0, 0, 12)12 : BIC Calculated =408.77873820477294\n",
      "SARIMAX (0, 0, 2) x (1, 0, 1, 12)12 : BIC Calculated =398.0121270061908\n",
      "SARIMAX (0, 0, 2) x (1, 0, 2, 12)12 : BIC Calculated =352.3477096924759\n",
      "SARIMAX (0, 0, 2) x (1, 1, 0, 12)12 : BIC Calculated =394.5645814298722\n",
      "SARIMAX (0, 0, 2) x (1, 1, 1, 12)12 : BIC Calculated =376.35016508204876\n",
      "SARIMAX (0, 0, 2) x (1, 1, 2, 12)12 : BIC Calculated =325.35067827318505\n",
      "SARIMAX (0, 0, 2) x (1, 2, 0, 12)12 : BIC Calculated =392.07996851420785\n",
      "SARIMAX (0, 0, 2) x (1, 2, 1, 12)12 : BIC Calculated =360.47496711252273\n",
      "SARIMAX (0, 0, 2) x (1, 2, 2, 12)12 : BIC Calculated =2332.6447612039674\n",
      "SARIMAX (0, 0, 2) x (2, 0, 0, 12)12 : BIC Calculated =362.0554554528128\n",
      "SARIMAX (0, 0, 2) x (2, 0, 1, 12)12 : BIC Calculated =365.1404834242671\n",
      "SARIMAX (0, 0, 2) x (2, 0, 2, 12)12 : BIC Calculated =356.43751865059045\n",
      "SARIMAX (0, 0, 2) x (2, 1, 0, 12)12 : BIC Calculated =337.43458625226043\n",
      "SARIMAX (0, 0, 2) x (2, 1, 1, 12)12 : BIC Calculated =339.8828572044159\n",
      "SARIMAX (0, 0, 2) x (2, 1, 2, 12)12 : BIC Calculated =332.0299676919312\n",
      "SARIMAX (0, 0, 2) x (2, 2, 0, 12)12 : BIC Calculated =327.26644628364596\n",
      "SARIMAX (0, 0, 2) x (2, 2, 1, 12)12 : BIC Calculated =318.8471862387851\n"
     ]
    },
    {
     "name": "stderr",
     "output_type": "stream",
     "text": [
      "C:\\Users\\beyza\\AppData\\Roaming\\Python\\Python38\\site-packages\\statsmodels\\base\\model.py:604: ConvergenceWarning: Maximum Likelihood optimization failed to converge. Check mle_retvals\n",
      "  warnings.warn(\"Maximum Likelihood optimization failed to \"\n"
     ]
    },
    {
     "name": "stdout",
     "output_type": "stream",
     "text": [
      "SARIMAX (0, 0, 2) x (2, 2, 2, 12)12 : BIC Calculated =2333.7773082449926\n",
      "SARIMAX (0, 1, 0) x (0, 0, 0, 12)12 : BIC Calculated =647.4640780714365\n",
      "SARIMAX (0, 1, 0) x (0, 0, 1, 12)12 : BIC Calculated =533.4969598374223\n"
     ]
    },
    {
     "name": "stderr",
     "output_type": "stream",
     "text": [
      "C:\\Users\\beyza\\AppData\\Roaming\\Python\\Python38\\site-packages\\statsmodels\\base\\model.py:604: ConvergenceWarning: Maximum Likelihood optimization failed to converge. Check mle_retvals\n",
      "  warnings.warn(\"Maximum Likelihood optimization failed to \"\n"
     ]
    },
    {
     "name": "stdout",
     "output_type": "stream",
     "text": [
      "SARIMAX (0, 1, 0) x (0, 0, 2, 12)12 : BIC Calculated =472.2606840045926\n",
      "SARIMAX (0, 1, 0) x (0, 1, 0, 12)12 : BIC Calculated =651.439358007857\n",
      "SARIMAX (0, 1, 0) x (0, 1, 1, 12)12 : BIC Calculated =492.7926299008221\n",
      "SARIMAX (0, 1, 0) x (0, 1, 2, 12)12 : BIC Calculated =413.03531415537344\n",
      "SARIMAX (0, 1, 0) x (0, 2, 0, 12)12 : BIC Calculated =658.8928119425273\n",
      "SARIMAX (0, 1, 0) x (0, 2, 1, 12)12 : BIC Calculated =493.49875803543523\n"
     ]
    },
    {
     "name": "stderr",
     "output_type": "stream",
     "text": [
      "C:\\Users\\beyza\\AppData\\Roaming\\Python\\Python38\\site-packages\\statsmodels\\base\\model.py:604: ConvergenceWarning: Maximum Likelihood optimization failed to converge. Check mle_retvals\n",
      "  warnings.warn(\"Maximum Likelihood optimization failed to \"\n"
     ]
    },
    {
     "name": "stdout",
     "output_type": "stream",
     "text": [
      "SARIMAX (0, 1, 0) x (0, 2, 2, 12)12 : BIC Calculated =2115.4542465000013\n",
      "SARIMAX (0, 1, 0) x (1, 0, 0, 12)12 : BIC Calculated =533.454172075514\n",
      "SARIMAX (0, 1, 0) x (1, 0, 1, 12)12 : BIC Calculated =533.200473066059\n"
     ]
    },
    {
     "name": "stderr",
     "output_type": "stream",
     "text": [
      "C:\\Users\\beyza\\AppData\\Roaming\\Python\\Python38\\site-packages\\statsmodels\\base\\model.py:604: ConvergenceWarning: Maximum Likelihood optimization failed to converge. Check mle_retvals\n",
      "  warnings.warn(\"Maximum Likelihood optimization failed to \"\n"
     ]
    },
    {
     "name": "stdout",
     "output_type": "stream",
     "text": [
      "SARIMAX (0, 1, 0) x (1, 0, 2, 12)12 : BIC Calculated =475.45808480594275\n",
      "SARIMAX (0, 1, 0) x (1, 1, 0, 12)12 : BIC Calculated =517.3796195855833\n",
      "SARIMAX (0, 1, 0) x (1, 1, 1, 12)12 : BIC Calculated =485.2846073724938\n"
     ]
    },
    {
     "name": "stderr",
     "output_type": "stream",
     "text": [
      "C:\\Users\\beyza\\AppData\\Roaming\\Python\\Python38\\site-packages\\statsmodels\\base\\model.py:604: ConvergenceWarning: Maximum Likelihood optimization failed to converge. Check mle_retvals\n",
      "  warnings.warn(\"Maximum Likelihood optimization failed to \"\n"
     ]
    },
    {
     "name": "stdout",
     "output_type": "stream",
     "text": [
      "SARIMAX (0, 1, 0) x (1, 1, 2, 12)12 : BIC Calculated =414.7275858087153\n",
      "SARIMAX (0, 1, 0) x (1, 2, 0, 12)12 : BIC Calculated =516.4305733451554\n",
      "SARIMAX (0, 1, 0) x (1, 2, 1, 12)12 : BIC Calculated =477.01520453958096\n"
     ]
    },
    {
     "name": "stderr",
     "output_type": "stream",
     "text": [
      "C:\\Users\\beyza\\AppData\\Roaming\\Python\\Python38\\site-packages\\statsmodels\\base\\model.py:604: ConvergenceWarning: Maximum Likelihood optimization failed to converge. Check mle_retvals\n",
      "  warnings.warn(\"Maximum Likelihood optimization failed to \"\n"
     ]
    },
    {
     "name": "stdout",
     "output_type": "stream",
     "text": [
      "SARIMAX (0, 1, 0) x (1, 2, 2, 12)12 : BIC Calculated =2838.6705424124198\n",
      "SARIMAX (0, 1, 0) x (2, 0, 0, 12)12 : BIC Calculated =475.45127240685764\n",
      "SARIMAX (0, 1, 0) x (2, 0, 1, 12)12 : BIC Calculated =479.4998853027593\n"
     ]
    },
    {
     "name": "stderr",
     "output_type": "stream",
     "text": [
      "C:\\Users\\beyza\\AppData\\Roaming\\Python\\Python38\\site-packages\\statsmodels\\base\\model.py:604: ConvergenceWarning: Maximum Likelihood optimization failed to converge. Check mle_retvals\n",
      "  warnings.warn(\"Maximum Likelihood optimization failed to \"\n"
     ]
    },
    {
     "name": "stdout",
     "output_type": "stream",
     "text": [
      "SARIMAX (0, 1, 0) x (2, 0, 2, 12)12 : BIC Calculated =479.7418900990591\n",
      "SARIMAX (0, 1, 0) x (2, 1, 0, 12)12 : BIC Calculated =430.4113416802608\n",
      "SARIMAX (0, 1, 0) x (2, 1, 1, 12)12 : BIC Calculated =418.3230569784478\n"
     ]
    },
    {
     "name": "stderr",
     "output_type": "stream",
     "text": [
      "C:\\Users\\beyza\\AppData\\Roaming\\Python\\Python38\\site-packages\\statsmodels\\base\\model.py:604: ConvergenceWarning: Maximum Likelihood optimization failed to converge. Check mle_retvals\n",
      "  warnings.warn(\"Maximum Likelihood optimization failed to \"\n"
     ]
    },
    {
     "name": "stdout",
     "output_type": "stream",
     "text": [
      "SARIMAX (0, 1, 0) x (2, 1, 2, 12)12 : BIC Calculated =417.9506844081971\n",
      "SARIMAX (0, 1, 0) x (2, 2, 0, 12)12 : BIC Calculated =421.2151617748241\n",
      "SARIMAX (0, 1, 0) x (2, 2, 1, 12)12 : BIC Calculated =396.8263774579713\n"
     ]
    },
    {
     "name": "stderr",
     "output_type": "stream",
     "text": [
      "C:\\Users\\beyza\\AppData\\Roaming\\Python\\Python38\\site-packages\\statsmodels\\base\\model.py:604: ConvergenceWarning: Maximum Likelihood optimization failed to converge. Check mle_retvals\n",
      "  warnings.warn(\"Maximum Likelihood optimization failed to \"\n"
     ]
    },
    {
     "name": "stdout",
     "output_type": "stream",
     "text": [
      "SARIMAX (0, 1, 0) x (2, 2, 2, 12)12 : BIC Calculated =2086.8703176026647\n",
      "SARIMAX (0, 1, 1) x (0, 0, 0, 12)12 : BIC Calculated =508.4709223826716\n",
      "SARIMAX (0, 1, 1) x (0, 0, 1, 12)12 : BIC Calculated =445.09186261210397\n",
      "SARIMAX (0, 1, 1) x (0, 0, 2, 12)12 : BIC Calculated =392.2857253528138\n",
      "SARIMAX (0, 1, 1) x (0, 1, 0, 12)12 : BIC Calculated =525.4140319873794\n",
      "SARIMAX (0, 1, 1) x (0, 1, 1, 12)12 : BIC Calculated =401.7015037899306\n",
      "SARIMAX (0, 1, 1) x (0, 1, 2, 12)12 : BIC Calculated =354.21913352786373\n",
      "SARIMAX (0, 1, 1) x (0, 2, 0, 12)12 : BIC Calculated =557.636684398429\n",
      "SARIMAX (0, 1, 1) x (0, 2, 1, 12)12 : BIC Calculated =409.51017184306215\n"
     ]
    },
    {
     "name": "stderr",
     "output_type": "stream",
     "text": [
      "C:\\Users\\beyza\\AppData\\Roaming\\Python\\Python38\\site-packages\\statsmodels\\base\\model.py:604: ConvergenceWarning: Maximum Likelihood optimization failed to converge. Check mle_retvals\n",
      "  warnings.warn(\"Maximum Likelihood optimization failed to \"\n"
     ]
    },
    {
     "name": "stdout",
     "output_type": "stream",
     "text": [
      "SARIMAX (0, 1, 1) x (0, 2, 2, 12)12 : BIC Calculated =2623.6882075367803\n",
      "SARIMAX (0, 1, 1) x (1, 0, 0, 12)12 : BIC Calculated =452.60292585191104\n",
      "SARIMAX (0, 1, 1) x (1, 0, 1, 12)12 : BIC Calculated =447.8412196631763\n"
     ]
    },
    {
     "name": "stderr",
     "output_type": "stream",
     "text": [
      "C:\\Users\\beyza\\AppData\\Roaming\\Python\\Python38\\site-packages\\statsmodels\\base\\model.py:604: ConvergenceWarning: Maximum Likelihood optimization failed to converge. Check mle_retvals\n",
      "  warnings.warn(\"Maximum Likelihood optimization failed to \"\n"
     ]
    },
    {
     "name": "stdout",
     "output_type": "stream",
     "text": [
      "SARIMAX (0, 1, 1) x (1, 0, 2, 12)12 : BIC Calculated =394.1804187368637\n",
      "SARIMAX (0, 1, 1) x (1, 1, 0, 12)12 : BIC Calculated =440.18622883629143\n",
      "SARIMAX (0, 1, 1) x (1, 1, 1, 12)12 : BIC Calculated =412.99272211138214\n",
      "SARIMAX (0, 1, 1) x (1, 1, 2, 12)12 : BIC Calculated =353.4341916237429\n",
      "SARIMAX (0, 1, 1) x (1, 2, 0, 12)12 : BIC Calculated =444.23440417138323\n",
      "SARIMAX (0, 1, 1) x (1, 2, 1, 12)12 : BIC Calculated =401.3463253040521\n"
     ]
    },
    {
     "name": "stderr",
     "output_type": "stream",
     "text": [
      "C:\\Users\\beyza\\AppData\\Roaming\\Python\\Python38\\site-packages\\statsmodels\\base\\model.py:604: ConvergenceWarning: Maximum Likelihood optimization failed to converge. Check mle_retvals\n",
      "  warnings.warn(\"Maximum Likelihood optimization failed to \"\n"
     ]
    },
    {
     "name": "stdout",
     "output_type": "stream",
     "text": [
      "SARIMAX (0, 1, 1) x (1, 2, 2, 12)12 : BIC Calculated =20.554369320866556\n",
      "SARIMAX (0, 1, 1) x (2, 0, 0, 12)12 : BIC Calculated =401.2584748606094\n",
      "SARIMAX (0, 1, 1) x (2, 0, 1, 12)12 : BIC Calculated =406.2356735503891\n",
      "SARIMAX (0, 1, 1) x (2, 0, 2, 12)12 : BIC Calculated =397.7400212209245\n",
      "SARIMAX (0, 1, 1) x (2, 1, 0, 12)12 : BIC Calculated =368.4511451761912\n",
      "SARIMAX (0, 1, 1) x (2, 1, 1, 12)12 : BIC Calculated =364.3743553955753\n",
      "SARIMAX (0, 1, 1) x (2, 1, 2, 12)12 : BIC Calculated =359.00848917601985\n",
      "SARIMAX (0, 1, 1) x (2, 2, 0, 12)12 : BIC Calculated =365.39082248495714\n",
      "SARIMAX (0, 1, 1) x (2, 2, 1, 12)12 : BIC Calculated =346.02458438588906\n"
     ]
    },
    {
     "name": "stderr",
     "output_type": "stream",
     "text": [
      "C:\\Users\\beyza\\AppData\\Roaming\\Python\\Python38\\site-packages\\statsmodels\\base\\model.py:604: ConvergenceWarning: Maximum Likelihood optimization failed to converge. Check mle_retvals\n",
      "  warnings.warn(\"Maximum Likelihood optimization failed to \"\n"
     ]
    },
    {
     "name": "stdout",
     "output_type": "stream",
     "text": [
      "SARIMAX (0, 1, 1) x (2, 2, 2, 12)12 : BIC Calculated =24.66524318503987\n",
      "SARIMAX (0, 1, 2) x (0, 0, 0, 12)12 : BIC Calculated =476.6244250198957\n",
      "SARIMAX (0, 1, 2) x (0, 0, 1, 12)12 : BIC Calculated =399.0229142998759\n",
      "SARIMAX (0, 1, 2) x (0, 0, 2, 12)12 : BIC Calculated =352.03822065828354\n",
      "SARIMAX (0, 1, 2) x (0, 1, 0, 12)12 : BIC Calculated =465.12728973089406\n",
      "SARIMAX (0, 1, 2) x (0, 1, 1, 12)12 : BIC Calculated =366.28993010771177\n",
      "SARIMAX (0, 1, 2) x (0, 1, 2, 12)12 : BIC Calculated =320.35369373695454\n",
      "SARIMAX (0, 1, 2) x (0, 2, 0, 12)12 : BIC Calculated =493.8739507221219\n",
      "SARIMAX (0, 1, 2) x (0, 2, 1, 12)12 : BIC Calculated =365.7145812183747\n"
     ]
    },
    {
     "name": "stderr",
     "output_type": "stream",
     "text": [
      "C:\\Users\\beyza\\AppData\\Roaming\\Python\\Python38\\site-packages\\statsmodels\\base\\model.py:604: ConvergenceWarning: Maximum Likelihood optimization failed to converge. Check mle_retvals\n",
      "  warnings.warn(\"Maximum Likelihood optimization failed to \"\n"
     ]
    },
    {
     "name": "stdout",
     "output_type": "stream",
     "text": [
      "SARIMAX (0, 1, 2) x (0, 2, 2, 12)12 : BIC Calculated =2184.0261036226866\n",
      "SARIMAX (0, 1, 2) x (1, 0, 0, 12)12 : BIC Calculated =413.4751700893755\n"
     ]
    },
    {
     "name": "stderr",
     "output_type": "stream",
     "text": [
      "C:\\Users\\beyza\\AppData\\Roaming\\Python\\Python38\\site-packages\\statsmodels\\base\\model.py:604: ConvergenceWarning: Maximum Likelihood optimization failed to converge. Check mle_retvals\n",
      "  warnings.warn(\"Maximum Likelihood optimization failed to \"\n"
     ]
    },
    {
     "name": "stdout",
     "output_type": "stream",
     "text": [
      "SARIMAX (0, 1, 2) x (1, 0, 1, 12)12 : BIC Calculated =401.46977095789475\n"
     ]
    },
    {
     "name": "stderr",
     "output_type": "stream",
     "text": [
      "C:\\Users\\beyza\\AppData\\Roaming\\Python\\Python38\\site-packages\\statsmodels\\base\\model.py:604: ConvergenceWarning: Maximum Likelihood optimization failed to converge. Check mle_retvals\n",
      "  warnings.warn(\"Maximum Likelihood optimization failed to \"\n"
     ]
    },
    {
     "name": "stdout",
     "output_type": "stream",
     "text": [
      "SARIMAX (0, 1, 2) x (1, 0, 2, 12)12 : BIC Calculated =356.6398311992703\n",
      "SARIMAX (0, 1, 2) x (1, 1, 0, 12)12 : BIC Calculated =398.2691212872674\n",
      "SARIMAX (0, 1, 2) x (1, 1, 1, 12)12 : BIC Calculated =380.22260508583923\n",
      "SARIMAX (0, 1, 2) x (1, 1, 2, 12)12 : BIC Calculated =321.38641713423306\n",
      "SARIMAX (0, 1, 2) x (1, 2, 0, 12)12 : BIC Calculated =398.8837573836121\n",
      "SARIMAX (0, 1, 2) x (1, 2, 1, 12)12 : BIC Calculated =367.01342056847017\n"
     ]
    },
    {
     "name": "stderr",
     "output_type": "stream",
     "text": [
      "C:\\Users\\beyza\\AppData\\Roaming\\Python\\Python38\\site-packages\\statsmodels\\base\\model.py:604: ConvergenceWarning: Maximum Likelihood optimization failed to converge. Check mle_retvals\n",
      "  warnings.warn(\"Maximum Likelihood optimization failed to \"\n"
     ]
    },
    {
     "name": "stdout",
     "output_type": "stream",
     "text": [
      "SARIMAX (0, 1, 2) x (1, 2, 2, 12)12 : BIC Calculated =380.17678567004435\n",
      "SARIMAX (0, 1, 2) x (2, 0, 0, 12)12 : BIC Calculated =364.66393565326024\n",
      "SARIMAX (0, 1, 2) x (2, 0, 1, 12)12 : BIC Calculated =369.6780537613217\n"
     ]
    },
    {
     "name": "stderr",
     "output_type": "stream",
     "text": [
      "C:\\Users\\beyza\\AppData\\Roaming\\Python\\Python38\\site-packages\\statsmodels\\base\\model.py:604: ConvergenceWarning: Maximum Likelihood optimization failed to converge. Check mle_retvals\n",
      "  warnings.warn(\"Maximum Likelihood optimization failed to \"\n"
     ]
    },
    {
     "name": "stdout",
     "output_type": "stream",
     "text": [
      "SARIMAX (0, 1, 2) x (2, 0, 2, 12)12 : BIC Calculated =360.74401221058315\n",
      "SARIMAX (0, 1, 2) x (2, 1, 0, 12)12 : BIC Calculated =341.5598834092782\n",
      "SARIMAX (0, 1, 2) x (2, 1, 1, 12)12 : BIC Calculated =344.3945015567083\n"
     ]
    },
    {
     "name": "stderr",
     "output_type": "stream",
     "text": [
      "C:\\Users\\beyza\\AppData\\Roaming\\Python\\Python38\\site-packages\\statsmodels\\base\\model.py:604: ConvergenceWarning: Maximum Likelihood optimization failed to converge. Check mle_retvals\n",
      "  warnings.warn(\"Maximum Likelihood optimization failed to \"\n"
     ]
    },
    {
     "name": "stdout",
     "output_type": "stream",
     "text": [
      "SARIMAX (0, 1, 2) x (2, 1, 2, 12)12 : BIC Calculated =332.17988766177587\n",
      "SARIMAX (0, 1, 2) x (2, 2, 0, 12)12 : BIC Calculated =333.1020634707451\n"
     ]
    },
    {
     "name": "stderr",
     "output_type": "stream",
     "text": [
      "C:\\Users\\beyza\\AppData\\Roaming\\Python\\Python38\\site-packages\\statsmodels\\base\\model.py:604: ConvergenceWarning: Maximum Likelihood optimization failed to converge. Check mle_retvals\n",
      "  warnings.warn(\"Maximum Likelihood optimization failed to \"\n"
     ]
    },
    {
     "name": "stdout",
     "output_type": "stream",
     "text": [
      "SARIMAX (0, 1, 2) x (2, 2, 1, 12)12 : BIC Calculated =318.9717367136252\n"
     ]
    },
    {
     "name": "stderr",
     "output_type": "stream",
     "text": [
      "C:\\Users\\beyza\\AppData\\Roaming\\Python\\Python38\\site-packages\\statsmodels\\base\\model.py:604: ConvergenceWarning: Maximum Likelihood optimization failed to converge. Check mle_retvals\n",
      "  warnings.warn(\"Maximum Likelihood optimization failed to \"\n"
     ]
    },
    {
     "name": "stdout",
     "output_type": "stream",
     "text": [
      "SARIMAX (0, 1, 2) x (2, 2, 2, 12)12 : BIC Calculated =312.47672986952875\n",
      "SARIMAX (0, 2, 0) x (0, 0, 0, 12)12 : BIC Calculated =756.7007042440024\n",
      "SARIMAX (0, 2, 0) x (0, 0, 1, 12)12 : BIC Calculated =634.0126252992561\n"
     ]
    },
    {
     "name": "stderr",
     "output_type": "stream",
     "text": [
      "C:\\Users\\beyza\\AppData\\Roaming\\Python\\Python38\\site-packages\\statsmodels\\base\\model.py:604: ConvergenceWarning: Maximum Likelihood optimization failed to converge. Check mle_retvals\n",
      "  warnings.warn(\"Maximum Likelihood optimization failed to \"\n"
     ]
    },
    {
     "name": "stdout",
     "output_type": "stream",
     "text": [
      "SARIMAX (0, 2, 0) x (0, 0, 2, 12)12 : BIC Calculated =563.1468781063835\n",
      "SARIMAX (0, 2, 0) x (0, 1, 0, 12)12 : BIC Calculated =750.9023329099196\n",
      "SARIMAX (0, 2, 0) x (0, 1, 1, 12)12 : BIC Calculated =579.337031640564\n"
     ]
    },
    {
     "name": "stderr",
     "output_type": "stream",
     "text": [
      "C:\\Users\\beyza\\AppData\\Roaming\\Python\\Python38\\site-packages\\statsmodels\\base\\model.py:604: ConvergenceWarning: Maximum Likelihood optimization failed to converge. Check mle_retvals\n",
      "  warnings.warn(\"Maximum Likelihood optimization failed to \"\n"
     ]
    },
    {
     "name": "stdout",
     "output_type": "stream",
     "text": [
      "SARIMAX (0, 2, 0) x (0, 1, 2, 12)12 : BIC Calculated =494.3295030838344\n",
      "SARIMAX (0, 2, 0) x (0, 2, 0, 12)12 : BIC Calculated =749.8697889349414\n",
      "SARIMAX (0, 2, 0) x (0, 2, 1, 12)12 : BIC Calculated =571.6584417865389\n"
     ]
    },
    {
     "name": "stderr",
     "output_type": "stream",
     "text": [
      "C:\\Users\\beyza\\AppData\\Roaming\\Python\\Python38\\site-packages\\statsmodels\\base\\model.py:604: ConvergenceWarning: Maximum Likelihood optimization failed to converge. Check mle_retvals\n",
      "  warnings.warn(\"Maximum Likelihood optimization failed to \"\n"
     ]
    },
    {
     "name": "stdout",
     "output_type": "stream",
     "text": [
      "SARIMAX (0, 2, 0) x (0, 2, 2, 12)12 : BIC Calculated =2432.4709147954304\n",
      "SARIMAX (0, 2, 0) x (1, 0, 0, 12)12 : BIC Calculated =635.3347910923495\n",
      "SARIMAX (0, 2, 0) x (1, 0, 1, 12)12 : BIC Calculated =634.2081357561104\n"
     ]
    },
    {
     "name": "stderr",
     "output_type": "stream",
     "text": [
      "C:\\Users\\beyza\\AppData\\Roaming\\Python\\Python38\\site-packages\\statsmodels\\base\\model.py:604: ConvergenceWarning: Maximum Likelihood optimization failed to converge. Check mle_retvals\n",
      "  warnings.warn(\"Maximum Likelihood optimization failed to \"\n"
     ]
    },
    {
     "name": "stdout",
     "output_type": "stream",
     "text": [
      "SARIMAX (0, 2, 0) x (1, 0, 2, 12)12 : BIC Calculated =564.4693341684549\n",
      "SARIMAX (0, 2, 0) x (1, 1, 0, 12)12 : BIC Calculated =608.4839499594152\n",
      "SARIMAX (0, 2, 0) x (1, 1, 1, 12)12 : BIC Calculated =567.3669162242318\n"
     ]
    },
    {
     "name": "stderr",
     "output_type": "stream",
     "text": [
      "C:\\Users\\beyza\\AppData\\Roaming\\Python\\Python38\\site-packages\\statsmodels\\base\\model.py:604: ConvergenceWarning: Maximum Likelihood optimization failed to converge. Check mle_retvals\n",
      "  warnings.warn(\"Maximum Likelihood optimization failed to \"\n"
     ]
    },
    {
     "name": "stdout",
     "output_type": "stream",
     "text": [
      "SARIMAX (0, 2, 0) x (1, 1, 2, 12)12 : BIC Calculated =486.8280065007812\n",
      "SARIMAX (0, 2, 0) x (1, 2, 0, 12)12 : BIC Calculated =596.5485417355783\n",
      "SARIMAX (0, 2, 0) x (1, 2, 1, 12)12 : BIC Calculated =550.764138422641\n"
     ]
    },
    {
     "name": "stderr",
     "output_type": "stream",
     "text": [
      "C:\\Users\\beyza\\AppData\\Roaming\\Python\\Python38\\site-packages\\statsmodels\\base\\model.py:604: ConvergenceWarning: Maximum Likelihood optimization failed to converge. Check mle_retvals\n",
      "  warnings.warn(\"Maximum Likelihood optimization failed to \"\n"
     ]
    },
    {
     "name": "stdout",
     "output_type": "stream",
     "text": [
      "SARIMAX (0, 2, 0) x (1, 2, 2, 12)12 : BIC Calculated =3794.448517731251\n",
      "SARIMAX (0, 2, 0) x (2, 0, 0, 12)12 : BIC Calculated =566.6652455271548\n",
      "SARIMAX (0, 2, 0) x (2, 0, 1, 12)12 : BIC Calculated =570.8575248697657\n",
      "SARIMAX (0, 2, 0) x (2, 0, 2, 12)12 : BIC Calculated =566.1318222478255\n",
      "SARIMAX (0, 2, 0) x (2, 1, 0, 12)12 : BIC Calculated =506.57525051999886\n",
      "SARIMAX (0, 2, 0) x (2, 1, 1, 12)12 : BIC Calculated =490.24641509727695\n"
     ]
    },
    {
     "name": "stderr",
     "output_type": "stream",
     "text": [
      "C:\\Users\\beyza\\AppData\\Roaming\\Python\\Python38\\site-packages\\statsmodels\\base\\model.py:604: ConvergenceWarning: Maximum Likelihood optimization failed to converge. Check mle_retvals\n",
      "  warnings.warn(\"Maximum Likelihood optimization failed to \"\n"
     ]
    },
    {
     "name": "stdout",
     "output_type": "stream",
     "text": [
      "SARIMAX (0, 2, 0) x (2, 1, 2, 12)12 : BIC Calculated =488.4308533023153\n",
      "SARIMAX (0, 2, 0) x (2, 2, 0, 12)12 : BIC Calculated =485.14502028081813\n",
      "SARIMAX (0, 2, 0) x (2, 2, 1, 12)12 : BIC Calculated =460.43252850164\n"
     ]
    },
    {
     "name": "stderr",
     "output_type": "stream",
     "text": [
      "C:\\Users\\beyza\\AppData\\Roaming\\Python\\Python38\\site-packages\\statsmodels\\base\\model.py:604: ConvergenceWarning: Maximum Likelihood optimization failed to converge. Check mle_retvals\n",
      "  warnings.warn(\"Maximum Likelihood optimization failed to \"\n"
     ]
    },
    {
     "name": "stdout",
     "output_type": "stream",
     "text": [
      "SARIMAX (0, 2, 0) x (2, 2, 2, 12)12 : BIC Calculated =1608.8101089777049\n",
      "SARIMAX (0, 2, 1) x (0, 0, 0, 12)12 : BIC Calculated =613.2602777671472\n",
      "SARIMAX (0, 2, 1) x (0, 0, 1, 12)12 : BIC Calculated =529.8479233234855\n"
     ]
    },
    {
     "name": "stderr",
     "output_type": "stream",
     "text": [
      "C:\\Users\\beyza\\AppData\\Roaming\\Python\\Python38\\site-packages\\statsmodels\\base\\model.py:604: ConvergenceWarning: Maximum Likelihood optimization failed to converge. Check mle_retvals\n",
      "  warnings.warn(\"Maximum Likelihood optimization failed to \"\n"
     ]
    },
    {
     "name": "stdout",
     "output_type": "stream",
     "text": [
      "SARIMAX (0, 2, 1) x (0, 0, 2, 12)12 : BIC Calculated =468.8102280656651\n",
      "SARIMAX (0, 2, 1) x (0, 1, 0, 12)12 : BIC Calculated =625.3856210663303\n",
      "SARIMAX (0, 2, 1) x (0, 1, 1, 12)12 : BIC Calculated =478.83435784504405\n"
     ]
    },
    {
     "name": "stderr",
     "output_type": "stream",
     "text": [
      "C:\\Users\\beyza\\AppData\\Roaming\\Python\\Python38\\site-packages\\statsmodels\\base\\model.py:604: ConvergenceWarning: Maximum Likelihood optimization failed to converge. Check mle_retvals\n",
      "  warnings.warn(\"Maximum Likelihood optimization failed to \"\n"
     ]
    },
    {
     "name": "stdout",
     "output_type": "stream",
     "text": [
      "SARIMAX (0, 2, 1) x (0, 1, 2, 12)12 : BIC Calculated =416.264395119117\n",
      "SARIMAX (0, 2, 1) x (0, 2, 0, 12)12 : BIC Calculated =645.3264018793878\n",
      "SARIMAX (0, 2, 1) x (0, 2, 1, 12)12 : BIC Calculated =481.45176839990364\n",
      "SARIMAX (0, 2, 1) x (0, 2, 2, 12)12 : BIC Calculated =644.6972052431693\n",
      "SARIMAX (0, 2, 1) x (1, 0, 0, 12)12 : BIC Calculated =538.274090062346\n",
      "SARIMAX (0, 2, 1) x (1, 0, 1, 12)12 : BIC Calculated =531.582329832017\n",
      "SARIMAX (0, 2, 1) x (1, 0, 2, 12)12 : BIC Calculated =470.02032108949913\n",
      "SARIMAX (0, 2, 1) x (1, 1, 0, 12)12 : BIC Calculated =521.4175568842072\n",
      "SARIMAX (0, 2, 1) x (1, 1, 1, 12)12 : BIC Calculated =479.0358340418835\n",
      "SARIMAX (0, 2, 1) x (1, 1, 2, 12)12 : BIC Calculated =413.46544428149406\n",
      "SARIMAX (0, 2, 1) x (1, 2, 0, 12)12 : BIC Calculated =519.2561350241942\n",
      "SARIMAX (0, 2, 1) x (1, 2, 1, 12)12 : BIC Calculated =465.62565877263967\n"
     ]
    },
    {
     "name": "stderr",
     "output_type": "stream",
     "text": [
      "C:\\Users\\beyza\\AppData\\Roaming\\Python\\Python38\\site-packages\\statsmodels\\base\\model.py:604: ConvergenceWarning: Maximum Likelihood optimization failed to converge. Check mle_retvals\n",
      "  warnings.warn(\"Maximum Likelihood optimization failed to \"\n"
     ]
    },
    {
     "name": "stdout",
     "output_type": "stream",
     "text": [
      "SARIMAX (0, 2, 1) x (1, 2, 2, 12)12 : BIC Calculated =647.0216463335188\n",
      "SARIMAX (0, 2, 1) x (2, 0, 0, 12)12 : BIC Calculated =478.9665262966017\n",
      "SARIMAX (0, 2, 1) x (2, 0, 1, 12)12 : BIC Calculated =483.16214857999694\n",
      "SARIMAX (0, 2, 1) x (2, 0, 2, 12)12 : BIC Calculated =472.3141328067971\n",
      "SARIMAX (0, 2, 1) x (2, 1, 0, 12)12 : BIC Calculated =434.3981290291139\n",
      "SARIMAX (0, 2, 1) x (2, 1, 1, 12)12 : BIC Calculated =423.8823816307939\n"
     ]
    },
    {
     "name": "stderr",
     "output_type": "stream",
     "text": [
      "C:\\Users\\beyza\\AppData\\Roaming\\Python\\Python38\\site-packages\\statsmodels\\base\\model.py:604: ConvergenceWarning: Maximum Likelihood optimization failed to converge. Check mle_retvals\n",
      "  warnings.warn(\"Maximum Likelihood optimization failed to \"\n"
     ]
    },
    {
     "name": "stdout",
     "output_type": "stream",
     "text": [
      "SARIMAX (0, 2, 1) x (2, 1, 2, 12)12 : BIC Calculated =417.02067305190633\n",
      "SARIMAX (0, 2, 1) x (2, 2, 0, 12)12 : BIC Calculated =423.92331186177705\n",
      "SARIMAX (0, 2, 1) x (2, 2, 1, 12)12 : BIC Calculated =407.40949606816184\n"
     ]
    },
    {
     "name": "stderr",
     "output_type": "stream",
     "text": [
      "C:\\Users\\beyza\\AppData\\Roaming\\Python\\Python38\\site-packages\\statsmodels\\base\\model.py:604: ConvergenceWarning: Maximum Likelihood optimization failed to converge. Check mle_retvals\n",
      "  warnings.warn(\"Maximum Likelihood optimization failed to \"\n"
     ]
    },
    {
     "name": "stdout",
     "output_type": "stream",
     "text": [
      "SARIMAX (0, 2, 1) x (2, 2, 2, 12)12 : BIC Calculated =794.2627917081497\n",
      "SARIMAX (0, 2, 2) x (0, 0, 0, 12)12 : BIC Calculated =511.12882317329803\n",
      "SARIMAX (0, 2, 2) x (0, 0, 1, 12)12 : BIC Calculated =451.2997796826336\n",
      "SARIMAX (0, 2, 2) x (0, 0, 2, 12)12 : BIC Calculated =394.51981632950975\n",
      "SARIMAX (0, 2, 2) x (0, 1, 0, 12)12 : BIC Calculated =526.7005563573888\n",
      "SARIMAX (0, 2, 2) x (0, 1, 1, 12)12 : BIC Calculated =398.25282485862584\n"
     ]
    },
    {
     "name": "stderr",
     "output_type": "stream",
     "text": [
      "C:\\Users\\beyza\\AppData\\Roaming\\Python\\Python38\\site-packages\\statsmodels\\base\\model.py:604: ConvergenceWarning: Maximum Likelihood optimization failed to converge. Check mle_retvals\n",
      "  warnings.warn(\"Maximum Likelihood optimization failed to \"\n"
     ]
    },
    {
     "name": "stdout",
     "output_type": "stream",
     "text": [
      "SARIMAX (0, 2, 2) x (0, 1, 2, 12)12 : BIC Calculated =353.0013381418092\n",
      "SARIMAX (0, 2, 2) x (0, 2, 0, 12)12 : BIC Calculated =556.4850520722939\n"
     ]
    },
    {
     "name": "stderr",
     "output_type": "stream",
     "text": [
      "C:\\Users\\beyza\\AppData\\Roaming\\Python\\Python38\\site-packages\\statsmodels\\base\\model.py:604: ConvergenceWarning: Maximum Likelihood optimization failed to converge. Check mle_retvals\n",
      "  warnings.warn(\"Maximum Likelihood optimization failed to \"\n"
     ]
    },
    {
     "name": "stdout",
     "output_type": "stream",
     "text": [
      "SARIMAX (0, 2, 2) x (0, 2, 1, 12)12 : BIC Calculated =404.2931410364192\n"
     ]
    },
    {
     "name": "stderr",
     "output_type": "stream",
     "text": [
      "C:\\Users\\beyza\\AppData\\Roaming\\Python\\Python38\\site-packages\\statsmodels\\base\\model.py:604: ConvergenceWarning: Maximum Likelihood optimization failed to converge. Check mle_retvals\n",
      "  warnings.warn(\"Maximum Likelihood optimization failed to \"\n"
     ]
    },
    {
     "name": "stdout",
     "output_type": "stream",
     "text": [
      "SARIMAX (0, 2, 2) x (0, 2, 2, 12)12 : BIC Calculated =1885.9119423466227\n",
      "SARIMAX (0, 2, 2) x (1, 0, 0, 12)12 : BIC Calculated =463.69667070420525\n",
      "SARIMAX (0, 2, 2) x (1, 0, 1, 12)12 : BIC Calculated =451.29961376342567\n",
      "SARIMAX (0, 2, 2) x (1, 0, 2, 12)12 : BIC Calculated =396.982313032004\n",
      "SARIMAX (0, 2, 2) x (1, 1, 0, 12)12 : BIC Calculated =449.2854033539838\n",
      "SARIMAX (0, 2, 2) x (1, 1, 1, 12)12 : BIC Calculated =411.5013115841929\n",
      "SARIMAX (0, 2, 2) x (1, 1, 2, 12)12 : BIC Calculated =350.8759603049002\n",
      "SARIMAX (0, 2, 2) x (1, 2, 0, 12)12 : BIC Calculated =451.93550135443223\n",
      "SARIMAX (0, 2, 2) x (1, 2, 1, 12)12 : BIC Calculated =398.1960095575088\n"
     ]
    },
    {
     "name": "stderr",
     "output_type": "stream",
     "text": [
      "C:\\Users\\beyza\\AppData\\Roaming\\Python\\Python38\\site-packages\\statsmodels\\base\\model.py:604: ConvergenceWarning: Maximum Likelihood optimization failed to converge. Check mle_retvals\n",
      "  warnings.warn(\"Maximum Likelihood optimization failed to \"\n"
     ]
    },
    {
     "name": "stdout",
     "output_type": "stream",
     "text": [
      "SARIMAX (0, 2, 2) x (1, 2, 2, 12)12 : BIC Calculated =24.46522466343432\n",
      "SARIMAX (0, 2, 2) x (2, 0, 0, 12)12 : BIC Calculated =408.80064865757606\n",
      "SARIMAX (0, 2, 2) x (2, 0, 1, 12)12 : BIC Calculated =412.81868056092225\n",
      "SARIMAX (0, 2, 2) x (2, 0, 2, 12)12 : BIC Calculated =398.34622201365545\n",
      "SARIMAX (0, 2, 2) x (2, 1, 0, 12)12 : BIC Calculated =377.3561213878951\n",
      "SARIMAX (0, 2, 2) x (2, 1, 1, 12)12 : BIC Calculated =366.4897744664233\n"
     ]
    },
    {
     "name": "stderr",
     "output_type": "stream",
     "text": [
      "C:\\Users\\beyza\\AppData\\Roaming\\Python\\Python38\\site-packages\\statsmodels\\base\\model.py:604: ConvergenceWarning: Maximum Likelihood optimization failed to converge. Check mle_retvals\n",
      "  warnings.warn(\"Maximum Likelihood optimization failed to \"\n"
     ]
    },
    {
     "name": "stdout",
     "output_type": "stream",
     "text": [
      "SARIMAX (0, 2, 2) x (2, 1, 2, 12)12 : BIC Calculated =359.58158497221814\n",
      "SARIMAX (0, 2, 2) x (2, 2, 0, 12)12 : BIC Calculated =375.01202310806826\n",
      "SARIMAX (0, 2, 2) x (2, 2, 1, 12)12 : BIC Calculated =351.3807140289974\n"
     ]
    },
    {
     "name": "stderr",
     "output_type": "stream",
     "text": [
      "C:\\Users\\beyza\\AppData\\Roaming\\Python\\Python38\\site-packages\\statsmodels\\base\\model.py:604: ConvergenceWarning: Maximum Likelihood optimization failed to converge. Check mle_retvals\n",
      "  warnings.warn(\"Maximum Likelihood optimization failed to \"\n"
     ]
    },
    {
     "name": "stdout",
     "output_type": "stream",
     "text": [
      "SARIMAX (0, 2, 2) x (2, 2, 2, 12)12 : BIC Calculated =1372.2632522243612\n",
      "SARIMAX (1, 0, 0) x (0, 0, 0, 12)12 : BIC Calculated =518.1965552507666\n",
      "SARIMAX (1, 0, 0) x (0, 0, 1, 12)12 : BIC Calculated =439.14169403739623\n",
      "SARIMAX (1, 0, 0) x (0, 0, 2, 12)12 : BIC Calculated =381.06924267346517\n",
      "SARIMAX (1, 0, 0) x (0, 1, 0, 12)12 : BIC Calculated =531.5815050743752\n",
      "SARIMAX (1, 0, 0) x (0, 1, 1, 12)12 : BIC Calculated =405.7869687524028\n",
      "SARIMAX (1, 0, 0) x (0, 1, 2, 12)12 : BIC Calculated =349.22351140930755\n",
      "SARIMAX (1, 0, 0) x (0, 2, 0, 12)12 : BIC Calculated =550.6210579440083\n",
      "SARIMAX (1, 0, 0) x (0, 2, 1, 12)12 : BIC Calculated =405.2274085758737\n",
      "SARIMAX (1, 0, 0) x (0, 2, 2, 12)12 : BIC Calculated =2658.0813892215856\n",
      "SARIMAX (1, 0, 0) x (1, 0, 0, 12)12 : BIC Calculated =436.776352271444\n",
      "SARIMAX (1, 0, 0) x (1, 0, 1, 12)12 : BIC Calculated =438.4665574727737\n",
      "SARIMAX (1, 0, 0) x (1, 0, 2, 12)12 : BIC Calculated =385.513382495928\n",
      "SARIMAX (1, 0, 0) x (1, 1, 0, 12)12 : BIC Calculated =422.14512771373677\n",
      "SARIMAX (1, 0, 0) x (1, 1, 1, 12)12 : BIC Calculated =412.67815760558574\n",
      "SARIMAX (1, 0, 0) x (1, 1, 2, 12)12 : BIC Calculated =346.5024523843152\n",
      "SARIMAX (1, 0, 0) x (1, 2, 0, 12)12 : BIC Calculated =420.66900347287384\n",
      "SARIMAX (1, 0, 0) x (1, 2, 1, 12)12 : BIC Calculated =400.7675292613722\n",
      "SARIMAX (1, 0, 0) x (1, 2, 2, 12)12 : BIC Calculated =2403.7036782478112\n",
      "SARIMAX (1, 0, 0) x (2, 0, 0, 12)12 : BIC Calculated =381.27006358509385\n",
      "SARIMAX (1, 0, 0) x (2, 0, 1, 12)12 : BIC Calculated =385.6245764422141\n",
      "SARIMAX (1, 0, 0) x (2, 0, 2, 12)12 : BIC Calculated =389.8213729346155\n",
      "SARIMAX (1, 0, 0) x (2, 1, 0, 12)12 : BIC Calculated =353.57682724584345\n",
      "SARIMAX (1, 0, 0) x (2, 1, 1, 12)12 : BIC Calculated =351.7862495770953\n",
      "SARIMAX (1, 0, 0) x (2, 1, 2, 12)12 : BIC Calculated =355.52499509103376\n",
      "SARIMAX (1, 0, 0) x (2, 2, 0, 12)12 : BIC Calculated =348.52070925111246\n",
      "SARIMAX (1, 0, 0) x (2, 2, 1, 12)12 : BIC Calculated =334.3975848491045\n"
     ]
    },
    {
     "name": "stderr",
     "output_type": "stream",
     "text": [
      "C:\\Users\\beyza\\AppData\\Roaming\\Python\\Python38\\site-packages\\statsmodels\\base\\model.py:604: ConvergenceWarning: Maximum Likelihood optimization failed to converge. Check mle_retvals\n",
      "  warnings.warn(\"Maximum Likelihood optimization failed to \"\n"
     ]
    },
    {
     "name": "stdout",
     "output_type": "stream",
     "text": [
      "SARIMAX (1, 0, 0) x (2, 2, 2, 12)12 : BIC Calculated =2435.0961640725236\n",
      "SARIMAX (1, 0, 1) x (0, 0, 0, 12)12 : BIC Calculated =484.67159480507655\n",
      "SARIMAX (1, 0, 1) x (0, 0, 1, 12)12 : BIC Calculated =400.3918729056867\n",
      "SARIMAX (1, 0, 1) x (0, 0, 2, 12)12 : BIC Calculated =353.0194940284026\n",
      "SARIMAX (1, 0, 1) x (0, 1, 0, 12)12 : BIC Calculated =471.12578521606065\n",
      "SARIMAX (1, 0, 1) x (0, 1, 1, 12)12 : BIC Calculated =378.3314702933568\n",
      "SARIMAX (1, 0, 1) x (0, 1, 2, 12)12 : BIC Calculated =326.2836397076657\n",
      "SARIMAX (1, 0, 1) x (0, 2, 0, 12)12 : BIC Calculated =495.53915391387096\n",
      "SARIMAX (1, 0, 1) x (0, 2, 1, 12)12 : BIC Calculated =371.55178499199286\n"
     ]
    },
    {
     "name": "stderr",
     "output_type": "stream",
     "text": [
      "C:\\Users\\beyza\\AppData\\Roaming\\Python\\Python38\\site-packages\\statsmodels\\base\\model.py:604: ConvergenceWarning: Maximum Likelihood optimization failed to converge. Check mle_retvals\n",
      "  warnings.warn(\"Maximum Likelihood optimization failed to \"\n"
     ]
    },
    {
     "name": "stdout",
     "output_type": "stream",
     "text": [
      "SARIMAX (1, 0, 1) x (0, 2, 2, 12)12 : BIC Calculated =2399.4982884265773\n",
      "SARIMAX (1, 0, 1) x (1, 0, 0, 12)12 : BIC Calculated =405.0423879046195\n",
      "SARIMAX (1, 0, 1) x (1, 0, 1, 12)12 : BIC Calculated =404.5911149682184\n",
      "SARIMAX (1, 0, 1) x (1, 0, 2, 12)12 : BIC Calculated =357.27235123172744\n",
      "SARIMAX (1, 0, 1) x (1, 1, 0, 12)12 : BIC Calculated =390.35320624589104\n",
      "SARIMAX (1, 0, 1) x (1, 1, 1, 12)12 : BIC Calculated =384.80135246216355\n",
      "SARIMAX (1, 0, 1) x (1, 1, 2, 12)12 : BIC Calculated =327.5510295716058\n",
      "SARIMAX (1, 0, 1) x (1, 2, 0, 12)12 : BIC Calculated =387.73372234353695\n",
      "SARIMAX (1, 0, 1) x (1, 2, 1, 12)12 : BIC Calculated =371.8198502330284\n"
     ]
    },
    {
     "name": "stderr",
     "output_type": "stream",
     "text": [
      "C:\\Users\\beyza\\AppData\\Roaming\\Python\\Python38\\site-packages\\statsmodels\\base\\model.py:604: ConvergenceWarning: Maximum Likelihood optimization failed to converge. Check mle_retvals\n",
      "  warnings.warn(\"Maximum Likelihood optimization failed to \"\n"
     ]
    },
    {
     "name": "stdout",
     "output_type": "stream",
     "text": [
      "SARIMAX (1, 0, 1) x (1, 2, 2, 12)12 : BIC Calculated =1515.9158017914215\n",
      "SARIMAX (1, 0, 1) x (2, 0, 0, 12)12 : BIC Calculated =359.0990364088991\n",
      "SARIMAX (1, 0, 1) x (2, 0, 1, 12)12 : BIC Calculated =362.00314148998547\n",
      "SARIMAX (1, 0, 1) x (2, 0, 2, 12)12 : BIC Calculated =361.68462216151386\n",
      "SARIMAX (1, 0, 1) x (2, 1, 0, 12)12 : BIC Calculated =333.6727712463348\n",
      "SARIMAX (1, 0, 1) x (2, 1, 1, 12)12 : BIC Calculated =336.34208423876146\n",
      "SARIMAX (1, 0, 1) x (2, 1, 2, 12)12 : BIC Calculated =335.6456352234939\n",
      "SARIMAX (1, 0, 1) x (2, 2, 0, 12)12 : BIC Calculated =322.63982928304233\n",
      "SARIMAX (1, 0, 1) x (2, 2, 1, 12)12 : BIC Calculated =314.2531110526962\n"
     ]
    },
    {
     "name": "stderr",
     "output_type": "stream",
     "text": [
      "C:\\Users\\beyza\\AppData\\Roaming\\Python\\Python38\\site-packages\\statsmodels\\base\\model.py:604: ConvergenceWarning: Maximum Likelihood optimization failed to converge. Check mle_retvals\n",
      "  warnings.warn(\"Maximum Likelihood optimization failed to \"\n"
     ]
    },
    {
     "name": "stdout",
     "output_type": "stream",
     "text": [
      "SARIMAX (1, 0, 1) x (2, 2, 2, 12)12 : BIC Calculated =2126.9141241330253\n",
      "SARIMAX (1, 0, 2) x (0, 0, 0, 12)12 : BIC Calculated =471.47711751848493\n",
      "SARIMAX (1, 0, 2) x (0, 0, 1, 12)12 : BIC Calculated =397.33554808417455\n",
      "SARIMAX (1, 0, 2) x (0, 0, 2, 12)12 : BIC Calculated =350.74424205004476\n",
      "SARIMAX (1, 0, 2) x (0, 1, 0, 12)12 : BIC Calculated =471.2750397812249\n",
      "SARIMAX (1, 0, 2) x (0, 1, 1, 12)12 : BIC Calculated =371.4021089474669\n",
      "SARIMAX (1, 0, 2) x (0, 1, 2, 12)12 : BIC Calculated =323.2737840004233\n",
      "SARIMAX (1, 0, 2) x (0, 2, 0, 12)12 : BIC Calculated =491.28678357659896\n",
      "SARIMAX (1, 0, 2) x (0, 2, 1, 12)12 : BIC Calculated =369.821867029049\n"
     ]
    },
    {
     "name": "stderr",
     "output_type": "stream",
     "text": [
      "C:\\Users\\beyza\\AppData\\Roaming\\Python\\Python38\\site-packages\\statsmodels\\base\\model.py:604: ConvergenceWarning: Maximum Likelihood optimization failed to converge. Check mle_retvals\n",
      "  warnings.warn(\"Maximum Likelihood optimization failed to \"\n"
     ]
    },
    {
     "name": "stdout",
     "output_type": "stream",
     "text": [
      "SARIMAX (1, 0, 2) x (0, 2, 2, 12)12 : BIC Calculated =2541.8854335562573\n",
      "SARIMAX (1, 0, 2) x (1, 0, 0, 12)12 : BIC Calculated =409.0700522105388\n",
      "SARIMAX (1, 0, 2) x (1, 0, 1, 12)12 : BIC Calculated =401.7188391973624\n",
      "SARIMAX (1, 0, 2) x (1, 0, 2, 12)12 : BIC Calculated =355.02303367250016\n",
      "SARIMAX (1, 0, 2) x (1, 1, 0, 12)12 : BIC Calculated =389.6496052809956\n",
      "SARIMAX (1, 0, 2) x (1, 1, 1, 12)12 : BIC Calculated =376.6192757486563\n",
      "SARIMAX (1, 0, 2) x (1, 1, 2, 12)12 : BIC Calculated =325.98700222308827\n",
      "SARIMAX (1, 0, 2) x (1, 2, 0, 12)12 : BIC Calculated =391.096514259944\n",
      "SARIMAX (1, 0, 2) x (1, 2, 1, 12)12 : BIC Calculated =361.16466136957916\n"
     ]
    },
    {
     "name": "stderr",
     "output_type": "stream",
     "text": [
      "C:\\Users\\beyza\\AppData\\Roaming\\Python\\Python38\\site-packages\\statsmodels\\base\\model.py:604: ConvergenceWarning: Maximum Likelihood optimization failed to converge. Check mle_retvals\n",
      "  warnings.warn(\"Maximum Likelihood optimization failed to \"\n"
     ]
    },
    {
     "name": "stdout",
     "output_type": "stream",
     "text": [
      "SARIMAX (1, 0, 2) x (1, 2, 2, 12)12 : BIC Calculated =3534.616315081401\n",
      "SARIMAX (1, 0, 2) x (2, 0, 0, 12)12 : BIC Calculated =362.75513711697045\n",
      "SARIMAX (1, 0, 2) x (2, 0, 1, 12)12 : BIC Calculated =365.97128783808466\n",
      "SARIMAX (1, 0, 2) x (2, 0, 2, 12)12 : BIC Calculated =359.27115142558637\n",
      "SARIMAX (1, 0, 2) x (2, 1, 0, 12)12 : BIC Calculated =334.5202881203177\n",
      "SARIMAX (1, 0, 2) x (2, 1, 1, 12)12 : BIC Calculated =337.4749794744064\n"
     ]
    },
    {
     "name": "stderr",
     "output_type": "stream",
     "text": [
      "C:\\Users\\beyza\\AppData\\Roaming\\Python\\Python38\\site-packages\\statsmodels\\base\\model.py:604: ConvergenceWarning: Maximum Likelihood optimization failed to converge. Check mle_retvals\n",
      "  warnings.warn(\"Maximum Likelihood optimization failed to \"\n"
     ]
    },
    {
     "name": "stdout",
     "output_type": "stream",
     "text": [
      "SARIMAX (1, 0, 2) x (2, 1, 2, 12)12 : BIC Calculated =328.60383515755177\n",
      "SARIMAX (1, 0, 2) x (2, 2, 0, 12)12 : BIC Calculated =324.23229407349913\n",
      "SARIMAX (1, 0, 2) x (2, 2, 1, 12)12 : BIC Calculated =316.25454163845177\n",
      "SARIMAX (1, 0, 2) x (2, 2, 2, 12)12 : BIC Calculated =2262.8138965336198\n",
      "SARIMAX (1, 1, 0) x (0, 0, 0, 12)12 : BIC Calculated =589.5910540975864\n",
      "SARIMAX (1, 1, 0) x (0, 0, 1, 12)12 : BIC Calculated =502.10909178824306\n",
      "SARIMAX (1, 1, 0) x (0, 0, 2, 12)12 : BIC Calculated =439.9169100456816\n",
      "SARIMAX (1, 1, 0) x (0, 1, 0, 12)12 : BIC Calculated =596.5493610657095\n",
      "SARIMAX (1, 1, 0) x (0, 1, 1, 12)12 : BIC Calculated =466.91310570942744\n",
      "SARIMAX (1, 1, 0) x (0, 1, 2, 12)12 : BIC Calculated =395.0787255897752\n",
      "SARIMAX (1, 1, 0) x (0, 2, 0, 12)12 : BIC Calculated =610.7925269833733\n",
      "SARIMAX (1, 1, 0) x (0, 2, 1, 12)12 : BIC Calculated =459.47559052138166\n"
     ]
    },
    {
     "name": "stderr",
     "output_type": "stream",
     "text": [
      "C:\\Users\\beyza\\AppData\\Roaming\\Python\\Python38\\site-packages\\statsmodels\\base\\model.py:604: ConvergenceWarning: Maximum Likelihood optimization failed to converge. Check mle_retvals\n",
      "  warnings.warn(\"Maximum Likelihood optimization failed to \"\n"
     ]
    },
    {
     "name": "stdout",
     "output_type": "stream",
     "text": [
      "SARIMAX (1, 1, 0) x (0, 2, 2, 12)12 : BIC Calculated =1593.534789794158\n",
      "SARIMAX (1, 1, 0) x (1, 0, 0, 12)12 : BIC Calculated =500.6741208429679\n",
      "SARIMAX (1, 1, 0) x (1, 0, 1, 12)12 : BIC Calculated =505.05340511460065\n",
      "SARIMAX (1, 1, 0) x (1, 0, 2, 12)12 : BIC Calculated =443.9941317702553\n",
      "SARIMAX (1, 1, 0) x (1, 1, 0, 12)12 : BIC Calculated =486.45488404336885\n",
      "SARIMAX (1, 1, 0) x (1, 1, 1, 12)12 : BIC Calculated =468.84315528011155\n"
     ]
    },
    {
     "name": "stderr",
     "output_type": "stream",
     "text": [
      "C:\\Users\\beyza\\AppData\\Roaming\\Python\\Python38\\site-packages\\statsmodels\\base\\model.py:604: ConvergenceWarning: Maximum Likelihood optimization failed to converge. Check mle_retvals\n",
      "  warnings.warn(\"Maximum Likelihood optimization failed to \"\n"
     ]
    },
    {
     "name": "stdout",
     "output_type": "stream",
     "text": [
      "SARIMAX (1, 1, 0) x (1, 1, 2, 12)12 : BIC Calculated =398.81557427891045\n",
      "SARIMAX (1, 1, 0) x (1, 2, 0, 12)12 : BIC Calculated =478.0190257960938\n",
      "SARIMAX (1, 1, 0) x (1, 2, 1, 12)12 : BIC Calculated =454.8924739237348\n"
     ]
    },
    {
     "name": "stderr",
     "output_type": "stream",
     "text": [
      "C:\\Users\\beyza\\AppData\\Roaming\\Python\\Python38\\site-packages\\statsmodels\\base\\model.py:604: ConvergenceWarning: Maximum Likelihood optimization failed to converge. Check mle_retvals\n",
      "  warnings.warn(\"Maximum Likelihood optimization failed to \"\n"
     ]
    },
    {
     "name": "stdout",
     "output_type": "stream",
     "text": [
      "SARIMAX (1, 1, 0) x (1, 2, 2, 12)12 : BIC Calculated =1607.7069198746096\n",
      "SARIMAX (1, 1, 0) x (2, 0, 0, 12)12 : BIC Calculated =438.69373799264383\n",
      "SARIMAX (1, 1, 0) x (2, 0, 1, 12)12 : BIC Calculated =442.95168096163206\n",
      "SARIMAX (1, 1, 0) x (2, 0, 2, 12)12 : BIC Calculated =447.3879617810208\n",
      "SARIMAX (1, 1, 0) x (2, 1, 0, 12)12 : BIC Calculated =404.0965911861387\n",
      "SARIMAX (1, 1, 0) x (2, 1, 1, 12)12 : BIC Calculated =396.7827209709894\n",
      "SARIMAX (1, 1, 0) x (2, 1, 2, 12)12 : BIC Calculated =401.0779846580104\n",
      "SARIMAX (1, 1, 0) x (2, 2, 0, 12)12 : BIC Calculated =394.53809549651334\n",
      "SARIMAX (1, 1, 0) x (2, 2, 1, 12)12 : BIC Calculated =372.0044983495412\n"
     ]
    },
    {
     "name": "stderr",
     "output_type": "stream",
     "text": [
      "C:\\Users\\beyza\\AppData\\Roaming\\Python\\Python38\\site-packages\\statsmodels\\base\\model.py:604: ConvergenceWarning: Maximum Likelihood optimization failed to converge. Check mle_retvals\n",
      "  warnings.warn(\"Maximum Likelihood optimization failed to \"\n"
     ]
    },
    {
     "name": "stdout",
     "output_type": "stream",
     "text": [
      "SARIMAX (1, 1, 0) x (2, 2, 2, 12)12 : BIC Calculated =1589.7968633525902\n",
      "SARIMAX (1, 1, 1) x (0, 0, 0, 12)12 : BIC Calculated =496.63574794249496\n",
      "SARIMAX (1, 1, 1) x (0, 0, 1, 12)12 : BIC Calculated =438.2984110051598\n",
      "SARIMAX (1, 1, 1) x (0, 0, 2, 12)12 : BIC Calculated =379.1609903244086\n",
      "SARIMAX (1, 1, 1) x (0, 1, 0, 12)12 : BIC Calculated =511.0898976852386\n",
      "SARIMAX (1, 1, 1) x (0, 1, 1, 12)12 : BIC Calculated =395.0126517344153\n",
      "SARIMAX (1, 1, 1) x (0, 1, 2, 12)12 : BIC Calculated =349.27938044622795\n",
      "SARIMAX (1, 1, 1) x (0, 2, 0, 12)12 : BIC Calculated =540.6963352770038\n",
      "SARIMAX (1, 1, 1) x (0, 2, 1, 12)12 : BIC Calculated =397.9968112416677\n"
     ]
    },
    {
     "name": "stderr",
     "output_type": "stream",
     "text": [
      "C:\\Users\\beyza\\AppData\\Roaming\\Python\\Python38\\site-packages\\statsmodels\\base\\model.py:604: ConvergenceWarning: Maximum Likelihood optimization failed to converge. Check mle_retvals\n",
      "  warnings.warn(\"Maximum Likelihood optimization failed to \"\n"
     ]
    },
    {
     "name": "stdout",
     "output_type": "stream",
     "text": [
      "SARIMAX (1, 1, 1) x (0, 2, 2, 12)12 : BIC Calculated =2187.0472828340303\n",
      "SARIMAX (1, 1, 1) x (1, 0, 0, 12)12 : BIC Calculated =442.4449857782448\n",
      "SARIMAX (1, 1, 1) x (1, 0, 1, 12)12 : BIC Calculated =439.5468700965091\n",
      "SARIMAX (1, 1, 1) x (1, 0, 2, 12)12 : BIC Calculated =382.4537277128173\n",
      "SARIMAX (1, 1, 1) x (1, 1, 0, 12)12 : BIC Calculated =427.0793711115308\n"
     ]
    },
    {
     "name": "stderr",
     "output_type": "stream",
     "text": [
      "C:\\Users\\beyza\\AppData\\Roaming\\Python\\Python38\\site-packages\\statsmodels\\base\\model.py:604: ConvergenceWarning: Maximum Likelihood optimization failed to converge. Check mle_retvals\n",
      "  warnings.warn(\"Maximum Likelihood optimization failed to \"\n"
     ]
    },
    {
     "name": "stdout",
     "output_type": "stream",
     "text": [
      "SARIMAX (1, 1, 1) x (1, 1, 1, 12)12 : BIC Calculated =399.45533844594456\n",
      "SARIMAX (1, 1, 1) x (1, 1, 2, 12)12 : BIC Calculated =345.49680638583106\n",
      "SARIMAX (1, 1, 1) x (1, 2, 0, 12)12 : BIC Calculated =423.38435009206773\n",
      "SARIMAX (1, 1, 1) x (1, 2, 1, 12)12 : BIC Calculated =396.36625644365944\n",
      "SARIMAX (1, 1, 1) x (1, 2, 2, 12)12 : BIC Calculated =2252.194295513624\n",
      "SARIMAX (1, 1, 1) x (2, 0, 0, 12)12 : BIC Calculated =386.89413664959454\n",
      "SARIMAX (1, 1, 1) x (2, 0, 1, 12)12 : BIC Calculated =390.9653995271573\n",
      "SARIMAX (1, 1, 1) x (2, 0, 2, 12)12 : BIC Calculated =386.20386112456646\n",
      "SARIMAX (1, 1, 1) x (2, 1, 0, 12)12 : BIC Calculated =358.2165236519097\n",
      "SARIMAX (1, 1, 1) x (2, 1, 1, 12)12 : BIC Calculated =357.07024226282834\n",
      "SARIMAX (1, 1, 1) x (2, 1, 2, 12)12 : BIC Calculated =356.54551703227384\n",
      "SARIMAX (1, 1, 1) x (2, 2, 0, 12)12 : BIC Calculated =352.1049395369455\n",
      "SARIMAX (1, 1, 1) x (2, 2, 1, 12)12 : BIC Calculated =338.47345888387287\n"
     ]
    },
    {
     "name": "stderr",
     "output_type": "stream",
     "text": [
      "C:\\Users\\beyza\\AppData\\Roaming\\Python\\Python38\\site-packages\\statsmodels\\base\\model.py:604: ConvergenceWarning: Maximum Likelihood optimization failed to converge. Check mle_retvals\n",
      "  warnings.warn(\"Maximum Likelihood optimization failed to \"\n"
     ]
    },
    {
     "name": "stdout",
     "output_type": "stream",
     "text": [
      "SARIMAX (1, 1, 1) x (2, 2, 2, 12)12 : BIC Calculated =2233.442975335961\n",
      "SARIMAX (1, 1, 2) x (0, 0, 0, 12)12 : BIC Calculated =479.7918960745868\n",
      "SARIMAX (1, 1, 2) x (0, 0, 1, 12)12 : BIC Calculated =403.5129648970713\n",
      "SARIMAX (1, 1, 2) x (0, 0, 2, 12)12 : BIC Calculated =356.4497716395468\n",
      "SARIMAX (1, 1, 2) x (0, 1, 0, 12)12 : BIC Calculated =469.4139364303827\n",
      "SARIMAX (1, 1, 2) x (0, 1, 1, 12)12 : BIC Calculated =369.2391851122659\n",
      "SARIMAX (1, 1, 2) x (0, 1, 2, 12)12 : BIC Calculated =324.5364003652492\n",
      "SARIMAX (1, 1, 2) x (0, 2, 0, 12)12 : BIC Calculated =497.5479974407947\n",
      "SARIMAX (1, 1, 2) x (0, 2, 1, 12)12 : BIC Calculated =369.9900525341955\n",
      "SARIMAX (1, 1, 2) x (0, 2, 2, 12)12 : BIC Calculated =562.9101291931077\n",
      "SARIMAX (1, 1, 2) x (1, 0, 0, 12)12 : BIC Calculated =411.885958443127\n"
     ]
    },
    {
     "name": "stderr",
     "output_type": "stream",
     "text": [
      "C:\\Users\\beyza\\AppData\\Roaming\\Python\\Python38\\site-packages\\statsmodels\\base\\model.py:604: ConvergenceWarning: Maximum Likelihood optimization failed to converge. Check mle_retvals\n",
      "  warnings.warn(\"Maximum Likelihood optimization failed to \"\n"
     ]
    },
    {
     "name": "stdout",
     "output_type": "stream",
     "text": [
      "SARIMAX (1, 1, 2) x (1, 0, 1, 12)12 : BIC Calculated =406.03309264732695\n"
     ]
    },
    {
     "name": "stderr",
     "output_type": "stream",
     "text": [
      "C:\\Users\\beyza\\AppData\\Roaming\\Python\\Python38\\site-packages\\statsmodels\\base\\model.py:604: ConvergenceWarning: Maximum Likelihood optimization failed to converge. Check mle_retvals\n",
      "  warnings.warn(\"Maximum Likelihood optimization failed to \"\n"
     ]
    },
    {
     "name": "stdout",
     "output_type": "stream",
     "text": [
      "SARIMAX (1, 1, 2) x (1, 0, 2, 12)12 : BIC Calculated =360.84074669970335\n",
      "SARIMAX (1, 1, 2) x (1, 1, 0, 12)12 : BIC Calculated =397.64049933646834\n",
      "SARIMAX (1, 1, 2) x (1, 1, 1, 12)12 : BIC Calculated =383.35072336114945\n"
     ]
    },
    {
     "name": "stderr",
     "output_type": "stream",
     "text": [
      "C:\\Users\\beyza\\AppData\\Roaming\\Python\\Python38\\site-packages\\statsmodels\\base\\model.py:604: ConvergenceWarning: Maximum Likelihood optimization failed to converge. Check mle_retvals\n",
      "  warnings.warn(\"Maximum Likelihood optimization failed to \"\n"
     ]
    },
    {
     "name": "stdout",
     "output_type": "stream",
     "text": [
      "SARIMAX (1, 1, 2) x (1, 1, 2, 12)12 : BIC Calculated =325.3734933901252\n",
      "SARIMAX (1, 1, 2) x (1, 2, 0, 12)12 : BIC Calculated =395.96792098009587\n",
      "SARIMAX (1, 1, 2) x (1, 2, 1, 12)12 : BIC Calculated =368.6260678552974\n"
     ]
    },
    {
     "name": "stderr",
     "output_type": "stream",
     "text": [
      "C:\\Users\\beyza\\AppData\\Roaming\\Python\\Python38\\site-packages\\statsmodels\\base\\model.py:604: ConvergenceWarning: Maximum Likelihood optimization failed to converge. Check mle_retvals\n",
      "  warnings.warn(\"Maximum Likelihood optimization failed to \"\n"
     ]
    },
    {
     "name": "stdout",
     "output_type": "stream",
     "text": [
      "SARIMAX (1, 1, 2) x (1, 2, 2, 12)12 : BIC Calculated =572.8835656054771\n",
      "SARIMAX (1, 1, 2) x (2, 0, 0, 12)12 : BIC Calculated =369.12549215738676\n"
     ]
    },
    {
     "name": "stderr",
     "output_type": "stream",
     "text": [
      "C:\\Users\\beyza\\AppData\\Roaming\\Python\\Python38\\site-packages\\statsmodels\\base\\model.py:604: ConvergenceWarning: Maximum Likelihood optimization failed to converge. Check mle_retvals\n",
      "  warnings.warn(\"Maximum Likelihood optimization failed to \"\n"
     ]
    },
    {
     "name": "stdout",
     "output_type": "stream",
     "text": [
      "SARIMAX (1, 1, 2) x (2, 0, 1, 12)12 : BIC Calculated =369.20458840497724\n"
     ]
    },
    {
     "name": "stderr",
     "output_type": "stream",
     "text": [
      "C:\\Users\\beyza\\AppData\\Roaming\\Python\\Python38\\site-packages\\statsmodels\\base\\model.py:604: ConvergenceWarning: Maximum Likelihood optimization failed to converge. Check mle_retvals\n",
      "  warnings.warn(\"Maximum Likelihood optimization failed to \"\n"
     ]
    },
    {
     "name": "stdout",
     "output_type": "stream",
     "text": [
      "SARIMAX (1, 1, 2) x (2, 0, 2, 12)12 : BIC Calculated =365.17983146810514\n",
      "SARIMAX (1, 1, 2) x (2, 1, 0, 12)12 : BIC Calculated =340.4875531238602\n",
      "SARIMAX (1, 1, 2) x (2, 1, 1, 12)12 : BIC Calculated =342.39125603716076\n",
      "SARIMAX (1, 1, 2) x (2, 1, 2, 12)12 : BIC Calculated =331.6598945647776\n",
      "SARIMAX (1, 1, 2) x (2, 2, 0, 12)12 : BIC Calculated =331.5093516047703\n",
      "SARIMAX (1, 1, 2) x (2, 2, 1, 12)12 : BIC Calculated =317.3771412169455\n"
     ]
    },
    {
     "name": "stderr",
     "output_type": "stream",
     "text": [
      "C:\\Users\\beyza\\AppData\\Roaming\\Python\\Python38\\site-packages\\statsmodels\\base\\model.py:604: ConvergenceWarning: Maximum Likelihood optimization failed to converge. Check mle_retvals\n",
      "  warnings.warn(\"Maximum Likelihood optimization failed to \"\n"
     ]
    },
    {
     "name": "stdout",
     "output_type": "stream",
     "text": [
      "SARIMAX (1, 1, 2) x (2, 2, 2, 12)12 : BIC Calculated =578.3620730738496\n",
      "SARIMAX (1, 2, 0) x (0, 0, 0, 12)12 : BIC Calculated =676.5708467280623\n",
      "SARIMAX (1, 2, 0) x (0, 0, 1, 12)12 : BIC Calculated =582.9565531957264\n",
      "SARIMAX (1, 2, 0) x (0, 0, 2, 12)12 : BIC Calculated =511.5662198688294\n",
      "SARIMAX (1, 2, 0) x (0, 1, 0, 12)12 : BIC Calculated =675.5613248246381\n",
      "SARIMAX (1, 2, 0) x (0, 1, 1, 12)12 : BIC Calculated =537.759863882836\n"
     ]
    },
    {
     "name": "stderr",
     "output_type": "stream",
     "text": [
      "C:\\Users\\beyza\\AppData\\Roaming\\Python\\Python38\\site-packages\\statsmodels\\base\\model.py:604: ConvergenceWarning: Maximum Likelihood optimization failed to converge. Check mle_retvals\n",
      "  warnings.warn(\"Maximum Likelihood optimization failed to \"\n"
     ]
    },
    {
     "name": "stdout",
     "output_type": "stream",
     "text": [
      "SARIMAX (1, 2, 0) x (0, 1, 2, 12)12 : BIC Calculated =455.7648878440143\n",
      "SARIMAX (1, 2, 0) x (0, 2, 0, 12)12 : BIC Calculated =684.5306416243407\n",
      "SARIMAX (1, 2, 0) x (0, 2, 1, 12)12 : BIC Calculated =519.5162553733784\n"
     ]
    },
    {
     "name": "stderr",
     "output_type": "stream",
     "text": [
      "C:\\Users\\beyza\\AppData\\Roaming\\Python\\Python38\\site-packages\\statsmodels\\base\\model.py:604: ConvergenceWarning: Maximum Likelihood optimization failed to converge. Check mle_retvals\n",
      "  warnings.warn(\"Maximum Likelihood optimization failed to \"\n"
     ]
    },
    {
     "name": "stdout",
     "output_type": "stream",
     "text": [
      "SARIMAX (1, 2, 0) x (0, 2, 2, 12)12 : BIC Calculated =2297.9584253614216\n",
      "SARIMAX (1, 2, 0) x (1, 0, 0, 12)12 : BIC Calculated =582.6608957586208\n",
      "SARIMAX (1, 2, 0) x (1, 0, 1, 12)12 : BIC Calculated =586.5396432783652\n",
      "SARIMAX (1, 2, 0) x (1, 0, 2, 12)12 : BIC Calculated =514.335717790252\n",
      "SARIMAX (1, 2, 0) x (1, 1, 0, 12)12 : BIC Calculated =558.3822728961156\n",
      "SARIMAX (1, 2, 0) x (1, 1, 1, 12)12 : BIC Calculated =538.3273084443937\n",
      "SARIMAX (1, 2, 0) x (1, 1, 2, 12)12 : BIC Calculated =456.5916325600186\n",
      "SARIMAX (1, 2, 0) x (1, 2, 0, 12)12 : BIC Calculated =539.6048331619156\n",
      "SARIMAX (1, 2, 0) x (1, 2, 1, 12)12 : BIC Calculated =515.2087014244381\n"
     ]
    },
    {
     "name": "stderr",
     "output_type": "stream",
     "text": [
      "C:\\Users\\beyza\\AppData\\Roaming\\Python\\Python38\\site-packages\\statsmodels\\base\\model.py:604: ConvergenceWarning: Maximum Likelihood optimization failed to converge. Check mle_retvals\n",
      "  warnings.warn(\"Maximum Likelihood optimization failed to \"\n"
     ]
    },
    {
     "name": "stdout",
     "output_type": "stream",
     "text": [
      "SARIMAX (1, 2, 0) x (1, 2, 2, 12)12 : BIC Calculated =3851.9793463379206\n",
      "SARIMAX (1, 2, 0) x (2, 0, 0, 12)12 : BIC Calculated =510.04002453652674\n",
      "SARIMAX (1, 2, 0) x (2, 0, 1, 12)12 : BIC Calculated =514.3128629261263\n",
      "SARIMAX (1, 2, 0) x (2, 0, 2, 12)12 : BIC Calculated =518.7260774583364\n",
      "SARIMAX (1, 2, 0) x (2, 1, 0, 12)12 : BIC Calculated =466.72880389276287\n",
      "SARIMAX (1, 2, 0) x (2, 1, 1, 12)12 : BIC Calculated =455.9612806111897\n"
     ]
    },
    {
     "name": "stderr",
     "output_type": "stream",
     "text": [
      "C:\\Users\\beyza\\AppData\\Roaming\\Python\\Python38\\site-packages\\statsmodels\\base\\model.py:604: ConvergenceWarning: Maximum Likelihood optimization failed to converge. Check mle_retvals\n",
      "  warnings.warn(\"Maximum Likelihood optimization failed to \"\n"
     ]
    },
    {
     "name": "stdout",
     "output_type": "stream",
     "text": [
      "SARIMAX (1, 2, 0) x (2, 1, 2, 12)12 : BIC Calculated =460.2995494644217\n",
      "SARIMAX (1, 2, 0) x (2, 2, 0, 12)12 : BIC Calculated =443.55337396831413\n",
      "SARIMAX (1, 2, 0) x (2, 2, 1, 12)12 : BIC Calculated =421.80896637964304\n",
      "SARIMAX (1, 2, 0) x (2, 2, 2, 12)12 : BIC Calculated =2128.7793767975772\n",
      "SARIMAX (1, 2, 1) x (0, 0, 0, 12)12 : BIC Calculated =583.9437853612666\n",
      "SARIMAX (1, 2, 1) x (0, 0, 1, 12)12 : BIC Calculated =498.7945977724677\n",
      "SARIMAX (1, 2, 1) x (0, 0, 2, 12)12 : BIC Calculated =436.6684781428412\n",
      "SARIMAX (1, 2, 1) x (0, 1, 0, 12)12 : BIC Calculated =585.8952788393224\n",
      "SARIMAX (1, 2, 1) x (0, 1, 1, 12)12 : BIC Calculated =460.6741582438604\n"
     ]
    },
    {
     "name": "stderr",
     "output_type": "stream",
     "text": [
      "C:\\Users\\beyza\\AppData\\Roaming\\Python\\Python38\\site-packages\\statsmodels\\base\\model.py:604: ConvergenceWarning: Maximum Likelihood optimization failed to converge. Check mle_retvals\n",
      "  warnings.warn(\"Maximum Likelihood optimization failed to \"\n"
     ]
    },
    {
     "name": "stdout",
     "output_type": "stream",
     "text": [
      "SARIMAX (1, 2, 1) x (0, 1, 2, 12)12 : BIC Calculated =394.55374983582357\n",
      "SARIMAX (1, 2, 1) x (0, 2, 0, 12)12 : BIC Calculated =603.3642490743043\n",
      "SARIMAX (1, 2, 1) x (0, 2, 1, 12)12 : BIC Calculated =452.4869735522936\n"
     ]
    },
    {
     "name": "stderr",
     "output_type": "stream",
     "text": [
      "C:\\Users\\beyza\\AppData\\Roaming\\Python\\Python38\\site-packages\\statsmodels\\base\\model.py:604: ConvergenceWarning: Maximum Likelihood optimization failed to converge. Check mle_retvals\n",
      "  warnings.warn(\"Maximum Likelihood optimization failed to \"\n"
     ]
    },
    {
     "name": "stdout",
     "output_type": "stream",
     "text": [
      "SARIMAX (1, 2, 1) x (0, 2, 2, 12)12 : BIC Calculated =1939.3519089156964\n",
      "SARIMAX (1, 2, 1) x (1, 0, 0, 12)12 : BIC Calculated =505.7887314165695\n",
      "SARIMAX (1, 2, 1) x (1, 0, 1, 12)12 : BIC Calculated =504.5472536474793\n",
      "SARIMAX (1, 2, 1) x (1, 0, 2, 12)12 : BIC Calculated =439.7034236898324\n",
      "SARIMAX (1, 2, 1) x (1, 1, 0, 12)12 : BIC Calculated =488.6830377675354\n",
      "SARIMAX (1, 2, 1) x (1, 1, 1, 12)12 : BIC Calculated =466.1001289471884\n",
      "SARIMAX (1, 2, 1) x (1, 1, 2, 12)12 : BIC Calculated =393.88659154467473\n",
      "SARIMAX (1, 2, 1) x (1, 2, 0, 12)12 : BIC Calculated =477.79465064993974\n",
      "SARIMAX (1, 2, 1) x (1, 2, 1, 12)12 : BIC Calculated =449.3864130639942\n",
      "SARIMAX (1, 2, 1) x (1, 2, 2, 12)12 : BIC Calculated =3698.717813740802\n",
      "SARIMAX (1, 2, 1) x (2, 0, 0, 12)12 : BIC Calculated =440.40574320133067\n",
      "SARIMAX (1, 2, 1) x (2, 0, 1, 12)12 : BIC Calculated =442.94693030720026\n",
      "SARIMAX (1, 2, 1) x (2, 0, 2, 12)12 : BIC Calculated =444.13423644316384\n",
      "SARIMAX (1, 2, 1) x (2, 1, 0, 12)12 : BIC Calculated =407.82641686278765\n",
      "SARIMAX (1, 2, 1) x (2, 1, 1, 12)12 : BIC Calculated =401.6711039549252\n"
     ]
    },
    {
     "name": "stderr",
     "output_type": "stream",
     "text": [
      "C:\\Users\\beyza\\AppData\\Roaming\\Python\\Python38\\site-packages\\statsmodels\\base\\model.py:604: ConvergenceWarning: Maximum Likelihood optimization failed to converge. Check mle_retvals\n",
      "  warnings.warn(\"Maximum Likelihood optimization failed to \"\n"
     ]
    },
    {
     "name": "stdout",
     "output_type": "stream",
     "text": [
      "SARIMAX (1, 2, 1) x (2, 1, 2, 12)12 : BIC Calculated =401.1161151750396\n",
      "SARIMAX (1, 2, 1) x (2, 2, 0, 12)12 : BIC Calculated =395.36393636739217\n",
      "SARIMAX (1, 2, 1) x (2, 2, 1, 12)12 : BIC Calculated =374.9063665217302\n"
     ]
    },
    {
     "name": "stderr",
     "output_type": "stream",
     "text": [
      "C:\\Users\\beyza\\AppData\\Roaming\\Python\\Python38\\site-packages\\statsmodels\\base\\model.py:604: ConvergenceWarning: Maximum Likelihood optimization failed to converge. Check mle_retvals\n",
      "  warnings.warn(\"Maximum Likelihood optimization failed to \"\n"
     ]
    },
    {
     "name": "stdout",
     "output_type": "stream",
     "text": [
      "SARIMAX (1, 2, 1) x (2, 2, 2, 12)12 : BIC Calculated =1983.1784965764045\n",
      "SARIMAX (1, 2, 2) x (0, 0, 0, 12)12 : BIC Calculated =495.13360092235615\n",
      "SARIMAX (1, 2, 2) x (0, 0, 1, 12)12 : BIC Calculated =443.923383138827\n",
      "SARIMAX (1, 2, 2) x (0, 0, 2, 12)12 : BIC Calculated =381.1833633176777\n",
      "SARIMAX (1, 2, 2) x (0, 1, 0, 12)12 : BIC Calculated =509.9519451122036\n",
      "SARIMAX (1, 2, 2) x (0, 1, 1, 12)12 : BIC Calculated =391.00271541699874\n"
     ]
    },
    {
     "name": "stderr",
     "output_type": "stream",
     "text": [
      "C:\\Users\\beyza\\AppData\\Roaming\\Python\\Python38\\site-packages\\statsmodels\\base\\model.py:604: ConvergenceWarning: Maximum Likelihood optimization failed to converge. Check mle_retvals\n",
      "  warnings.warn(\"Maximum Likelihood optimization failed to \"\n"
     ]
    },
    {
     "name": "stdout",
     "output_type": "stream",
     "text": [
      "SARIMAX (1, 2, 2) x (0, 1, 2, 12)12 : BIC Calculated =348.44092721226247\n",
      "SARIMAX (1, 2, 2) x (0, 2, 0, 12)12 : BIC Calculated =538.6817239413817\n",
      "SARIMAX (1, 2, 2) x (0, 2, 1, 12)12 : BIC Calculated =392.98995729530014\n",
      "SARIMAX (1, 2, 2) x (0, 2, 2, 12)12 : BIC Calculated =208.43884689976252\n",
      "SARIMAX (1, 2, 2) x (1, 0, 0, 12)12 : BIC Calculated =448.5589826953325\n",
      "SARIMAX (1, 2, 2) x (1, 0, 1, 12)12 : BIC Calculated =442.4784429254009\n"
     ]
    },
    {
     "name": "stderr",
     "output_type": "stream",
     "text": [
      "C:\\Users\\beyza\\AppData\\Roaming\\Python\\Python38\\site-packages\\statsmodels\\base\\model.py:604: ConvergenceWarning: Maximum Likelihood optimization failed to converge. Check mle_retvals\n",
      "  warnings.warn(\"Maximum Likelihood optimization failed to \"\n"
     ]
    },
    {
     "name": "stdout",
     "output_type": "stream",
     "text": [
      "SARIMAX (1, 2, 2) x (1, 0, 2, 12)12 : BIC Calculated =385.12441285108184\n",
      "SARIMAX (1, 2, 2) x (1, 1, 0, 12)12 : BIC Calculated =434.5910422042417\n",
      "SARIMAX (1, 2, 2) x (1, 1, 1, 12)12 : BIC Calculated =406.3239013762114\n"
     ]
    },
    {
     "name": "stderr",
     "output_type": "stream",
     "text": [
      "C:\\Users\\beyza\\AppData\\Roaming\\Python\\Python38\\site-packages\\statsmodels\\base\\model.py:604: ConvergenceWarning: Maximum Likelihood optimization failed to converge. Check mle_retvals\n",
      "  warnings.warn(\"Maximum Likelihood optimization failed to \"\n"
     ]
    },
    {
     "name": "stdout",
     "output_type": "stream",
     "text": [
      "SARIMAX (1, 2, 2) x (1, 1, 2, 12)12 : BIC Calculated =343.742100865407\n",
      "SARIMAX (1, 2, 2) x (1, 2, 0, 12)12 : BIC Calculated =428.218445063987\n",
      "SARIMAX (1, 2, 2) x (1, 2, 1, 12)12 : BIC Calculated =401.97205000367495\n"
     ]
    },
    {
     "name": "stderr",
     "output_type": "stream",
     "text": [
      "C:\\Users\\beyza\\AppData\\Roaming\\Python\\Python38\\site-packages\\statsmodels\\base\\model.py:604: ConvergenceWarning: Maximum Likelihood optimization failed to converge. Check mle_retvals\n",
      "  warnings.warn(\"Maximum Likelihood optimization failed to \"\n"
     ]
    },
    {
     "name": "stdout",
     "output_type": "stream",
     "text": [
      "SARIMAX (1, 2, 2) x (1, 2, 2, 12)12 : BIC Calculated =335.56576004956804\n",
      "SARIMAX (1, 2, 2) x (2, 0, 0, 12)12 : BIC Calculated =396.4721330040876\n"
     ]
    },
    {
     "name": "stderr",
     "output_type": "stream",
     "text": [
      "C:\\Users\\beyza\\AppData\\Roaming\\Python\\Python38\\site-packages\\statsmodels\\base\\model.py:604: ConvergenceWarning: Maximum Likelihood optimization failed to converge. Check mle_retvals\n",
      "  warnings.warn(\"Maximum Likelihood optimization failed to \"\n"
     ]
    },
    {
     "name": "stdout",
     "output_type": "stream",
     "text": [
      "SARIMAX (1, 2, 2) x (2, 0, 1, 12)12 : BIC Calculated =393.6892611797866\n",
      "SARIMAX (1, 2, 2) x (2, 0, 2, 12)12 : BIC Calculated =386.7602839865362\n",
      "SARIMAX (1, 2, 2) x (2, 1, 0, 12)12 : BIC Calculated =367.36254642262975\n",
      "SARIMAX (1, 2, 2) x (2, 1, 1, 12)12 : BIC Calculated =361.3916286204711\n"
     ]
    },
    {
     "name": "stderr",
     "output_type": "stream",
     "text": [
      "C:\\Users\\beyza\\AppData\\Roaming\\Python\\Python38\\site-packages\\statsmodels\\base\\model.py:604: ConvergenceWarning: Maximum Likelihood optimization failed to converge. Check mle_retvals\n",
      "  warnings.warn(\"Maximum Likelihood optimization failed to \"\n"
     ]
    },
    {
     "name": "stdout",
     "output_type": "stream",
     "text": [
      "SARIMAX (1, 2, 2) x (2, 1, 2, 12)12 : BIC Calculated =357.7822899011615\n",
      "SARIMAX (1, 2, 2) x (2, 2, 0, 12)12 : BIC Calculated =358.52076696417953\n",
      "SARIMAX (1, 2, 2) x (2, 2, 1, 12)12 : BIC Calculated =337.7824871244899\n"
     ]
    },
    {
     "name": "stderr",
     "output_type": "stream",
     "text": [
      "C:\\Users\\beyza\\AppData\\Roaming\\Python\\Python38\\site-packages\\statsmodels\\base\\model.py:604: ConvergenceWarning: Maximum Likelihood optimization failed to converge. Check mle_retvals\n",
      "  warnings.warn(\"Maximum Likelihood optimization failed to \"\n"
     ]
    },
    {
     "name": "stdout",
     "output_type": "stream",
     "text": [
      "SARIMAX (1, 2, 2) x (2, 2, 2, 12)12 : BIC Calculated =97.48812278088405\n",
      "SARIMAX (2, 0, 0) x (0, 0, 0, 12)12 : BIC Calculated =488.4254583065332\n",
      "SARIMAX (2, 0, 0) x (0, 0, 1, 12)12 : BIC Calculated =429.53158829022726\n",
      "SARIMAX (2, 0, 0) x (0, 0, 2, 12)12 : BIC Calculated =375.40426827952285\n",
      "SARIMAX (2, 0, 0) x (0, 1, 0, 12)12 : BIC Calculated =495.77371890401776\n",
      "SARIMAX (2, 0, 0) x (0, 1, 1, 12)12 : BIC Calculated =398.63404061730915\n",
      "SARIMAX (2, 0, 0) x (0, 1, 2, 12)12 : BIC Calculated =344.8376216651523\n",
      "SARIMAX (2, 0, 0) x (0, 2, 0, 12)12 : BIC Calculated =523.999490904385\n",
      "SARIMAX (2, 0, 0) x (0, 2, 1, 12)12 : BIC Calculated =391.4440372209882\n"
     ]
    },
    {
     "name": "stderr",
     "output_type": "stream",
     "text": [
      "C:\\Users\\beyza\\AppData\\Roaming\\Python\\Python38\\site-packages\\statsmodels\\base\\model.py:604: ConvergenceWarning: Maximum Likelihood optimization failed to converge. Check mle_retvals\n",
      "  warnings.warn(\"Maximum Likelihood optimization failed to \"\n"
     ]
    },
    {
     "name": "stdout",
     "output_type": "stream",
     "text": [
      "SARIMAX (2, 0, 0) x (0, 2, 2, 12)12 : BIC Calculated =2589.6796993959233\n",
      "SARIMAX (2, 0, 0) x (1, 0, 0, 12)12 : BIC Calculated =419.29896236149835\n",
      "SARIMAX (2, 0, 0) x (1, 0, 1, 12)12 : BIC Calculated =423.5346858125115\n",
      "SARIMAX (2, 0, 0) x (1, 0, 2, 12)12 : BIC Calculated =379.84693549375265\n",
      "SARIMAX (2, 0, 0) x (1, 1, 0, 12)12 : BIC Calculated =403.15191449087627\n",
      "SARIMAX (2, 0, 0) x (1, 1, 1, 12)12 : BIC Calculated =398.3005231892861\n",
      "SARIMAX (2, 0, 0) x (1, 1, 2, 12)12 : BIC Calculated =342.7394090441125\n",
      "SARIMAX (2, 0, 0) x (1, 2, 0, 12)12 : BIC Calculated =398.20536449513105\n",
      "SARIMAX (2, 0, 0) x (1, 2, 1, 12)12 : BIC Calculated =383.0975291461335\n",
      "SARIMAX (2, 0, 0) x (1, 2, 2, 12)12 : BIC Calculated =2346.2711400102357\n",
      "SARIMAX (2, 0, 0) x (2, 0, 0, 12)12 : BIC Calculated =372.5524824143139\n",
      "SARIMAX (2, 0, 0) x (2, 0, 1, 12)12 : BIC Calculated =376.41092057095966\n",
      "SARIMAX (2, 0, 0) x (2, 0, 2, 12)12 : BIC Calculated =378.11657055783144\n",
      "SARIMAX (2, 0, 0) x (2, 1, 0, 12)12 : BIC Calculated =344.129262134748\n",
      "SARIMAX (2, 0, 0) x (2, 1, 1, 12)12 : BIC Calculated =344.2702030952306\n",
      "SARIMAX (2, 0, 0) x (2, 1, 2, 12)12 : BIC Calculated =348.0166890219142\n",
      "SARIMAX (2, 0, 0) x (2, 2, 0, 12)12 : BIC Calculated =332.57520518458233\n",
      "SARIMAX (2, 0, 0) x (2, 2, 1, 12)12 : BIC Calculated =319.67209329381257\n"
     ]
    },
    {
     "name": "stderr",
     "output_type": "stream",
     "text": [
      "C:\\Users\\beyza\\AppData\\Roaming\\Python\\Python38\\site-packages\\statsmodels\\base\\model.py:604: ConvergenceWarning: Maximum Likelihood optimization failed to converge. Check mle_retvals\n",
      "  warnings.warn(\"Maximum Likelihood optimization failed to \"\n"
     ]
    },
    {
     "name": "stdout",
     "output_type": "stream",
     "text": [
      "SARIMAX (2, 0, 0) x (2, 2, 2, 12)12 : BIC Calculated =2339.4548325898127\n",
      "SARIMAX (2, 0, 1) x (0, 0, 0, 12)12 : BIC Calculated =489.22966309915586\n",
      "SARIMAX (2, 0, 1) x (0, 0, 1, 12)12 : BIC Calculated =401.0325199950893\n",
      "SARIMAX (2, 0, 1) x (0, 0, 2, 12)12 : BIC Calculated =356.6330267502939\n",
      "SARIMAX (2, 0, 1) x (0, 1, 0, 12)12 : BIC Calculated =473.9976692751528\n",
      "SARIMAX (2, 0, 1) x (0, 1, 1, 12)12 : BIC Calculated =380.6395550403929\n",
      "SARIMAX (2, 0, 1) x (0, 1, 2, 12)12 : BIC Calculated =329.63341686919733\n",
      "SARIMAX (2, 0, 1) x (0, 2, 0, 12)12 : BIC Calculated =496.84720909772506\n",
      "SARIMAX (2, 0, 1) x (0, 2, 1, 12)12 : BIC Calculated =374.17850817392286\n"
     ]
    },
    {
     "name": "stderr",
     "output_type": "stream",
     "text": [
      "C:\\Users\\beyza\\AppData\\Roaming\\Python\\Python38\\site-packages\\statsmodels\\base\\model.py:604: ConvergenceWarning: Maximum Likelihood optimization failed to converge. Check mle_retvals\n",
      "  warnings.warn(\"Maximum Likelihood optimization failed to \"\n"
     ]
    },
    {
     "name": "stdout",
     "output_type": "stream",
     "text": [
      "SARIMAX (2, 0, 1) x (0, 2, 2, 12)12 : BIC Calculated =2273.5005830154337\n",
      "SARIMAX (2, 0, 1) x (1, 0, 0, 12)12 : BIC Calculated =401.53942471721336\n",
      "SARIMAX (2, 0, 1) x (1, 0, 1, 12)12 : BIC Calculated =405.43904644710045\n",
      "SARIMAX (2, 0, 1) x (1, 0, 2, 12)12 : BIC Calculated =360.8352490972952\n",
      "SARIMAX (2, 0, 1) x (1, 1, 0, 12)12 : BIC Calculated =387.59014751622044\n",
      "SARIMAX (2, 0, 1) x (1, 1, 1, 12)12 : BIC Calculated =385.88118501157504\n",
      "SARIMAX (2, 0, 1) x (1, 1, 2, 12)12 : BIC Calculated =331.7675099407861\n",
      "SARIMAX (2, 0, 1) x (1, 2, 0, 12)12 : BIC Calculated =382.38283528101425\n",
      "SARIMAX (2, 0, 1) x (1, 2, 1, 12)12 : BIC Calculated =369.8315683221791\n",
      "SARIMAX (2, 0, 1) x (1, 2, 2, 12)12 : BIC Calculated =2312.4483271713075\n",
      "SARIMAX (2, 0, 1) x (2, 0, 0, 12)12 : BIC Calculated =357.6848751695225\n",
      "SARIMAX (2, 0, 1) x (2, 0, 1, 12)12 : BIC Calculated =361.921560903558\n",
      "SARIMAX (2, 0, 1) x (2, 0, 2, 12)12 : BIC Calculated =365.1281704917881\n",
      "SARIMAX (2, 0, 1) x (2, 1, 0, 12)12 : BIC Calculated =333.63350618122075\n",
      "SARIMAX (2, 0, 1) x (2, 1, 1, 12)12 : BIC Calculated =336.19871786625254\n",
      "SARIMAX (2, 0, 1) x (2, 1, 2, 12)12 : BIC Calculated =339.35886243571395\n",
      "SARIMAX (2, 0, 1) x (2, 2, 0, 12)12 : BIC Calculated =318.329569581168\n",
      "SARIMAX (2, 0, 1) x (2, 2, 1, 12)12 : BIC Calculated =311.141511481452\n",
      "SARIMAX (2, 0, 1) x (2, 2, 2, 12)12 : BIC Calculated =2244.8193403095984\n",
      "SARIMAX (2, 0, 2) x (0, 0, 0, 12)12 : BIC Calculated =474.8354390992763\n",
      "SARIMAX (2, 0, 2) x (0, 0, 1, 12)12 : BIC Calculated =399.0394991187806\n",
      "SARIMAX (2, 0, 2) x (0, 0, 2, 12)12 : BIC Calculated =355.0598895295681\n",
      "SARIMAX (2, 0, 2) x (0, 1, 0, 12)12 : BIC Calculated =472.9989767548596\n",
      "SARIMAX (2, 0, 2) x (0, 1, 1, 12)12 : BIC Calculated =375.77031496086767\n"
     ]
    },
    {
     "name": "stderr",
     "output_type": "stream",
     "text": [
      "C:\\Users\\beyza\\AppData\\Roaming\\Python\\Python38\\site-packages\\statsmodels\\base\\model.py:604: ConvergenceWarning: Maximum Likelihood optimization failed to converge. Check mle_retvals\n",
      "  warnings.warn(\"Maximum Likelihood optimization failed to \"\n"
     ]
    },
    {
     "name": "stdout",
     "output_type": "stream",
     "text": [
      "SARIMAX (2, 0, 2) x (0, 1, 2, 12)12 : BIC Calculated =325.29641974606926\n",
      "SARIMAX (2, 0, 2) x (0, 2, 0, 12)12 : BIC Calculated =494.0265159510545\n",
      "SARIMAX (2, 0, 2) x (0, 2, 1, 12)12 : BIC Calculated =372.36343322451927\n"
     ]
    },
    {
     "name": "stderr",
     "output_type": "stream",
     "text": [
      "C:\\Users\\beyza\\AppData\\Roaming\\Python\\Python38\\site-packages\\statsmodels\\base\\model.py:604: ConvergenceWarning: Maximum Likelihood optimization failed to converge. Check mle_retvals\n",
      "  warnings.warn(\"Maximum Likelihood optimization failed to \"\n"
     ]
    },
    {
     "name": "stdout",
     "output_type": "stream",
     "text": [
      "SARIMAX (2, 0, 2) x (0, 2, 2, 12)12 : BIC Calculated =2692.3867517339677\n",
      "SARIMAX (2, 0, 2) x (1, 0, 0, 12)12 : BIC Calculated =405.5951422156512\n",
      "SARIMAX (2, 0, 2) x (1, 0, 1, 12)12 : BIC Calculated =403.399120376708\n",
      "SARIMAX (2, 0, 2) x (1, 0, 2, 12)12 : BIC Calculated =359.21301065734787\n",
      "SARIMAX (2, 0, 2) x (1, 1, 0, 12)12 : BIC Calculated =392.04127707048343\n",
      "SARIMAX (2, 0, 2) x (1, 1, 1, 12)12 : BIC Calculated =382.9287562435348\n",
      "SARIMAX (2, 0, 2) x (1, 1, 2, 12)12 : BIC Calculated =330.03340645017005\n",
      "SARIMAX (2, 0, 2) x (1, 2, 0, 12)12 : BIC Calculated =386.58136447070194\n",
      "SARIMAX (2, 0, 2) x (1, 2, 1, 12)12 : BIC Calculated =365.70454983546955\n"
     ]
    },
    {
     "name": "stderr",
     "output_type": "stream",
     "text": [
      "C:\\Users\\beyza\\AppData\\Roaming\\Python\\Python38\\site-packages\\statsmodels\\base\\model.py:604: ConvergenceWarning: Maximum Likelihood optimization failed to converge. Check mle_retvals\n",
      "  warnings.warn(\"Maximum Likelihood optimization failed to \"\n"
     ]
    },
    {
     "name": "stdout",
     "output_type": "stream",
     "text": [
      "SARIMAX (2, 0, 2) x (1, 2, 2, 12)12 : BIC Calculated =2323.9855466284307\n",
      "SARIMAX (2, 0, 2) x (2, 0, 0, 12)12 : BIC Calculated =363.5946508268566\n",
      "SARIMAX (2, 0, 2) x (2, 0, 1, 12)12 : BIC Calculated =365.9255777603868\n",
      "SARIMAX (2, 0, 2) x (2, 0, 2, 12)12 : BIC Calculated =363.4459755231796\n",
      "SARIMAX (2, 0, 2) x (2, 1, 0, 12)12 : BIC Calculated =337.93754503150916\n"
     ]
    },
    {
     "name": "stderr",
     "output_type": "stream",
     "text": [
      "C:\\Users\\beyza\\AppData\\Roaming\\Python\\Python38\\site-packages\\statsmodels\\base\\model.py:604: ConvergenceWarning: Maximum Likelihood optimization failed to converge. Check mle_retvals\n",
      "  warnings.warn(\"Maximum Likelihood optimization failed to \"\n"
     ]
    },
    {
     "name": "stdout",
     "output_type": "stream",
     "text": [
      "SARIMAX (2, 0, 2) x (2, 1, 1, 12)12 : BIC Calculated =334.7849940138666\n"
     ]
    },
    {
     "name": "stderr",
     "output_type": "stream",
     "text": [
      "C:\\Users\\beyza\\AppData\\Roaming\\Python\\Python38\\site-packages\\statsmodels\\base\\model.py:604: ConvergenceWarning: Maximum Likelihood optimization failed to converge. Check mle_retvals\n",
      "  warnings.warn(\"Maximum Likelihood optimization failed to \"\n"
     ]
    },
    {
     "name": "stdout",
     "output_type": "stream",
     "text": [
      "SARIMAX (2, 0, 2) x (2, 1, 2, 12)12 : BIC Calculated =335.33034624011407\n",
      "SARIMAX (2, 0, 2) x (2, 2, 0, 12)12 : BIC Calculated =322.45577421065144\n"
     ]
    },
    {
     "name": "stderr",
     "output_type": "stream",
     "text": [
      "C:\\Users\\beyza\\AppData\\Roaming\\Python\\Python38\\site-packages\\statsmodels\\base\\model.py:604: ConvergenceWarning: Maximum Likelihood optimization failed to converge. Check mle_retvals\n",
      "  warnings.warn(\"Maximum Likelihood optimization failed to \"\n"
     ]
    },
    {
     "name": "stdout",
     "output_type": "stream",
     "text": [
      "SARIMAX (2, 0, 2) x (2, 2, 1, 12)12 : BIC Calculated =311.0782869086251\n",
      "SARIMAX (2, 0, 2) x (2, 2, 2, 12)12 : BIC Calculated =2305.2341370409517\n",
      "SARIMAX (2, 1, 0) x (0, 0, 0, 12)12 : BIC Calculated =540.5259970057799\n",
      "SARIMAX (2, 1, 0) x (0, 0, 1, 12)12 : BIC Calculated =479.22263724646433\n",
      "SARIMAX (2, 1, 0) x (0, 0, 2, 12)12 : BIC Calculated =420.8985358176808\n",
      "SARIMAX (2, 1, 0) x (0, 1, 0, 12)12 : BIC Calculated =555.8531217464572\n",
      "SARIMAX (2, 1, 0) x (0, 1, 1, 12)12 : BIC Calculated =434.4954561286035\n"
     ]
    },
    {
     "name": "stderr",
     "output_type": "stream",
     "text": [
      "C:\\Users\\beyza\\AppData\\Roaming\\Python\\Python38\\site-packages\\statsmodels\\base\\model.py:604: ConvergenceWarning: Maximum Likelihood optimization failed to converge. Check mle_retvals\n",
      "  warnings.warn(\"Maximum Likelihood optimization failed to \"\n"
     ]
    },
    {
     "name": "stdout",
     "output_type": "stream",
     "text": [
      "SARIMAX (2, 1, 0) x (0, 1, 2, 12)12 : BIC Calculated =379.1418866833679\n",
      "SARIMAX (2, 1, 0) x (0, 2, 0, 12)12 : BIC Calculated =581.1779135327661\n",
      "SARIMAX (2, 1, 0) x (0, 2, 1, 12)12 : BIC Calculated =433.7747998284128\n"
     ]
    },
    {
     "name": "stderr",
     "output_type": "stream",
     "text": [
      "C:\\Users\\beyza\\AppData\\Roaming\\Python\\Python38\\site-packages\\statsmodels\\base\\model.py:604: ConvergenceWarning: Maximum Likelihood optimization failed to converge. Check mle_retvals\n",
      "  warnings.warn(\"Maximum Likelihood optimization failed to \"\n"
     ]
    },
    {
     "name": "stdout",
     "output_type": "stream",
     "text": [
      "SARIMAX (2, 1, 0) x (0, 2, 2, 12)12 : BIC Calculated =2318.317571506586\n",
      "SARIMAX (2, 1, 0) x (1, 0, 0, 12)12 : BIC Calculated =473.5288256571032\n",
      "SARIMAX (2, 1, 0) x (1, 0, 1, 12)12 : BIC Calculated =473.57188724263403\n",
      "SARIMAX (2, 1, 0) x (1, 0, 2, 12)12 : BIC Calculated =423.51941757021433\n",
      "SARIMAX (2, 1, 0) x (1, 1, 0, 12)12 : BIC Calculated =446.0666736343351\n",
      "SARIMAX (2, 1, 0) x (1, 1, 1, 12)12 : BIC Calculated =436.7526586024557\n",
      "SARIMAX (2, 1, 0) x (1, 1, 2, 12)12 : BIC Calculated =374.7046409720571\n",
      "SARIMAX (2, 1, 0) x (1, 2, 0, 12)12 : BIC Calculated =442.78822445090344\n",
      "SARIMAX (2, 1, 0) x (1, 2, 1, 12)12 : BIC Calculated =420.20042828107427\n"
     ]
    },
    {
     "name": "stderr",
     "output_type": "stream",
     "text": [
      "C:\\Users\\beyza\\AppData\\Roaming\\Python\\Python38\\site-packages\\statsmodels\\base\\model.py:604: ConvergenceWarning: Maximum Likelihood optimization failed to converge. Check mle_retvals\n",
      "  warnings.warn(\"Maximum Likelihood optimization failed to \"\n"
     ]
    },
    {
     "name": "stdout",
     "output_type": "stream",
     "text": [
      "SARIMAX (2, 1, 0) x (1, 2, 2, 12)12 : BIC Calculated =2395.812161386781\n",
      "SARIMAX (2, 1, 0) x (2, 0, 0, 12)12 : BIC Calculated =414.15047571082135\n",
      "SARIMAX (2, 1, 0) x (2, 0, 1, 12)12 : BIC Calculated =417.1862839482127\n",
      "SARIMAX (2, 1, 0) x (2, 0, 2, 12)12 : BIC Calculated =418.7684841908471\n",
      "SARIMAX (2, 1, 0) x (2, 1, 0, 12)12 : BIC Calculated =379.6689673589386\n",
      "SARIMAX (2, 1, 0) x (2, 1, 1, 12)12 : BIC Calculated =375.8461426017972\n",
      "SARIMAX (2, 1, 0) x (2, 1, 2, 12)12 : BIC Calculated =380.0753419123424\n",
      "SARIMAX (2, 1, 0) x (2, 2, 0, 12)12 : BIC Calculated =369.19550543333065\n",
      "SARIMAX (2, 1, 0) x (2, 2, 1, 12)12 : BIC Calculated =351.98094946923055\n"
     ]
    },
    {
     "name": "stderr",
     "output_type": "stream",
     "text": [
      "C:\\Users\\beyza\\AppData\\Roaming\\Python\\Python38\\site-packages\\statsmodels\\base\\model.py:604: ConvergenceWarning: Maximum Likelihood optimization failed to converge. Check mle_retvals\n",
      "  warnings.warn(\"Maximum Likelihood optimization failed to \"\n"
     ]
    },
    {
     "name": "stdout",
     "output_type": "stream",
     "text": [
      "SARIMAX (2, 1, 0) x (2, 2, 2, 12)12 : BIC Calculated =2582.2096310579877\n",
      "SARIMAX (2, 1, 1) x (0, 0, 0, 12)12 : BIC Calculated =494.4078660360257\n",
      "SARIMAX (2, 1, 1) x (0, 0, 1, 12)12 : BIC Calculated =429.7024402824287\n",
      "SARIMAX (2, 1, 1) x (0, 0, 2, 12)12 : BIC Calculated =374.4300149010518\n",
      "SARIMAX (2, 1, 1) x (0, 1, 0, 12)12 : BIC Calculated =500.5097995942815\n",
      "SARIMAX (2, 1, 1) x (0, 1, 1, 12)12 : BIC Calculated =391.19789716747454\n",
      "SARIMAX (2, 1, 1) x (0, 1, 2, 12)12 : BIC Calculated =345.5140356542453\n",
      "SARIMAX (2, 1, 1) x (0, 2, 0, 12)12 : BIC Calculated =530.6279334058988\n",
      "SARIMAX (2, 1, 1) x (0, 2, 1, 12)12 : BIC Calculated =387.98136565836273\n"
     ]
    },
    {
     "name": "stderr",
     "output_type": "stream",
     "text": [
      "C:\\Users\\beyza\\AppData\\Roaming\\Python\\Python38\\site-packages\\statsmodels\\base\\model.py:604: ConvergenceWarning: Maximum Likelihood optimization failed to converge. Check mle_retvals\n",
      "  warnings.warn(\"Maximum Likelihood optimization failed to \"\n"
     ]
    },
    {
     "name": "stdout",
     "output_type": "stream",
     "text": [
      "SARIMAX (2, 1, 1) x (0, 2, 2, 12)12 : BIC Calculated =2452.1254132043982\n",
      "SARIMAX (2, 1, 1) x (1, 0, 0, 12)12 : BIC Calculated =425.25241582425116\n",
      "SARIMAX (2, 1, 1) x (1, 0, 1, 12)12 : BIC Calculated =429.1489864383752\n",
      "SARIMAX (2, 1, 1) x (1, 0, 2, 12)12 : BIC Calculated =377.86501905611243\n",
      "SARIMAX (2, 1, 1) x (1, 1, 0, 12)12 : BIC Calculated =402.53904739289516\n",
      "SARIMAX (2, 1, 1) x (1, 1, 1, 12)12 : BIC Calculated =400.9065331552408\n",
      "SARIMAX (2, 1, 1) x (1, 1, 2, 12)12 : BIC Calculated =341.9772434074716\n",
      "SARIMAX (2, 1, 1) x (1, 2, 0, 12)12 : BIC Calculated =398.7287227626342\n",
      "SARIMAX (2, 1, 1) x (1, 2, 1, 12)12 : BIC Calculated =385.35967179469935\n"
     ]
    },
    {
     "name": "stderr",
     "output_type": "stream",
     "text": [
      "C:\\Users\\beyza\\AppData\\Roaming\\Python\\Python38\\site-packages\\statsmodels\\base\\model.py:604: ConvergenceWarning: Maximum Likelihood optimization failed to converge. Check mle_retvals\n",
      "  warnings.warn(\"Maximum Likelihood optimization failed to \"\n"
     ]
    },
    {
     "name": "stdout",
     "output_type": "stream",
     "text": [
      "SARIMAX (2, 1, 1) x (1, 2, 2, 12)12 : BIC Calculated =2528.09337810398\n",
      "SARIMAX (2, 1, 1) x (2, 0, 0, 12)12 : BIC Calculated =375.74360798518967\n",
      "SARIMAX (2, 1, 1) x (2, 0, 1, 12)12 : BIC Calculated =378.3943390425887\n",
      "SARIMAX (2, 1, 1) x (2, 0, 2, 12)12 : BIC Calculated =382.29754086562775\n",
      "SARIMAX (2, 1, 1) x (2, 1, 0, 12)12 : BIC Calculated =348.3912694197501\n",
      "SARIMAX (2, 1, 1) x (2, 1, 1, 12)12 : BIC Calculated =349.38420560031045\n",
      "SARIMAX (2, 1, 1) x (2, 1, 2, 12)12 : BIC Calculated =353.13373158947627\n",
      "SARIMAX (2, 1, 1) x (2, 2, 0, 12)12 : BIC Calculated =334.83143301584346\n",
      "SARIMAX (2, 1, 1) x (2, 2, 1, 12)12 : BIC Calculated =324.11824190107984\n"
     ]
    },
    {
     "name": "stderr",
     "output_type": "stream",
     "text": [
      "C:\\Users\\beyza\\AppData\\Roaming\\Python\\Python38\\site-packages\\statsmodels\\base\\model.py:604: ConvergenceWarning: Maximum Likelihood optimization failed to converge. Check mle_retvals\n",
      "  warnings.warn(\"Maximum Likelihood optimization failed to \"\n"
     ]
    },
    {
     "name": "stdout",
     "output_type": "stream",
     "text": [
      "SARIMAX (2, 1, 1) x (2, 2, 2, 12)12 : BIC Calculated =2510.4973322943183\n",
      "SARIMAX (2, 1, 2) x (0, 0, 0, 12)12 : BIC Calculated =483.78650733886786\n"
     ]
    },
    {
     "name": "stderr",
     "output_type": "stream",
     "text": [
      "C:\\Users\\beyza\\AppData\\Roaming\\Python\\Python38\\site-packages\\statsmodels\\base\\model.py:604: ConvergenceWarning: Maximum Likelihood optimization failed to converge. Check mle_retvals\n",
      "  warnings.warn(\"Maximum Likelihood optimization failed to \"\n"
     ]
    },
    {
     "name": "stdout",
     "output_type": "stream",
     "text": [
      "SARIMAX (2, 1, 2) x (0, 0, 1, 12)12 : BIC Calculated =403.7629807312101\n"
     ]
    },
    {
     "name": "stderr",
     "output_type": "stream",
     "text": [
      "C:\\Users\\beyza\\AppData\\Roaming\\Python\\Python38\\site-packages\\statsmodels\\base\\model.py:604: ConvergenceWarning: Maximum Likelihood optimization failed to converge. Check mle_retvals\n",
      "  warnings.warn(\"Maximum Likelihood optimization failed to \"\n"
     ]
    },
    {
     "name": "stdout",
     "output_type": "stream",
     "text": [
      "SARIMAX (2, 1, 2) x (0, 0, 2, 12)12 : BIC Calculated =360.62332058571997\n",
      "SARIMAX (2, 1, 2) x (0, 1, 0, 12)12 : BIC Calculated =473.23254045715356\n",
      "SARIMAX (2, 1, 2) x (0, 1, 1, 12)12 : BIC Calculated =373.31283170725845\n"
     ]
    },
    {
     "name": "stderr",
     "output_type": "stream",
     "text": [
      "C:\\Users\\beyza\\AppData\\Roaming\\Python\\Python38\\site-packages\\statsmodels\\base\\model.py:604: ConvergenceWarning: Maximum Likelihood optimization failed to converge. Check mle_retvals\n",
      "  warnings.warn(\"Maximum Likelihood optimization failed to \"\n"
     ]
    },
    {
     "name": "stdout",
     "output_type": "stream",
     "text": [
      "SARIMAX (2, 1, 2) x (0, 1, 2, 12)12 : BIC Calculated =327.8791412396507\n",
      "SARIMAX (2, 1, 2) x (0, 2, 0, 12)12 : BIC Calculated =498.838342941893\n",
      "SARIMAX (2, 1, 2) x (0, 2, 1, 12)12 : BIC Calculated =373.5564489719189\n",
      "SARIMAX (2, 1, 2) x (0, 2, 2, 12)12 : BIC Calculated =1378.9897456122908\n",
      "SARIMAX (2, 1, 2) x (1, 0, 0, 12)12 : BIC Calculated =406.9171642127199\n",
      "SARIMAX (2, 1, 2) x (1, 0, 1, 12)12 : BIC Calculated =406.98014842888256\n"
     ]
    },
    {
     "name": "stderr",
     "output_type": "stream",
     "text": [
      "C:\\Users\\beyza\\AppData\\Roaming\\Python\\Python38\\site-packages\\statsmodels\\base\\model.py:604: ConvergenceWarning: Maximum Likelihood optimization failed to converge. Check mle_retvals\n",
      "  warnings.warn(\"Maximum Likelihood optimization failed to \"\n"
     ]
    },
    {
     "name": "stdout",
     "output_type": "stream",
     "text": [
      "SARIMAX (2, 1, 2) x (1, 0, 2, 12)12 : BIC Calculated =364.8308702391357\n",
      "SARIMAX (2, 1, 2) x (1, 1, 0, 12)12 : BIC Calculated =389.7568135132605\n",
      "SARIMAX (2, 1, 2) x (1, 1, 1, 12)12 : BIC Calculated =384.76562015433564\n"
     ]
    },
    {
     "name": "stderr",
     "output_type": "stream",
     "text": [
      "C:\\Users\\beyza\\AppData\\Roaming\\Python\\Python38\\site-packages\\statsmodels\\base\\model.py:604: ConvergenceWarning: Maximum Likelihood optimization failed to converge. Check mle_retvals\n",
      "  warnings.warn(\"Maximum Likelihood optimization failed to \"\n"
     ]
    },
    {
     "name": "stdout",
     "output_type": "stream",
     "text": [
      "SARIMAX (2, 1, 2) x (1, 1, 2, 12)12 : BIC Calculated =330.07618002649025\n",
      "SARIMAX (2, 1, 2) x (1, 2, 0, 12)12 : BIC Calculated =387.26106838953706\n",
      "SARIMAX (2, 1, 2) x (1, 2, 1, 12)12 : BIC Calculated =370.968368731828\n"
     ]
    },
    {
     "name": "stderr",
     "output_type": "stream",
     "text": [
      "C:\\Users\\beyza\\AppData\\Roaming\\Python\\Python38\\site-packages\\statsmodels\\base\\model.py:604: ConvergenceWarning: Maximum Likelihood optimization failed to converge. Check mle_retvals\n",
      "  warnings.warn(\"Maximum Likelihood optimization failed to \"\n"
     ]
    },
    {
     "name": "stdout",
     "output_type": "stream",
     "text": [
      "SARIMAX (2, 1, 2) x (1, 2, 2, 12)12 : BIC Calculated =1336.6270298334807\n"
     ]
    },
    {
     "name": "stderr",
     "output_type": "stream",
     "text": [
      "C:\\Users\\beyza\\AppData\\Roaming\\Python\\Python38\\site-packages\\statsmodels\\base\\model.py:604: ConvergenceWarning: Maximum Likelihood optimization failed to converge. Check mle_retvals\n",
      "  warnings.warn(\"Maximum Likelihood optimization failed to \"\n"
     ]
    },
    {
     "name": "stdout",
     "output_type": "stream",
     "text": [
      "SARIMAX (2, 1, 2) x (2, 0, 0, 12)12 : BIC Calculated =365.5134488249572\n"
     ]
    },
    {
     "name": "stderr",
     "output_type": "stream",
     "text": [
      "C:\\Users\\beyza\\AppData\\Roaming\\Python\\Python38\\site-packages\\statsmodels\\base\\model.py:604: ConvergenceWarning: Maximum Likelihood optimization failed to converge. Check mle_retvals\n",
      "  warnings.warn(\"Maximum Likelihood optimization failed to \"\n"
     ]
    },
    {
     "name": "stdout",
     "output_type": "stream",
     "text": [
      "SARIMAX (2, 1, 2) x (2, 0, 1, 12)12 : BIC Calculated =368.0070195619266\n"
     ]
    },
    {
     "name": "stderr",
     "output_type": "stream",
     "text": [
      "C:\\Users\\beyza\\AppData\\Roaming\\Python\\Python38\\site-packages\\statsmodels\\base\\model.py:604: ConvergenceWarning: Maximum Likelihood optimization failed to converge. Check mle_retvals\n",
      "  warnings.warn(\"Maximum Likelihood optimization failed to \"\n"
     ]
    },
    {
     "name": "stdout",
     "output_type": "stream",
     "text": [
      "SARIMAX (2, 1, 2) x (2, 0, 2, 12)12 : BIC Calculated =369.6643000395789\n",
      "SARIMAX (2, 1, 2) x (2, 1, 0, 12)12 : BIC Calculated =339.5708749819119\n",
      "SARIMAX (2, 1, 2) x (2, 1, 1, 12)12 : BIC Calculated =341.5769103554046\n"
     ]
    },
    {
     "name": "stderr",
     "output_type": "stream",
     "text": [
      "C:\\Users\\beyza\\AppData\\Roaming\\Python\\Python38\\site-packages\\statsmodels\\base\\model.py:604: ConvergenceWarning: Maximum Likelihood optimization failed to converge. Check mle_retvals\n",
      "  warnings.warn(\"Maximum Likelihood optimization failed to \"\n"
     ]
    },
    {
     "name": "stdout",
     "output_type": "stream",
     "text": [
      "SARIMAX (2, 1, 2) x (2, 1, 2, 12)12 : BIC Calculated =339.599179094683\n",
      "SARIMAX (2, 1, 2) x (2, 2, 0, 12)12 : BIC Calculated =325.786240892193\n"
     ]
    },
    {
     "name": "stderr",
     "output_type": "stream",
     "text": [
      "C:\\Users\\beyza\\AppData\\Roaming\\Python\\Python38\\site-packages\\statsmodels\\base\\model.py:604: ConvergenceWarning: Maximum Likelihood optimization failed to converge. Check mle_retvals\n",
      "  warnings.warn(\"Maximum Likelihood optimization failed to \"\n"
     ]
    },
    {
     "name": "stdout",
     "output_type": "stream",
     "text": [
      "SARIMAX (2, 1, 2) x (2, 2, 1, 12)12 : BIC Calculated =318.6558273788115\n"
     ]
    },
    {
     "name": "stderr",
     "output_type": "stream",
     "text": [
      "C:\\Users\\beyza\\AppData\\Roaming\\Python\\Python38\\site-packages\\statsmodels\\base\\model.py:604: ConvergenceWarning: Maximum Likelihood optimization failed to converge. Check mle_retvals\n",
      "  warnings.warn(\"Maximum Likelihood optimization failed to \"\n"
     ]
    },
    {
     "name": "stdout",
     "output_type": "stream",
     "text": [
      "SARIMAX (2, 1, 2) x (2, 2, 2, 12)12 : BIC Calculated =1335.5954446863798\n",
      "SARIMAX (2, 2, 0) x (0, 0, 0, 12)12 : BIC Calculated =621.9150014711937\n",
      "SARIMAX (2, 2, 0) x (0, 0, 1, 12)12 : BIC Calculated =551.9608290824026\n",
      "SARIMAX (2, 2, 0) x (0, 0, 2, 12)12 : BIC Calculated =481.6744191032436\n",
      "SARIMAX (2, 2, 0) x (0, 1, 0, 12)12 : BIC Calculated =626.4024305264892\n",
      "SARIMAX (2, 2, 0) x (0, 1, 1, 12)12 : BIC Calculated =499.97979916446064\n"
     ]
    },
    {
     "name": "stderr",
     "output_type": "stream",
     "text": [
      "C:\\Users\\beyza\\AppData\\Roaming\\Python\\Python38\\site-packages\\statsmodels\\base\\model.py:604: ConvergenceWarning: Maximum Likelihood optimization failed to converge. Check mle_retvals\n",
      "  warnings.warn(\"Maximum Likelihood optimization failed to \"\n",
      "C:\\Users\\beyza\\AppData\\Roaming\\Python\\Python38\\site-packages\\statsmodels\\base\\model.py:604: ConvergenceWarning: Maximum Likelihood optimization failed to converge. Check mle_retvals\n",
      "  warnings.warn(\"Maximum Likelihood optimization failed to \"\n"
     ]
    },
    {
     "name": "stdout",
     "output_type": "stream",
     "text": [
      "SARIMAX (2, 2, 0) x (0, 1, 2, 12)12 : BIC Calculated =431.3708102087213\n",
      "SARIMAX (2, 2, 0) x (0, 2, 0, 12)12 : BIC Calculated =640.1000146551535\n",
      "SARIMAX (2, 2, 0) x (0, 2, 1, 12)12 : BIC Calculated =489.24787112009477\n"
     ]
    },
    {
     "name": "stderr",
     "output_type": "stream",
     "text": [
      "C:\\Users\\beyza\\AppData\\Roaming\\Python\\Python38\\site-packages\\statsmodels\\base\\model.py:604: ConvergenceWarning: Maximum Likelihood optimization failed to converge. Check mle_retvals\n",
      "  warnings.warn(\"Maximum Likelihood optimization failed to \"\n"
     ]
    },
    {
     "name": "stdout",
     "output_type": "stream",
     "text": [
      "SARIMAX (2, 2, 0) x (0, 2, 2, 12)12 : BIC Calculated =1384.8089027292021\n",
      "SARIMAX (2, 2, 0) x (1, 0, 0, 12)12 : BIC Calculated =545.408066273991\n",
      "SARIMAX (2, 2, 0) x (1, 0, 1, 12)12 : BIC Calculated =547.6782477501182\n",
      "SARIMAX (2, 2, 0) x (1, 0, 2, 12)12 : BIC Calculated =483.4830853175545\n",
      "SARIMAX (2, 2, 0) x (1, 1, 0, 12)12 : BIC Calculated =515.38201086544\n",
      "SARIMAX (2, 2, 0) x (1, 1, 1, 12)12 : BIC Calculated =500.87344243694184\n",
      "SARIMAX (2, 2, 0) x (1, 1, 2, 12)12 : BIC Calculated =424.5353281312043\n",
      "SARIMAX (2, 2, 0) x (1, 2, 0, 12)12 : BIC Calculated =500.7733229419977\n",
      "SARIMAX (2, 2, 0) x (1, 2, 1, 12)12 : BIC Calculated =478.5309926787158\n"
     ]
    },
    {
     "name": "stderr",
     "output_type": "stream",
     "text": [
      "C:\\Users\\beyza\\AppData\\Roaming\\Python\\Python38\\site-packages\\statsmodels\\base\\model.py:604: ConvergenceWarning: Maximum Likelihood optimization failed to converge. Check mle_retvals\n",
      "  warnings.warn(\"Maximum Likelihood optimization failed to \"\n"
     ]
    },
    {
     "name": "stdout",
     "output_type": "stream",
     "text": [
      "SARIMAX (2, 2, 0) x (1, 2, 2, 12)12 : BIC Calculated =3826.1317267297673\n",
      "SARIMAX (2, 2, 0) x (2, 0, 0, 12)12 : BIC Calculated =477.05627401506746\n",
      "SARIMAX (2, 2, 0) x (2, 0, 1, 12)12 : BIC Calculated =481.39567839968447\n",
      "SARIMAX (2, 2, 0) x (2, 0, 2, 12)12 : BIC Calculated =483.079304626271\n",
      "SARIMAX (2, 2, 0) x (2, 1, 0, 12)12 : BIC Calculated =434.78699479928395\n",
      "SARIMAX (2, 2, 0) x (2, 1, 1, 12)12 : BIC Calculated =427.14050834475165\n"
     ]
    },
    {
     "name": "stderr",
     "output_type": "stream",
     "text": [
      "C:\\Users\\beyza\\AppData\\Roaming\\Python\\Python38\\site-packages\\statsmodels\\base\\model.py:604: ConvergenceWarning: Maximum Likelihood optimization failed to converge. Check mle_retvals\n",
      "  warnings.warn(\"Maximum Likelihood optimization failed to \"\n"
     ]
    },
    {
     "name": "stdout",
     "output_type": "stream",
     "text": [
      "SARIMAX (2, 2, 0) x (2, 1, 2, 12)12 : BIC Calculated =431.65352584775655\n",
      "SARIMAX (2, 2, 0) x (2, 2, 0, 12)12 : BIC Calculated =417.24188487739957\n",
      "SARIMAX (2, 2, 0) x (2, 2, 1, 12)12 : BIC Calculated =393.78288098770656\n",
      "SARIMAX (2, 2, 0) x (2, 2, 2, 12)12 : BIC Calculated =2105.6950613498643\n",
      "SARIMAX (2, 2, 1) x (0, 0, 0, 12)12 : BIC Calculated =546.0137325494816\n",
      "SARIMAX (2, 2, 1) x (0, 0, 1, 12)12 : BIC Calculated =477.54553496009095\n",
      "SARIMAX (2, 2, 1) x (0, 0, 2, 12)12 : BIC Calculated =419.1021270217558\n",
      "SARIMAX (2, 2, 1) x (0, 1, 0, 12)12 : BIC Calculated =562.7522337699065\n",
      "SARIMAX (2, 2, 1) x (0, 1, 1, 12)12 : BIC Calculated =433.7553822043442\n"
     ]
    },
    {
     "name": "stderr",
     "output_type": "stream",
     "text": [
      "C:\\Users\\beyza\\AppData\\Roaming\\Python\\Python38\\site-packages\\statsmodels\\base\\model.py:604: ConvergenceWarning: Maximum Likelihood optimization failed to converge. Check mle_retvals\n",
      "  warnings.warn(\"Maximum Likelihood optimization failed to \"\n"
     ]
    },
    {
     "name": "stdout",
     "output_type": "stream",
     "text": [
      "SARIMAX (2, 2, 1) x (0, 1, 2, 12)12 : BIC Calculated =380.2039310677591\n",
      "SARIMAX (2, 2, 1) x (0, 2, 0, 12)12 : BIC Calculated =583.8949199624817\n",
      "SARIMAX (2, 2, 1) x (0, 2, 1, 12)12 : BIC Calculated =431.1535402047985\n",
      "SARIMAX (2, 2, 1) x (0, 2, 2, 12)12 : BIC Calculated =2012.330397039337\n",
      "SARIMAX (2, 2, 1) x (1, 0, 0, 12)12 : BIC Calculated =478.9054432359881\n",
      "SARIMAX (2, 2, 1) x (1, 0, 1, 12)12 : BIC Calculated =478.08089560498235\n",
      "SARIMAX (2, 2, 1) x (1, 0, 2, 12)12 : BIC Calculated =418.8035163917548\n",
      "SARIMAX (2, 2, 1) x (1, 1, 0, 12)12 : BIC Calculated =450.64146839030764\n",
      "SARIMAX (2, 2, 1) x (1, 1, 1, 12)12 : BIC Calculated =441.39029813742707\n",
      "SARIMAX (2, 2, 1) x (1, 1, 2, 12)12 : BIC Calculated =373.3764566532291\n",
      "SARIMAX (2, 2, 1) x (1, 2, 0, 12)12 : BIC Calculated =446.69595464661876\n",
      "SARIMAX (2, 2, 1) x (1, 2, 1, 12)12 : BIC Calculated =425.31370496134474\n",
      "SARIMAX (2, 2, 1) x (1, 2, 2, 12)12 : BIC Calculated =3760.020768758785\n",
      "SARIMAX (2, 2, 1) x (2, 0, 0, 12)12 : BIC Calculated =419.45784777045867\n",
      "SARIMAX (2, 2, 1) x (2, 0, 1, 12)12 : BIC Calculated =419.2990521017545\n",
      "SARIMAX (2, 2, 1) x (2, 0, 2, 12)12 : BIC Calculated =424.2805969153651\n",
      "SARIMAX (2, 2, 1) x (2, 1, 0, 12)12 : BIC Calculated =384.2847671914043\n",
      "SARIMAX (2, 2, 1) x (2, 1, 1, 12)12 : BIC Calculated =381.09113006035346\n"
     ]
    },
    {
     "name": "stderr",
     "output_type": "stream",
     "text": [
      "C:\\Users\\beyza\\AppData\\Roaming\\Python\\Python38\\site-packages\\statsmodels\\base\\model.py:604: ConvergenceWarning: Maximum Likelihood optimization failed to converge. Check mle_retvals\n",
      "  warnings.warn(\"Maximum Likelihood optimization failed to \"\n"
     ]
    },
    {
     "name": "stdout",
     "output_type": "stream",
     "text": [
      "SARIMAX (2, 2, 1) x (2, 1, 2, 12)12 : BIC Calculated =385.5051273060056\n",
      "SARIMAX (2, 2, 1) x (2, 2, 0, 12)12 : BIC Calculated =374.0085357453123\n",
      "SARIMAX (2, 2, 1) x (2, 2, 1, 12)12 : BIC Calculated =353.81480826578974\n"
     ]
    },
    {
     "name": "stderr",
     "output_type": "stream",
     "text": [
      "C:\\Users\\beyza\\AppData\\Roaming\\Python\\Python38\\site-packages\\statsmodels\\base\\model.py:604: ConvergenceWarning: Maximum Likelihood optimization failed to converge. Check mle_retvals\n",
      "  warnings.warn(\"Maximum Likelihood optimization failed to \"\n"
     ]
    },
    {
     "name": "stdout",
     "output_type": "stream",
     "text": [
      "SARIMAX (2, 2, 1) x (2, 2, 2, 12)12 : BIC Calculated =2089.4515819065596\n",
      "SARIMAX (2, 2, 2) x (0, 0, 0, 12)12 : BIC Calculated =500.02420591454216\n",
      "SARIMAX (2, 2, 2) x (0, 0, 1, 12)12 : BIC Calculated =438.95400745171986\n",
      "SARIMAX (2, 2, 2) x (0, 0, 2, 12)12 : BIC Calculated =377.88086706739193\n",
      "SARIMAX (2, 2, 2) x (0, 1, 0, 12)12 : BIC Calculated =504.773174479584\n",
      "SARIMAX (2, 2, 2) x (0, 1, 1, 12)12 : BIC Calculated =391.03450652475743\n"
     ]
    },
    {
     "name": "stderr",
     "output_type": "stream",
     "text": [
      "C:\\Users\\beyza\\AppData\\Roaming\\Python\\Python38\\site-packages\\statsmodels\\base\\model.py:604: ConvergenceWarning: Maximum Likelihood optimization failed to converge. Check mle_retvals\n",
      "  warnings.warn(\"Maximum Likelihood optimization failed to \"\n"
     ]
    },
    {
     "name": "stdout",
     "output_type": "stream",
     "text": [
      "SARIMAX (2, 2, 2) x (0, 1, 2, 12)12 : BIC Calculated =345.673659491167\n",
      "SARIMAX (2, 2, 2) x (0, 2, 0, 12)12 : BIC Calculated =531.4524977070973\n",
      "SARIMAX (2, 2, 2) x (0, 2, 1, 12)12 : BIC Calculated =386.26957733306284\n"
     ]
    },
    {
     "name": "stderr",
     "output_type": "stream",
     "text": [
      "C:\\Users\\beyza\\AppData\\Roaming\\Python\\Python38\\site-packages\\statsmodels\\base\\model.py:604: ConvergenceWarning: Maximum Likelihood optimization failed to converge. Check mle_retvals\n",
      "  warnings.warn(\"Maximum Likelihood optimization failed to \"\n"
     ]
    },
    {
     "name": "stdout",
     "output_type": "stream",
     "text": [
      "SARIMAX (2, 2, 2) x (0, 2, 2, 12)12 : BIC Calculated =334.2198133732801\n",
      "SARIMAX (2, 2, 2) x (1, 0, 0, 12)12 : BIC Calculated =435.6219074096425\n",
      "SARIMAX (2, 2, 2) x (1, 0, 1, 12)12 : BIC Calculated =434.25997894401564\n"
     ]
    },
    {
     "name": "stderr",
     "output_type": "stream",
     "text": [
      "C:\\Users\\beyza\\AppData\\Roaming\\Python\\Python38\\site-packages\\statsmodels\\base\\model.py:604: ConvergenceWarning: Maximum Likelihood optimization failed to converge. Check mle_retvals\n",
      "  warnings.warn(\"Maximum Likelihood optimization failed to \"\n"
     ]
    },
    {
     "name": "stdout",
     "output_type": "stream",
     "text": [
      "SARIMAX (2, 2, 2) x (1, 0, 2, 12)12 : BIC Calculated =382.19357960628645\n",
      "SARIMAX (2, 2, 2) x (1, 1, 0, 12)12 : BIC Calculated =412.29462582377215\n"
     ]
    },
    {
     "name": "stderr",
     "output_type": "stream",
     "text": [
      "C:\\Users\\beyza\\AppData\\Roaming\\Python\\Python38\\site-packages\\statsmodels\\base\\model.py:604: ConvergenceWarning: Maximum Likelihood optimization failed to converge. Check mle_retvals\n",
      "  warnings.warn(\"Maximum Likelihood optimization failed to \"\n"
     ]
    },
    {
     "name": "stdout",
     "output_type": "stream",
     "text": [
      "SARIMAX (2, 2, 2) x (1, 1, 1, 12)12 : BIC Calculated =395.9822522564874\n"
     ]
    },
    {
     "name": "stderr",
     "output_type": "stream",
     "text": [
      "C:\\Users\\beyza\\AppData\\Roaming\\Python\\Python38\\site-packages\\statsmodels\\base\\model.py:604: ConvergenceWarning: Maximum Likelihood optimization failed to converge. Check mle_retvals\n",
      "  warnings.warn(\"Maximum Likelihood optimization failed to \"\n"
     ]
    },
    {
     "name": "stdout",
     "output_type": "stream",
     "text": [
      "SARIMAX (2, 2, 2) x (1, 1, 2, 12)12 : BIC Calculated =344.8023171341308\n"
     ]
    },
    {
     "name": "stderr",
     "output_type": "stream",
     "text": [
      "C:\\Users\\beyza\\AppData\\Roaming\\Python\\Python38\\site-packages\\statsmodels\\base\\model.py:604: ConvergenceWarning: Maximum Likelihood optimization failed to converge. Check mle_retvals\n",
      "  warnings.warn(\"Maximum Likelihood optimization failed to \"\n"
     ]
    },
    {
     "name": "stdout",
     "output_type": "stream",
     "text": [
      "SARIMAX (2, 2, 2) x (1, 2, 0, 12)12 : BIC Calculated =407.47563002031814\n",
      "SARIMAX (2, 2, 2) x (1, 2, 1, 12)12 : BIC Calculated =389.19396914653595\n"
     ]
    },
    {
     "name": "stderr",
     "output_type": "stream",
     "text": [
      "C:\\Users\\beyza\\AppData\\Roaming\\Python\\Python38\\site-packages\\statsmodels\\base\\model.py:604: ConvergenceWarning: Maximum Likelihood optimization failed to converge. Check mle_retvals\n",
      "  warnings.warn(\"Maximum Likelihood optimization failed to \"\n"
     ]
    },
    {
     "name": "stdout",
     "output_type": "stream",
     "text": [
      "SARIMAX (2, 2, 2) x (1, 2, 2, 12)12 : BIC Calculated =215.3241619377019\n"
     ]
    },
    {
     "name": "stderr",
     "output_type": "stream",
     "text": [
      "C:\\Users\\beyza\\AppData\\Roaming\\Python\\Python38\\site-packages\\statsmodels\\base\\model.py:604: ConvergenceWarning: Maximum Likelihood optimization failed to converge. Check mle_retvals\n",
      "  warnings.warn(\"Maximum Likelihood optimization failed to \"\n"
     ]
    },
    {
     "name": "stdout",
     "output_type": "stream",
     "text": [
      "SARIMAX (2, 2, 2) x (2, 0, 0, 12)12 : BIC Calculated =385.92776850609755\n"
     ]
    },
    {
     "name": "stderr",
     "output_type": "stream",
     "text": [
      "C:\\Users\\beyza\\AppData\\Roaming\\Python\\Python38\\site-packages\\statsmodels\\base\\model.py:604: ConvergenceWarning: Maximum Likelihood optimization failed to converge. Check mle_retvals\n",
      "  warnings.warn(\"Maximum Likelihood optimization failed to \"\n"
     ]
    },
    {
     "name": "stdout",
     "output_type": "stream",
     "text": [
      "SARIMAX (2, 2, 2) x (2, 0, 1, 12)12 : BIC Calculated =387.9844194908376\n",
      "SARIMAX (2, 2, 2) x (2, 0, 2, 12)12 : BIC Calculated =387.26061149942376\n",
      "SARIMAX (2, 2, 2) x (2, 1, 0, 12)12 : BIC Calculated =356.2042165057548\n",
      "SARIMAX (2, 2, 2) x (2, 1, 1, 12)12 : BIC Calculated =357.8963485038025\n"
     ]
    },
    {
     "name": "stderr",
     "output_type": "stream",
     "text": [
      "C:\\Users\\beyza\\AppData\\Roaming\\Python\\Python38\\site-packages\\statsmodels\\base\\model.py:604: ConvergenceWarning: Maximum Likelihood optimization failed to converge. Check mle_retvals\n",
      "  warnings.warn(\"Maximum Likelihood optimization failed to \"\n"
     ]
    },
    {
     "name": "stdout",
     "output_type": "stream",
     "text": [
      "SARIMAX (2, 2, 2) x (2, 1, 2, 12)12 : BIC Calculated =355.966762917055\n"
     ]
    },
    {
     "name": "stderr",
     "output_type": "stream",
     "text": [
      "C:\\Users\\beyza\\AppData\\Roaming\\Python\\Python38\\site-packages\\statsmodels\\base\\model.py:604: ConvergenceWarning: Maximum Likelihood optimization failed to converge. Check mle_retvals\n",
      "  warnings.warn(\"Maximum Likelihood optimization failed to \"\n"
     ]
    },
    {
     "name": "stdout",
     "output_type": "stream",
     "text": [
      "SARIMAX (2, 2, 2) x (2, 2, 0, 12)12 : BIC Calculated =340.68115015042423\n"
     ]
    },
    {
     "name": "stderr",
     "output_type": "stream",
     "text": [
      "C:\\Users\\beyza\\AppData\\Roaming\\Python\\Python38\\site-packages\\statsmodels\\base\\model.py:604: ConvergenceWarning: Maximum Likelihood optimization failed to converge. Check mle_retvals\n",
      "  warnings.warn(\"Maximum Likelihood optimization failed to \"\n"
     ]
    },
    {
     "name": "stdout",
     "output_type": "stream",
     "text": [
      "SARIMAX (2, 2, 2) x (2, 2, 1, 12)12 : BIC Calculated =323.80652099380126\n"
     ]
    },
    {
     "name": "stderr",
     "output_type": "stream",
     "text": [
      "C:\\Users\\beyza\\AppData\\Roaming\\Python\\Python38\\site-packages\\statsmodels\\base\\model.py:604: ConvergenceWarning: Maximum Likelihood optimization failed to converge. Check mle_retvals\n",
      "  warnings.warn(\"Maximum Likelihood optimization failed to \"\n"
     ]
    },
    {
     "name": "stdout",
     "output_type": "stream",
     "text": [
      "SARIMAX (2, 2, 2) x (2, 2, 2, 12)12 : BIC Calculated =101.72848992215872\n"
     ]
    },
    {
     "data": {
      "text/html": [
       "<div>\n",
       "<style scoped>\n",
       "    .dataframe tbody tr th:only-of-type {\n",
       "        vertical-align: middle;\n",
       "    }\n",
       "\n",
       "    .dataframe tbody tr th {\n",
       "        vertical-align: top;\n",
       "    }\n",
       "\n",
       "    .dataframe thead th {\n",
       "        text-align: right;\n",
       "    }\n",
       "</style>\n",
       "<table border=\"1\" class=\"dataframe\">\n",
       "  <thead>\n",
       "    <tr style=\"text-align: right;\">\n",
       "      <th></th>\n",
       "      <th>pdq</th>\n",
       "      <th>pdqs</th>\n",
       "      <th>bic</th>\n",
       "    </tr>\n",
       "  </thead>\n",
       "  <tbody>\n",
       "    <tr>\n",
       "      <th>126</th>\n",
       "      <td>(0, 1, 1)</td>\n",
       "      <td>(1, 2, 2, 12)</td>\n",
       "      <td>20.554369</td>\n",
       "    </tr>\n",
       "    <tr>\n",
       "      <th>234</th>\n",
       "      <td>(0, 2, 2)</td>\n",
       "      <td>(1, 2, 2, 12)</td>\n",
       "      <td>24.465225</td>\n",
       "    </tr>\n",
       "    <tr>\n",
       "      <th>135</th>\n",
       "      <td>(0, 1, 1)</td>\n",
       "      <td>(2, 2, 2, 12)</td>\n",
       "      <td>24.665243</td>\n",
       "    </tr>\n",
       "    <tr>\n",
       "      <th>486</th>\n",
       "      <td>(1, 2, 2)</td>\n",
       "      <td>(2, 2, 2, 12)</td>\n",
       "      <td>97.488123</td>\n",
       "    </tr>\n",
       "    <tr>\n",
       "      <th>729</th>\n",
       "      <td>(2, 2, 2)</td>\n",
       "      <td>(2, 2, 2, 12)</td>\n",
       "      <td>101.728490</td>\n",
       "    </tr>\n",
       "  </tbody>\n",
       "</table>\n",
       "</div>"
      ],
      "text/plain": [
       "           pdq           pdqs         bic\n",
       "126  (0, 1, 1)  (1, 2, 2, 12)   20.554369\n",
       "234  (0, 2, 2)  (1, 2, 2, 12)   24.465225\n",
       "135  (0, 1, 1)  (2, 2, 2, 12)   24.665243\n",
       "486  (1, 2, 2)  (2, 2, 2, 12)   97.488123\n",
       "729  (2, 2, 2)  (2, 2, 2, 12)  101.728490"
      ]
     },
     "execution_count": 66,
     "metadata": {},
     "output_type": "execute_result"
    }
   ],
   "source": [
    "sarimax_gridsearch(ts_df['HRDT'], pdq, pdqs, freq='M')"
   ]
  },
  {
   "cell_type": "code",
   "execution_count": 67,
   "metadata": {},
   "outputs": [
    {
     "name": "stderr",
     "output_type": "stream",
     "text": [
      "C:\\Users\\beyza\\AppData\\Roaming\\Python\\Python38\\site-packages\\statsmodels\\tsa\\statespace\\sarimax.py:978: UserWarning: Non-invertible starting MA parameters found. Using zeros as starting parameters.\n",
      "  warn('Non-invertible starting MA parameters found.'\n",
      "C:\\Users\\beyza\\AppData\\Roaming\\Python\\Python38\\site-packages\\statsmodels\\tsa\\statespace\\sarimax.py:1009: UserWarning: Non-invertible starting seasonal moving average Using zeros as starting parameters.\n",
      "  warn('Non-invertible starting seasonal moving average'\n"
     ]
    },
    {
     "name": "stdout",
     "output_type": "stream",
     "text": [
      "                                        SARIMAX Results                                        \n",
      "===============================================================================================\n",
      "Dep. Variable:                                    HRDT   No. Observations:                  112\n",
      "Model:             SARIMAX(0, 1, 1)x(1, 2, [1, 2], 12)   Log Likelihood                -252.070\n",
      "Date:                                 Thu, 13 Apr 2023   AIC                            514.139\n",
      "Time:                                         14:52:19   BIC                            526.469\n",
      "Sample:                                     06-30-2006   HQIC                           519.104\n",
      "                                          - 09-30-2015                                         \n",
      "Covariance Type:                                   opg                                         \n",
      "==============================================================================\n",
      "                 coef    std err          z      P>|z|      [0.025      0.975]\n",
      "------------------------------------------------------------------------------\n",
      "ma.L1         -0.9993     18.174     -0.055      0.956     -36.620      34.622\n",
      "ar.S.L12      -0.0925      0.231     -0.401      0.688      -0.544       0.359\n",
      "ma.S.L12      -1.7606    103.195     -0.017      0.986    -204.019     200.498\n",
      "ma.S.L24       0.9983    117.156      0.009      0.993    -228.623     230.619\n",
      "sigma2         9.1188   1051.104      0.009      0.993   -2051.007    2069.244\n",
      "===================================================================================\n",
      "Ljung-Box (L1) (Q):                  13.92   Jarque-Bera (JB):                 2.62\n",
      "Prob(Q):                              0.00   Prob(JB):                         0.27\n",
      "Heteroskedasticity (H):               0.35   Skew:                            -0.03\n",
      "Prob(H) (two-sided):                  0.01   Kurtosis:                         3.85\n",
      "===================================================================================\n",
      "\n",
      "Warnings:\n",
      "[1] Covariance matrix calculated using the outer product of gradients (complex-step).\n"
     ]
    },
    {
     "data": {
      "image/png": "[encoded data removed]",
      "text/plain": [
       "<Figure size 1152x720 with 4 Axes>"
      ]
     },
     "metadata": {
      "needs_background": "light"
     },
     "output_type": "display_data"
    }
   ],
   "source": [
    "# Build SARIMAX model w/optimal parameters\n",
    "sarimax = sm.tsa.statespace.SARIMAX(ts_df['HRDT'], \n",
    "                                    order=(0,1,1), \n",
    "                                    seasonal_order=(1,2,2,12), \n",
    "                                    freq='M')\n",
    "                                    \n",
    "# Fit the model\n",
    "output = sarimax.fit()\n",
    "    \n",
    "# Print output summary\n",
    "print(output.summary())\n",
    "\n",
    "# Plot diagnostics\n",
    "output.plot_diagnostics(figsize=(16,10));"
   ]
  },
  {
   "cell_type": "code",
   "execution_count": 74,
   "metadata": {},
   "outputs": [
    {
     "name": "stderr",
     "output_type": "stream",
     "text": [
      "C:\\Users\\beyza\\AppData\\Roaming\\Python\\Python38\\site-packages\\statsmodels\\tsa\\statespace\\sarimax.py:978: UserWarning: Non-invertible starting MA parameters found. Using zeros as starting parameters.\n",
      "  warn('Non-invertible starting MA parameters found.'\n",
      "C:\\Users\\beyza\\AppData\\Roaming\\Python\\Python38\\site-packages\\statsmodels\\tsa\\statespace\\sarimax.py:1009: UserWarning: Non-invertible starting seasonal moving average Using zeros as starting parameters.\n",
      "  warn('Non-invertible starting seasonal moving average'\n"
     ]
    },
    {
     "name": "stdout",
     "output_type": "stream",
     "text": [
      "Mean Absolute Error: 2.122272535260954\n"
     ]
    },
    {
     "data": {
      "image/png": "[encoded data removed]",
      "text/plain": [
       "<Figure size 432x288 with 1 Axes>"
      ]
     },
     "metadata": {
      "needs_background": "light"
     },
     "output_type": "display_data"
    }
   ],
   "source": [
    "# Train-test split\n",
    "train_data = ts_df.loc[:'09-2014']\n",
    "test_data = ts_df.loc['10-2014':]\n",
    "\n",
    "# SARIMA model\n",
    "model = sm.tsa.statespace.SARIMAX(train_data['HRDT'], order=(0,1,1), seasonal_order=(1,2,2,12))\n",
    "results = model.fit()\n",
    "\n",
    "# Predictions\n",
    "hrdt_pred = results.predict(start='11-2014', end='9-2015')\n",
    "\n",
    "# Error\n",
    "mae = pd.Series.abs(hrdt_pred - test_data['HRDT']).mean()\n",
    "print('Mean Absolute Error:', mae)\n",
    "\n",
    "\n",
    "plt.plot(test_data.index, test_data['HRDT'], label='Actual')\n",
    "plt.plot(hrdt_pred.index, hrdt_pred, label='Predicted')\n",
    "\n",
    "plt.title('ARIMA Model Predictions for HRDT')\n",
    "plt.xlabel('Date')\n",
    "plt.ylabel('HRDT')\n",
    "plt.legend()\n",
    "\n",
    "plt.show()"
   ]
  },
  {
   "cell_type": "code",
   "execution_count": 75,
   "metadata": {},
   "outputs": [
    {
     "name": "stderr",
     "output_type": "stream",
     "text": [
      "C:\\Users\\beyza\\AppData\\Roaming\\Python\\Python38\\site-packages\\statsmodels\\tsa\\statespace\\sarimax.py:978: UserWarning: Non-invertible starting MA parameters found. Using zeros as starting parameters.\n",
      "  warn('Non-invertible starting MA parameters found.'\n",
      "C:\\Users\\beyza\\AppData\\Roaming\\Python\\Python38\\site-packages\\statsmodels\\tsa\\statespace\\sarimax.py:1009: UserWarning: Non-invertible starting seasonal moving average Using zeros as starting parameters.\n",
      "  warn('Non-invertible starting seasonal moving average'\n"
     ]
    },
    {
     "name": "stdout",
     "output_type": "stream",
     "text": [
      "Mean Absolute Error: 32277.91160575597\n"
     ]
    },
    {
     "data": {
      "image/png": "[encoded data removed]",
      "text/plain": [
       "<Figure size 432x288 with 1 Axes>"
      ]
     },
     "metadata": {
      "needs_background": "light"
     },
     "output_type": "display_data"
    }
   ],
   "source": [
    "# Train-test split\n",
    "train_data = ts_df.loc[:'09-2014']\n",
    "test_data = ts_df.loc['10-2014':]\n",
    "\n",
    "# SARIMA model\n",
    "model = sm.tsa.statespace.SARIMAX(train_data['ARV'], order=(2,1,1), seasonal_order=(0,2,2,12))\n",
    "results = model.fit()\n",
    "\n",
    "# Predictions\n",
    "arv_pred = results.predict(start='11-2014', end='9-2015')\n",
    "\n",
    "# Error\n",
    "mae = pd.Series.abs(arv_pred - test_data['ARV']).mean()\n",
    "print('Mean Absolute Error:', mae)\n",
    "\n",
    "\n",
    "plt.plot(test_data.index, test_data['ARV'], label='Actual')\n",
    "plt.plot(arv_pred.index, arv_pred, label='Predicted')\n",
    "\n",
    "plt.title('ARIMA Model Predictions for ARV')\n",
    "plt.xlabel('Date')\n",
    "plt.ylabel('ARV')\n",
    "plt.legend()\n",
    "\n",
    "plt.show()"
   ]
  },
  {
   "cell_type": "code",
   "execution_count": null,
   "metadata": {},
   "outputs": [],
   "source": []
  }
 ],
 "metadata": {
  "kernelspec": {
   "display_name": "Python (learn-env)",
   "language": "python",
   "name": "learn-env"
  },
  "language_info": {
   "codemirror_mode": {
    "name": "ipython",
    "version": 3
   },
   "file_extension": ".py",
   "mimetype": "text/x-python",
   "name": "python",
   "nbconvert_exporter": "python",
   "pygments_lexer": "ipython3",
   "version": "3.8.5"
  }
 },
 "nbformat": 4,
 "nbformat_minor": 4
}
